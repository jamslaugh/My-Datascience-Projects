{
  "nbformat": 4,
  "nbformat_minor": 0,
  "metadata": {
    "colab": {
      "name": "AALOGOPER.ipynb",
      "version": "0.3.2",
      "provenance": [],
      "collapsed_sections": [],
      "include_colab_link": true
    },
    "kernelspec": {
      "name": "python3",
      "display_name": "Python 3"
    },
    "accelerator": "GPU"
  },
  "cells": [
    {
      "cell_type": "markdown",
      "metadata": {
        "id": "view-in-github",
        "colab_type": "text"
      },
      "source": [
        "[View in Colaboratory](https://colab.research.google.com/github/jamslaugh/My-Datascience-Projects/blob/master/AALOGOPER.ipynb)"
      ]
    },
    {
      "metadata": {
        "id": "7rDrtNsVLxJN",
        "colab_type": "code",
        "colab": {
          "base_uri": "https://localhost:8080/",
          "height": 111
        },
        "outputId": "bc4b0bbe-3542-4d62-f6e9-60e4d32ba76f"
      },
      "cell_type": "code",
      "source": [
        "!apt-get install -y -qq software-properties-common python-software-properties module-init-tools\n",
        "!add-apt-repository -y ppa:alessandro-strada/ppa 2>&1 > /dev/null\n",
        "!apt-get update -qq 2>&1 > /dev/null\n",
        "!apt-get -y install -qq google-drive-ocamlfuse fuse\n",
        "from google.colab import auth\n",
        "auth.authenticate_user()\n",
        "from oauth2client.client import GoogleCredentials\n",
        "creds = GoogleCredentials.get_application_default()\n",
        "import getpass\n",
        "!google-drive-ocamlfuse -headless -id={creds.client_id} -secret={creds.client_secret} < /dev/null 2>&1 | grep URL\n",
        "vcode = getpass.getpass()\n",
        "!echo {vcode} | google-drive-ocamlfuse -headless -id={creds.client_id} -secret={creds.client_secret}"
      ],
      "execution_count": 1,
      "outputs": [
        {
          "output_type": "stream",
          "text": [
            "Please, open the following URL in a web browser: https://accounts.google.com/o/oauth2/auth?client_id=32555940559.apps.googleusercontent.com&redirect_uri=urn%3Aietf%3Awg%3Aoauth%3A2.0%3Aoob&scope=https%3A%2F%2Fwww.googleapis.com%2Fauth%2Fdrive&response_type=code&access_type=offline&approval_prompt=force\r\n",
            "··········\n",
            "Please, open the following URL in a web browser: https://accounts.google.com/o/oauth2/auth?client_id=32555940559.apps.googleusercontent.com&redirect_uri=urn%3Aietf%3Awg%3Aoauth%3A2.0%3Aoob&scope=https%3A%2F%2Fwww.googleapis.com%2Fauth%2Fdrive&response_type=code&access_type=offline&approval_prompt=force\n",
            "Please enter the verification code: Access token retrieved correctly.\n"
          ],
          "name": "stdout"
        }
      ]
    },
    {
      "metadata": {
        "id": "jNnNXQ7bO_rS",
        "colab_type": "code",
        "colab": {}
      },
      "cell_type": "code",
      "source": [
        "%reset -f"
      ],
      "execution_count": 0,
      "outputs": []
    },
    {
      "metadata": {
        "id": "k5PDl_Pff3nA",
        "colab_type": "code",
        "colab": {
          "base_uri": "https://localhost:8080/",
          "height": 128
        },
        "outputId": "43bfc1fd-6b57-4ab2-8ad7-0a92bec3e8be"
      },
      "cell_type": "code",
      "source": [
        "!ln -sf /opt/bin/nvidia-smi /usr/bin/nvidia-smi\n",
        "!pip install gputil\n",
        "!pip install psutil\n",
        "!pip install humanize\n",
        "import psutil\n",
        "import humanize\n",
        "import GPUtil as GPU\n",
        "import os\n",
        "GPUs = GPU.getGPUs()\n",
        "# XXX: only one GPU on Colab and isn’t guaranteed\n",
        "gpu = GPUs[0]\n",
        "def printm():\n",
        " process = psutil.Process(os.getpid())\n",
        " print(\"Gen RAM Free: \" + humanize.naturalsize( psutil.virtual_memory().available ), \" | Proc size: \" + humanize.naturalsize( process.memory_info().rss))\n",
        " print(\"GPU RAM Free: {0:.0f}MB | Used: {1:.0f}MB | Util {2:3.0f}% | Total {3:.0f}MB\".format(gpu.memoryFree, gpu.memoryUsed, gpu.memoryUtil*100, gpu.memoryTotal))\n",
        "printm()"
      ],
      "execution_count": 1,
      "outputs": [
        {
          "output_type": "stream",
          "text": [
            "Requirement already satisfied: gputil in /usr/local/lib/python3.6/dist-packages (1.3.0)\r\n",
            "Requirement already satisfied: numpy in /usr/local/lib/python3.6/dist-packages (from gputil) (1.14.5)\n",
            "Requirement already satisfied: psutil in /usr/local/lib/python3.6/dist-packages (5.4.6)\n",
            "Requirement already satisfied: humanize in /usr/local/lib/python3.6/dist-packages (0.5.1)\n",
            "Gen RAM Free: 12.8 GB  | Proc size: 137.4 MB\n",
            "GPU RAM Free: 11439MB | Used: 0MB | Util   0% | Total 11439MB\n"
          ],
          "name": "stdout"
        }
      ]
    },
    {
      "metadata": {
        "id": "Vh5xmMPCNPUA",
        "colab_type": "code",
        "colab": {
          "base_uri": "https://localhost:8080/",
          "height": 54
        },
        "outputId": "c1e7ab22-93fc-4da0-b6e3-dca0ceedb14c"
      },
      "cell_type": "code",
      "source": [
        "!mkdir -p drive\n",
        "!google-drive-ocamlfuse drive"
      ],
      "execution_count": 2,
      "outputs": [
        {
          "output_type": "stream",
          "text": [
            "fuse: mountpoint is not empty\r\n",
            "fuse: if you are sure this is safe, use the 'nonempty' mount option\r\n"
          ],
          "name": "stdout"
        }
      ]
    },
    {
      "metadata": {
        "id": "oVufznmTKIVf",
        "colab_type": "code",
        "colab": {}
      },
      "cell_type": "code",
      "source": [
        "import pandas as pd\n",
        "import datetime\n",
        "import numpy as np"
      ],
      "execution_count": 0,
      "outputs": []
    },
    {
      "metadata": {
        "id": "8Nnt8F8OLHxC",
        "colab_type": "code",
        "colab": {}
      },
      "cell_type": "code",
      "source": [
        "os.getcwd()\n",
        "os.listdir(\"drive\")\n",
        "os.chdir(\"drive/Colab Notebooks\")"
      ],
      "execution_count": 0,
      "outputs": []
    },
    {
      "metadata": {
        "id": "oM59MwUzN-5h",
        "colab_type": "code",
        "colab": {
          "base_uri": "https://localhost:8080/",
          "height": 147
        },
        "outputId": "5bc71810-bddc-44d1-9e23-09ce2cc420a8"
      },
      "cell_type": "code",
      "source": [
        "os.listdir()"
      ],
      "execution_count": 5,
      "outputs": [
        {
          "output_type": "execute_result",
          "data": {
            "text/plain": [
              "['AALOGOPER.ipynb',\n",
              " 'kaggle1.ipynb',\n",
              " 'Untitled0.ipynb',\n",
              " 'Full_data.csv',\n",
              " 'Newdata.csv',\n",
              " 'Deep learning',\n",
              " 'drive']"
            ]
          },
          "metadata": {
            "tags": []
          },
          "execution_count": 5
        }
      ]
    },
    {
      "metadata": {
        "id": "yZBf0XoAKOVk",
        "colab_type": "code",
        "colab": {}
      },
      "cell_type": "code",
      "source": [
        "data = pd.read_csv('Newdata.csv',index_col = 0,parse_dates=True)"
      ],
      "execution_count": 0,
      "outputs": []
    },
    {
      "metadata": {
        "id": "hor-kuWUuuab",
        "colab_type": "code",
        "colab": {}
      },
      "cell_type": "code",
      "source": [
        "sel_col = data.select_dtypes(include = [\"float64\",\"int64\"])"
      ],
      "execution_count": 0,
      "outputs": []
    },
    {
      "metadata": {
        "id": "-XdNandDgPsp",
        "colab_type": "code",
        "colab": {
          "base_uri": "https://localhost:8080/",
          "height": 73
        },
        "outputId": "113e40e5-db82-4c31-b89f-b7d9bfa8e03d"
      },
      "cell_type": "code",
      "source": [
        "sparsity = 1.0 - np.count_nonzero(sel_col) / sel_col.size\n",
        "\n",
        "print(\"\\n############################# DATA HAS SPARSITY OF {} #############################\\n\".format(sparsity))"
      ],
      "execution_count": 8,
      "outputs": [
        {
          "output_type": "stream",
          "text": [
            "\n",
            "############################# DATA HAS SPARSITY OF 0.9698561414936286 #############################\n",
            "\n"
          ],
          "name": "stdout"
        }
      ]
    },
    {
      "metadata": {
        "id": "TkBig6pWgfrg",
        "colab_type": "text"
      },
      "cell_type": "markdown",
      "source": [
        "# Note:\n",
        "\n",
        "Data is particularly sparse. Random Forest will give a good result with full set of features.<br> However, the feature importance is really low for each vector regarding the single elements. The path to follow seems to be the following, given that feed forward neural networks give really bad results:<br> \n",
        "- We can try to study the occurrence over time of each error message.\n",
        "- Moreover, since the matrix is sparse, we can try to follow a different approach, one based upon CONVNET - LSTM Networks."
      ]
    },
    {
      "metadata": {
        "id": "62Bq1UVdKx1_",
        "colab_type": "code",
        "colab": {}
      },
      "cell_type": "code",
      "source": [
        "from sklearn.decomposition.truncated_svd import TruncatedSVD as tsvd"
      ],
      "execution_count": 0,
      "outputs": []
    },
    {
      "metadata": {
        "id": "9vyMjHYGEHjI",
        "colab_type": "code",
        "colab": {}
      },
      "cell_type": "code",
      "source": [
        "from sklearn.preprocessing import StandardScaler as ss"
      ],
      "execution_count": 0,
      "outputs": []
    },
    {
      "metadata": {
        "id": "KYGLpESLEOGm",
        "colab_type": "code",
        "colab": {
          "base_uri": "https://localhost:8080/",
          "height": 54
        },
        "outputId": "fd0ebc89-8009-4c71-9705-929e004dd3a1"
      },
      "cell_type": "code",
      "source": [
        "printm()"
      ],
      "execution_count": 11,
      "outputs": [
        {
          "output_type": "stream",
          "text": [
            "Gen RAM Free: 12.0 GB  | Proc size: 909.7 MB\n",
            "GPU RAM Free: 11439MB | Used: 0MB | Util   0% | Total 11439MB\n"
          ],
          "name": "stdout"
        }
      ]
    },
    {
      "metadata": {
        "id": "OCAsD_W_EPLu",
        "colab_type": "code",
        "colab": {
          "base_uri": "https://localhost:8080/",
          "height": 36
        },
        "outputId": "ea4b01c4-15b0-42d7-a617-c2be3af7d58b"
      },
      "cell_type": "code",
      "source": [
        "from keras.layers import Dense\n",
        "from keras.layers import Conv1D, MaxPool1D, RNN\n",
        "from keras.models import Sequential\n",
        "from keras.optimizers import Adam\n",
        "from keras import backend as K\n",
        "import keras\n",
        "K.tensorflow_backend._get_available_gpus()\n",
        "\n",
        "import matplotlib.pyplot as plt"
      ],
      "execution_count": 12,
      "outputs": [
        {
          "output_type": "stream",
          "text": [
            "Using TensorFlow backend.\n"
          ],
          "name": "stderr"
        }
      ]
    },
    {
      "metadata": {
        "id": "bJDgPRgKFCeo",
        "colab_type": "code",
        "colab": {}
      },
      "cell_type": "code",
      "source": [
        "X = data.iloc[:,2:-1].values\n",
        "y = data.iloc[:,-1].values"
      ],
      "execution_count": 0,
      "outputs": []
    },
    {
      "metadata": {
        "id": "ime3HFcqHrj2",
        "colab_type": "code",
        "colab": {}
      },
      "cell_type": "code",
      "source": [
        "sc = ss()\n",
        "X = sc.fit_transform(X)"
      ],
      "execution_count": 0,
      "outputs": []
    },
    {
      "metadata": {
        "id": "1ahkmDgoGO2I",
        "colab_type": "code",
        "colab": {}
      },
      "cell_type": "code",
      "source": [
        "from sklearn.model_selection import train_test_split as tts"
      ],
      "execution_count": 0,
      "outputs": []
    },
    {
      "metadata": {
        "id": "M4KthSJaHpdU",
        "colab_type": "code",
        "colab": {}
      },
      "cell_type": "code",
      "source": [
        "X_train, X_test, y_train, y_test = tts(X,y,stratify = y, random_state = 1234,test_size = 0.3)"
      ],
      "execution_count": 0,
      "outputs": []
    },
    {
      "metadata": {
        "id": "B3jS_fffEm7e",
        "colab_type": "code",
        "colab": {
          "base_uri": "https://localhost:8080/",
          "height": 36
        },
        "outputId": "1e4fe76c-a06d-453d-d97a-db7461b7fc77"
      },
      "cell_type": "code",
      "source": [
        "dec = tsvd(n_components=40)\n",
        "dec.fit(X_train)\n",
        "X_train_svd = dec.transform(X_train)\n",
        "X_test_svd = dec.transform(X_test)\n",
        "sum(dec.explained_variance_ratio_)"
      ],
      "execution_count": 17,
      "outputs": [
        {
          "output_type": "execute_result",
          "data": {
            "text/plain": [
              "0.9339454047868443"
            ]
          },
          "metadata": {
            "tags": []
          },
          "execution_count": 17
        }
      ]
    },
    {
      "metadata": {
        "id": "4P2Kn195k1wy",
        "colab_type": "code",
        "colab": {}
      },
      "cell_type": "code",
      "source": [
        "dropped = ['COD_A20','COD_G20','43', '21', '30', '81', '59', '50', '71', '26', '54', '46', '13', '12', 'M2', 'M8', '88', '64', '00', '28', 'PF', '02', '55', '60', '40', '25', '32', '23', '47', '34', '15', '41', '72', 'M1', 'M5', 'N7', 'SC', '48', '24', '51', '27', '29', '97', '31', '33']"
      ],
      "execution_count": 0,
      "outputs": []
    },
    {
      "metadata": {
        "id": "eo0_oMkEMovN",
        "colab_type": "code",
        "colab": {}
      },
      "cell_type": "code",
      "source": [
        "from sklearn.ensemble import RandomForestClassifier\n",
        "\n",
        "# %%\n",
        "\n",
        "from sklearn.metrics import precision_score, recall_score, f1_score, accuracy_score, precision_recall_curve, roc_curve, auc"
      ],
      "execution_count": 0,
      "outputs": []
    },
    {
      "metadata": {
        "id": "yg8nd0FlpqKP",
        "colab_type": "code",
        "colab": {}
      },
      "cell_type": "code",
      "source": [
        "import time"
      ],
      "execution_count": 0,
      "outputs": []
    },
    {
      "metadata": {
        "id": "aiAe2uHrMgSJ",
        "colab_type": "code",
        "colab": {
          "base_uri": "https://localhost:8080/",
          "height": 296
        },
        "outputId": "54fc70fd-0317-43f7-cc32-927fa4753f4d"
      },
      "cell_type": "code",
      "source": [
        "t0 = time.time()\n",
        "clf = RandomForestClassifier(n_estimators = 500, min_samples_split = 25, criterion = \"entropy\",oob_score = True)\n",
        "clf.fit(X_train,y_train)\n",
        "pred = clf.predict(X_test)\n",
        "# %%\n",
        "\n",
        "print(\"\\n########### Precision score is {} ###########\\n\".format(precision_score(y_test,pred)))\n",
        "print(\"\\n########### Recall Score is of {} ###########\\n\".format(recall_score(y_test,pred)))\n",
        "print(\"\\n############# F1 Score is of {} #############\\n\".format(f1_score(y_test,pred)))\n",
        "print(\"\\n########## Accuracy Score is of {} ##########\\n\".format(accuracy_score(y_test,pred)))\n",
        "print(\"\\n###### THE PROCESS LASTED {} SECONDS ########\\n\".format(time.time() - t0))\n",
        "\n",
        "# %%\n",
        "feat_imp = dict()\n",
        "for el in list(range(len(data.iloc[:,2:-1].columns))):\n",
        "    feat_imp[list(data.iloc[:,2:-1])[el]] = clf.feature_importances_[el]"
      ],
      "execution_count": 21,
      "outputs": [
        {
          "output_type": "stream",
          "text": [
            "\n",
            "########### Precision score is 0.7822164948453608 ###########\n",
            "\n",
            "\n",
            "########### Recall Score is of 0.8939617083946981 ###########\n",
            "\n",
            "\n",
            "############# F1 Score is of 0.8343642611683849 #############\n",
            "\n",
            "\n",
            "########## Accuracy Score is of 0.9877434775975181 ##########\n",
            "\n",
            "\n",
            "###### THE PROCESS LASTED 35.950756788253784 SECONDS ########\n",
            "\n"
          ],
          "name": "stdout"
        }
      ]
    },
    {
      "metadata": {
        "id": "L_cJ8Ik-Vn-V",
        "colab_type": "text"
      },
      "cell_type": "markdown",
      "source": [
        "# Plotting ROC curve:\n",
        "\n",
        "An approach can be the following:\n",
        "\n",
        "\n",
        "```\n",
        "print(__doc__)\n",
        "\n",
        "import numpy as np\n",
        "import matplotlib.pyplot as plt\n",
        "from itertools import cycle\n",
        "\n",
        "from sklearn import svm, datasets\n",
        "from sklearn.metrics import roc_curve, auc\n",
        "from sklearn.model_selection import train_test_split\n",
        "from sklearn.preprocessing import label_binarize\n",
        "from sklearn.multiclass import OneVsRestClassifier\n",
        "from scipy import interp\n",
        "\n",
        "# Import some data to play with\n",
        "iris = datasets.load_iris()\n",
        "X = iris.data\n",
        "y = iris.target\n",
        "\n",
        "# Binarize the output\n",
        "y = label_binarize(y, classes=[0, 1, 2])\n",
        "n_classes = y.shape[1]\n",
        "\n",
        "# Add noisy features to make the problem harder\n",
        "random_state = np.random.RandomState(0)\n",
        "n_samples, n_features = X.shape\n",
        "X = np.c_[X, random_state.randn(n_samples, 200 * n_features)]\n",
        "\n",
        "# shuffle and split training and test sets\n",
        "X_train, X_test, y_train, y_test = train_test_split(X, y, test_size=.5,\n",
        "                                                    random_state=0)\n",
        "\n",
        "# Learn to predict each class against the other\n",
        "classifier = OneVsRestClassifier(svm.SVC(kernel='linear', probability=True,\n",
        "                                 random_state=random_state))\n",
        "y_score = classifier.fit(X_train, y_train).decision_function(X_test)\n",
        "\n",
        "# Compute ROC curve and ROC area for each class\n",
        "fpr = dict()\n",
        "tpr = dict()\n",
        "roc_auc = dict()\n",
        "for i in range(n_classes):\n",
        "    fpr[i], tpr[i], _ = roc_curve(y_test[:, i], y_score[:, i])\n",
        "    roc_auc[i] = auc(fpr[i], tpr[i])\n",
        "\n",
        "# Compute micro-average ROC curve and ROC area\n",
        "fpr[\"micro\"], tpr[\"micro\"], _ = roc_curve(y_test.ravel(), y_score.ravel())\n",
        "roc_auc[\"micro\"] = auc(fpr[\"micro\"], tpr[\"micro\"])\n",
        "Plot of a ROC curve for a specific class\n",
        "\n",
        "plt.figure()\n",
        "lw = 2\n",
        "plt.plot(fpr[2], tpr[2], color='darkorange',\n",
        "         lw=lw, label='ROC curve (area = %0.2f)' % roc_auc[2])\n",
        "plt.plot([0, 1], [0, 1], color='navy', lw=lw, linestyle='--')\n",
        "plt.xlim([0.0, 1.0])\n",
        "plt.ylim([0.0, 1.05])\n",
        "plt.xlabel('False Positive Rate')\n",
        "plt.ylabel('True Positive Rate')\n",
        "plt.title('Receiver operating characteristic example')\n",
        "plt.legend(loc=\"lower right\")\n",
        "plt.show()\n",
        "../../_images/sphx_glr_plot_roc_001.png\n",
        "Plot ROC curves for the multiclass problem\n",
        "\n",
        "# Compute macro-average ROC curve and ROC area\n",
        "\n",
        "# First aggregate all false positive rates\n",
        "all_fpr = np.unique(np.concatenate([fpr[i] for i in range(n_classes)]))\n",
        "\n",
        "# Then interpolate all ROC curves at this points\n",
        "mean_tpr = np.zeros_like(all_fpr)\n",
        "for i in range(n_classes):\n",
        "    mean_tpr += interp(all_fpr, fpr[i], tpr[i])\n",
        "\n",
        "# Finally average it and compute AUC\n",
        "mean_tpr /= n_classes\n",
        "\n",
        "fpr[\"macro\"] = all_fpr\n",
        "tpr[\"macro\"] = mean_tpr\n",
        "roc_auc[\"macro\"] = auc(fpr[\"macro\"], tpr[\"macro\"])\n",
        "\n",
        "# Plot all ROC curves\n",
        "plt.figure()\n",
        "plt.plot(fpr[\"micro\"], tpr[\"micro\"],\n",
        "         label='micro-average ROC curve (area = {0:0.2f})'\n",
        "               ''.format(roc_auc[\"micro\"]),\n",
        "         color='deeppink', linestyle=':', linewidth=4)\n",
        "\n",
        "plt.plot(fpr[\"macro\"], tpr[\"macro\"],\n",
        "         label='macro-average ROC curve (area = {0:0.2f})'\n",
        "               ''.format(roc_auc[\"macro\"]),\n",
        "         color='navy', linestyle=':', linewidth=4)\n",
        "\n",
        "colors = cycle(['aqua', 'darkorange', 'cornflowerblue'])\n",
        "for i, color in zip(range(n_classes), colors):\n",
        "    plt.plot(fpr[i], tpr[i], color=color, lw=lw,\n",
        "             label='ROC curve of class {0} (area = {1:0.2f})'\n",
        "             ''.format(i, roc_auc[i]))\n",
        "\n",
        "plt.plot([0, 1], [0, 1], 'k--', lw=lw)\n",
        "plt.xlim([0.0, 1.0])\n",
        "plt.ylim([0.0, 1.05])\n",
        "plt.xlabel('False Positive Rate')\n",
        "plt.ylabel('True Positive Rate')\n",
        "plt.title('Some extension of Receiver operating characteristic to multi-class')\n",
        "plt.legend(loc=\"lower right\")\n",
        "plt.show()\n",
        "```\n",
        "\n"
      ]
    },
    {
      "metadata": {
        "id": "0sVP4KekQUrJ",
        "colab_type": "code",
        "colab": {
          "base_uri": "https://localhost:8080/",
          "height": 296
        },
        "outputId": "447c13bf-2ad7-4b02-b53c-00fc0df1a869"
      },
      "cell_type": "code",
      "source": [
        "print(\"\\n########### Precision score is {} ###########\\n\".format(precision_score(y_test,pred)))\n",
        "print(\"\\n########### Recall Score is of {} ###########\\n\".format(recall_score(y_test,pred)))\n",
        "print(\"\\n############# F1 Score is of {} #############\\n\".format(f1_score(y_test,pred)))\n",
        "print(\"\\n########## Accuracy Score is of {} ##########\\n\".format(accuracy_score(y_test,pred)))\n",
        "print(\"\\n###### THE PROCESS LASTED {} SECONDS ########\\n\".format(time.time() - t0))"
      ],
      "execution_count": 22,
      "outputs": [
        {
          "output_type": "stream",
          "text": [
            "\n",
            "########### Precision score is 0.7822164948453608 ###########\n",
            "\n",
            "\n",
            "########### Recall Score is of 0.8939617083946981 ###########\n",
            "\n",
            "\n",
            "############# F1 Score is of 0.8343642611683849 #############\n",
            "\n",
            "\n",
            "########## Accuracy Score is of 0.9877434775975181 ##########\n",
            "\n",
            "\n",
            "###### THE PROCESS LASTED 44.93943691253662 SECONDS ########\n",
            "\n"
          ],
          "name": "stdout"
        }
      ]
    },
    {
      "metadata": {
        "id": "ixnA5_qoNWLx",
        "colab_type": "code",
        "colab": {
          "base_uri": "https://localhost:8080/",
          "height": 296
        },
        "outputId": "838d41a9-e121-4406-fdac-fcb5eacf7c80"
      },
      "cell_type": "code",
      "source": [
        "t0 = time.time()\n",
        "clf1 = RandomForestClassifier(n_estimators = 300, min_samples_split = 25, criterion = \"entropy\")\n",
        "clf1.fit(X_train_svd,y_train)\n",
        "pred1 = clf1.predict(X_test_svd)\n",
        "# %%\n",
        "\n",
        "print(\"\\n########## PRECISION SCORE IS {} ############\\n\".format(precision_score(y_test,pred1)))\n",
        "print(\"\\n########### RECALL SCORE IS OF {} ###########\\n\".format(recall_score(y_test,pred1)))\n",
        "print(\"\\n############# F1 SCORE IS OF {} #############\\n\".format(f1_score(y_test,pred1)))\n",
        "print(\"\\n########## ACCURACY SCORE IS OF {} ##########\\n\".format(accuracy_score(y_test,pred1)))\n",
        "print(\"\\n###### THE PROCESS LASTED {} SECONDS ########\\n\".format(time.time() - t0))\n",
        "# %%\n",
        "feat_imp1 = dict()\n",
        "for el in list(range(len(data.iloc[:,2:-1].columns))):\n",
        "    feat_imp1[list(data.iloc[:,2:-1])[el]] = clf.feature_importances_[el]\n",
        "    \n"
      ],
      "execution_count": 23,
      "outputs": [
        {
          "output_type": "stream",
          "text": [
            "\n",
            "########## PRECISION SCORE IS 0.7767799871712636 ############\n",
            "\n",
            "\n",
            "########### RECALL SCORE IS OF 0.8917525773195877 ###########\n",
            "\n",
            "\n",
            "############# F1 SCORE IS OF 0.8303051079876586 #############\n",
            "\n",
            "\n",
            "########## ACCURACY SCORE IS OF 0.9874129074912272 ##########\n",
            "\n",
            "\n",
            "###### THE PROCESS LASTED 93.95625853538513 SECONDS ########\n",
            "\n"
          ],
          "name": "stdout"
        }
      ]
    },
    {
      "metadata": {
        "id": "PRETzLfollbb",
        "colab_type": "text"
      },
      "cell_type": "markdown",
      "source": [
        "# Note: Truncated SVD\n",
        "\n",
        "Truncated SVD here doesn't help a lot. Will try with PCA as soon as possible. Data is heavily skewed, however.\n",
        "\n",
        "### Note: \n",
        "\n",
        "SVD will show a consistently higher Recall."
      ]
    },
    {
      "metadata": {
        "id": "BhvEcNY2PWio",
        "colab_type": "code",
        "colab": {}
      },
      "cell_type": "code",
      "source": [
        "from numpy import loadtxt\n",
        "from xgboost import XGBClassifier"
      ],
      "execution_count": 0,
      "outputs": []
    },
    {
      "metadata": {
        "id": "lQqeSWB7QAZC",
        "colab_type": "code",
        "colab": {
          "base_uri": "https://localhost:8080/",
          "height": 353
        },
        "outputId": "964f3ff1-74e5-426d-e61c-a54c859f98de"
      },
      "cell_type": "code",
      "source": [
        "t0 = time.time()\n",
        "clf_boost = XGBClassifier(objective = 'binary:logistic',n_estimators = 200,max_leaf_nodes = 6, max_depth = 10,learning_rate = 0.001,gamma = 0.7,reg_lambda = 0.1, \n",
        "                          reg_alpha = 0.9, booster = 'gbtree',min_child_weight=0.9)\n",
        "clf_boost.fit(X_train,y_train)\n",
        "pred_bo = clf_boost.predict(X_test)\n",
        "\n",
        "print(\"\\n########## PRECISION SCORE IS {} ############\\n\".format(precision_score(y_test,pred_bo)))\n",
        "print(\"\\n########### RECALL SCORE IS OF {} ###########\\n\".format(recall_score(y_test,pred_bo)))\n",
        "print(\"\\n############# F1 SCORE IS OF {} #############\\n\".format(f1_score(y_test,pred_bo)))\n",
        "print(\"\\n########## ACCURACY SCORE IS OF {} ##########\\n\".format(accuracy_score(y_test,pred_bo)))\n",
        "print(\"\\n###### THE PROCESS LASTED {} SECONDS ########\\n\".format(time.time() - t0))"
      ],
      "execution_count": 25,
      "outputs": [
        {
          "output_type": "stream",
          "text": [
            "\n",
            "########## PRECISION SCORE IS 0.7856209150326797 ############\n",
            "\n",
            "\n",
            "########### RECALL SCORE IS OF 0.8851251840942562 ###########\n",
            "\n",
            "\n",
            "############# F1 SCORE IS OF 0.832409972299169 #############\n",
            "\n",
            "\n",
            "########## ACCURACY SCORE IS OF 0.9876926206580888 ##########\n",
            "\n",
            "\n",
            "###### THE PROCESS LASTED 102.61299991607666 SECONDS ########\n",
            "\n"
          ],
          "name": "stdout"
        },
        {
          "output_type": "stream",
          "text": [
            "/usr/local/lib/python3.6/dist-packages/sklearn/preprocessing/label.py:151: DeprecationWarning: The truth value of an empty array is ambiguous. Returning False, but in future this will result in an error. Use `array.size > 0` to check that an array is not empty.\n",
            "  if diff:\n"
          ],
          "name": "stderr"
        }
      ]
    },
    {
      "metadata": {
        "id": "rqc6x-a6RxDq",
        "colab_type": "code",
        "colab": {}
      },
      "cell_type": "code",
      "source": [
        ""
      ],
      "execution_count": 0,
      "outputs": []
    },
    {
      "metadata": {
        "id": "BHYPeGu552vB",
        "colab_type": "code",
        "colab": {
          "base_uri": "https://localhost:8080/",
          "height": 296
        },
        "outputId": "63a3cc21-9d04-4799-8137-d980198306ec"
      },
      "cell_type": "code",
      "source": [
        "print(\"\\n########## PRECISION SCORE IS {} ############\\n\".format(precision_score(y_test,pred_bo)))\n",
        "print(\"\\n########### RECALL SCORE IS OF {} ###########\\n\".format(recall_score(y_test,pred_bo)))\n",
        "print(\"\\n############# F1 SCORE IS OF {} #############\\n\".format(f1_score(y_test,pred_bo)))\n",
        "print(\"\\n########## ACCURACY SCORE IS OF {} ##########\\n\".format(accuracy_score(y_test,pred_bo)))\n",
        "print(\"\\n###### THE PROCESS LASTED {} SECONDS ########\\n\".format(time.time() - t0))"
      ],
      "execution_count": 26,
      "outputs": [
        {
          "output_type": "stream",
          "text": [
            "\n",
            "########## PRECISION SCORE IS 0.7856209150326797 ############\n",
            "\n",
            "\n",
            "########### RECALL SCORE IS OF 0.8851251840942562 ###########\n",
            "\n",
            "\n",
            "############# F1 SCORE IS OF 0.832409972299169 #############\n",
            "\n",
            "\n",
            "########## ACCURACY SCORE IS OF 0.9876926206580888 ##########\n",
            "\n",
            "\n",
            "###### THE PROCESS LASTED 104.07167482376099 SECONDS ########\n",
            "\n"
          ],
          "name": "stdout"
        }
      ]
    },
    {
      "metadata": {
        "id": "KaNsoQLjaI5g",
        "colab_type": "code",
        "colab": {}
      },
      "cell_type": "code",
      "source": [
        "feat_imp_boost = dict()\n",
        "for el in list(range(len(data.iloc[:,2:-1].columns))):\n",
        "    feat_imp_boost[list(data.iloc[:,2:-1])[el]] = clf_boost.feature_importances_[el]\n"
      ],
      "execution_count": 0,
      "outputs": []
    },
    {
      "metadata": {
        "id": "z3hTC2_oANxq",
        "colab_type": "code",
        "colab": {
          "base_uri": "https://localhost:8080/",
          "height": 258
        },
        "outputId": "1ef33de6-40d6-4219-9d27-a58ce59f05a1"
      },
      "cell_type": "code",
      "source": [
        "for i, k in feat_imp_boost.items():\n",
        "  if k > 0:\n",
        "    print(i,\":\",k)"
      ],
      "execution_count": 28,
      "outputs": [
        {
          "output_type": "stream",
          "text": [
            "COD_A00 : 0.1080108\n",
            "COD_A70 : 0.022142215\n",
            "COD_A90 : 0.0360036\n",
            "COD_A93 : 0.21980198\n",
            "COD_A94 : 0.09378938\n",
            "COD_A98 : 0.1440144\n",
            "COD_F70 : 0.041044105\n",
            "COD_G70 : 0.04590459\n",
            "COD_G72 : 0.09522952\n",
            "COD_LOF : 0.0720072\n",
            "COD_N70 : 0.036183618\n",
            "COD_SCC : 0.049864985\n",
            "COD_V22 : 0.0360036\n"
          ],
          "name": "stdout"
        }
      ]
    },
    {
      "metadata": {
        "id": "jbbx9mP41AOG",
        "colab_type": "code",
        "colab": {
          "base_uri": "https://localhost:8080/",
          "height": 353
        },
        "outputId": "0857a11c-cdbf-4354-88f6-94713961c37d"
      },
      "cell_type": "code",
      "source": [
        "t0 = time.time()\n",
        "clf_boost = XGBClassifier(n_estimators = 400,max_leaf_nodes = 6, max_depth = 10,learning_rate = 0.001,gamma = 0.7,reg_lambda = 0.1, reg_alpha = 0.9 ,\n",
        "                          booster = 'gbtree',min_child_weight=0.9)\n",
        "clf_boost.fit(X_train_svd,y_train)\n",
        "pred_bo = clf_boost.predict(X_test_svd)\n",
        "\n",
        "print(\"\\n########## PRECISION SCORE IS {} ############\\n\".format(precision_score(y_test,pred_bo)))\n",
        "print(\"\\n########### RECALL SCORE IS OF {} ###########\\n\".format(recall_score(y_test,pred_bo)))\n",
        "print(\"\\n############# F1 SCORE IS OF {} #############\\n\".format(f1_score(y_test,pred_bo)))\n",
        "print(\"\\n########## ACCURACY SCORE IS OF {} ##########\\n\".format(accuracy_score(y_test,pred_bo)))\n",
        "print(\"\\n###### THE PROCESS LASTED {} SECONDS ########\\n\".format(time.time() - t0))"
      ],
      "execution_count": 29,
      "outputs": [
        {
          "output_type": "stream",
          "text": [
            "\n",
            "########## PRECISION SCORE IS 0.7787096774193548 ############\n",
            "\n",
            "\n",
            "########### RECALL SCORE IS OF 0.8888070692194403 ###########\n",
            "\n",
            "\n",
            "############# F1 SCORE IS OF 0.8301237964236589 #############\n",
            "\n",
            "\n",
            "########## ACCURACY SCORE IS OF 0.9874383359609419 ##########\n",
            "\n",
            "\n",
            "###### THE PROCESS LASTED 181.69969725608826 SECONDS ########\n",
            "\n"
          ],
          "name": "stdout"
        },
        {
          "output_type": "stream",
          "text": [
            "/usr/local/lib/python3.6/dist-packages/sklearn/preprocessing/label.py:151: DeprecationWarning: The truth value of an empty array is ambiguous. Returning False, but in future this will result in an error. Use `array.size > 0` to check that an array is not empty.\n",
            "  if diff:\n"
          ],
          "name": "stderr"
        }
      ]
    },
    {
      "metadata": {
        "id": "lv8hVzaT5yF6",
        "colab_type": "code",
        "colab": {
          "base_uri": "https://localhost:8080/",
          "height": 296
        },
        "outputId": "7c202ab7-437a-4da4-ed86-b8e14e65728b"
      },
      "cell_type": "code",
      "source": [
        "print(\"\\n########## PRECISION SCORE IS {} ############\\n\".format(precision_score(y_test,pred_bo)))\n",
        "print(\"\\n########### RECALL SCORE IS OF {} ###########\\n\".format(recall_score(y_test,pred_bo)))\n",
        "print(\"\\n############# F1 SCORE IS OF {} #############\\n\".format(f1_score(y_test,pred_bo)))\n",
        "print(\"\\n########## ACCURACY SCORE IS OF {} ##########\\n\".format(accuracy_score(y_test,pred_bo)))\n",
        "print(\"\\n###### THE PROCESS LASTED {} SECONDS ########\\n\".format(time.time() - t0))"
      ],
      "execution_count": 30,
      "outputs": [
        {
          "output_type": "stream",
          "text": [
            "\n",
            "########## PRECISION SCORE IS 0.7787096774193548 ############\n",
            "\n",
            "\n",
            "########### RECALL SCORE IS OF 0.8888070692194403 ###########\n",
            "\n",
            "\n",
            "############# F1 SCORE IS OF 0.8301237964236589 #############\n",
            "\n",
            "\n",
            "########## ACCURACY SCORE IS OF 0.9874383359609419 ##########\n",
            "\n",
            "\n",
            "###### THE PROCESS LASTED 182.41780948638916 SECONDS ########\n",
            "\n"
          ],
          "name": "stdout"
        }
      ]
    },
    {
      "metadata": {
        "id": "D8fHWl_WDEDQ",
        "colab_type": "code",
        "colab": {
          "base_uri": "https://localhost:8080/",
          "height": 258
        },
        "outputId": "1639f218-c9ab-436e-cd44-9d45abc27d7d"
      },
      "cell_type": "code",
      "source": [
        "for i,k in feat_imp_boost.items():\n",
        "  if k > 0:\n",
        "    print(i, \":\",str(k))"
      ],
      "execution_count": 31,
      "outputs": [
        {
          "output_type": "stream",
          "text": [
            "COD_A00 : 0.1080108\n",
            "COD_A70 : 0.022142215\n",
            "COD_A90 : 0.0360036\n",
            "COD_A93 : 0.21980198\n",
            "COD_A94 : 0.09378938\n",
            "COD_A98 : 0.1440144\n",
            "COD_F70 : 0.041044105\n",
            "COD_G70 : 0.04590459\n",
            "COD_G72 : 0.09522952\n",
            "COD_LOF : 0.0720072\n",
            "COD_N70 : 0.036183618\n",
            "COD_SCC : 0.049864985\n",
            "COD_V22 : 0.0360036\n"
          ],
          "name": "stdout"
        }
      ]
    },
    {
      "metadata": {
        "id": "AaCX94lpVeqJ",
        "colab_type": "code",
        "colab": {}
      },
      "cell_type": "code",
      "source": [
        "from sklearn.ensemble import AdaBoostClassifier\n",
        "from sklearn.svm import SVC"
      ],
      "execution_count": 0,
      "outputs": []
    },
    {
      "metadata": {
        "id": "qLG6B0g7e6n5",
        "colab_type": "code",
        "colab": {
          "base_uri": "https://localhost:8080/",
          "height": 36
        },
        "outputId": "17a1d17f-5dff-47eb-9c05-66287282b681"
      },
      "cell_type": "code",
      "source": [
        "data.shape"
      ],
      "execution_count": 33,
      "outputs": [
        {
          "output_type": "execute_result",
          "data": {
            "text/plain": [
              "(131085, 132)"
            ]
          },
          "metadata": {
            "tags": []
          },
          "execution_count": 33
        }
      ]
    },
    {
      "metadata": {
        "id": "QqCGQh0dTWGZ",
        "colab_type": "text"
      },
      "cell_type": "markdown",
      "source": [
        "# SVM\n",
        "\n",
        "\n",
        "SVM imply too much time in training. A different approach will be tried.\n",
        "\n",
        "---"
      ]
    },
    {
      "metadata": {
        "id": "veD7d8jpY1H_",
        "colab_type": "code",
        "colab": {}
      },
      "cell_type": "code",
      "source": [
        "#kl = SVC(C = 100, gamma = 10,probability = True,kernel=\"linear\")"
      ],
      "execution_count": 0,
      "outputs": []
    },
    {
      "metadata": {
        "id": "EkJ2iaoPeqUO",
        "colab_type": "code",
        "colab": {}
      },
      "cell_type": "code",
      "source": [
        "#X_trainsvm, X_testsvm, y_trainsvm, y_testsvm = tts(X,y,stratify = y,test_size = 0.2,train_size = 0.8)"
      ],
      "execution_count": 0,
      "outputs": []
    },
    {
      "metadata": {
        "id": "HYp_BLwnDHvv",
        "colab_type": "code",
        "colab": {}
      },
      "cell_type": "code",
      "source": [
        "#t0 = time.time()\n",
        "#clf2 = AdaBoostClassifier(base_estimator = kl, n_estimators = 10, algorithm = \"SAMME.R\")\n",
        "#clf2.fit(X_trainsvm,y_trainsvm)\n",
        "#predsvm = clf2.predict(X_testsvm)\n",
        "\n",
        "#print(\"\\n########### Precision score is {} ###########\\n\".format(precision_score(y_testsvm,predsvm)))\n",
        "#print(\"\\n########### Recall Score is of {} ###########\\n\".format(recall_score(y_testsvm,predsvm)))\n",
        "#print(\"\\n############# F1 Score is of {} #############\\n\".format(f1_score(y_testsvm,predsvm)))\n",
        "#print(\"\\n########## Accuracy Score is of {} ##########\\n\".format(accuracy_score(y_testsvm,predsvm)))\n",
        "#print(time.time()-t0)"
      ],
      "execution_count": 0,
      "outputs": []
    },
    {
      "metadata": {
        "id": "2rTamFkm2ZoX",
        "colab_type": "text"
      },
      "cell_type": "markdown",
      "source": [
        "\n",
        "\n",
        "---\n",
        "\n",
        "# Precision and Recall considerations:\n",
        "\n",
        "One thing is to note, is the presence of a particular Precision and recall pattern. In particular, with the SVD Precision and Accuracy decrease. <br>Being:\n",
        "- Precision = TP/(TP + FP) \n",
        "- Recall = TP/(TP + FN)\n",
        "- Accuracy = (TP + FP)/(TP+TN+FP+FN)\n",
        "\n",
        "We have that with SVD is very likely that the magnitude in increase of False Positives is greater than True Positive increase's one. Therefore, we drop SVD Idea and proceed with only normalized data. \n",
        "## Recall Optimization\n",
        "The algorythm has been optimized wrt Recall. This is because, to me, it seems more critical a non-predicted message error than a predicted one.\n",
        "\n",
        "# Neural Networks\n",
        "\n",
        "Feed Forward Neural Networks do not work well. This is mostly due to the sparse nature of the data. A CNN LSTM configuration will be tested (maybe?) in the near future.\n",
        "\n",
        "## Update:\n",
        "\n",
        "ANN goes straight to the point. However, data should be more detailed. In particular, it is important having all the data from all machines.\n",
        "\n",
        "#### Adam:\n",
        "\n",
        "Adam loss work very well. Also SGD with both high learning rate and medium vanishing does."
      ]
    },
    {
      "metadata": {
        "id": "D3_a_k4OIxT6",
        "colab_type": "code",
        "colab": {}
      },
      "cell_type": "code",
      "source": [
        "opt = Adam(lr=0.003,decay=0.004)"
      ],
      "execution_count": 0,
      "outputs": []
    },
    {
      "metadata": {
        "id": "QmLEHRTuIuNg",
        "colab_type": "code",
        "colab": {}
      },
      "cell_type": "code",
      "source": [
        "hist = keras.callbacks.History()"
      ],
      "execution_count": 0,
      "outputs": []
    },
    {
      "metadata": {
        "id": "5BI0FTcWExFt",
        "colab_type": "code",
        "colab": {}
      },
      "cell_type": "code",
      "source": [
        "model = Sequential()\n",
        "model.add(Dense(units = 10, activation = 'relu', input_dim = 129 ))\n",
        "model.add(Dense(units = 15, activation = 'softmax'))\n",
        "model.add(Dense(units = 5, activation = 'relu'))\n",
        "model.add(Dense(units = 1, activation = 'sigmoid'))"
      ],
      "execution_count": 0,
      "outputs": []
    },
    {
      "metadata": {
        "id": "8QNiAX9qIiZe",
        "colab_type": "code",
        "colab": {}
      },
      "cell_type": "code",
      "source": [
        "model.compile(optimizer = opt,loss='binary_crossentropy',metrics = ['accuracy'])"
      ],
      "execution_count": 0,
      "outputs": []
    },
    {
      "metadata": {
        "id": "9OCSLNuAImih",
        "colab_type": "code",
        "colab": {
          "base_uri": "https://localhost:8080/",
          "height": 18659
        },
        "outputId": "6eaaaf93-6333-4e0c-9d1b-832fc62edde3"
      },
      "cell_type": "code",
      "source": [
        "model.fit(X_train, y_train, validation_data=(X_test,y_test), batch_size = 400, epochs = 500,callbacks=[hist])"
      ],
      "execution_count": 41,
      "outputs": [
        {
          "output_type": "stream",
          "text": [
            "WARNING:tensorflow:Variable *= will be deprecated. Use variable.assign_mul if you want assignment to the variable value or 'x = x * y' if you want a new python Tensor object.\n",
            "Train on 91759 samples, validate on 39326 samples\n",
            "Epoch 1/500\n",
            "91759/91759 [==============================] - 2s 25us/step - loss: 0.1613 - acc: 0.9655 - val_loss: 0.0671 - val_acc: 0.9655\n",
            "Epoch 2/500\n",
            "91759/91759 [==============================] - 2s 23us/step - loss: 0.0614 - acc: 0.9655 - val_loss: 0.0554 - val_acc: 0.9655\n",
            "Epoch 3/500\n",
            "91759/91759 [==============================] - 2s 23us/step - loss: 0.0542 - acc: 0.9655 - val_loss: 0.0514 - val_acc: 0.9655\n",
            "Epoch 4/500\n",
            "91759/91759 [==============================] - 2s 23us/step - loss: 0.0515 - acc: 0.9655 - val_loss: 0.0496 - val_acc: 0.9655\n",
            "Epoch 5/500\n",
            "75600/91759 [=======================>......] - ETA: 0s - loss: 0.0501 - acc: 0.9655"
          ],
          "name": "stdout"
        },
        {
          "output_type": "stream",
          "text": [
            "91759/91759 [==============================] - 2s 23us/step - loss: 0.0502 - acc: 0.9655 - val_loss: 0.0487 - val_acc: 0.9655\n",
            "Epoch 6/500\n",
            "91759/91759 [==============================] - 2s 23us/step - loss: 0.0494 - acc: 0.9655 - val_loss: 0.0480 - val_acc: 0.9655\n",
            "Epoch 7/500\n",
            "91759/91759 [==============================] - 2s 23us/step - loss: 0.0487 - acc: 0.9655 - val_loss: 0.0475 - val_acc: 0.9655\n",
            "Epoch 8/500\n",
            "91759/91759 [==============================] - 2s 23us/step - loss: 0.0482 - acc: 0.9655 - val_loss: 0.0472 - val_acc: 0.9655\n",
            "Epoch 9/500\n",
            "91759/91759 [==============================] - 2s 23us/step - loss: 0.0477 - acc: 0.9655 - val_loss: 0.0464 - val_acc: 0.9655\n",
            "Epoch 10/500\n",
            "91759/91759 [==============================] - 2s 23us/step - loss: 0.0473 - acc: 0.9810 - val_loss: 0.0461 - val_acc: 0.9832\n",
            "Epoch 11/500\n",
            "29600/91759 [========>.....................] - ETA: 1s - loss: 0.0463 - acc: 0.9834"
          ],
          "name": "stdout"
        },
        {
          "output_type": "stream",
          "text": [
            "91759/91759 [==============================] - 2s 23us/step - loss: 0.0469 - acc: 0.9831 - val_loss: 0.0457 - val_acc: 0.9833\n",
            "Epoch 12/500\n",
            "91759/91759 [==============================] - 2s 22us/step - loss: 0.0466 - acc: 0.9831 - val_loss: 0.0455 - val_acc: 0.9833\n",
            "Epoch 13/500\n",
            "91759/91759 [==============================] - 2s 22us/step - loss: 0.0463 - acc: 0.9831 - val_loss: 0.0453 - val_acc: 0.9833\n",
            "Epoch 14/500\n",
            "91759/91759 [==============================] - 2s 23us/step - loss: 0.0460 - acc: 0.9831 - val_loss: 0.0449 - val_acc: 0.9833\n",
            "Epoch 15/500\n",
            "91759/91759 [==============================] - 2s 23us/step - loss: 0.0457 - acc: 0.9831 - val_loss: 0.0446 - val_acc: 0.9833\n",
            "Epoch 16/500\n",
            "91759/91759 [==============================] - 2s 23us/step - loss: 0.0455 - acc: 0.9831 - val_loss: 0.0444 - val_acc: 0.9833\n",
            "Epoch 17/500\n",
            "28000/91759 [========>.....................] - ETA: 1s - loss: 0.0455 - acc: 0.9830"
          ],
          "name": "stdout"
        },
        {
          "output_type": "stream",
          "text": [
            "91759/91759 [==============================] - 2s 23us/step - loss: 0.0452 - acc: 0.9831 - val_loss: 0.0441 - val_acc: 0.9833\n",
            "Epoch 18/500\n",
            "91759/91759 [==============================] - 2s 23us/step - loss: 0.0450 - acc: 0.9832 - val_loss: 0.0439 - val_acc: 0.9833\n",
            "Epoch 19/500\n",
            "91759/91759 [==============================] - 2s 23us/step - loss: 0.0448 - acc: 0.9832 - val_loss: 0.0437 - val_acc: 0.9833\n",
            "Epoch 20/500\n",
            "91759/91759 [==============================] - 2s 23us/step - loss: 0.0446 - acc: 0.9832 - val_loss: 0.0435 - val_acc: 0.9833\n",
            "Epoch 21/500\n",
            "91759/91759 [==============================] - 2s 23us/step - loss: 0.0443 - acc: 0.9832 - val_loss: 0.0433 - val_acc: 0.9833\n",
            "Epoch 22/500\n",
            "91759/91759 [==============================] - 2s 23us/step - loss: 0.0442 - acc: 0.9832 - val_loss: 0.0431 - val_acc: 0.9834\n",
            "Epoch 23/500\n",
            "27600/91759 [========>.....................] - ETA: 1s - loss: 0.0464 - acc: 0.9824"
          ],
          "name": "stdout"
        },
        {
          "output_type": "stream",
          "text": [
            "91759/91759 [==============================] - 2s 23us/step - loss: 0.0440 - acc: 0.9832 - val_loss: 0.0429 - val_acc: 0.9834\n",
            "Epoch 24/500\n",
            "91759/91759 [==============================] - 2s 23us/step - loss: 0.0439 - acc: 0.9832 - val_loss: 0.0428 - val_acc: 0.9835\n",
            "Epoch 25/500\n",
            "91759/91759 [==============================] - 2s 23us/step - loss: 0.0437 - acc: 0.9832 - val_loss: 0.0426 - val_acc: 0.9835\n",
            "Epoch 26/500\n",
            "91759/91759 [==============================] - 2s 23us/step - loss: 0.0435 - acc: 0.9832 - val_loss: 0.0424 - val_acc: 0.9835\n",
            "Epoch 27/500\n",
            "91759/91759 [==============================] - 2s 23us/step - loss: 0.0433 - acc: 0.9832 - val_loss: 0.0423 - val_acc: 0.9835\n",
            "Epoch 28/500\n",
            "91759/91759 [==============================] - 2s 23us/step - loss: 0.0432 - acc: 0.9832 - val_loss: 0.0422 - val_acc: 0.9835\n",
            "Epoch 29/500\n",
            "22400/91759 [======>.......................] - ETA: 1s - loss: 0.0453 - acc: 0.9820"
          ],
          "name": "stdout"
        },
        {
          "output_type": "stream",
          "text": [
            "91759/91759 [==============================] - 2s 23us/step - loss: 0.0431 - acc: 0.9832 - val_loss: 0.0420 - val_acc: 0.9834\n",
            "Epoch 30/500\n",
            "91759/91759 [==============================] - 2s 23us/step - loss: 0.0430 - acc: 0.9831 - val_loss: 0.0419 - val_acc: 0.9834\n",
            "Epoch 31/500\n",
            "91759/91759 [==============================] - 2s 23us/step - loss: 0.0428 - acc: 0.9831 - val_loss: 0.0418 - val_acc: 0.9834\n",
            "Epoch 32/500\n",
            "91759/91759 [==============================] - 2s 23us/step - loss: 0.0427 - acc: 0.9831 - val_loss: 0.0417 - val_acc: 0.9834\n",
            "Epoch 33/500\n",
            "91759/91759 [==============================] - 2s 23us/step - loss: 0.0426 - acc: 0.9831 - val_loss: 0.0417 - val_acc: 0.9834\n",
            "Epoch 34/500\n",
            "91759/91759 [==============================] - 2s 23us/step - loss: 0.0425 - acc: 0.9831 - val_loss: 0.0417 - val_acc: 0.9834\n",
            "Epoch 35/500\n",
            "25200/91759 [=======>......................] - ETA: 1s - loss: 0.0454 - acc: 0.9819"
          ],
          "name": "stdout"
        },
        {
          "output_type": "stream",
          "text": [
            "91759/91759 [==============================] - 2s 23us/step - loss: 0.0424 - acc: 0.9831 - val_loss: 0.0415 - val_acc: 0.9834\n",
            "Epoch 36/500\n",
            "91759/91759 [==============================] - 2s 23us/step - loss: 0.0424 - acc: 0.9831 - val_loss: 0.0415 - val_acc: 0.9834\n",
            "Epoch 37/500\n",
            "91759/91759 [==============================] - 2s 23us/step - loss: 0.0423 - acc: 0.9832 - val_loss: 0.0414 - val_acc: 0.9835\n",
            "Epoch 38/500\n",
            "91759/91759 [==============================] - 2s 22us/step - loss: 0.0422 - acc: 0.9832 - val_loss: 0.0412 - val_acc: 0.9835\n",
            "Epoch 39/500\n",
            "91759/91759 [==============================] - 2s 23us/step - loss: 0.0421 - acc: 0.9832 - val_loss: 0.0412 - val_acc: 0.9835\n",
            "Epoch 40/500\n",
            "91759/91759 [==============================] - 2s 23us/step - loss: 0.0421 - acc: 0.9832 - val_loss: 0.0411 - val_acc: 0.9835\n",
            "Epoch 41/500\n",
            "24000/91759 [======>.......................] - ETA: 1s - loss: 0.0425 - acc: 0.9830"
          ],
          "name": "stdout"
        },
        {
          "output_type": "stream",
          "text": [
            "91759/91759 [==============================] - 2s 23us/step - loss: 0.0420 - acc: 0.9832 - val_loss: 0.0411 - val_acc: 0.9835\n",
            "Epoch 42/500\n",
            "91759/91759 [==============================] - 2s 23us/step - loss: 0.0419 - acc: 0.9832 - val_loss: 0.0410 - val_acc: 0.9835\n",
            "Epoch 43/500\n",
            "91759/91759 [==============================] - 2s 23us/step - loss: 0.0419 - acc: 0.9832 - val_loss: 0.0410 - val_acc: 0.9835\n",
            "Epoch 44/500\n",
            "91759/91759 [==============================] - 2s 23us/step - loss: 0.0418 - acc: 0.9832 - val_loss: 0.0409 - val_acc: 0.9835\n",
            "Epoch 45/500\n",
            "91759/91759 [==============================] - 2s 23us/step - loss: 0.0418 - acc: 0.9832 - val_loss: 0.0408 - val_acc: 0.9835\n",
            "Epoch 46/500\n",
            "91759/91759 [==============================] - 2s 23us/step - loss: 0.0417 - acc: 0.9832 - val_loss: 0.0408 - val_acc: 0.9835\n",
            "Epoch 47/500\n",
            "24800/91759 [=======>......................] - ETA: 1s - loss: 0.0404 - acc: 0.9846"
          ],
          "name": "stdout"
        },
        {
          "output_type": "stream",
          "text": [
            "91759/91759 [==============================] - 2s 23us/step - loss: 0.0417 - acc: 0.9832 - val_loss: 0.0407 - val_acc: 0.9835\n",
            "Epoch 48/500\n",
            "91759/91759 [==============================] - 2s 23us/step - loss: 0.0416 - acc: 0.9832 - val_loss: 0.0407 - val_acc: 0.9835\n",
            "Epoch 49/500\n",
            "91759/91759 [==============================] - 2s 23us/step - loss: 0.0416 - acc: 0.9832 - val_loss: 0.0406 - val_acc: 0.9835\n",
            "Epoch 50/500\n",
            "91759/91759 [==============================] - 2s 23us/step - loss: 0.0415 - acc: 0.9832 - val_loss: 0.0406 - val_acc: 0.9835\n",
            "Epoch 51/500\n",
            "91759/91759 [==============================] - 2s 23us/step - loss: 0.0415 - acc: 0.9832 - val_loss: 0.0406 - val_acc: 0.9835\n",
            "Epoch 52/500\n",
            "91759/91759 [==============================] - 2s 23us/step - loss: 0.0414 - acc: 0.9832 - val_loss: 0.0405 - val_acc: 0.9835\n",
            "Epoch 53/500\n",
            "21600/91759 [======>.......................] - ETA: 1s - loss: 0.0411 - acc: 0.9829"
          ],
          "name": "stdout"
        },
        {
          "output_type": "stream",
          "text": [
            "91759/91759 [==============================] - 2s 23us/step - loss: 0.0414 - acc: 0.9832 - val_loss: 0.0405 - val_acc: 0.9835\n",
            "Epoch 54/500\n",
            "91759/91759 [==============================] - 2s 23us/step - loss: 0.0413 - acc: 0.9832 - val_loss: 0.0404 - val_acc: 0.9835\n",
            "Epoch 55/500\n",
            "91759/91759 [==============================] - 2s 23us/step - loss: 0.0413 - acc: 0.9832 - val_loss: 0.0404 - val_acc: 0.9835\n",
            "Epoch 56/500\n",
            "91759/91759 [==============================] - 2s 23us/step - loss: 0.0413 - acc: 0.9833 - val_loss: 0.0403 - val_acc: 0.9835\n",
            "Epoch 57/500\n",
            "91759/91759 [==============================] - 2s 23us/step - loss: 0.0412 - acc: 0.9833 - val_loss: 0.0404 - val_acc: 0.9839\n",
            "Epoch 58/500\n",
            "91759/91759 [==============================] - 2s 23us/step - loss: 0.0412 - acc: 0.9834 - val_loss: 0.0403 - val_acc: 0.9839\n",
            "Epoch 59/500\n",
            "21200/91759 [=====>........................] - ETA: 1s - loss: 0.0410 - acc: 0.9830"
          ],
          "name": "stdout"
        },
        {
          "output_type": "stream",
          "text": [
            "91759/91759 [==============================] - 2s 23us/step - loss: 0.0412 - acc: 0.9836 - val_loss: 0.0403 - val_acc: 0.9840\n",
            "Epoch 60/500\n",
            "91759/91759 [==============================] - 2s 23us/step - loss: 0.0412 - acc: 0.9836 - val_loss: 0.0402 - val_acc: 0.9839\n",
            "Epoch 61/500\n",
            "91759/91759 [==============================] - 2s 23us/step - loss: 0.0411 - acc: 0.9836 - val_loss: 0.0402 - val_acc: 0.9840\n",
            "Epoch 62/500\n",
            "91759/91759 [==============================] - 2s 23us/step - loss: 0.0411 - acc: 0.9837 - val_loss: 0.0402 - val_acc: 0.9840\n",
            "Epoch 63/500\n",
            "91759/91759 [==============================] - 2s 23us/step - loss: 0.0411 - acc: 0.9837 - val_loss: 0.0401 - val_acc: 0.9840\n",
            "Epoch 64/500\n",
            "91759/91759 [==============================] - 2s 23us/step - loss: 0.0410 - acc: 0.9837 - val_loss: 0.0401 - val_acc: 0.9840\n",
            "Epoch 65/500\n",
            "22000/91759 [======>.......................] - ETA: 1s - loss: 0.0394 - acc: 0.9843"
          ],
          "name": "stdout"
        },
        {
          "output_type": "stream",
          "text": [
            "91759/91759 [==============================] - 2s 23us/step - loss: 0.0410 - acc: 0.9837 - val_loss: 0.0401 - val_acc: 0.9840\n",
            "Epoch 66/500\n",
            "91759/91759 [==============================] - 2s 23us/step - loss: 0.0410 - acc: 0.9837 - val_loss: 0.0401 - val_acc: 0.9840\n",
            "Epoch 67/500\n",
            "91759/91759 [==============================] - 2s 23us/step - loss: 0.0409 - acc: 0.9837 - val_loss: 0.0400 - val_acc: 0.9840\n",
            "Epoch 68/500\n",
            "91759/91759 [==============================] - 2s 23us/step - loss: 0.0409 - acc: 0.9837 - val_loss: 0.0400 - val_acc: 0.9840\n",
            "Epoch 69/500\n",
            "91759/91759 [==============================] - 2s 23us/step - loss: 0.0409 - acc: 0.9837 - val_loss: 0.0400 - val_acc: 0.9840\n",
            "Epoch 70/500\n",
            "91759/91759 [==============================] - 2s 23us/step - loss: 0.0409 - acc: 0.9837 - val_loss: 0.0400 - val_acc: 0.9840\n",
            "Epoch 71/500\n",
            "25200/91759 [=======>......................] - ETA: 1s - loss: 0.0425 - acc: 0.9823"
          ],
          "name": "stdout"
        },
        {
          "output_type": "stream",
          "text": [
            "91759/91759 [==============================] - 2s 23us/step - loss: 0.0408 - acc: 0.9837 - val_loss: 0.0399 - val_acc: 0.9840\n",
            "Epoch 72/500\n",
            "91759/91759 [==============================] - 2s 23us/step - loss: 0.0408 - acc: 0.9837 - val_loss: 0.0399 - val_acc: 0.9840\n",
            "Epoch 73/500\n",
            "91759/91759 [==============================] - 2s 23us/step - loss: 0.0408 - acc: 0.9837 - val_loss: 0.0399 - val_acc: 0.9840\n",
            "Epoch 74/500\n",
            "91759/91759 [==============================] - 2s 23us/step - loss: 0.0408 - acc: 0.9837 - val_loss: 0.0399 - val_acc: 0.9840\n",
            "Epoch 75/500\n",
            "91759/91759 [==============================] - 2s 23us/step - loss: 0.0407 - acc: 0.9837 - val_loss: 0.0398 - val_acc: 0.9840\n",
            "Epoch 76/500\n",
            "91759/91759 [==============================] - 2s 23us/step - loss: 0.0407 - acc: 0.9837 - val_loss: 0.0398 - val_acc: 0.9840\n",
            "Epoch 77/500\n",
            "24800/91759 [=======>......................] - ETA: 1s - loss: 0.0406 - acc: 0.9833"
          ],
          "name": "stdout"
        },
        {
          "output_type": "stream",
          "text": [
            "91759/91759 [==============================] - 2s 23us/step - loss: 0.0407 - acc: 0.9837 - val_loss: 0.0398 - val_acc: 0.9840\n",
            "Epoch 78/500\n",
            "91759/91759 [==============================] - 2s 23us/step - loss: 0.0407 - acc: 0.9838 - val_loss: 0.0398 - val_acc: 0.9840\n",
            "Epoch 79/500\n",
            "91759/91759 [==============================] - 2s 23us/step - loss: 0.0407 - acc: 0.9838 - val_loss: 0.0398 - val_acc: 0.9842\n",
            "Epoch 80/500\n",
            "91759/91759 [==============================] - 2s 23us/step - loss: 0.0407 - acc: 0.9838 - val_loss: 0.0398 - val_acc: 0.9842\n",
            "Epoch 81/500\n",
            "91759/91759 [==============================] - 2s 23us/step - loss: 0.0406 - acc: 0.9838 - val_loss: 0.0398 - val_acc: 0.9841\n",
            "Epoch 82/500\n",
            "91759/91759 [==============================] - 2s 22us/step - loss: 0.0406 - acc: 0.9838 - val_loss: 0.0397 - val_acc: 0.9842\n",
            "Epoch 83/500\n",
            "22000/91759 [======>.......................] - ETA: 1s - loss: 0.0394 - acc: 0.9840"
          ],
          "name": "stdout"
        },
        {
          "output_type": "stream",
          "text": [
            "91759/91759 [==============================] - 2s 23us/step - loss: 0.0406 - acc: 0.9838 - val_loss: 0.0397 - val_acc: 0.9842\n",
            "Epoch 84/500\n",
            "91759/91759 [==============================] - 2s 23us/step - loss: 0.0406 - acc: 0.9838 - val_loss: 0.0397 - val_acc: 0.9841\n",
            "Epoch 85/500\n",
            "91759/91759 [==============================] - 2s 23us/step - loss: 0.0406 - acc: 0.9838 - val_loss: 0.0397 - val_acc: 0.9841\n",
            "Epoch 86/500\n",
            "91759/91759 [==============================] - 2s 23us/step - loss: 0.0406 - acc: 0.9838 - val_loss: 0.0397 - val_acc: 0.9841\n",
            "Epoch 87/500\n",
            "91759/91759 [==============================] - 2s 23us/step - loss: 0.0405 - acc: 0.9838 - val_loss: 0.0396 - val_acc: 0.9841\n",
            "Epoch 88/500\n",
            "91759/91759 [==============================] - 2s 23us/step - loss: 0.0405 - acc: 0.9838 - val_loss: 0.0396 - val_acc: 0.9841\n",
            "Epoch 89/500\n",
            "25200/91759 [=======>......................] - ETA: 1s - loss: 0.0399 - acc: 0.9848"
          ],
          "name": "stdout"
        },
        {
          "output_type": "stream",
          "text": [
            "91759/91759 [==============================] - 2s 23us/step - loss: 0.0405 - acc: 0.9838 - val_loss: 0.0396 - val_acc: 0.9842\n",
            "Epoch 90/500\n",
            "91759/91759 [==============================] - 2s 23us/step - loss: 0.0405 - acc: 0.9839 - val_loss: 0.0396 - val_acc: 0.9841\n",
            "Epoch 91/500\n",
            "91759/91759 [==============================] - 2s 23us/step - loss: 0.0405 - acc: 0.9838 - val_loss: 0.0396 - val_acc: 0.9841\n",
            "Epoch 92/500\n",
            "91759/91759 [==============================] - 2s 23us/step - loss: 0.0405 - acc: 0.9838 - val_loss: 0.0396 - val_acc: 0.9842\n",
            "Epoch 93/500\n",
            "91759/91759 [==============================] - 2s 23us/step - loss: 0.0404 - acc: 0.9839 - val_loss: 0.0396 - val_acc: 0.9842\n",
            "Epoch 94/500\n",
            "91759/91759 [==============================] - 2s 23us/step - loss: 0.0404 - acc: 0.9838 - val_loss: 0.0396 - val_acc: 0.9842\n",
            "Epoch 95/500\n",
            "22000/91759 [======>.......................] - ETA: 1s - loss: 0.0394 - acc: 0.9840"
          ],
          "name": "stdout"
        },
        {
          "output_type": "stream",
          "text": [
            "91759/91759 [==============================] - 2s 23us/step - loss: 0.0404 - acc: 0.9839 - val_loss: 0.0395 - val_acc: 0.9842\n",
            "Epoch 96/500\n",
            "91759/91759 [==============================] - 2s 23us/step - loss: 0.0404 - acc: 0.9839 - val_loss: 0.0395 - val_acc: 0.9843\n",
            "Epoch 97/500\n",
            "91759/91759 [==============================] - 2s 23us/step - loss: 0.0404 - acc: 0.9839 - val_loss: 0.0395 - val_acc: 0.9843\n",
            "Epoch 98/500\n",
            "91759/91759 [==============================] - 2s 23us/step - loss: 0.0404 - acc: 0.9839 - val_loss: 0.0395 - val_acc: 0.9843\n",
            "Epoch 99/500\n",
            "91759/91759 [==============================] - 2s 23us/step - loss: 0.0404 - acc: 0.9839 - val_loss: 0.0395 - val_acc: 0.9842\n",
            "Epoch 100/500\n",
            "91759/91759 [==============================] - 2s 23us/step - loss: 0.0403 - acc: 0.9839 - val_loss: 0.0395 - val_acc: 0.9843\n",
            "Epoch 101/500\n",
            "24400/91759 [======>.......................] - ETA: 1s - loss: 0.0367 - acc: 0.9850"
          ],
          "name": "stdout"
        },
        {
          "output_type": "stream",
          "text": [
            "91759/91759 [==============================] - 2s 23us/step - loss: 0.0403 - acc: 0.9839 - val_loss: 0.0395 - val_acc: 0.9843\n",
            "Epoch 102/500\n",
            "91759/91759 [==============================] - 2s 23us/step - loss: 0.0403 - acc: 0.9839 - val_loss: 0.0395 - val_acc: 0.9843\n",
            "Epoch 103/500\n",
            "91759/91759 [==============================] - 2s 23us/step - loss: 0.0403 - acc: 0.9839 - val_loss: 0.0395 - val_acc: 0.9843\n",
            "Epoch 104/500\n",
            "91759/91759 [==============================] - 2s 23us/step - loss: 0.0403 - acc: 0.9839 - val_loss: 0.0394 - val_acc: 0.9843\n",
            "Epoch 105/500\n",
            "91759/91759 [==============================] - 2s 23us/step - loss: 0.0402 - acc: 0.9840 - val_loss: 0.0394 - val_acc: 0.9843\n",
            "Epoch 106/500\n",
            "91759/91759 [==============================] - 2s 23us/step - loss: 0.0402 - acc: 0.9840 - val_loss: 0.0394 - val_acc: 0.9843\n",
            "Epoch 107/500\n",
            "22000/91759 [======>.......................] - ETA: 1s - loss: 0.0400 - acc: 0.9840"
          ],
          "name": "stdout"
        },
        {
          "output_type": "stream",
          "text": [
            "91759/91759 [==============================] - 2s 23us/step - loss: 0.0402 - acc: 0.9840 - val_loss: 0.0394 - val_acc: 0.9843\n",
            "Epoch 108/500\n",
            "91759/91759 [==============================] - 2s 23us/step - loss: 0.0402 - acc: 0.9840 - val_loss: 0.0394 - val_acc: 0.9843\n",
            "Epoch 109/500\n",
            "91759/91759 [==============================] - 2s 22us/step - loss: 0.0402 - acc: 0.9840 - val_loss: 0.0394 - val_acc: 0.9843\n",
            "Epoch 110/500\n",
            "91759/91759 [==============================] - 2s 23us/step - loss: 0.0402 - acc: 0.9840 - val_loss: 0.0394 - val_acc: 0.9843\n",
            "Epoch 111/500\n",
            "91759/91759 [==============================] - 2s 23us/step - loss: 0.0402 - acc: 0.9839 - val_loss: 0.0394 - val_acc: 0.9843\n",
            "Epoch 112/500\n",
            "91759/91759 [==============================] - 2s 23us/step - loss: 0.0402 - acc: 0.9840 - val_loss: 0.0394 - val_acc: 0.9843\n",
            "Epoch 113/500\n",
            "24400/91759 [======>.......................] - ETA: 1s - loss: 0.0397 - acc: 0.9843"
          ],
          "name": "stdout"
        },
        {
          "output_type": "stream",
          "text": [
            "91759/91759 [==============================] - 2s 23us/step - loss: 0.0401 - acc: 0.9840 - val_loss: 0.0394 - val_acc: 0.9843\n",
            "Epoch 114/500\n",
            "91759/91759 [==============================] - 2s 23us/step - loss: 0.0401 - acc: 0.9839 - val_loss: 0.0393 - val_acc: 0.9842\n",
            "Epoch 115/500\n",
            "91759/91759 [==============================] - 2s 23us/step - loss: 0.0401 - acc: 0.9839 - val_loss: 0.0393 - val_acc: 0.9843\n",
            "Epoch 116/500\n",
            "91759/91759 [==============================] - 2s 23us/step - loss: 0.0401 - acc: 0.9840 - val_loss: 0.0393 - val_acc: 0.9843\n",
            "Epoch 117/500\n",
            "91759/91759 [==============================] - 2s 23us/step - loss: 0.0401 - acc: 0.9839 - val_loss: 0.0393 - val_acc: 0.9843\n",
            "Epoch 118/500\n",
            "91759/91759 [==============================] - 2s 23us/step - loss: 0.0401 - acc: 0.9839 - val_loss: 0.0393 - val_acc: 0.9842\n",
            "Epoch 119/500\n",
            "24800/91759 [=======>......................] - ETA: 1s - loss: 0.0402 - acc: 0.9840"
          ],
          "name": "stdout"
        },
        {
          "output_type": "stream",
          "text": [
            "91759/91759 [==============================] - 2s 23us/step - loss: 0.0401 - acc: 0.9839 - val_loss: 0.0393 - val_acc: 0.9843\n",
            "Epoch 120/500\n",
            "91759/91759 [==============================] - 2s 23us/step - loss: 0.0401 - acc: 0.9839 - val_loss: 0.0393 - val_acc: 0.9843\n",
            "Epoch 121/500\n",
            "91759/91759 [==============================] - 2s 23us/step - loss: 0.0401 - acc: 0.9840 - val_loss: 0.0393 - val_acc: 0.9842\n",
            "Epoch 122/500\n",
            "91759/91759 [==============================] - 2s 23us/step - loss: 0.0401 - acc: 0.9839 - val_loss: 0.0393 - val_acc: 0.9842\n",
            "Epoch 123/500\n",
            "91759/91759 [==============================] - 2s 23us/step - loss: 0.0400 - acc: 0.9839 - val_loss: 0.0393 - val_acc: 0.9842\n",
            "Epoch 124/500\n",
            "91759/91759 [==============================] - 2s 23us/step - loss: 0.0400 - acc: 0.9840 - val_loss: 0.0393 - val_acc: 0.9843\n",
            "Epoch 125/500\n",
            "21600/91759 [======>.......................] - ETA: 1s - loss: 0.0399 - acc: 0.9841"
          ],
          "name": "stdout"
        },
        {
          "output_type": "stream",
          "text": [
            "91759/91759 [==============================] - 2s 23us/step - loss: 0.0400 - acc: 0.9840 - val_loss: 0.0393 - val_acc: 0.9842\n",
            "Epoch 126/500\n",
            "91759/91759 [==============================] - 2s 23us/step - loss: 0.0400 - acc: 0.9839 - val_loss: 0.0392 - val_acc: 0.9842\n",
            "Epoch 127/500\n",
            "91759/91759 [==============================] - 2s 23us/step - loss: 0.0400 - acc: 0.9840 - val_loss: 0.0392 - val_acc: 0.9843\n",
            "Epoch 128/500\n",
            "91759/91759 [==============================] - 2s 23us/step - loss: 0.0400 - acc: 0.9839 - val_loss: 0.0392 - val_acc: 0.9843\n",
            "Epoch 129/500\n",
            "91759/91759 [==============================] - 2s 23us/step - loss: 0.0400 - acc: 0.9840 - val_loss: 0.0392 - val_acc: 0.9842\n",
            "Epoch 130/500\n",
            "91759/91759 [==============================] - 2s 23us/step - loss: 0.0400 - acc: 0.9839 - val_loss: 0.0392 - val_acc: 0.9842\n",
            "Epoch 131/500\n",
            "24800/91759 [=======>......................] - ETA: 1s - loss: 0.0401 - acc: 0.9837"
          ],
          "name": "stdout"
        },
        {
          "output_type": "stream",
          "text": [
            "91759/91759 [==============================] - 2s 23us/step - loss: 0.0400 - acc: 0.9839 - val_loss: 0.0392 - val_acc: 0.9842\n",
            "Epoch 132/500\n",
            "91759/91759 [==============================] - 2s 23us/step - loss: 0.0400 - acc: 0.9839 - val_loss: 0.0392 - val_acc: 0.9842\n",
            "Epoch 133/500\n",
            "91759/91759 [==============================] - 2s 22us/step - loss: 0.0400 - acc: 0.9839 - val_loss: 0.0392 - val_acc: 0.9843\n",
            "Epoch 134/500\n",
            "91759/91759 [==============================] - 2s 23us/step - loss: 0.0400 - acc: 0.9839 - val_loss: 0.0392 - val_acc: 0.9843\n",
            "Epoch 135/500\n",
            "91759/91759 [==============================] - 2s 23us/step - loss: 0.0399 - acc: 0.9839 - val_loss: 0.0392 - val_acc: 0.9842\n",
            "Epoch 136/500\n",
            "91759/91759 [==============================] - 2s 23us/step - loss: 0.0399 - acc: 0.9840 - val_loss: 0.0392 - val_acc: 0.9842\n",
            "Epoch 137/500\n",
            "23600/91759 [======>.......................] - ETA: 1s - loss: 0.0406 - acc: 0.9842"
          ],
          "name": "stdout"
        },
        {
          "output_type": "stream",
          "text": [
            "91759/91759 [==============================] - 2s 23us/step - loss: 0.0399 - acc: 0.9839 - val_loss: 0.0392 - val_acc: 0.9843\n",
            "Epoch 138/500\n",
            "91759/91759 [==============================] - 2s 23us/step - loss: 0.0399 - acc: 0.9840 - val_loss: 0.0391 - val_acc: 0.9843\n",
            "Epoch 139/500\n",
            "91759/91759 [==============================] - 2s 23us/step - loss: 0.0399 - acc: 0.9840 - val_loss: 0.0391 - val_acc: 0.9843\n",
            "Epoch 140/500\n",
            "91759/91759 [==============================] - 2s 23us/step - loss: 0.0399 - acc: 0.9839 - val_loss: 0.0391 - val_acc: 0.9843\n",
            "Epoch 141/500\n",
            "91759/91759 [==============================] - 2s 22us/step - loss: 0.0399 - acc: 0.9839 - val_loss: 0.0391 - val_acc: 0.9843\n",
            "Epoch 142/500\n",
            "91759/91759 [==============================] - 2s 23us/step - loss: 0.0399 - acc: 0.9839 - val_loss: 0.0391 - val_acc: 0.9843\n",
            "Epoch 143/500\n",
            "22000/91759 [======>.......................] - ETA: 1s - loss: 0.0399 - acc: 0.9838"
          ],
          "name": "stdout"
        },
        {
          "output_type": "stream",
          "text": [
            "91759/91759 [==============================] - 2s 23us/step - loss: 0.0399 - acc: 0.9839 - val_loss: 0.0391 - val_acc: 0.9842\n",
            "Epoch 144/500\n",
            "91759/91759 [==============================] - 2s 23us/step - loss: 0.0399 - acc: 0.9840 - val_loss: 0.0391 - val_acc: 0.9843\n",
            "Epoch 145/500\n",
            "91759/91759 [==============================] - 2s 23us/step - loss: 0.0399 - acc: 0.9839 - val_loss: 0.0391 - val_acc: 0.9843\n",
            "Epoch 146/500\n",
            "91759/91759 [==============================] - 2s 23us/step - loss: 0.0398 - acc: 0.9839 - val_loss: 0.0391 - val_acc: 0.9843\n",
            "Epoch 147/500\n",
            "91759/91759 [==============================] - 2s 23us/step - loss: 0.0398 - acc: 0.9840 - val_loss: 0.0391 - val_acc: 0.9843\n",
            "Epoch 148/500\n",
            "91759/91759 [==============================] - 2s 23us/step - loss: 0.0398 - acc: 0.9840 - val_loss: 0.0391 - val_acc: 0.9843\n",
            "Epoch 149/500\n",
            "21600/91759 [======>.......................] - ETA: 1s - loss: 0.0409 - acc: 0.9831"
          ],
          "name": "stdout"
        },
        {
          "output_type": "stream",
          "text": [
            "91759/91759 [==============================] - 2s 23us/step - loss: 0.0398 - acc: 0.9839 - val_loss: 0.0391 - val_acc: 0.9843\n",
            "Epoch 150/500\n",
            "91759/91759 [==============================] - 2s 23us/step - loss: 0.0398 - acc: 0.9839 - val_loss: 0.0391 - val_acc: 0.9843\n",
            "Epoch 151/500\n",
            "91759/91759 [==============================] - 2s 23us/step - loss: 0.0398 - acc: 0.9839 - val_loss: 0.0391 - val_acc: 0.9843\n",
            "Epoch 152/500\n",
            "91759/91759 [==============================] - 2s 22us/step - loss: 0.0398 - acc: 0.9839 - val_loss: 0.0390 - val_acc: 0.9843\n",
            "Epoch 153/500\n",
            "91759/91759 [==============================] - 2s 23us/step - loss: 0.0398 - acc: 0.9839 - val_loss: 0.0390 - val_acc: 0.9843\n",
            "Epoch 154/500\n",
            "91759/91759 [==============================] - 2s 23us/step - loss: 0.0398 - acc: 0.9839 - val_loss: 0.0390 - val_acc: 0.9843\n",
            "Epoch 155/500\n",
            "22800/91759 [======>.......................] - ETA: 1s - loss: 0.0392 - acc: 0.9835"
          ],
          "name": "stdout"
        },
        {
          "output_type": "stream",
          "text": [
            "91759/91759 [==============================] - 2s 23us/step - loss: 0.0398 - acc: 0.9839 - val_loss: 0.0390 - val_acc: 0.9843\n",
            "Epoch 156/500\n",
            "91759/91759 [==============================] - 2s 23us/step - loss: 0.0398 - acc: 0.9839 - val_loss: 0.0390 - val_acc: 0.9843\n",
            "Epoch 157/500\n",
            "91759/91759 [==============================] - 2s 23us/step - loss: 0.0398 - acc: 0.9839 - val_loss: 0.0390 - val_acc: 0.9843\n",
            "Epoch 158/500\n",
            "91759/91759 [==============================] - 2s 23us/step - loss: 0.0398 - acc: 0.9839 - val_loss: 0.0390 - val_acc: 0.9843\n",
            "Epoch 159/500\n",
            "91759/91759 [==============================] - 2s 23us/step - loss: 0.0398 - acc: 0.9839 - val_loss: 0.0390 - val_acc: 0.9843\n",
            "Epoch 160/500\n",
            "91759/91759 [==============================] - 2s 23us/step - loss: 0.0398 - acc: 0.9839 - val_loss: 0.0390 - val_acc: 0.9843\n",
            "Epoch 161/500\n",
            "24800/91759 [=======>......................] - ETA: 1s - loss: 0.0395 - acc: 0.9842"
          ],
          "name": "stdout"
        },
        {
          "output_type": "stream",
          "text": [
            "91759/91759 [==============================] - 2s 23us/step - loss: 0.0397 - acc: 0.9839 - val_loss: 0.0390 - val_acc: 0.9843\n",
            "Epoch 162/500\n",
            "91759/91759 [==============================] - 2s 23us/step - loss: 0.0397 - acc: 0.9839 - val_loss: 0.0390 - val_acc: 0.9843\n",
            "Epoch 163/500\n",
            "91759/91759 [==============================] - 2s 23us/step - loss: 0.0397 - acc: 0.9839 - val_loss: 0.0390 - val_acc: 0.9843\n",
            "Epoch 164/500\n",
            "91759/91759 [==============================] - 2s 23us/step - loss: 0.0397 - acc: 0.9839 - val_loss: 0.0390 - val_acc: 0.9843\n",
            "Epoch 165/500\n",
            "91759/91759 [==============================] - 2s 23us/step - loss: 0.0397 - acc: 0.9839 - val_loss: 0.0390 - val_acc: 0.9843\n",
            "Epoch 166/500\n",
            "91759/91759 [==============================] - 2s 23us/step - loss: 0.0397 - acc: 0.9839 - val_loss: 0.0390 - val_acc: 0.9843\n",
            "Epoch 167/500\n",
            "24800/91759 [=======>......................] - ETA: 1s - loss: 0.0364 - acc: 0.9852"
          ],
          "name": "stdout"
        },
        {
          "output_type": "stream",
          "text": [
            "91759/91759 [==============================] - 2s 23us/step - loss: 0.0397 - acc: 0.9839 - val_loss: 0.0390 - val_acc: 0.9843\n",
            "Epoch 168/500\n",
            "91759/91759 [==============================] - 2s 23us/step - loss: 0.0397 - acc: 0.9839 - val_loss: 0.0390 - val_acc: 0.9843\n",
            "Epoch 169/500\n",
            "91759/91759 [==============================] - 2s 23us/step - loss: 0.0397 - acc: 0.9839 - val_loss: 0.0390 - val_acc: 0.9843\n",
            "Epoch 170/500\n",
            "91759/91759 [==============================] - 2s 23us/step - loss: 0.0397 - acc: 0.9839 - val_loss: 0.0390 - val_acc: 0.9843\n",
            "Epoch 171/500\n",
            "91759/91759 [==============================] - 2s 23us/step - loss: 0.0397 - acc: 0.9839 - val_loss: 0.0389 - val_acc: 0.9843\n",
            "Epoch 172/500\n",
            "91759/91759 [==============================] - 2s 23us/step - loss: 0.0397 - acc: 0.9839 - val_loss: 0.0389 - val_acc: 0.9843\n",
            "Epoch 173/500\n",
            "21200/91759 [=====>........................] - ETA: 1s - loss: 0.0369 - acc: 0.9847"
          ],
          "name": "stdout"
        },
        {
          "output_type": "stream",
          "text": [
            "91759/91759 [==============================] - 2s 23us/step - loss: 0.0397 - acc: 0.9839 - val_loss: 0.0389 - val_acc: 0.9843\n",
            "Epoch 174/500\n",
            "91759/91759 [==============================] - 2s 23us/step - loss: 0.0397 - acc: 0.9839 - val_loss: 0.0389 - val_acc: 0.9843\n",
            "Epoch 175/500\n",
            "91759/91759 [==============================] - 2s 23us/step - loss: 0.0397 - acc: 0.9839 - val_loss: 0.0389 - val_acc: 0.9843\n",
            "Epoch 176/500\n",
            "91759/91759 [==============================] - 2s 23us/step - loss: 0.0397 - acc: 0.9839 - val_loss: 0.0389 - val_acc: 0.9843\n",
            "Epoch 177/500\n",
            "91759/91759 [==============================] - 2s 23us/step - loss: 0.0396 - acc: 0.9839 - val_loss: 0.0389 - val_acc: 0.9843\n",
            "Epoch 178/500\n",
            "91759/91759 [==============================] - 2s 23us/step - loss: 0.0396 - acc: 0.9839 - val_loss: 0.0389 - val_acc: 0.9843\n",
            "Epoch 179/500\n",
            "22400/91759 [======>.......................] - ETA: 1s - loss: 0.0420 - acc: 0.9838"
          ],
          "name": "stdout"
        },
        {
          "output_type": "stream",
          "text": [
            "91759/91759 [==============================] - 2s 23us/step - loss: 0.0396 - acc: 0.9839 - val_loss: 0.0389 - val_acc: 0.9843\n",
            "Epoch 180/500\n",
            "91759/91759 [==============================] - 2s 23us/step - loss: 0.0396 - acc: 0.9839 - val_loss: 0.0389 - val_acc: 0.9843\n",
            "Epoch 181/500\n",
            "91759/91759 [==============================] - 2s 23us/step - loss: 0.0396 - acc: 0.9839 - val_loss: 0.0389 - val_acc: 0.9843\n",
            "Epoch 182/500\n",
            "91759/91759 [==============================] - 2s 23us/step - loss: 0.0396 - acc: 0.9839 - val_loss: 0.0389 - val_acc: 0.9843\n",
            "Epoch 183/500\n",
            "91759/91759 [==============================] - 2s 23us/step - loss: 0.0396 - acc: 0.9839 - val_loss: 0.0389 - val_acc: 0.9843\n",
            "Epoch 184/500\n",
            "91759/91759 [==============================] - 2s 23us/step - loss: 0.0396 - acc: 0.9839 - val_loss: 0.0389 - val_acc: 0.9843\n",
            "Epoch 185/500\n",
            "24800/91759 [=======>......................] - ETA: 1s - loss: 0.0385 - acc: 0.9841"
          ],
          "name": "stdout"
        },
        {
          "output_type": "stream",
          "text": [
            "91759/91759 [==============================] - 2s 23us/step - loss: 0.0396 - acc: 0.9839 - val_loss: 0.0389 - val_acc: 0.9843\n",
            "Epoch 186/500\n",
            "91759/91759 [==============================] - 2s 23us/step - loss: 0.0396 - acc: 0.9839 - val_loss: 0.0389 - val_acc: 0.9843\n",
            "Epoch 187/500\n",
            "91759/91759 [==============================] - 2s 23us/step - loss: 0.0396 - acc: 0.9839 - val_loss: 0.0389 - val_acc: 0.9843\n",
            "Epoch 188/500\n",
            "91759/91759 [==============================] - 2s 23us/step - loss: 0.0396 - acc: 0.9839 - val_loss: 0.0389 - val_acc: 0.9843\n",
            "Epoch 189/500\n",
            "91759/91759 [==============================] - 2s 23us/step - loss: 0.0396 - acc: 0.9839 - val_loss: 0.0389 - val_acc: 0.9843\n",
            "Epoch 190/500\n",
            "91759/91759 [==============================] - 2s 23us/step - loss: 0.0396 - acc: 0.9839 - val_loss: 0.0389 - val_acc: 0.9843\n",
            "Epoch 191/500\n",
            "24800/91759 [=======>......................] - ETA: 1s - loss: 0.0388 - acc: 0.9844"
          ],
          "name": "stdout"
        },
        {
          "output_type": "stream",
          "text": [
            "91759/91759 [==============================] - 2s 23us/step - loss: 0.0396 - acc: 0.9839 - val_loss: 0.0388 - val_acc: 0.9843\n",
            "Epoch 192/500\n",
            "91759/91759 [==============================] - 2s 23us/step - loss: 0.0396 - acc: 0.9839 - val_loss: 0.0389 - val_acc: 0.9843\n",
            "Epoch 193/500\n",
            "91759/91759 [==============================] - 2s 23us/step - loss: 0.0396 - acc: 0.9839 - val_loss: 0.0388 - val_acc: 0.9843\n",
            "Epoch 194/500\n",
            "91759/91759 [==============================] - 2s 23us/step - loss: 0.0396 - acc: 0.9839 - val_loss: 0.0388 - val_acc: 0.9843\n",
            "Epoch 195/500\n",
            "91759/91759 [==============================] - 2s 23us/step - loss: 0.0395 - acc: 0.9839 - val_loss: 0.0388 - val_acc: 0.9843\n",
            "Epoch 196/500\n",
            "91759/91759 [==============================] - 2s 23us/step - loss: 0.0395 - acc: 0.9839 - val_loss: 0.0388 - val_acc: 0.9843\n",
            "Epoch 197/500\n",
            "19200/91759 [=====>........................] - ETA: 1s - loss: 0.0427 - acc: 0.9831"
          ],
          "name": "stdout"
        },
        {
          "output_type": "stream",
          "text": [
            "91759/91759 [==============================] - 2s 23us/step - loss: 0.0395 - acc: 0.9839 - val_loss: 0.0388 - val_acc: 0.9843\n",
            "Epoch 198/500\n",
            "91759/91759 [==============================] - 2s 23us/step - loss: 0.0395 - acc: 0.9839 - val_loss: 0.0388 - val_acc: 0.9843\n",
            "Epoch 199/500\n",
            "91759/91759 [==============================] - 2s 23us/step - loss: 0.0395 - acc: 0.9839 - val_loss: 0.0388 - val_acc: 0.9843\n",
            "Epoch 200/500\n",
            "91759/91759 [==============================] - 2s 23us/step - loss: 0.0395 - acc: 0.9839 - val_loss: 0.0388 - val_acc: 0.9843\n",
            "Epoch 201/500\n",
            "91759/91759 [==============================] - 2s 23us/step - loss: 0.0395 - acc: 0.9839 - val_loss: 0.0388 - val_acc: 0.9843\n",
            "Epoch 202/500\n",
            "91759/91759 [==============================] - 2s 23us/step - loss: 0.0395 - acc: 0.9839 - val_loss: 0.0388 - val_acc: 0.9843\n",
            "Epoch 203/500\n",
            "24800/91759 [=======>......................] - ETA: 1s - loss: 0.0408 - acc: 0.9837"
          ],
          "name": "stdout"
        },
        {
          "output_type": "stream",
          "text": [
            "91759/91759 [==============================] - 2s 23us/step - loss: 0.0395 - acc: 0.9839 - val_loss: 0.0388 - val_acc: 0.9843\n",
            "Epoch 204/500\n",
            "91759/91759 [==============================] - 2s 23us/step - loss: 0.0395 - acc: 0.9839 - val_loss: 0.0388 - val_acc: 0.9843\n",
            "Epoch 205/500\n",
            "91759/91759 [==============================] - 2s 23us/step - loss: 0.0395 - acc: 0.9839 - val_loss: 0.0388 - val_acc: 0.9843\n",
            "Epoch 206/500\n",
            "91759/91759 [==============================] - 2s 23us/step - loss: 0.0395 - acc: 0.9839 - val_loss: 0.0388 - val_acc: 0.9843\n",
            "Epoch 207/500\n",
            "91759/91759 [==============================] - 2s 23us/step - loss: 0.0395 - acc: 0.9839 - val_loss: 0.0388 - val_acc: 0.9843\n",
            "Epoch 208/500\n",
            "91759/91759 [==============================] - 2s 23us/step - loss: 0.0395 - acc: 0.9839 - val_loss: 0.0388 - val_acc: 0.9841\n",
            "Epoch 209/500\n",
            "21600/91759 [======>.......................] - ETA: 1s - loss: 0.0419 - acc: 0.9829"
          ],
          "name": "stdout"
        },
        {
          "output_type": "stream",
          "text": [
            "91759/91759 [==============================] - 2s 23us/step - loss: 0.0395 - acc: 0.9839 - val_loss: 0.0388 - val_acc: 0.9843\n",
            "Epoch 210/500\n",
            "91759/91759 [==============================] - 2s 23us/step - loss: 0.0395 - acc: 0.9839 - val_loss: 0.0388 - val_acc: 0.9843\n",
            "Epoch 211/500\n",
            "91759/91759 [==============================] - 2s 23us/step - loss: 0.0395 - acc: 0.9839 - val_loss: 0.0388 - val_acc: 0.9843\n",
            "Epoch 212/500\n",
            "91759/91759 [==============================] - 2s 23us/step - loss: 0.0395 - acc: 0.9839 - val_loss: 0.0388 - val_acc: 0.9843\n",
            "Epoch 213/500\n",
            "91759/91759 [==============================] - 2s 23us/step - loss: 0.0395 - acc: 0.9839 - val_loss: 0.0388 - val_acc: 0.9843\n",
            "Epoch 214/500\n",
            "91759/91759 [==============================] - 2s 23us/step - loss: 0.0395 - acc: 0.9839 - val_loss: 0.0388 - val_acc: 0.9841\n",
            "Epoch 215/500\n",
            "25200/91759 [=======>......................] - ETA: 1s - loss: 0.0428 - acc: 0.9824"
          ],
          "name": "stdout"
        },
        {
          "output_type": "stream",
          "text": [
            "91759/91759 [==============================] - 2s 23us/step - loss: 0.0394 - acc: 0.9839 - val_loss: 0.0387 - val_acc: 0.9843\n",
            "Epoch 216/500\n",
            "91759/91759 [==============================] - 2s 23us/step - loss: 0.0394 - acc: 0.9839 - val_loss: 0.0388 - val_acc: 0.9841\n",
            "Epoch 217/500\n",
            "91759/91759 [==============================] - 2s 23us/step - loss: 0.0394 - acc: 0.9839 - val_loss: 0.0387 - val_acc: 0.9841\n",
            "Epoch 218/500\n",
            "91759/91759 [==============================] - 2s 23us/step - loss: 0.0394 - acc: 0.9838 - val_loss: 0.0387 - val_acc: 0.9841\n",
            "Epoch 219/500\n",
            "91759/91759 [==============================] - 2s 23us/step - loss: 0.0394 - acc: 0.9838 - val_loss: 0.0387 - val_acc: 0.9843\n",
            "Epoch 220/500\n",
            "91759/91759 [==============================] - 2s 23us/step - loss: 0.0394 - acc: 0.9839 - val_loss: 0.0387 - val_acc: 0.9841\n",
            "Epoch 221/500\n",
            "18800/91759 [=====>........................] - ETA: 1s - loss: 0.0381 - acc: 0.9851"
          ],
          "name": "stdout"
        },
        {
          "output_type": "stream",
          "text": [
            "91759/91759 [==============================] - 2s 23us/step - loss: 0.0394 - acc: 0.9839 - val_loss: 0.0387 - val_acc: 0.9841\n",
            "Epoch 222/500\n",
            "91759/91759 [==============================] - 2s 23us/step - loss: 0.0394 - acc: 0.9838 - val_loss: 0.0387 - val_acc: 0.9841\n",
            "Epoch 223/500\n",
            "91759/91759 [==============================] - 2s 23us/step - loss: 0.0394 - acc: 0.9839 - val_loss: 0.0387 - val_acc: 0.9841\n",
            "Epoch 224/500\n",
            "91759/91759 [==============================] - 2s 23us/step - loss: 0.0394 - acc: 0.9839 - val_loss: 0.0387 - val_acc: 0.9841\n",
            "Epoch 225/500\n",
            "91759/91759 [==============================] - 2s 23us/step - loss: 0.0394 - acc: 0.9838 - val_loss: 0.0387 - val_acc: 0.9841\n",
            "Epoch 226/500\n",
            "91759/91759 [==============================] - 2s 23us/step - loss: 0.0394 - acc: 0.9838 - val_loss: 0.0387 - val_acc: 0.9841\n",
            "Epoch 227/500\n",
            "19600/91759 [=====>........................] - ETA: 1s - loss: 0.0390 - acc: 0.9841"
          ],
          "name": "stdout"
        },
        {
          "output_type": "stream",
          "text": [
            "91759/91759 [==============================] - 2s 23us/step - loss: 0.0394 - acc: 0.9838 - val_loss: 0.0387 - val_acc: 0.9841\n",
            "Epoch 228/500\n",
            "91759/91759 [==============================] - 2s 23us/step - loss: 0.0394 - acc: 0.9839 - val_loss: 0.0387 - val_acc: 0.9841\n",
            "Epoch 229/500\n",
            "91759/91759 [==============================] - 2s 22us/step - loss: 0.0394 - acc: 0.9839 - val_loss: 0.0387 - val_acc: 0.9841\n",
            "Epoch 230/500\n",
            "91759/91759 [==============================] - 2s 22us/step - loss: 0.0394 - acc: 0.9839 - val_loss: 0.0387 - val_acc: 0.9841\n",
            "Epoch 231/500\n",
            "91759/91759 [==============================] - 2s 22us/step - loss: 0.0394 - acc: 0.9839 - val_loss: 0.0387 - val_acc: 0.9841\n",
            "Epoch 232/500\n",
            "91759/91759 [==============================] - 2s 23us/step - loss: 0.0394 - acc: 0.9839 - val_loss: 0.0387 - val_acc: 0.9841\n",
            "Epoch 233/500\n",
            "24400/91759 [======>.......................] - ETA: 1s - loss: 0.0403 - acc: 0.9831"
          ],
          "name": "stdout"
        },
        {
          "output_type": "stream",
          "text": [
            "91759/91759 [==============================] - 2s 22us/step - loss: 0.0394 - acc: 0.9839 - val_loss: 0.0387 - val_acc: 0.9841\n",
            "Epoch 234/500\n",
            "91759/91759 [==============================] - 2s 22us/step - loss: 0.0394 - acc: 0.9839 - val_loss: 0.0387 - val_acc: 0.9841\n",
            "Epoch 235/500\n",
            "91759/91759 [==============================] - 2s 23us/step - loss: 0.0394 - acc: 0.9839 - val_loss: 0.0387 - val_acc: 0.9841\n",
            "Epoch 236/500\n",
            "91759/91759 [==============================] - 2s 23us/step - loss: 0.0394 - acc: 0.9838 - val_loss: 0.0387 - val_acc: 0.9841\n",
            "Epoch 237/500\n",
            "91759/91759 [==============================] - 2s 23us/step - loss: 0.0394 - acc: 0.9839 - val_loss: 0.0387 - val_acc: 0.9841\n",
            "Epoch 238/500\n",
            "91759/91759 [==============================] - 2s 23us/step - loss: 0.0393 - acc: 0.9839 - val_loss: 0.0387 - val_acc: 0.9841\n",
            "Epoch 239/500\n",
            "24400/91759 [======>.......................] - ETA: 1s - loss: 0.0391 - acc: 0.9846"
          ],
          "name": "stdout"
        },
        {
          "output_type": "stream",
          "text": [
            "91759/91759 [==============================] - 2s 23us/step - loss: 0.0393 - acc: 0.9839 - val_loss: 0.0387 - val_acc: 0.9841\n",
            "Epoch 240/500\n",
            "91759/91759 [==============================] - 2s 22us/step - loss: 0.0393 - acc: 0.9839 - val_loss: 0.0387 - val_acc: 0.9841\n",
            "Epoch 241/500\n",
            "91759/91759 [==============================] - 2s 23us/step - loss: 0.0393 - acc: 0.9839 - val_loss: 0.0387 - val_acc: 0.9841\n",
            "Epoch 242/500\n",
            "91759/91759 [==============================] - 2s 23us/step - loss: 0.0393 - acc: 0.9839 - val_loss: 0.0387 - val_acc: 0.9841\n",
            "Epoch 243/500\n",
            "91759/91759 [==============================] - 2s 22us/step - loss: 0.0393 - acc: 0.9839 - val_loss: 0.0387 - val_acc: 0.9841\n",
            "Epoch 244/500\n",
            "91759/91759 [==============================] - 2s 23us/step - loss: 0.0393 - acc: 0.9838 - val_loss: 0.0387 - val_acc: 0.9841\n",
            "Epoch 245/500\n",
            "24800/91759 [=======>......................] - ETA: 1s - loss: 0.0392 - acc: 0.9844"
          ],
          "name": "stdout"
        },
        {
          "output_type": "stream",
          "text": [
            "91759/91759 [==============================] - 2s 23us/step - loss: 0.0393 - acc: 0.9839 - val_loss: 0.0387 - val_acc: 0.9841\n",
            "Epoch 246/500\n",
            "91759/91759 [==============================] - 2s 23us/step - loss: 0.0393 - acc: 0.9839 - val_loss: 0.0387 - val_acc: 0.9841\n",
            "Epoch 247/500\n",
            "91759/91759 [==============================] - 2s 23us/step - loss: 0.0393 - acc: 0.9839 - val_loss: 0.0386 - val_acc: 0.9841\n",
            "Epoch 248/500\n",
            "91759/91759 [==============================] - 2s 23us/step - loss: 0.0393 - acc: 0.9839 - val_loss: 0.0386 - val_acc: 0.9841\n",
            "Epoch 249/500\n",
            "91759/91759 [==============================] - 2s 23us/step - loss: 0.0393 - acc: 0.9839 - val_loss: 0.0386 - val_acc: 0.9841\n",
            "Epoch 250/500\n",
            "91759/91759 [==============================] - 2s 23us/step - loss: 0.0393 - acc: 0.9839 - val_loss: 0.0386 - val_acc: 0.9841\n",
            "Epoch 251/500\n",
            "22000/91759 [======>.......................] - ETA: 1s - loss: 0.0427 - acc: 0.9820"
          ],
          "name": "stdout"
        },
        {
          "output_type": "stream",
          "text": [
            "91759/91759 [==============================] - 2s 23us/step - loss: 0.0393 - acc: 0.9839 - val_loss: 0.0386 - val_acc: 0.9841\n",
            "Epoch 252/500\n",
            "91759/91759 [==============================] - 2s 23us/step - loss: 0.0393 - acc: 0.9839 - val_loss: 0.0386 - val_acc: 0.9841\n",
            "Epoch 253/500\n",
            "91759/91759 [==============================] - 2s 23us/step - loss: 0.0393 - acc: 0.9839 - val_loss: 0.0386 - val_acc: 0.9841\n",
            "Epoch 254/500\n",
            "91759/91759 [==============================] - 2s 23us/step - loss: 0.0393 - acc: 0.9839 - val_loss: 0.0386 - val_acc: 0.9841\n",
            "Epoch 255/500\n",
            "91759/91759 [==============================] - 2s 23us/step - loss: 0.0393 - acc: 0.9839 - val_loss: 0.0386 - val_acc: 0.9841\n",
            "Epoch 256/500\n",
            "91759/91759 [==============================] - 2s 23us/step - loss: 0.0393 - acc: 0.9839 - val_loss: 0.0386 - val_acc: 0.9842\n",
            "Epoch 257/500\n",
            "22000/91759 [======>.......................] - ETA: 1s - loss: 0.0400 - acc: 0.9828"
          ],
          "name": "stdout"
        },
        {
          "output_type": "stream",
          "text": [
            "91759/91759 [==============================] - 2s 23us/step - loss: 0.0393 - acc: 0.9839 - val_loss: 0.0386 - val_acc: 0.9842\n",
            "Epoch 258/500\n",
            "91759/91759 [==============================] - 2s 23us/step - loss: 0.0393 - acc: 0.9839 - val_loss: 0.0386 - val_acc: 0.9842\n",
            "Epoch 259/500\n",
            "91759/91759 [==============================] - 2s 23us/step - loss: 0.0393 - acc: 0.9839 - val_loss: 0.0386 - val_acc: 0.9842\n",
            "Epoch 260/500\n",
            "91759/91759 [==============================] - 2s 23us/step - loss: 0.0393 - acc: 0.9839 - val_loss: 0.0386 - val_acc: 0.9842\n",
            "Epoch 261/500\n",
            "91759/91759 [==============================] - 2s 23us/step - loss: 0.0393 - acc: 0.9839 - val_loss: 0.0386 - val_acc: 0.9842\n",
            "Epoch 262/500\n",
            "91759/91759 [==============================] - 2s 23us/step - loss: 0.0393 - acc: 0.9839 - val_loss: 0.0386 - val_acc: 0.9842\n",
            "Epoch 263/500\n",
            "18800/91759 [=====>........................] - ETA: 1s - loss: 0.0428 - acc: 0.9820"
          ],
          "name": "stdout"
        },
        {
          "output_type": "stream",
          "text": [
            "91759/91759 [==============================] - 2s 23us/step - loss: 0.0393 - acc: 0.9839 - val_loss: 0.0386 - val_acc: 0.9842\n",
            "Epoch 264/500\n",
            "91759/91759 [==============================] - 2s 23us/step - loss: 0.0393 - acc: 0.9839 - val_loss: 0.0386 - val_acc: 0.9842\n",
            "Epoch 265/500\n",
            "91759/91759 [==============================] - 2s 23us/step - loss: 0.0392 - acc: 0.9839 - val_loss: 0.0386 - val_acc: 0.9842\n",
            "Epoch 266/500\n",
            "91759/91759 [==============================] - 2s 23us/step - loss: 0.0392 - acc: 0.9839 - val_loss: 0.0386 - val_acc: 0.9842\n",
            "Epoch 267/500\n",
            "91759/91759 [==============================] - 2s 23us/step - loss: 0.0392 - acc: 0.9839 - val_loss: 0.0386 - val_acc: 0.9842\n",
            "Epoch 268/500\n",
            "91759/91759 [==============================] - 2s 23us/step - loss: 0.0392 - acc: 0.9839 - val_loss: 0.0386 - val_acc: 0.9842\n",
            "Epoch 269/500\n",
            "19200/91759 [=====>........................] - ETA: 1s - loss: 0.0371 - acc: 0.9845"
          ],
          "name": "stdout"
        },
        {
          "output_type": "stream",
          "text": [
            "91759/91759 [==============================] - 2s 23us/step - loss: 0.0392 - acc: 0.9839 - val_loss: 0.0386 - val_acc: 0.9842\n",
            "Epoch 270/500\n",
            "91759/91759 [==============================] - 2s 23us/step - loss: 0.0392 - acc: 0.9839 - val_loss: 0.0386 - val_acc: 0.9842\n",
            "Epoch 271/500\n",
            "91759/91759 [==============================] - 2s 23us/step - loss: 0.0392 - acc: 0.9839 - val_loss: 0.0386 - val_acc: 0.9842\n",
            "Epoch 272/500\n",
            "91759/91759 [==============================] - 2s 23us/step - loss: 0.0392 - acc: 0.9839 - val_loss: 0.0386 - val_acc: 0.9842\n",
            "Epoch 273/500\n",
            "91759/91759 [==============================] - 2s 23us/step - loss: 0.0392 - acc: 0.9839 - val_loss: 0.0386 - val_acc: 0.9842\n",
            "Epoch 274/500\n",
            "91759/91759 [==============================] - 2s 23us/step - loss: 0.0392 - acc: 0.9840 - val_loss: 0.0386 - val_acc: 0.9842\n",
            "Epoch 275/500\n",
            "22400/91759 [======>.......................] - ETA: 1s - loss: 0.0415 - acc: 0.9828"
          ],
          "name": "stdout"
        },
        {
          "output_type": "stream",
          "text": [
            "91759/91759 [==============================] - 2s 23us/step - loss: 0.0392 - acc: 0.9840 - val_loss: 0.0386 - val_acc: 0.9842\n",
            "Epoch 276/500\n",
            "91759/91759 [==============================] - 2s 23us/step - loss: 0.0392 - acc: 0.9839 - val_loss: 0.0386 - val_acc: 0.9842\n",
            "Epoch 277/500\n",
            "91759/91759 [==============================] - 2s 22us/step - loss: 0.0392 - acc: 0.9839 - val_loss: 0.0386 - val_acc: 0.9842\n",
            "Epoch 278/500\n",
            "91759/91759 [==============================] - 2s 23us/step - loss: 0.0392 - acc: 0.9839 - val_loss: 0.0386 - val_acc: 0.9842\n",
            "Epoch 279/500\n",
            "91759/91759 [==============================] - 2s 23us/step - loss: 0.0392 - acc: 0.9839 - val_loss: 0.0386 - val_acc: 0.9842\n",
            "Epoch 280/500\n",
            "91759/91759 [==============================] - 2s 23us/step - loss: 0.0392 - acc: 0.9840 - val_loss: 0.0385 - val_acc: 0.9842\n",
            "Epoch 281/500\n",
            "21200/91759 [=====>........................] - ETA: 1s - loss: 0.0399 - acc: 0.9834"
          ],
          "name": "stdout"
        },
        {
          "output_type": "stream",
          "text": [
            "91759/91759 [==============================] - 2s 23us/step - loss: 0.0392 - acc: 0.9839 - val_loss: 0.0386 - val_acc: 0.9842\n",
            "Epoch 282/500\n",
            "91759/91759 [==============================] - 2s 23us/step - loss: 0.0392 - acc: 0.9840 - val_loss: 0.0386 - val_acc: 0.9842\n",
            "Epoch 283/500\n",
            "91759/91759 [==============================] - 2s 23us/step - loss: 0.0392 - acc: 0.9840 - val_loss: 0.0385 - val_acc: 0.9842\n",
            "Epoch 284/500\n",
            "91759/91759 [==============================] - 2s 23us/step - loss: 0.0392 - acc: 0.9840 - val_loss: 0.0385 - val_acc: 0.9842\n",
            "Epoch 285/500\n",
            "91759/91759 [==============================] - 2s 23us/step - loss: 0.0392 - acc: 0.9840 - val_loss: 0.0385 - val_acc: 0.9842\n",
            "Epoch 286/500\n",
            "91759/91759 [==============================] - 2s 23us/step - loss: 0.0392 - acc: 0.9840 - val_loss: 0.0385 - val_acc: 0.9842\n",
            "Epoch 287/500\n",
            "22800/91759 [======>.......................] - ETA: 1s - loss: 0.0405 - acc: 0.9838"
          ],
          "name": "stdout"
        },
        {
          "output_type": "stream",
          "text": [
            "91759/91759 [==============================] - 2s 23us/step - loss: 0.0392 - acc: 0.9840 - val_loss: 0.0385 - val_acc: 0.9842\n",
            "Epoch 288/500\n",
            "91759/91759 [==============================] - 2s 23us/step - loss: 0.0392 - acc: 0.9840 - val_loss: 0.0385 - val_acc: 0.9842\n",
            "Epoch 289/500\n",
            "91759/91759 [==============================] - 2s 23us/step - loss: 0.0392 - acc: 0.9841 - val_loss: 0.0385 - val_acc: 0.9842\n",
            "Epoch 290/500\n",
            "91759/91759 [==============================] - 2s 23us/step - loss: 0.0392 - acc: 0.9840 - val_loss: 0.0385 - val_acc: 0.9842\n",
            "Epoch 291/500\n",
            "91759/91759 [==============================] - 2s 23us/step - loss: 0.0392 - acc: 0.9840 - val_loss: 0.0385 - val_acc: 0.9842\n",
            "Epoch 292/500\n",
            "91759/91759 [==============================] - 2s 23us/step - loss: 0.0392 - acc: 0.9840 - val_loss: 0.0385 - val_acc: 0.9842\n",
            "Epoch 293/500\n",
            "21600/91759 [======>.......................] - ETA: 1s - loss: 0.0398 - acc: 0.9836"
          ],
          "name": "stdout"
        },
        {
          "output_type": "stream",
          "text": [
            "91759/91759 [==============================] - 2s 23us/step - loss: 0.0392 - acc: 0.9844 - val_loss: 0.0385 - val_acc: 0.9842\n",
            "Epoch 294/500\n",
            "91759/91759 [==============================] - 2s 23us/step - loss: 0.0392 - acc: 0.9841 - val_loss: 0.0385 - val_acc: 0.9842\n",
            "Epoch 295/500\n",
            "91759/91759 [==============================] - 2s 23us/step - loss: 0.0392 - acc: 0.9842 - val_loss: 0.0385 - val_acc: 0.9842\n",
            "Epoch 296/500\n",
            "91759/91759 [==============================] - 2s 23us/step - loss: 0.0392 - acc: 0.9846 - val_loss: 0.0385 - val_acc: 0.9849\n",
            "Epoch 297/500\n",
            "91759/91759 [==============================] - 2s 23us/step - loss: 0.0391 - acc: 0.9841 - val_loss: 0.0385 - val_acc: 0.9849\n",
            "Epoch 298/500\n",
            "91759/91759 [==============================] - 2s 23us/step - loss: 0.0391 - acc: 0.9844 - val_loss: 0.0385 - val_acc: 0.9849\n",
            "Epoch 299/500\n",
            "24800/91759 [=======>......................] - ETA: 1s - loss: 0.0385 - acc: 0.9852"
          ],
          "name": "stdout"
        },
        {
          "output_type": "stream",
          "text": [
            "91759/91759 [==============================] - 2s 23us/step - loss: 0.0391 - acc: 0.9846 - val_loss: 0.0385 - val_acc: 0.9849\n",
            "Epoch 300/500\n",
            "91759/91759 [==============================] - 2s 23us/step - loss: 0.0391 - acc: 0.9845 - val_loss: 0.0385 - val_acc: 0.9849\n",
            "Epoch 301/500\n",
            "91759/91759 [==============================] - 2s 23us/step - loss: 0.0391 - acc: 0.9846 - val_loss: 0.0385 - val_acc: 0.9849\n",
            "Epoch 302/500\n",
            "91759/91759 [==============================] - 2s 23us/step - loss: 0.0391 - acc: 0.9846 - val_loss: 0.0385 - val_acc: 0.9849\n",
            "Epoch 303/500\n",
            "91759/91759 [==============================] - 2s 23us/step - loss: 0.0391 - acc: 0.9846 - val_loss: 0.0385 - val_acc: 0.9849\n",
            "Epoch 304/500\n",
            "91759/91759 [==============================] - 2s 23us/step - loss: 0.0391 - acc: 0.9846 - val_loss: 0.0385 - val_acc: 0.9849\n",
            "Epoch 305/500\n",
            "24800/91759 [=======>......................] - ETA: 1s - loss: 0.0390 - acc: 0.9849"
          ],
          "name": "stdout"
        },
        {
          "output_type": "stream",
          "text": [
            "91759/91759 [==============================] - 2s 23us/step - loss: 0.0391 - acc: 0.9846 - val_loss: 0.0385 - val_acc: 0.9849\n",
            "Epoch 306/500\n",
            "91759/91759 [==============================] - 2s 23us/step - loss: 0.0391 - acc: 0.9846 - val_loss: 0.0385 - val_acc: 0.9849\n",
            "Epoch 307/500\n",
            "91759/91759 [==============================] - 2s 23us/step - loss: 0.0391 - acc: 0.9846 - val_loss: 0.0385 - val_acc: 0.9849\n",
            "Epoch 308/500\n",
            "91759/91759 [==============================] - 2s 23us/step - loss: 0.0391 - acc: 0.9846 - val_loss: 0.0385 - val_acc: 0.9849\n",
            "Epoch 309/500\n",
            "91759/91759 [==============================] - 2s 23us/step - loss: 0.0391 - acc: 0.9846 - val_loss: 0.0385 - val_acc: 0.9849\n",
            "Epoch 310/500\n",
            "91759/91759 [==============================] - 2s 23us/step - loss: 0.0391 - acc: 0.9846 - val_loss: 0.0385 - val_acc: 0.9849\n",
            "Epoch 311/500\n",
            "22000/91759 [======>.......................] - ETA: 1s - loss: 0.0374 - acc: 0.9855"
          ],
          "name": "stdout"
        },
        {
          "output_type": "stream",
          "text": [
            "91759/91759 [==============================] - 2s 23us/step - loss: 0.0391 - acc: 0.9846 - val_loss: 0.0385 - val_acc: 0.9849\n",
            "Epoch 312/500\n",
            "91759/91759 [==============================] - 2s 23us/step - loss: 0.0391 - acc: 0.9846 - val_loss: 0.0385 - val_acc: 0.9849\n",
            "Epoch 313/500\n",
            "91759/91759 [==============================] - 2s 22us/step - loss: 0.0391 - acc: 0.9846 - val_loss: 0.0385 - val_acc: 0.9849\n",
            "Epoch 314/500\n",
            "91759/91759 [==============================] - 2s 23us/step - loss: 0.0391 - acc: 0.9846 - val_loss: 0.0385 - val_acc: 0.9849\n",
            "Epoch 315/500\n",
            "91759/91759 [==============================] - 2s 23us/step - loss: 0.0391 - acc: 0.9846 - val_loss: 0.0385 - val_acc: 0.9849\n",
            "Epoch 316/500\n",
            "91759/91759 [==============================] - 2s 23us/step - loss: 0.0391 - acc: 0.9846 - val_loss: 0.0385 - val_acc: 0.9849\n",
            "Epoch 317/500\n",
            "24800/91759 [=======>......................] - ETA: 1s - loss: 0.0393 - acc: 0.9842"
          ],
          "name": "stdout"
        },
        {
          "output_type": "stream",
          "text": [
            "91759/91759 [==============================] - 2s 23us/step - loss: 0.0391 - acc: 0.9846 - val_loss: 0.0385 - val_acc: 0.9849\n",
            "Epoch 318/500\n",
            "91759/91759 [==============================] - 2s 23us/step - loss: 0.0391 - acc: 0.9847 - val_loss: 0.0385 - val_acc: 0.9849\n",
            "Epoch 319/500\n",
            "91759/91759 [==============================] - 2s 23us/step - loss: 0.0391 - acc: 0.9847 - val_loss: 0.0385 - val_acc: 0.9849\n",
            "Epoch 320/500\n",
            "91759/91759 [==============================] - 2s 23us/step - loss: 0.0391 - acc: 0.9846 - val_loss: 0.0385 - val_acc: 0.9849\n",
            "Epoch 321/500\n",
            "91759/91759 [==============================] - 2s 23us/step - loss: 0.0391 - acc: 0.9847 - val_loss: 0.0385 - val_acc: 0.9849\n",
            "Epoch 322/500\n",
            "91759/91759 [==============================] - 2s 23us/step - loss: 0.0391 - acc: 0.9847 - val_loss: 0.0385 - val_acc: 0.9849\n",
            "Epoch 323/500\n",
            "22400/91759 [======>.......................] - ETA: 1s - loss: 0.0405 - acc: 0.9840"
          ],
          "name": "stdout"
        },
        {
          "output_type": "stream",
          "text": [
            "91759/91759 [==============================] - 2s 23us/step - loss: 0.0391 - acc: 0.9847 - val_loss: 0.0385 - val_acc: 0.9849\n",
            "Epoch 324/500\n",
            "91759/91759 [==============================] - 2s 22us/step - loss: 0.0391 - acc: 0.9846 - val_loss: 0.0385 - val_acc: 0.9849\n",
            "Epoch 325/500\n",
            "91759/91759 [==============================] - 2s 23us/step - loss: 0.0391 - acc: 0.9846 - val_loss: 0.0385 - val_acc: 0.9849\n",
            "Epoch 326/500\n",
            "91759/91759 [==============================] - 2s 23us/step - loss: 0.0391 - acc: 0.9847 - val_loss: 0.0385 - val_acc: 0.9849\n",
            "Epoch 327/500\n",
            "91759/91759 [==============================] - 2s 23us/step - loss: 0.0391 - acc: 0.9847 - val_loss: 0.0385 - val_acc: 0.9849\n",
            "Epoch 328/500\n",
            "91759/91759 [==============================] - 2s 23us/step - loss: 0.0391 - acc: 0.9847 - val_loss: 0.0384 - val_acc: 0.9849\n",
            "Epoch 329/500\n",
            "24800/91759 [=======>......................] - ETA: 1s - loss: 0.0390 - acc: 0.9841"
          ],
          "name": "stdout"
        },
        {
          "output_type": "stream",
          "text": [
            "91759/91759 [==============================] - 2s 23us/step - loss: 0.0391 - acc: 0.9847 - val_loss: 0.0384 - val_acc: 0.9849\n",
            "Epoch 330/500\n",
            "91759/91759 [==============================] - 2s 23us/step - loss: 0.0391 - acc: 0.9847 - val_loss: 0.0384 - val_acc: 0.9849\n",
            "Epoch 331/500\n",
            "91759/91759 [==============================] - 2s 23us/step - loss: 0.0390 - acc: 0.9847 - val_loss: 0.0384 - val_acc: 0.9849\n",
            "Epoch 332/500\n",
            "91759/91759 [==============================] - 2s 23us/step - loss: 0.0390 - acc: 0.9847 - val_loss: 0.0384 - val_acc: 0.9849\n",
            "Epoch 333/500\n",
            "91759/91759 [==============================] - 2s 23us/step - loss: 0.0390 - acc: 0.9847 - val_loss: 0.0384 - val_acc: 0.9849\n",
            "Epoch 334/500\n",
            "91759/91759 [==============================] - 2s 23us/step - loss: 0.0390 - acc: 0.9846 - val_loss: 0.0384 - val_acc: 0.9849\n",
            "Epoch 335/500\n",
            "22400/91759 [======>.......................] - ETA: 1s - loss: 0.0392 - acc: 0.9850"
          ],
          "name": "stdout"
        },
        {
          "output_type": "stream",
          "text": [
            "91759/91759 [==============================] - 2s 23us/step - loss: 0.0390 - acc: 0.9847 - val_loss: 0.0384 - val_acc: 0.9849\n",
            "Epoch 336/500\n",
            "91759/91759 [==============================] - 2s 23us/step - loss: 0.0390 - acc: 0.9847 - val_loss: 0.0384 - val_acc: 0.9849\n",
            "Epoch 337/500\n",
            "91759/91759 [==============================] - 2s 23us/step - loss: 0.0390 - acc: 0.9847 - val_loss: 0.0384 - val_acc: 0.9849\n",
            "Epoch 338/500\n",
            "91759/91759 [==============================] - 2s 23us/step - loss: 0.0390 - acc: 0.9847 - val_loss: 0.0384 - val_acc: 0.9849\n",
            "Epoch 339/500\n",
            "91759/91759 [==============================] - 2s 23us/step - loss: 0.0390 - acc: 0.9847 - val_loss: 0.0384 - val_acc: 0.9849\n",
            "Epoch 340/500\n",
            "91759/91759 [==============================] - 2s 23us/step - loss: 0.0390 - acc: 0.9846 - val_loss: 0.0384 - val_acc: 0.9849\n",
            "Epoch 341/500\n",
            "24400/91759 [======>.......................] - ETA: 1s - loss: 0.0394 - acc: 0.9845"
          ],
          "name": "stdout"
        },
        {
          "output_type": "stream",
          "text": [
            "91759/91759 [==============================] - 2s 23us/step - loss: 0.0390 - acc: 0.9847 - val_loss: 0.0384 - val_acc: 0.9849\n",
            "Epoch 342/500\n",
            "91759/91759 [==============================] - 2s 23us/step - loss: 0.0390 - acc: 0.9851 - val_loss: 0.0384 - val_acc: 0.9849\n",
            "Epoch 343/500\n",
            "91759/91759 [==============================] - 2s 23us/step - loss: 0.0390 - acc: 0.9847 - val_loss: 0.0384 - val_acc: 0.9853\n",
            "Epoch 344/500\n",
            "91759/91759 [==============================] - 2s 23us/step - loss: 0.0390 - acc: 0.9847 - val_loss: 0.0384 - val_acc: 0.9853\n",
            "Epoch 345/500\n",
            "91759/91759 [==============================] - 2s 23us/step - loss: 0.0390 - acc: 0.9851 - val_loss: 0.0384 - val_acc: 0.9853\n",
            "Epoch 346/500\n",
            "91759/91759 [==============================] - 2s 23us/step - loss: 0.0390 - acc: 0.9851 - val_loss: 0.0384 - val_acc: 0.9853\n",
            "Epoch 347/500\n",
            "19200/91759 [=====>........................] - ETA: 1s - loss: 0.0410 - acc: 0.9836"
          ],
          "name": "stdout"
        },
        {
          "output_type": "stream",
          "text": [
            "91759/91759 [==============================] - 2s 23us/step - loss: 0.0390 - acc: 0.9851 - val_loss: 0.0384 - val_acc: 0.9853\n",
            "Epoch 348/500\n",
            "91759/91759 [==============================] - 2s 23us/step - loss: 0.0390 - acc: 0.9851 - val_loss: 0.0384 - val_acc: 0.9853\n",
            "Epoch 349/500\n",
            "91759/91759 [==============================] - 2s 23us/step - loss: 0.0390 - acc: 0.9850 - val_loss: 0.0384 - val_acc: 0.9853\n",
            "Epoch 350/500\n",
            "91759/91759 [==============================] - 2s 23us/step - loss: 0.0390 - acc: 0.9851 - val_loss: 0.0384 - val_acc: 0.9853\n",
            "Epoch 351/500\n",
            "91759/91759 [==============================] - 2s 23us/step - loss: 0.0390 - acc: 0.9851 - val_loss: 0.0384 - val_acc: 0.9853\n",
            "Epoch 352/500\n",
            "91759/91759 [==============================] - 2s 23us/step - loss: 0.0390 - acc: 0.9851 - val_loss: 0.0384 - val_acc: 0.9853\n",
            "Epoch 353/500\n",
            "22000/91759 [======>.......................] - ETA: 1s - loss: 0.0410 - acc: 0.9836"
          ],
          "name": "stdout"
        },
        {
          "output_type": "stream",
          "text": [
            "91759/91759 [==============================] - 2s 23us/step - loss: 0.0390 - acc: 0.9851 - val_loss: 0.0384 - val_acc: 0.9853\n",
            "Epoch 354/500\n",
            "91759/91759 [==============================] - 2s 23us/step - loss: 0.0390 - acc: 0.9851 - val_loss: 0.0384 - val_acc: 0.9853\n",
            "Epoch 355/500\n",
            "91759/91759 [==============================] - 2s 23us/step - loss: 0.0390 - acc: 0.9851 - val_loss: 0.0384 - val_acc: 0.9853\n",
            "Epoch 356/500\n",
            "91759/91759 [==============================] - 2s 23us/step - loss: 0.0390 - acc: 0.9851 - val_loss: 0.0384 - val_acc: 0.9853\n",
            "Epoch 357/500\n",
            "91759/91759 [==============================] - 2s 23us/step - loss: 0.0390 - acc: 0.9851 - val_loss: 0.0384 - val_acc: 0.9853\n",
            "Epoch 358/500\n",
            "91759/91759 [==============================] - 2s 23us/step - loss: 0.0390 - acc: 0.9851 - val_loss: 0.0384 - val_acc: 0.9853\n",
            "Epoch 359/500\n",
            "22000/91759 [======>.......................] - ETA: 1s - loss: 0.0398 - acc: 0.9847"
          ],
          "name": "stdout"
        },
        {
          "output_type": "stream",
          "text": [
            "91759/91759 [==============================] - 2s 23us/step - loss: 0.0390 - acc: 0.9851 - val_loss: 0.0384 - val_acc: 0.9853\n",
            "Epoch 360/500\n",
            "91759/91759 [==============================] - 2s 23us/step - loss: 0.0390 - acc: 0.9851 - val_loss: 0.0384 - val_acc: 0.9853\n",
            "Epoch 361/500\n",
            "91759/91759 [==============================] - 2s 23us/step - loss: 0.0390 - acc: 0.9851 - val_loss: 0.0384 - val_acc: 0.9853\n",
            "Epoch 362/500\n",
            "91759/91759 [==============================] - 2s 23us/step - loss: 0.0390 - acc: 0.9851 - val_loss: 0.0384 - val_acc: 0.9853\n",
            "Epoch 363/500\n",
            "91759/91759 [==============================] - 2s 23us/step - loss: 0.0390 - acc: 0.9851 - val_loss: 0.0384 - val_acc: 0.9853\n",
            "Epoch 364/500\n",
            "91759/91759 [==============================] - 2s 23us/step - loss: 0.0390 - acc: 0.9851 - val_loss: 0.0384 - val_acc: 0.9853\n",
            "Epoch 365/500\n",
            "25200/91759 [=======>......................] - ETA: 1s - loss: 0.0412 - acc: 0.9837"
          ],
          "name": "stdout"
        },
        {
          "output_type": "stream",
          "text": [
            "91759/91759 [==============================] - 2s 23us/step - loss: 0.0390 - acc: 0.9851 - val_loss: 0.0384 - val_acc: 0.9853\n",
            "Epoch 366/500\n",
            "91759/91759 [==============================] - 2s 22us/step - loss: 0.0390 - acc: 0.9851 - val_loss: 0.0384 - val_acc: 0.9853\n",
            "Epoch 367/500\n",
            "91759/91759 [==============================] - 2s 23us/step - loss: 0.0390 - acc: 0.9852 - val_loss: 0.0384 - val_acc: 0.9854\n",
            "Epoch 368/500\n",
            "91759/91759 [==============================] - 2s 23us/step - loss: 0.0390 - acc: 0.9851 - val_loss: 0.0384 - val_acc: 0.9854\n",
            "Epoch 369/500\n",
            "91759/91759 [==============================] - 2s 23us/step - loss: 0.0390 - acc: 0.9851 - val_loss: 0.0384 - val_acc: 0.9854\n",
            "Epoch 370/500\n",
            "91759/91759 [==============================] - 2s 23us/step - loss: 0.0389 - acc: 0.9851 - val_loss: 0.0384 - val_acc: 0.9854\n",
            "Epoch 371/500\n",
            "24800/91759 [=======>......................] - ETA: 1s - loss: 0.0378 - acc: 0.9859"
          ],
          "name": "stdout"
        },
        {
          "output_type": "stream",
          "text": [
            "91759/91759 [==============================] - 2s 23us/step - loss: 0.0389 - acc: 0.9852 - val_loss: 0.0384 - val_acc: 0.9854\n",
            "Epoch 372/500\n",
            "91759/91759 [==============================] - 2s 23us/step - loss: 0.0389 - acc: 0.9851 - val_loss: 0.0384 - val_acc: 0.9854\n",
            "Epoch 373/500\n",
            "91759/91759 [==============================] - 2s 23us/step - loss: 0.0389 - acc: 0.9852 - val_loss: 0.0384 - val_acc: 0.9854\n",
            "Epoch 374/500\n",
            "91759/91759 [==============================] - 2s 23us/step - loss: 0.0389 - acc: 0.9852 - val_loss: 0.0384 - val_acc: 0.9854\n",
            "Epoch 375/500\n",
            "91759/91759 [==============================] - 2s 22us/step - loss: 0.0389 - acc: 0.9852 - val_loss: 0.0384 - val_acc: 0.9854\n",
            "Epoch 376/500\n",
            "91759/91759 [==============================] - 2s 23us/step - loss: 0.0389 - acc: 0.9852 - val_loss: 0.0384 - val_acc: 0.9854\n",
            "Epoch 377/500\n",
            "22000/91759 [======>.......................] - ETA: 1s - loss: 0.0357 - acc: 0.9868"
          ],
          "name": "stdout"
        },
        {
          "output_type": "stream",
          "text": [
            "91759/91759 [==============================] - 2s 23us/step - loss: 0.0389 - acc: 0.9852 - val_loss: 0.0384 - val_acc: 0.9854\n",
            "Epoch 378/500\n",
            "91759/91759 [==============================] - 2s 23us/step - loss: 0.0389 - acc: 0.9852 - val_loss: 0.0384 - val_acc: 0.9854\n",
            "Epoch 379/500\n",
            "91759/91759 [==============================] - 2s 23us/step - loss: 0.0389 - acc: 0.9852 - val_loss: 0.0384 - val_acc: 0.9854\n",
            "Epoch 380/500\n",
            "91759/91759 [==============================] - 2s 23us/step - loss: 0.0389 - acc: 0.9852 - val_loss: 0.0384 - val_acc: 0.9854\n",
            "Epoch 381/500\n",
            "91759/91759 [==============================] - 2s 23us/step - loss: 0.0389 - acc: 0.9852 - val_loss: 0.0384 - val_acc: 0.9854\n",
            "Epoch 382/500\n",
            "91759/91759 [==============================] - 2s 23us/step - loss: 0.0389 - acc: 0.9852 - val_loss: 0.0383 - val_acc: 0.9854\n",
            "Epoch 383/500\n",
            "19200/91759 [=====>........................] - ETA: 1s - loss: 0.0406 - acc: 0.9843"
          ],
          "name": "stdout"
        },
        {
          "output_type": "stream",
          "text": [
            "91759/91759 [==============================] - 2s 23us/step - loss: 0.0389 - acc: 0.9852 - val_loss: 0.0383 - val_acc: 0.9854\n",
            "Epoch 384/500\n",
            "91759/91759 [==============================] - 2s 23us/step - loss: 0.0389 - acc: 0.9852 - val_loss: 0.0383 - val_acc: 0.9854\n",
            "Epoch 385/500\n",
            "91759/91759 [==============================] - 2s 23us/step - loss: 0.0389 - acc: 0.9852 - val_loss: 0.0383 - val_acc: 0.9854\n",
            "Epoch 386/500\n",
            "91759/91759 [==============================] - 2s 23us/step - loss: 0.0389 - acc: 0.9852 - val_loss: 0.0383 - val_acc: 0.9854\n",
            "Epoch 387/500\n",
            "91759/91759 [==============================] - 2s 23us/step - loss: 0.0389 - acc: 0.9852 - val_loss: 0.0383 - val_acc: 0.9854\n",
            "Epoch 388/500\n",
            "91759/91759 [==============================] - 2s 23us/step - loss: 0.0389 - acc: 0.9852 - val_loss: 0.0383 - val_acc: 0.9854\n",
            "Epoch 389/500\n",
            "22400/91759 [======>.......................] - ETA: 1s - loss: 0.0402 - acc: 0.9848"
          ],
          "name": "stdout"
        },
        {
          "output_type": "stream",
          "text": [
            "91759/91759 [==============================] - 2s 23us/step - loss: 0.0389 - acc: 0.9852 - val_loss: 0.0383 - val_acc: 0.9854\n",
            "Epoch 390/500\n",
            "91759/91759 [==============================] - 2s 23us/step - loss: 0.0389 - acc: 0.9852 - val_loss: 0.0383 - val_acc: 0.9854\n",
            "Epoch 391/500\n",
            "91759/91759 [==============================] - 2s 23us/step - loss: 0.0389 - acc: 0.9852 - val_loss: 0.0383 - val_acc: 0.9854\n",
            "Epoch 392/500\n",
            "91759/91759 [==============================] - 2s 23us/step - loss: 0.0389 - acc: 0.9852 - val_loss: 0.0383 - val_acc: 0.9854\n",
            "Epoch 393/500\n",
            "91759/91759 [==============================] - 2s 23us/step - loss: 0.0389 - acc: 0.9852 - val_loss: 0.0383 - val_acc: 0.9854\n",
            "Epoch 394/500\n",
            "91759/91759 [==============================] - 2s 23us/step - loss: 0.0389 - acc: 0.9852 - val_loss: 0.0383 - val_acc: 0.9854\n",
            "Epoch 395/500\n",
            "19600/91759 [=====>........................] - ETA: 1s - loss: 0.0380 - acc: 0.9853"
          ],
          "name": "stdout"
        },
        {
          "output_type": "stream",
          "text": [
            "91759/91759 [==============================] - 2s 23us/step - loss: 0.0389 - acc: 0.9852 - val_loss: 0.0383 - val_acc: 0.9854\n",
            "Epoch 396/500\n",
            "91759/91759 [==============================] - 2s 23us/step - loss: 0.0389 - acc: 0.9852 - val_loss: 0.0383 - val_acc: 0.9854\n",
            "Epoch 397/500\n",
            "91759/91759 [==============================] - 2s 23us/step - loss: 0.0389 - acc: 0.9852 - val_loss: 0.0383 - val_acc: 0.9854\n",
            "Epoch 398/500\n",
            "91759/91759 [==============================] - 2s 23us/step - loss: 0.0389 - acc: 0.9852 - val_loss: 0.0383 - val_acc: 0.9854\n",
            "Epoch 399/500\n",
            "91759/91759 [==============================] - 2s 23us/step - loss: 0.0389 - acc: 0.9852 - val_loss: 0.0383 - val_acc: 0.9854\n",
            "Epoch 400/500\n",
            "91759/91759 [==============================] - 2s 23us/step - loss: 0.0389 - acc: 0.9852 - val_loss: 0.0383 - val_acc: 0.9854\n",
            "Epoch 401/500\n",
            "19600/91759 [=====>........................] - ETA: 1s - loss: 0.0382 - acc: 0.9851"
          ],
          "name": "stdout"
        },
        {
          "output_type": "stream",
          "text": [
            "91759/91759 [==============================] - 2s 22us/step - loss: 0.0389 - acc: 0.9852 - val_loss: 0.0383 - val_acc: 0.9854\n",
            "Epoch 402/500\n",
            "91759/91759 [==============================] - 2s 23us/step - loss: 0.0389 - acc: 0.9852 - val_loss: 0.0383 - val_acc: 0.9854\n",
            "Epoch 403/500\n",
            "91759/91759 [==============================] - 2s 23us/step - loss: 0.0389 - acc: 0.9852 - val_loss: 0.0383 - val_acc: 0.9854\n",
            "Epoch 404/500\n",
            "91759/91759 [==============================] - 2s 23us/step - loss: 0.0389 - acc: 0.9852 - val_loss: 0.0383 - val_acc: 0.9854\n",
            "Epoch 405/500\n",
            "91759/91759 [==============================] - 2s 23us/step - loss: 0.0389 - acc: 0.9852 - val_loss: 0.0383 - val_acc: 0.9854\n",
            "Epoch 406/500\n",
            "91759/91759 [==============================] - 2s 23us/step - loss: 0.0389 - acc: 0.9852 - val_loss: 0.0383 - val_acc: 0.9854\n",
            "Epoch 407/500\n",
            "25200/91759 [=======>......................] - ETA: 1s - loss: 0.0370 - acc: 0.9858"
          ],
          "name": "stdout"
        },
        {
          "output_type": "stream",
          "text": [
            "91759/91759 [==============================] - 2s 23us/step - loss: 0.0389 - acc: 0.9852 - val_loss: 0.0383 - val_acc: 0.9854\n",
            "Epoch 408/500\n",
            "91759/91759 [==============================] - 2s 23us/step - loss: 0.0389 - acc: 0.9852 - val_loss: 0.0383 - val_acc: 0.9854\n",
            "Epoch 409/500\n",
            "91759/91759 [==============================] - 2s 23us/step - loss: 0.0389 - acc: 0.9852 - val_loss: 0.0383 - val_acc: 0.9854\n",
            "Epoch 410/500\n",
            "91759/91759 [==============================] - 2s 23us/step - loss: 0.0389 - acc: 0.9852 - val_loss: 0.0383 - val_acc: 0.9854\n",
            "Epoch 411/500\n",
            "91759/91759 [==============================] - 2s 23us/step - loss: 0.0389 - acc: 0.9852 - val_loss: 0.0383 - val_acc: 0.9854\n",
            "Epoch 412/500\n",
            "91759/91759 [==============================] - 2s 23us/step - loss: 0.0389 - acc: 0.9852 - val_loss: 0.0383 - val_acc: 0.9854\n",
            "Epoch 413/500\n",
            "22400/91759 [======>.......................] - ETA: 1s - loss: 0.0394 - acc: 0.9845"
          ],
          "name": "stdout"
        },
        {
          "output_type": "stream",
          "text": [
            "91759/91759 [==============================] - 2s 23us/step - loss: 0.0389 - acc: 0.9852 - val_loss: 0.0383 - val_acc: 0.9854\n",
            "Epoch 414/500\n",
            "91759/91759 [==============================] - 2s 23us/step - loss: 0.0389 - acc: 0.9852 - val_loss: 0.0383 - val_acc: 0.9854\n",
            "Epoch 415/500\n",
            "91759/91759 [==============================] - 2s 23us/step - loss: 0.0388 - acc: 0.9852 - val_loss: 0.0383 - val_acc: 0.9854\n",
            "Epoch 416/500\n",
            "91759/91759 [==============================] - 2s 23us/step - loss: 0.0388 - acc: 0.9852 - val_loss: 0.0383 - val_acc: 0.9854\n",
            "Epoch 417/500\n",
            "91759/91759 [==============================] - 2s 23us/step - loss: 0.0388 - acc: 0.9852 - val_loss: 0.0383 - val_acc: 0.9854\n",
            "Epoch 418/500\n",
            "91759/91759 [==============================] - 2s 23us/step - loss: 0.0388 - acc: 0.9852 - val_loss: 0.0383 - val_acc: 0.9854\n",
            "Epoch 419/500\n",
            "22400/91759 [======>.......................] - ETA: 1s - loss: 0.0400 - acc: 0.9840"
          ],
          "name": "stdout"
        },
        {
          "output_type": "stream",
          "text": [
            "91759/91759 [==============================] - 2s 23us/step - loss: 0.0388 - acc: 0.9852 - val_loss: 0.0383 - val_acc: 0.9854\n",
            "Epoch 420/500\n",
            "91759/91759 [==============================] - 2s 23us/step - loss: 0.0388 - acc: 0.9852 - val_loss: 0.0383 - val_acc: 0.9854\n",
            "Epoch 421/500\n",
            "91759/91759 [==============================] - 2s 23us/step - loss: 0.0388 - acc: 0.9852 - val_loss: 0.0383 - val_acc: 0.9854\n",
            "Epoch 422/500\n",
            "91759/91759 [==============================] - 2s 23us/step - loss: 0.0388 - acc: 0.9852 - val_loss: 0.0383 - val_acc: 0.9854\n",
            "Epoch 423/500\n",
            "91759/91759 [==============================] - 2s 23us/step - loss: 0.0388 - acc: 0.9852 - val_loss: 0.0383 - val_acc: 0.9854\n",
            "Epoch 424/500\n",
            "91759/91759 [==============================] - 2s 23us/step - loss: 0.0388 - acc: 0.9852 - val_loss: 0.0383 - val_acc: 0.9854\n",
            "Epoch 425/500\n",
            "22400/91759 [======>.......................] - ETA: 1s - loss: 0.0383 - acc: 0.9858"
          ],
          "name": "stdout"
        },
        {
          "output_type": "stream",
          "text": [
            "91759/91759 [==============================] - 2s 23us/step - loss: 0.0388 - acc: 0.9852 - val_loss: 0.0383 - val_acc: 0.9854\n",
            "Epoch 426/500\n",
            "91759/91759 [==============================] - 2s 23us/step - loss: 0.0388 - acc: 0.9852 - val_loss: 0.0383 - val_acc: 0.9854\n",
            "Epoch 427/500\n",
            "91759/91759 [==============================] - 2s 23us/step - loss: 0.0388 - acc: 0.9852 - val_loss: 0.0383 - val_acc: 0.9854\n",
            "Epoch 428/500\n",
            "91759/91759 [==============================] - 2s 23us/step - loss: 0.0388 - acc: 0.9852 - val_loss: 0.0383 - val_acc: 0.9854\n",
            "Epoch 429/500\n",
            "91759/91759 [==============================] - 2s 23us/step - loss: 0.0388 - acc: 0.9852 - val_loss: 0.0383 - val_acc: 0.9854\n",
            "Epoch 430/500\n",
            "91759/91759 [==============================] - 2s 23us/step - loss: 0.0388 - acc: 0.9852 - val_loss: 0.0383 - val_acc: 0.9854\n",
            "Epoch 431/500\n",
            "25200/91759 [=======>......................] - ETA: 1s - loss: 0.0344 - acc: 0.9869"
          ],
          "name": "stdout"
        },
        {
          "output_type": "stream",
          "text": [
            "91759/91759 [==============================] - 2s 23us/step - loss: 0.0388 - acc: 0.9852 - val_loss: 0.0383 - val_acc: 0.9854\n",
            "Epoch 432/500\n",
            "91759/91759 [==============================] - 2s 23us/step - loss: 0.0388 - acc: 0.9852 - val_loss: 0.0383 - val_acc: 0.9854\n",
            "Epoch 433/500\n",
            "91759/91759 [==============================] - 2s 23us/step - loss: 0.0388 - acc: 0.9852 - val_loss: 0.0383 - val_acc: 0.9854\n",
            "Epoch 434/500\n",
            "91759/91759 [==============================] - 2s 23us/step - loss: 0.0388 - acc: 0.9852 - val_loss: 0.0383 - val_acc: 0.9854\n",
            "Epoch 435/500\n",
            "91759/91759 [==============================] - 2s 23us/step - loss: 0.0388 - acc: 0.9852 - val_loss: 0.0383 - val_acc: 0.9854\n",
            "Epoch 436/500\n",
            "91759/91759 [==============================] - 2s 23us/step - loss: 0.0388 - acc: 0.9852 - val_loss: 0.0383 - val_acc: 0.9854\n",
            "Epoch 437/500\n",
            "24800/91759 [=======>......................] - ETA: 1s - loss: 0.0393 - acc: 0.9847"
          ],
          "name": "stdout"
        },
        {
          "output_type": "stream",
          "text": [
            "91759/91759 [==============================] - 2s 23us/step - loss: 0.0388 - acc: 0.9852 - val_loss: 0.0383 - val_acc: 0.9854\n",
            "Epoch 438/500\n",
            "91759/91759 [==============================] - 2s 23us/step - loss: 0.0388 - acc: 0.9852 - val_loss: 0.0383 - val_acc: 0.9854\n",
            "Epoch 439/500\n",
            "91759/91759 [==============================] - 2s 23us/step - loss: 0.0388 - acc: 0.9852 - val_loss: 0.0383 - val_acc: 0.9854\n",
            "Epoch 440/500\n",
            "91759/91759 [==============================] - 2s 22us/step - loss: 0.0388 - acc: 0.9852 - val_loss: 0.0383 - val_acc: 0.9854\n",
            "Epoch 441/500\n",
            "91759/91759 [==============================] - 2s 23us/step - loss: 0.0388 - acc: 0.9852 - val_loss: 0.0383 - val_acc: 0.9854\n",
            "Epoch 442/500\n",
            "91759/91759 [==============================] - 2s 23us/step - loss: 0.0388 - acc: 0.9852 - val_loss: 0.0382 - val_acc: 0.9854\n",
            "Epoch 443/500\n",
            "22000/91759 [======>.......................] - ETA: 1s - loss: 0.0385 - acc: 0.9848"
          ],
          "name": "stdout"
        },
        {
          "output_type": "stream",
          "text": [
            "91759/91759 [==============================] - 2s 23us/step - loss: 0.0388 - acc: 0.9852 - val_loss: 0.0383 - val_acc: 0.9854\n",
            "Epoch 444/500\n",
            "91759/91759 [==============================] - 2s 23us/step - loss: 0.0388 - acc: 0.9852 - val_loss: 0.0382 - val_acc: 0.9854\n",
            "Epoch 445/500\n",
            "91759/91759 [==============================] - 2s 23us/step - loss: 0.0388 - acc: 0.9852 - val_loss: 0.0382 - val_acc: 0.9854\n",
            "Epoch 446/500\n",
            "91759/91759 [==============================] - 2s 23us/step - loss: 0.0388 - acc: 0.9852 - val_loss: 0.0382 - val_acc: 0.9854\n",
            "Epoch 447/500\n",
            "91759/91759 [==============================] - 2s 23us/step - loss: 0.0388 - acc: 0.9852 - val_loss: 0.0382 - val_acc: 0.9854\n",
            "Epoch 448/500\n",
            "91759/91759 [==============================] - 2s 23us/step - loss: 0.0388 - acc: 0.9852 - val_loss: 0.0382 - val_acc: 0.9854\n",
            "Epoch 449/500\n",
            "22000/91759 [======>.......................] - ETA: 1s - loss: 0.0371 - acc: 0.9860"
          ],
          "name": "stdout"
        },
        {
          "output_type": "stream",
          "text": [
            "91759/91759 [==============================] - 2s 23us/step - loss: 0.0388 - acc: 0.9852 - val_loss: 0.0382 - val_acc: 0.9854\n",
            "Epoch 450/500\n",
            "91759/91759 [==============================] - 2s 23us/step - loss: 0.0388 - acc: 0.9852 - val_loss: 0.0382 - val_acc: 0.9854\n",
            "Epoch 451/500\n",
            "91759/91759 [==============================] - 2s 23us/step - loss: 0.0388 - acc: 0.9852 - val_loss: 0.0382 - val_acc: 0.9854\n",
            "Epoch 452/500\n",
            "91759/91759 [==============================] - 2s 23us/step - loss: 0.0388 - acc: 0.9852 - val_loss: 0.0382 - val_acc: 0.9854\n",
            "Epoch 453/500\n",
            "91759/91759 [==============================] - 2s 23us/step - loss: 0.0388 - acc: 0.9852 - val_loss: 0.0382 - val_acc: 0.9854\n",
            "Epoch 454/500\n",
            "91759/91759 [==============================] - 2s 23us/step - loss: 0.0388 - acc: 0.9852 - val_loss: 0.0382 - val_acc: 0.9854\n",
            "Epoch 455/500\n",
            "22000/91759 [======>.......................] - ETA: 1s - loss: 0.0387 - acc: 0.9846"
          ],
          "name": "stdout"
        },
        {
          "output_type": "stream",
          "text": [
            "91759/91759 [==============================] - 2s 23us/step - loss: 0.0388 - acc: 0.9852 - val_loss: 0.0382 - val_acc: 0.9854\n",
            "Epoch 456/500\n",
            "91759/91759 [==============================] - 2s 23us/step - loss: 0.0388 - acc: 0.9852 - val_loss: 0.0382 - val_acc: 0.9854\n",
            "Epoch 457/500\n",
            "91759/91759 [==============================] - 2s 23us/step - loss: 0.0388 - acc: 0.9852 - val_loss: 0.0382 - val_acc: 0.9854\n",
            "Epoch 458/500\n",
            "91759/91759 [==============================] - 2s 22us/step - loss: 0.0388 - acc: 0.9852 - val_loss: 0.0382 - val_acc: 0.9854\n",
            "Epoch 459/500\n",
            "91759/91759 [==============================] - 2s 22us/step - loss: 0.0388 - acc: 0.9852 - val_loss: 0.0382 - val_acc: 0.9854\n",
            "Epoch 460/500\n",
            "91759/91759 [==============================] - 2s 23us/step - loss: 0.0388 - acc: 0.9852 - val_loss: 0.0382 - val_acc: 0.9854\n",
            "Epoch 461/500\n",
            "24800/91759 [=======>......................] - ETA: 1s - loss: 0.0406 - acc: 0.9839"
          ],
          "name": "stdout"
        },
        {
          "output_type": "stream",
          "text": [
            "91759/91759 [==============================] - 2s 23us/step - loss: 0.0388 - acc: 0.9852 - val_loss: 0.0382 - val_acc: 0.9854\n",
            "Epoch 462/500\n",
            "91759/91759 [==============================] - 2s 23us/step - loss: 0.0388 - acc: 0.9852 - val_loss: 0.0382 - val_acc: 0.9854\n",
            "Epoch 463/500\n",
            "91759/91759 [==============================] - 2s 22us/step - loss: 0.0388 - acc: 0.9852 - val_loss: 0.0382 - val_acc: 0.9854\n",
            "Epoch 464/500\n",
            "91759/91759 [==============================] - 2s 23us/step - loss: 0.0387 - acc: 0.9852 - val_loss: 0.0382 - val_acc: 0.9854\n",
            "Epoch 465/500\n",
            "91759/91759 [==============================] - 2s 23us/step - loss: 0.0387 - acc: 0.9852 - val_loss: 0.0382 - val_acc: 0.9854\n",
            "Epoch 466/500\n",
            "91759/91759 [==============================] - 2s 23us/step - loss: 0.0387 - acc: 0.9852 - val_loss: 0.0382 - val_acc: 0.9854\n",
            "Epoch 467/500\n",
            "24800/91759 [=======>......................] - ETA: 1s - loss: 0.0402 - acc: 0.9843"
          ],
          "name": "stdout"
        },
        {
          "output_type": "stream",
          "text": [
            "91759/91759 [==============================] - 2s 23us/step - loss: 0.0387 - acc: 0.9852 - val_loss: 0.0382 - val_acc: 0.9854\n",
            "Epoch 468/500\n",
            "91759/91759 [==============================] - 2s 23us/step - loss: 0.0387 - acc: 0.9852 - val_loss: 0.0382 - val_acc: 0.9854\n",
            "Epoch 469/500\n",
            "91759/91759 [==============================] - 2s 23us/step - loss: 0.0387 - acc: 0.9852 - val_loss: 0.0382 - val_acc: 0.9854\n",
            "Epoch 470/500\n",
            "91759/91759 [==============================] - 2s 23us/step - loss: 0.0387 - acc: 0.9852 - val_loss: 0.0382 - val_acc: 0.9854\n",
            "Epoch 471/500\n",
            "91759/91759 [==============================] - 2s 23us/step - loss: 0.0387 - acc: 0.9852 - val_loss: 0.0382 - val_acc: 0.9854\n",
            "Epoch 472/500\n",
            "91759/91759 [==============================] - 2s 23us/step - loss: 0.0387 - acc: 0.9852 - val_loss: 0.0382 - val_acc: 0.9854\n",
            "Epoch 473/500\n",
            "19600/91759 [=====>........................] - ETA: 1s - loss: 0.0395 - acc: 0.9852"
          ],
          "name": "stdout"
        },
        {
          "output_type": "stream",
          "text": [
            "91759/91759 [==============================] - 2s 23us/step - loss: 0.0387 - acc: 0.9852 - val_loss: 0.0382 - val_acc: 0.9854\n",
            "Epoch 474/500\n",
            "91759/91759 [==============================] - 2s 23us/step - loss: 0.0387 - acc: 0.9852 - val_loss: 0.0382 - val_acc: 0.9854\n",
            "Epoch 475/500\n",
            "91759/91759 [==============================] - 2s 23us/step - loss: 0.0387 - acc: 0.9852 - val_loss: 0.0382 - val_acc: 0.9854\n",
            "Epoch 476/500\n",
            "91759/91759 [==============================] - 2s 23us/step - loss: 0.0387 - acc: 0.9852 - val_loss: 0.0382 - val_acc: 0.9854\n",
            "Epoch 477/500\n",
            "91759/91759 [==============================] - 2s 23us/step - loss: 0.0387 - acc: 0.9852 - val_loss: 0.0382 - val_acc: 0.9854\n",
            "Epoch 478/500\n",
            "91759/91759 [==============================] - 2s 23us/step - loss: 0.0387 - acc: 0.9852 - val_loss: 0.0382 - val_acc: 0.9854\n",
            "Epoch 479/500\n",
            "24800/91759 [=======>......................] - ETA: 1s - loss: 0.0386 - acc: 0.9852"
          ],
          "name": "stdout"
        },
        {
          "output_type": "stream",
          "text": [
            "91759/91759 [==============================] - 2s 23us/step - loss: 0.0387 - acc: 0.9852 - val_loss: 0.0382 - val_acc: 0.9854\n",
            "Epoch 480/500\n",
            "91759/91759 [==============================] - 2s 23us/step - loss: 0.0387 - acc: 0.9852 - val_loss: 0.0382 - val_acc: 0.9854\n",
            "Epoch 481/500\n",
            "91759/91759 [==============================] - 2s 23us/step - loss: 0.0387 - acc: 0.9852 - val_loss: 0.0382 - val_acc: 0.9854\n",
            "Epoch 482/500\n",
            "91759/91759 [==============================] - 2s 23us/step - loss: 0.0387 - acc: 0.9852 - val_loss: 0.0382 - val_acc: 0.9854\n",
            "Epoch 483/500\n",
            "91759/91759 [==============================] - 2s 23us/step - loss: 0.0387 - acc: 0.9852 - val_loss: 0.0382 - val_acc: 0.9854\n",
            "Epoch 484/500\n",
            "91759/91759 [==============================] - 2s 23us/step - loss: 0.0387 - acc: 0.9852 - val_loss: 0.0382 - val_acc: 0.9854\n",
            "Epoch 485/500\n",
            "24800/91759 [=======>......................] - ETA: 1s - loss: 0.0392 - acc: 0.9846"
          ],
          "name": "stdout"
        },
        {
          "output_type": "stream",
          "text": [
            "91759/91759 [==============================] - 2s 23us/step - loss: 0.0387 - acc: 0.9852 - val_loss: 0.0382 - val_acc: 0.9854\n",
            "Epoch 486/500\n",
            "91759/91759 [==============================] - 2s 23us/step - loss: 0.0387 - acc: 0.9852 - val_loss: 0.0382 - val_acc: 0.9854\n",
            "Epoch 487/500\n",
            "91759/91759 [==============================] - 2s 23us/step - loss: 0.0387 - acc: 0.9852 - val_loss: 0.0382 - val_acc: 0.9854\n",
            "Epoch 488/500\n",
            "91759/91759 [==============================] - 2s 23us/step - loss: 0.0387 - acc: 0.9852 - val_loss: 0.0382 - val_acc: 0.9854\n",
            "Epoch 489/500\n",
            "91759/91759 [==============================] - 2s 23us/step - loss: 0.0387 - acc: 0.9852 - val_loss: 0.0382 - val_acc: 0.9854\n",
            "Epoch 490/500\n",
            "91759/91759 [==============================] - 2s 23us/step - loss: 0.0387 - acc: 0.9852 - val_loss: 0.0382 - val_acc: 0.9854\n",
            "Epoch 491/500\n",
            "24800/91759 [=======>......................] - ETA: 1s - loss: 0.0364 - acc: 0.9862"
          ],
          "name": "stdout"
        },
        {
          "output_type": "stream",
          "text": [
            "91759/91759 [==============================] - 2s 23us/step - loss: 0.0387 - acc: 0.9852 - val_loss: 0.0382 - val_acc: 0.9854\n",
            "Epoch 492/500\n",
            "91759/91759 [==============================] - 2s 23us/step - loss: 0.0387 - acc: 0.9852 - val_loss: 0.0382 - val_acc: 0.9854\n",
            "Epoch 493/500\n",
            "91759/91759 [==============================] - 2s 23us/step - loss: 0.0387 - acc: 0.9852 - val_loss: 0.0382 - val_acc: 0.9854\n",
            "Epoch 494/500\n",
            "91759/91759 [==============================] - 2s 23us/step - loss: 0.0387 - acc: 0.9852 - val_loss: 0.0382 - val_acc: 0.9854\n",
            "Epoch 495/500\n",
            "91759/91759 [==============================] - 2s 23us/step - loss: 0.0387 - acc: 0.9852 - val_loss: 0.0382 - val_acc: 0.9854\n",
            "Epoch 496/500\n",
            "91759/91759 [==============================] - 2s 23us/step - loss: 0.0387 - acc: 0.9852 - val_loss: 0.0382 - val_acc: 0.9854\n",
            "Epoch 497/500\n",
            "22400/91759 [======>.......................] - ETA: 1s - loss: 0.0405 - acc: 0.9838"
          ],
          "name": "stdout"
        },
        {
          "output_type": "stream",
          "text": [
            "91759/91759 [==============================] - 2s 23us/step - loss: 0.0387 - acc: 0.9852 - val_loss: 0.0382 - val_acc: 0.9854\n",
            "Epoch 498/500\n",
            "91759/91759 [==============================] - 2s 23us/step - loss: 0.0387 - acc: 0.9852 - val_loss: 0.0382 - val_acc: 0.9854\n",
            "Epoch 499/500\n",
            "91759/91759 [==============================] - 2s 23us/step - loss: 0.0387 - acc: 0.9852 - val_loss: 0.0382 - val_acc: 0.9854\n",
            "Epoch 500/500\n",
            "91759/91759 [==============================] - 2s 23us/step - loss: 0.0387 - acc: 0.9852 - val_loss: 0.0382 - val_acc: 0.9854\n"
          ],
          "name": "stdout"
        },
        {
          "output_type": "execute_result",
          "data": {
            "text/plain": [
              "<keras.callbacks.History at 0x7f7f96fdb710>"
            ]
          },
          "metadata": {
            "tags": []
          },
          "execution_count": 41
        }
      ]
    },
    {
      "metadata": {
        "id": "VBiG2QCyIpxB",
        "colab_type": "code",
        "colab": {
          "base_uri": "https://localhost:8080/",
          "height": 376
        },
        "outputId": "c6487195-7eae-45eb-a8ea-731ad0c96f35"
      },
      "cell_type": "code",
      "source": [
        "plt.plot(hist.history['acc'])\n",
        "plt.plot(hist.history['val_acc'])\n",
        "plt.title('model accuracy')\n",
        "plt.ylabel('accuracy')\n",
        "plt.xlabel('epoch')\n",
        "plt.legend(['train', 'test'], loc='upper left')\n",
        "plt.show()"
      ],
      "execution_count": 42,
      "outputs": [
        {
          "output_type": "display_data",
          "data": {
            "image/png": "[encoded data removed]",
            "text/plain": [
              "<matplotlib.figure.Figure at 0x7f7f9653ff60>"
            ]
          },
          "metadata": {
            "tags": []
          }
        }
      ]
    },
    {
      "metadata": {
        "id": "zfbfU7g5IsQ3",
        "colab_type": "code",
        "colab": {
          "base_uri": "https://localhost:8080/",
          "height": 376
        },
        "outputId": "e2458eaf-53f9-4fef-db13-29ac93c070c6"
      },
      "cell_type": "code",
      "source": [
        "\n",
        "plt.plot(hist.history['loss'])\n",
        "plt.plot(hist.history['val_loss'])\n",
        "plt.title('model loss')\n",
        "plt.ylabel('loss')\n",
        "plt.xlabel('epoch')\n",
        "plt.legend(['train', 'test'], loc='upper left')\n",
        "plt.show()"
      ],
      "execution_count": 43,
      "outputs": [
        {
          "output_type": "display_data",
          "data": {
            "image/png": "[encoded data removed]",
            "text/plain": [
              "<matplotlib.figure.Figure at 0x7f7fa5391470>"
            ]
          },
          "metadata": {
            "tags": []
          }
        }
      ]
    },
    {
      "metadata": {
        "id": "BBzU6j6UZcGZ",
        "colab_type": "code",
        "colab": {
          "base_uri": "https://localhost:8080/",
          "height": 54
        },
        "outputId": "9354bc3a-d026-458e-f7b3-ba205a8f25ed"
      },
      "cell_type": "code",
      "source": [
        "model.evaluate(X_test,y_test)"
      ],
      "execution_count": 44,
      "outputs": [
        {
          "output_type": "stream",
          "text": [
            "39326/39326 [==============================] - 3s 73us/step\n"
          ],
          "name": "stdout"
        },
        {
          "output_type": "execute_result",
          "data": {
            "text/plain": [
              "[0.03816475689746172, 0.9853786299140518]"
            ]
          },
          "metadata": {
            "tags": []
          },
          "execution_count": 44
        }
      ]
    },
    {
      "metadata": {
        "id": "xRnm94jFZqlp",
        "colab_type": "code",
        "colab": {}
      },
      "cell_type": "code",
      "source": [
        "pred = model.predict(X_test)\n"
      ],
      "execution_count": 0,
      "outputs": []
    },
    {
      "metadata": {
        "id": "L2KzpwWuZFwf",
        "colab_type": "code",
        "colab": {}
      },
      "cell_type": "code",
      "source": [
        "y_pred_keras = model.predict(X_test).ravel()\n",
        "fpr_keras, tpr_keras, thresholds_keras = roc_curve(y_test, y_pred_keras)"
      ],
      "execution_count": 0,
      "outputs": []
    },
    {
      "metadata": {
        "id": "00oXDnLPZsai",
        "colab_type": "code",
        "colab": {}
      },
      "cell_type": "code",
      "source": [
        "auc_keras = auc(fpr_keras, tpr_keras)"
      ],
      "execution_count": 0,
      "outputs": []
    },
    {
      "metadata": {
        "id": "tMPDg6bcZPRp",
        "colab_type": "code",
        "colab": {}
      },
      "cell_type": "code",
      "source": [
        "rf = RandomForestClassifier(max_depth=3, n_estimators=10)\n",
        "rf.fit(X_train, y_train)\n",
        "\n",
        "y_pred_rf = rf.predict_proba(X_test)[:, 1]\n",
        "fpr_rf, tpr_rf, thresholds_rf = roc_curve(y_test, y_pred_rf)\n",
        "auc_rf = auc(fpr_rf, tpr_rf)"
      ],
      "execution_count": 0,
      "outputs": []
    },
    {
      "metadata": {
        "id": "sZcH0SfNZudr",
        "colab_type": "code",
        "colab": {
          "base_uri": "https://localhost:8080/",
          "height": 735
        },
        "outputId": "b4205a34-9dad-44ce-b16e-7ba9d5632a9f"
      },
      "cell_type": "code",
      "source": [
        "plt.figure(1)\n",
        "plt.plot([0, 1], [0, 1], 'k--')\n",
        "plt.plot(fpr_keras, tpr_keras, label='Keras (area = {:.3f})'.format(auc_keras))\n",
        "plt.plot(fpr_rf, tpr_rf, label='RF (area = {:.3f})'.format(auc_rf))\n",
        "plt.xlabel('False positive rate')\n",
        "plt.ylabel('True positive rate')\n",
        "plt.title('ROC curve')\n",
        "plt.legend(loc='best')\n",
        "plt.show()\n",
        "# Zoom in view of the upper left corner.\n",
        "plt.figure(2)\n",
        "plt.xlim(0, 0.2)\n",
        "plt.ylim(0.8, 1)\n",
        "plt.plot([0, 1], [0, 1], 'k--')\n",
        "plt.plot(fpr_keras, tpr_keras, label='Keras (area = {:.3f})'.format(auc_keras))\n",
        "plt.plot(fpr_rf, tpr_rf, label='RF (area = {:.3f})'.format(auc_rf))\n",
        "plt.xlabel('False positive rate')\n",
        "plt.ylabel('True positive rate')\n",
        "plt.title('ROC curve (zoomed in at top left)')\n",
        "plt.legend(loc='best')\n",
        "plt.show()"
      ],
      "execution_count": 49,
      "outputs": [
        {
          "output_type": "display_data",
          "data": {
            "image/png": "[encoded data removed]",
            "text/plain": [
              "<matplotlib.figure.Figure at 0x7f7f96441208>"
            ]
          },
          "metadata": {
            "tags": []
          }
        },
        {
          "output_type": "display_data",
          "data": {
            "image/png": "[encoded data removed]",
            "text/plain": [
              "<matplotlib.figure.Figure at 0x7f7f96355390>"
            ]
          },
          "metadata": {
            "tags": []
          }
        }
      ]
    },
    {
      "metadata": {
        "id": "EWw4QkN8aFac",
        "colab_type": "text"
      },
      "cell_type": "markdown",
      "source": [
        "# ROC and AUC:\n",
        "\n",
        "As it is possible to notice, Neural Network will converge much faster than the RF, per false positive rate, to the true positive rate. On the other side, the same convergence will be evaluated in the case of TP vs FN elements. "
      ]
    },
    {
      "metadata": {
        "id": "CipOJnvEaH1Y",
        "colab_type": "code",
        "colab": {}
      },
      "cell_type": "code",
      "source": [
        "lod = []\n",
        "for el in pred:\n",
        "  if el >= 0.5:\n",
        "    lod.append(1)\n",
        "  else:\n",
        "    lod.append(0)"
      ],
      "execution_count": 0,
      "outputs": []
    },
    {
      "metadata": {
        "id": "QgFRYwshasGm",
        "colab_type": "code",
        "colab": {}
      },
      "cell_type": "code",
      "source": [
        "lod = np.array(lod)"
      ],
      "execution_count": 0,
      "outputs": []
    },
    {
      "metadata": {
        "id": "_UY0fdGHZxRU",
        "colab_type": "code",
        "colab": {
          "base_uri": "https://localhost:8080/",
          "height": 240
        },
        "outputId": "05a48c3f-0b93-4de5-8f0f-1b3247e9afee"
      },
      "cell_type": "code",
      "source": [
        "print(\"\\n########### Precision score is {} ###########\\n\".format(precision_score(y_test,lod)))\n",
        "print(\"\\n########### Recall Score is of {} ###########\\n\".format(recall_score(y_test,lod)))\n",
        "print(\"\\n############# F1 Score is of {} #############\\n\".format(f1_score(y_test,lod)))\n",
        "print(\"\\n########## Accuracy Score is of {} ##########\\n\".format(accuracy_score(y_test,lod)))"
      ],
      "execution_count": 52,
      "outputs": [
        {
          "output_type": "stream",
          "text": [
            "\n",
            "########### Precision score is 0.7584158415841584 ###########\n",
            "\n",
            "\n",
            "########### Recall Score is of 0.8460972017673049 ###########\n",
            "\n",
            "\n",
            "############# F1 Score is of 0.7998607727114514 #############\n",
            "\n",
            "\n",
            "########## Accuracy Score is of 0.9853786299140518 ##########\n",
            "\n"
          ],
          "name": "stdout"
        }
      ]
    },
    {
      "metadata": {
        "id": "bRvsU6_SbPdq",
        "colab_type": "text"
      },
      "cell_type": "markdown",
      "source": [
        "# NN SVD"
      ]
    },
    {
      "metadata": {
        "id": "XyDTpWb-b-Pt",
        "colab_type": "code",
        "colab": {}
      },
      "cell_type": "code",
      "source": [
        "opt = Adam(lr=0.0003,decay=0.00001)"
      ],
      "execution_count": 0,
      "outputs": []
    },
    {
      "metadata": {
        "id": "rXR8kt_qbirm",
        "colab_type": "code",
        "colab": {}
      },
      "cell_type": "code",
      "source": [
        "model1 = Sequential()\n",
        "model1.add(Dense(units = 10, activation = 'relu', input_dim = 40 ))\n",
        "model1.add(Dense(units = 15, activation = 'softmax'))\n",
        "model1.add(Dense(units = 5, activation = 'relu'))\n",
        "model1.add(Dense(units = 1, activation = 'sigmoid'))"
      ],
      "execution_count": 0,
      "outputs": []
    },
    {
      "metadata": {
        "id": "URMT0gYpbin4",
        "colab_type": "code",
        "colab": {}
      },
      "cell_type": "code",
      "source": [
        "model1.compile(optimizer = opt,loss='binary_crossentropy',metrics = ['accuracy'])"
      ],
      "execution_count": 0,
      "outputs": []
    },
    {
      "metadata": {
        "id": "3x4Ym6uFgFXt",
        "colab_type": "code",
        "colab": {
          "base_uri": "https://localhost:8080/",
          "height": 18641
        },
        "outputId": "630af05b-b481-40e1-f318-a1c90a70a8d7"
      },
      "cell_type": "code",
      "source": [
        "model1.fit(X_train_svd, y_train, validation_data=(X_test_svd,y_test), batch_size = 100, epochs = 500,callbacks=[hist])"
      ],
      "execution_count": 56,
      "outputs": [
        {
          "output_type": "stream",
          "text": [
            "Train on 91759 samples, validate on 39326 samples\n",
            "Epoch 1/500\n",
            "91759/91759 [==============================] - 8s 92us/step - loss: 0.3142 - acc: 0.9655 - val_loss: 0.1265 - val_acc: 0.9655\n",
            "Epoch 2/500\n",
            "91759/91759 [==============================] - 8s 88us/step - loss: 0.0923 - acc: 0.9682 - val_loss: 0.0716 - val_acc: 0.9774\n",
            "Epoch 3/500\n",
            "66000/91759 [====================>.........] - ETA: 2s - loss: 0.0686 - acc: 0.9793"
          ],
          "name": "stdout"
        },
        {
          "output_type": "stream",
          "text": [
            "91759/91759 [==============================] - 8s 89us/step - loss: 0.0676 - acc: 0.9795 - val_loss: 0.0623 - val_acc: 0.9804\n",
            "Epoch 4/500\n",
            "91759/91759 [==============================] - 8s 89us/step - loss: 0.0621 - acc: 0.9801 - val_loss: 0.0588 - val_acc: 0.9809\n",
            "Epoch 5/500\n",
            "91759/91759 [==============================] - 8s 88us/step - loss: 0.0593 - acc: 0.9803 - val_loss: 0.0559 - val_acc: 0.9810\n",
            "Epoch 6/500\n",
            "23000/91759 [======>.......................] - ETA: 5s - loss: 0.0550 - acc: 0.9824"
          ],
          "name": "stdout"
        },
        {
          "output_type": "stream",
          "text": [
            "91759/91759 [==============================] - 8s 89us/step - loss: 0.0560 - acc: 0.9805 - val_loss: 0.0525 - val_acc: 0.9808\n",
            "Epoch 7/500\n",
            "91759/91759 [==============================] - 8s 89us/step - loss: 0.0526 - acc: 0.9808 - val_loss: 0.0500 - val_acc: 0.9812\n",
            "Epoch 8/500\n",
            "91759/91759 [==============================] - 8s 89us/step - loss: 0.0505 - acc: 0.9811 - val_loss: 0.0484 - val_acc: 0.9813\n",
            "Epoch 9/500\n",
            "15900/91759 [====>.........................] - ETA: 6s - loss: 0.0505 - acc: 0.9820"
          ],
          "name": "stdout"
        },
        {
          "output_type": "stream",
          "text": [
            "91759/91759 [==============================] - 8s 88us/step - loss: 0.0493 - acc: 0.9812 - val_loss: 0.0475 - val_acc: 0.9815\n",
            "Epoch 10/500\n",
            "91759/91759 [==============================] - 8s 88us/step - loss: 0.0485 - acc: 0.9813 - val_loss: 0.0467 - val_acc: 0.9816\n",
            "Epoch 11/500\n",
            "91759/91759 [==============================] - 8s 89us/step - loss: 0.0478 - acc: 0.9814 - val_loss: 0.0459 - val_acc: 0.9816\n",
            "Epoch 12/500\n",
            "13700/91759 [===>..........................] - ETA: 6s - loss: 0.0485 - acc: 0.9807"
          ],
          "name": "stdout"
        },
        {
          "output_type": "stream",
          "text": [
            "91759/91759 [==============================] - 8s 88us/step - loss: 0.0470 - acc: 0.9814 - val_loss: 0.0452 - val_acc: 0.9818\n",
            "Epoch 13/500\n",
            "91759/91759 [==============================] - 8s 89us/step - loss: 0.0464 - acc: 0.9815 - val_loss: 0.0447 - val_acc: 0.9819\n",
            "Epoch 14/500\n",
            "91759/91759 [==============================] - 8s 88us/step - loss: 0.0458 - acc: 0.9817 - val_loss: 0.0440 - val_acc: 0.9820\n",
            "Epoch 15/500\n",
            "13700/91759 [===>..........................] - ETA: 6s - loss: 0.0460 - acc: 0.9822"
          ],
          "name": "stdout"
        },
        {
          "output_type": "stream",
          "text": [
            "91759/91759 [==============================] - 8s 89us/step - loss: 0.0453 - acc: 0.9817 - val_loss: 0.0436 - val_acc: 0.9821\n",
            "Epoch 16/500\n",
            "91759/91759 [==============================] - 8s 89us/step - loss: 0.0448 - acc: 0.9817 - val_loss: 0.0434 - val_acc: 0.9821\n",
            "Epoch 17/500\n",
            "91759/91759 [==============================] - 8s 89us/step - loss: 0.0444 - acc: 0.9817 - val_loss: 0.0429 - val_acc: 0.9820\n",
            "Epoch 18/500\n",
            "13100/91759 [===>..........................] - ETA: 6s - loss: 0.0458 - acc: 0.9819"
          ],
          "name": "stdout"
        },
        {
          "output_type": "stream",
          "text": [
            "91759/91759 [==============================] - 8s 88us/step - loss: 0.0439 - acc: 0.9817 - val_loss: 0.0426 - val_acc: 0.9821\n",
            "Epoch 19/500\n",
            "91759/91759 [==============================] - 8s 89us/step - loss: 0.0435 - acc: 0.9817 - val_loss: 0.0423 - val_acc: 0.9820\n",
            "Epoch 20/500\n",
            "91759/91759 [==============================] - 8s 89us/step - loss: 0.0431 - acc: 0.9818 - val_loss: 0.0417 - val_acc: 0.9820\n",
            "Epoch 21/500\n",
            "13400/91759 [===>..........................] - ETA: 6s - loss: 0.0403 - acc: 0.9828"
          ],
          "name": "stdout"
        },
        {
          "output_type": "stream",
          "text": [
            "91759/91759 [==============================] - 8s 89us/step - loss: 0.0427 - acc: 0.9821 - val_loss: 0.0412 - val_acc: 0.9821\n",
            "Epoch 22/500\n",
            "91759/91759 [==============================] - 8s 89us/step - loss: 0.0424 - acc: 0.9827 - val_loss: 0.0411 - val_acc: 0.9833\n",
            "Epoch 23/500\n",
            "91759/91759 [==============================] - 8s 89us/step - loss: 0.0423 - acc: 0.9832 - val_loss: 0.0405 - val_acc: 0.9833\n",
            "Epoch 24/500\n",
            "13700/91759 [===>..........................] - ETA: 6s - loss: 0.0443 - acc: 0.9832"
          ],
          "name": "stdout"
        },
        {
          "output_type": "stream",
          "text": [
            "91759/91759 [==============================] - 8s 89us/step - loss: 0.0420 - acc: 0.9832 - val_loss: 0.0404 - val_acc: 0.9834\n",
            "Epoch 25/500\n",
            "91759/91759 [==============================] - 8s 89us/step - loss: 0.0419 - acc: 0.9832 - val_loss: 0.0401 - val_acc: 0.9834\n",
            "Epoch 26/500\n",
            "91759/91759 [==============================] - 8s 88us/step - loss: 0.0417 - acc: 0.9832 - val_loss: 0.0400 - val_acc: 0.9833\n",
            "Epoch 27/500\n",
            "13700/91759 [===>..........................] - ETA: 6s - loss: 0.0427 - acc: 0.9819"
          ],
          "name": "stdout"
        },
        {
          "output_type": "stream",
          "text": [
            "91759/91759 [==============================] - 8s 89us/step - loss: 0.0415 - acc: 0.9832 - val_loss: 0.0398 - val_acc: 0.9834\n",
            "Epoch 28/500\n",
            "91759/91759 [==============================] - 8s 88us/step - loss: 0.0413 - acc: 0.9832 - val_loss: 0.0396 - val_acc: 0.9834\n",
            "Epoch 29/500\n",
            "91759/91759 [==============================] - 8s 89us/step - loss: 0.0412 - acc: 0.9832 - val_loss: 0.0396 - val_acc: 0.9835\n",
            "Epoch 30/500\n",
            "13800/91759 [===>..........................] - ETA: 6s - loss: 0.0389 - acc: 0.9854"
          ],
          "name": "stdout"
        },
        {
          "output_type": "stream",
          "text": [
            "91759/91759 [==============================] - 8s 89us/step - loss: 0.0410 - acc: 0.9832 - val_loss: 0.0394 - val_acc: 0.9834\n",
            "Epoch 31/500\n",
            "91759/91759 [==============================] - 8s 89us/step - loss: 0.0409 - acc: 0.9832 - val_loss: 0.0394 - val_acc: 0.9835\n",
            "Epoch 32/500\n",
            "91759/91759 [==============================] - 8s 89us/step - loss: 0.0407 - acc: 0.9833 - val_loss: 0.0393 - val_acc: 0.9835\n",
            "Epoch 33/500\n",
            "13700/91759 [===>..........................] - ETA: 6s - loss: 0.0404 - acc: 0.9836"
          ],
          "name": "stdout"
        },
        {
          "output_type": "stream",
          "text": [
            "91759/91759 [==============================] - 8s 89us/step - loss: 0.0406 - acc: 0.9833 - val_loss: 0.0395 - val_acc: 0.9834\n",
            "Epoch 34/500\n",
            "91759/91759 [==============================] - 8s 88us/step - loss: 0.0405 - acc: 0.9833 - val_loss: 0.0392 - val_acc: 0.9835\n",
            "Epoch 35/500\n",
            "91759/91759 [==============================] - 8s 87us/step - loss: 0.0404 - acc: 0.9833 - val_loss: 0.0394 - val_acc: 0.9834\n",
            "Epoch 36/500\n",
            "14600/91759 [===>..........................] - ETA: 6s - loss: 0.0382 - acc: 0.9845"
          ],
          "name": "stdout"
        },
        {
          "output_type": "stream",
          "text": [
            "91759/91759 [==============================] - 8s 88us/step - loss: 0.0403 - acc: 0.9833 - val_loss: 0.0387 - val_acc: 0.9835\n",
            "Epoch 37/500\n",
            "91759/91759 [==============================] - 8s 89us/step - loss: 0.0402 - acc: 0.9832 - val_loss: 0.0387 - val_acc: 0.9835\n",
            "Epoch 38/500\n",
            "91759/91759 [==============================] - 8s 88us/step - loss: 0.0402 - acc: 0.9833 - val_loss: 0.0386 - val_acc: 0.9835\n",
            "Epoch 39/500\n",
            "14200/91759 [===>..........................] - ETA: 6s - loss: 0.0408 - acc: 0.9828"
          ],
          "name": "stdout"
        },
        {
          "output_type": "stream",
          "text": [
            "91759/91759 [==============================] - 8s 89us/step - loss: 0.0401 - acc: 0.9832 - val_loss: 0.0386 - val_acc: 0.9835\n",
            "Epoch 40/500\n",
            "91759/91759 [==============================] - 8s 88us/step - loss: 0.0400 - acc: 0.9835 - val_loss: 0.0385 - val_acc: 0.9835\n",
            "Epoch 41/500\n",
            "91759/91759 [==============================] - 8s 89us/step - loss: 0.0400 - acc: 0.9835 - val_loss: 0.0387 - val_acc: 0.9835\n",
            "Epoch 42/500\n",
            "13900/91759 [===>..........................] - ETA: 6s - loss: 0.0400 - acc: 0.9839"
          ],
          "name": "stdout"
        },
        {
          "output_type": "stream",
          "text": [
            "91759/91759 [==============================] - 8s 88us/step - loss: 0.0399 - acc: 0.9834 - val_loss: 0.0384 - val_acc: 0.9835\n",
            "Epoch 43/500\n",
            "91759/91759 [==============================] - 8s 88us/step - loss: 0.0398 - acc: 0.9834 - val_loss: 0.0384 - val_acc: 0.9838\n",
            "Epoch 44/500\n",
            "91759/91759 [==============================] - 8s 88us/step - loss: 0.0398 - acc: 0.9840 - val_loss: 0.0383 - val_acc: 0.9837\n",
            "Epoch 45/500\n",
            "14500/91759 [===>..........................] - ETA: 6s - loss: 0.0384 - acc: 0.9840"
          ],
          "name": "stdout"
        },
        {
          "output_type": "stream",
          "text": [
            "91759/91759 [==============================] - 8s 88us/step - loss: 0.0397 - acc: 0.9839 - val_loss: 0.0381 - val_acc: 0.9848\n",
            "Epoch 46/500\n",
            "91759/91759 [==============================] - 8s 88us/step - loss: 0.0395 - acc: 0.9842 - val_loss: 0.0383 - val_acc: 0.9848\n",
            "Epoch 47/500\n",
            "91759/91759 [==============================] - 8s 89us/step - loss: 0.0395 - acc: 0.9842 - val_loss: 0.0379 - val_acc: 0.9848\n",
            "Epoch 48/500\n",
            "13500/91759 [===>..........................] - ETA: 6s - loss: 0.0418 - acc: 0.9839"
          ],
          "name": "stdout"
        },
        {
          "output_type": "stream",
          "text": [
            "91759/91759 [==============================] - 8s 88us/step - loss: 0.0395 - acc: 0.9843 - val_loss: 0.0379 - val_acc: 0.9847\n",
            "Epoch 49/500\n",
            "91759/91759 [==============================] - 8s 88us/step - loss: 0.0394 - acc: 0.9844 - val_loss: 0.0384 - val_acc: 0.9847\n",
            "Epoch 50/500\n",
            "91759/91759 [==============================] - 8s 89us/step - loss: 0.0394 - acc: 0.9846 - val_loss: 0.0378 - val_acc: 0.9848\n",
            "Epoch 51/500\n",
            "13900/91759 [===>..........................] - ETA: 6s - loss: 0.0384 - acc: 0.9835"
          ],
          "name": "stdout"
        },
        {
          "output_type": "stream",
          "text": [
            "91759/91759 [==============================] - 8s 88us/step - loss: 0.0393 - acc: 0.9846 - val_loss: 0.0378 - val_acc: 0.9853\n",
            "Epoch 52/500\n",
            "91759/91759 [==============================] - 8s 89us/step - loss: 0.0392 - acc: 0.9846 - val_loss: 0.0376 - val_acc: 0.9848\n",
            "Epoch 53/500\n",
            "91759/91759 [==============================] - 8s 88us/step - loss: 0.0392 - acc: 0.9847 - val_loss: 0.0377 - val_acc: 0.9854\n",
            "Epoch 54/500\n",
            "13600/91759 [===>..........................] - ETA: 6s - loss: 0.0407 - acc: 0.9840"
          ],
          "name": "stdout"
        },
        {
          "output_type": "stream",
          "text": [
            "91759/91759 [==============================] - 8s 88us/step - loss: 0.0391 - acc: 0.9848 - val_loss: 0.0376 - val_acc: 0.9848\n",
            "Epoch 55/500\n",
            "91759/91759 [==============================] - 8s 88us/step - loss: 0.0390 - acc: 0.9848 - val_loss: 0.0376 - val_acc: 0.9853\n",
            "Epoch 56/500\n",
            "91759/91759 [==============================] - 8s 89us/step - loss: 0.0389 - acc: 0.9849 - val_loss: 0.0379 - val_acc: 0.9848\n",
            "Epoch 57/500\n",
            "13700/91759 [===>..........................] - ETA: 6s - loss: 0.0411 - acc: 0.9845"
          ],
          "name": "stdout"
        },
        {
          "output_type": "stream",
          "text": [
            "91759/91759 [==============================] - 8s 88us/step - loss: 0.0390 - acc: 0.9849 - val_loss: 0.0377 - val_acc: 0.9853\n",
            "Epoch 58/500\n",
            "91759/91759 [==============================] - 8s 88us/step - loss: 0.0388 - acc: 0.9849 - val_loss: 0.0379 - val_acc: 0.9853\n",
            "Epoch 59/500\n",
            "91759/91759 [==============================] - 8s 88us/step - loss: 0.0389 - acc: 0.9850 - val_loss: 0.0377 - val_acc: 0.9847\n",
            "Epoch 60/500\n",
            "13700/91759 [===>..........................] - ETA: 6s - loss: 0.0355 - acc: 0.9854"
          ],
          "name": "stdout"
        },
        {
          "output_type": "stream",
          "text": [
            "91759/91759 [==============================] - 8s 88us/step - loss: 0.0387 - acc: 0.9849 - val_loss: 0.0377 - val_acc: 0.9853\n",
            "Epoch 61/500\n",
            "91759/91759 [==============================] - 8s 87us/step - loss: 0.0387 - acc: 0.9850 - val_loss: 0.0375 - val_acc: 0.9853\n",
            "Epoch 62/500\n",
            "91759/91759 [==============================] - 8s 88us/step - loss: 0.0386 - acc: 0.9850 - val_loss: 0.0375 - val_acc: 0.9853\n",
            "Epoch 63/500\n",
            "14500/91759 [===>..........................] - ETA: 6s - loss: 0.0369 - acc: 0.9854"
          ],
          "name": "stdout"
        },
        {
          "output_type": "stream",
          "text": [
            "91759/91759 [==============================] - 8s 87us/step - loss: 0.0385 - acc: 0.9849 - val_loss: 0.0375 - val_acc: 0.9853\n",
            "Epoch 64/500\n",
            "91759/91759 [==============================] - 8s 89us/step - loss: 0.0386 - acc: 0.9850 - val_loss: 0.0371 - val_acc: 0.9853\n",
            "Epoch 65/500\n",
            "91759/91759 [==============================] - 8s 87us/step - loss: 0.0385 - acc: 0.9850 - val_loss: 0.0372 - val_acc: 0.9852\n",
            "Epoch 66/500\n",
            "13800/91759 [===>..........................] - ETA: 6s - loss: 0.0400 - acc: 0.9841"
          ],
          "name": "stdout"
        },
        {
          "output_type": "stream",
          "text": [
            "91759/91759 [==============================] - 8s 88us/step - loss: 0.0385 - acc: 0.9850 - val_loss: 0.0371 - val_acc: 0.9853\n",
            "Epoch 67/500\n",
            "91759/91759 [==============================] - 8s 88us/step - loss: 0.0384 - acc: 0.9850 - val_loss: 0.0373 - val_acc: 0.9853\n",
            "Epoch 68/500\n",
            "91759/91759 [==============================] - 8s 88us/step - loss: 0.0383 - acc: 0.9850 - val_loss: 0.0373 - val_acc: 0.9853\n",
            "Epoch 69/500\n",
            "13700/91759 [===>..........................] - ETA: 6s - loss: 0.0403 - acc: 0.9842"
          ],
          "name": "stdout"
        },
        {
          "output_type": "stream",
          "text": [
            "91759/91759 [==============================] - 8s 88us/step - loss: 0.0383 - acc: 0.9851 - val_loss: 0.0373 - val_acc: 0.9853\n",
            "Epoch 70/500\n",
            "91759/91759 [==============================] - 8s 88us/step - loss: 0.0383 - acc: 0.9850 - val_loss: 0.0372 - val_acc: 0.9852\n",
            "Epoch 71/500\n",
            "91759/91759 [==============================] - 8s 88us/step - loss: 0.0382 - acc: 0.9851 - val_loss: 0.0373 - val_acc: 0.9853\n",
            "Epoch 72/500\n",
            "13600/91759 [===>..........................] - ETA: 6s - loss: 0.0366 - acc: 0.9856"
          ],
          "name": "stdout"
        },
        {
          "output_type": "stream",
          "text": [
            "91759/91759 [==============================] - 8s 88us/step - loss: 0.0382 - acc: 0.9851 - val_loss: 0.0371 - val_acc: 0.9853\n",
            "Epoch 73/500\n",
            "91759/91759 [==============================] - 8s 88us/step - loss: 0.0381 - acc: 0.9850 - val_loss: 0.0372 - val_acc: 0.9853\n",
            "Epoch 74/500\n",
            "91759/91759 [==============================] - 8s 88us/step - loss: 0.0382 - acc: 0.9851 - val_loss: 0.0371 - val_acc: 0.9854\n",
            "Epoch 75/500\n",
            "13600/91759 [===>..........................] - ETA: 6s - loss: 0.0359 - acc: 0.9859"
          ],
          "name": "stdout"
        },
        {
          "output_type": "stream",
          "text": [
            "91759/91759 [==============================] - 8s 89us/step - loss: 0.0380 - acc: 0.9851 - val_loss: 0.0371 - val_acc: 0.9853\n",
            "Epoch 76/500\n",
            "91759/91759 [==============================] - 8s 88us/step - loss: 0.0381 - acc: 0.9850 - val_loss: 0.0370 - val_acc: 0.9854\n",
            "Epoch 77/500\n",
            "91759/91759 [==============================] - 8s 88us/step - loss: 0.0380 - acc: 0.9851 - val_loss: 0.0370 - val_acc: 0.9853\n",
            "Epoch 78/500\n",
            "13600/91759 [===>..........................] - ETA: 6s - loss: 0.0386 - acc: 0.9851"
          ],
          "name": "stdout"
        },
        {
          "output_type": "stream",
          "text": [
            "91759/91759 [==============================] - 8s 89us/step - loss: 0.0380 - acc: 0.9851 - val_loss: 0.0376 - val_acc: 0.9851\n",
            "Epoch 79/500\n",
            "91759/91759 [==============================] - 8s 89us/step - loss: 0.0380 - acc: 0.9851 - val_loss: 0.0369 - val_acc: 0.9853\n",
            "Epoch 80/500\n",
            "91759/91759 [==============================] - 8s 88us/step - loss: 0.0380 - acc: 0.9851 - val_loss: 0.0370 - val_acc: 0.9852\n",
            "Epoch 81/500\n",
            "14200/91759 [===>..........................] - ETA: 6s - loss: 0.0400 - acc: 0.9844"
          ],
          "name": "stdout"
        },
        {
          "output_type": "stream",
          "text": [
            "91759/91759 [==============================] - 8s 89us/step - loss: 0.0379 - acc: 0.9851 - val_loss: 0.0370 - val_acc: 0.9851\n",
            "Epoch 82/500\n",
            "91759/91759 [==============================] - 8s 89us/step - loss: 0.0379 - acc: 0.9850 - val_loss: 0.0366 - val_acc: 0.9853\n",
            "Epoch 83/500\n",
            "91759/91759 [==============================] - 8s 89us/step - loss: 0.0379 - acc: 0.9851 - val_loss: 0.0368 - val_acc: 0.9853\n",
            "Epoch 84/500\n",
            "13800/91759 [===>..........................] - ETA: 6s - loss: 0.0400 - acc: 0.9848"
          ],
          "name": "stdout"
        },
        {
          "output_type": "stream",
          "text": [
            "91759/91759 [==============================] - 8s 89us/step - loss: 0.0379 - acc: 0.9851 - val_loss: 0.0367 - val_acc: 0.9853\n",
            "Epoch 85/500\n",
            "91759/91759 [==============================] - 8s 88us/step - loss: 0.0378 - acc: 0.9851 - val_loss: 0.0367 - val_acc: 0.9855\n",
            "Epoch 86/500\n",
            "91759/91759 [==============================] - 8s 89us/step - loss: 0.0378 - acc: 0.9851 - val_loss: 0.0367 - val_acc: 0.9853\n",
            "Epoch 87/500\n",
            "13700/91759 [===>..........................] - ETA: 6s - loss: 0.0397 - acc: 0.9840"
          ],
          "name": "stdout"
        },
        {
          "output_type": "stream",
          "text": [
            "91759/91759 [==============================] - 8s 89us/step - loss: 0.0378 - acc: 0.9851 - val_loss: 0.0367 - val_acc: 0.9853\n",
            "Epoch 88/500\n",
            "91759/91759 [==============================] - 8s 88us/step - loss: 0.0378 - acc: 0.9851 - val_loss: 0.0373 - val_acc: 0.9852\n",
            "Epoch 89/500\n",
            "91759/91759 [==============================] - 8s 88us/step - loss: 0.0377 - acc: 0.9851 - val_loss: 0.0365 - val_acc: 0.9853\n",
            "Epoch 90/500\n",
            "14000/91759 [===>..........................] - ETA: 6s - loss: 0.0384 - acc: 0.9846"
          ],
          "name": "stdout"
        },
        {
          "output_type": "stream",
          "text": [
            "91759/91759 [==============================] - 8s 88us/step - loss: 0.0377 - acc: 0.9851 - val_loss: 0.0371 - val_acc: 0.9851\n",
            "Epoch 91/500\n",
            "91759/91759 [==============================] - 8s 88us/step - loss: 0.0377 - acc: 0.9851 - val_loss: 0.0367 - val_acc: 0.9853\n",
            "Epoch 92/500\n",
            "91759/91759 [==============================] - 8s 88us/step - loss: 0.0377 - acc: 0.9851 - val_loss: 0.0366 - val_acc: 0.9853\n",
            "Epoch 93/500\n",
            "13800/91759 [===>..........................] - ETA: 6s - loss: 0.0372 - acc: 0.9849"
          ],
          "name": "stdout"
        },
        {
          "output_type": "stream",
          "text": [
            "91759/91759 [==============================] - 8s 88us/step - loss: 0.0377 - acc: 0.9851 - val_loss: 0.0364 - val_acc: 0.9853\n",
            "Epoch 94/500\n",
            "91759/91759 [==============================] - 8s 88us/step - loss: 0.0377 - acc: 0.9850 - val_loss: 0.0368 - val_acc: 0.9853\n",
            "Epoch 95/500\n",
            "91759/91759 [==============================] - 8s 88us/step - loss: 0.0376 - acc: 0.9851 - val_loss: 0.0368 - val_acc: 0.9853\n",
            "Epoch 96/500\n",
            "14500/91759 [===>..........................] - ETA: 6s - loss: 0.0378 - acc: 0.9846"
          ],
          "name": "stdout"
        },
        {
          "output_type": "stream",
          "text": [
            "91759/91759 [==============================] - 8s 88us/step - loss: 0.0376 - acc: 0.9851 - val_loss: 0.0364 - val_acc: 0.9853\n",
            "Epoch 97/500\n",
            "91759/91759 [==============================] - 8s 89us/step - loss: 0.0376 - acc: 0.9851 - val_loss: 0.0366 - val_acc: 0.9854\n",
            "Epoch 98/500\n",
            "91759/91759 [==============================] - 8s 88us/step - loss: 0.0375 - acc: 0.9851 - val_loss: 0.0367 - val_acc: 0.9853\n",
            "Epoch 99/500\n",
            "14400/91759 [===>..........................] - ETA: 6s - loss: 0.0364 - acc: 0.9845"
          ],
          "name": "stdout"
        },
        {
          "output_type": "stream",
          "text": [
            "91759/91759 [==============================] - 8s 88us/step - loss: 0.0374 - acc: 0.9851 - val_loss: 0.0370 - val_acc: 0.9853\n",
            "Epoch 100/500\n",
            "91759/91759 [==============================] - 8s 89us/step - loss: 0.0375 - acc: 0.9851 - val_loss: 0.0368 - val_acc: 0.9853\n",
            "Epoch 101/500\n",
            "91759/91759 [==============================] - 8s 89us/step - loss: 0.0374 - acc: 0.9851 - val_loss: 0.0369 - val_acc: 0.9854\n",
            "Epoch 102/500\n",
            "13000/91759 [===>..........................] - ETA: 6s - loss: 0.0391 - acc: 0.9857"
          ],
          "name": "stdout"
        },
        {
          "output_type": "stream",
          "text": [
            "91759/91759 [==============================] - 8s 88us/step - loss: 0.0375 - acc: 0.9851 - val_loss: 0.0365 - val_acc: 0.9853\n",
            "Epoch 103/500\n",
            "91759/91759 [==============================] - 8s 89us/step - loss: 0.0375 - acc: 0.9851 - val_loss: 0.0368 - val_acc: 0.9854\n",
            "Epoch 104/500\n",
            "91759/91759 [==============================] - 8s 88us/step - loss: 0.0374 - acc: 0.9851 - val_loss: 0.0365 - val_acc: 0.9853\n",
            "Epoch 105/500\n",
            "12300/91759 [===>..........................] - ETA: 6s - loss: 0.0345 - acc: 0.9867"
          ],
          "name": "stdout"
        },
        {
          "output_type": "stream",
          "text": [
            "91759/91759 [==============================] - 8s 88us/step - loss: 0.0373 - acc: 0.9851 - val_loss: 0.0370 - val_acc: 0.9853\n",
            "Epoch 106/500\n",
            "91759/91759 [==============================] - 8s 88us/step - loss: 0.0373 - acc: 0.9851 - val_loss: 0.0365 - val_acc: 0.9855\n",
            "Epoch 107/500\n",
            "91759/91759 [==============================] - 8s 89us/step - loss: 0.0374 - acc: 0.9851 - val_loss: 0.0365 - val_acc: 0.9855\n",
            "Epoch 108/500\n",
            "12400/91759 [===>..........................] - ETA: 6s - loss: 0.0368 - acc: 0.9861"
          ],
          "name": "stdout"
        },
        {
          "output_type": "stream",
          "text": [
            "91759/91759 [==============================] - 8s 88us/step - loss: 0.0374 - acc: 0.9852 - val_loss: 0.0365 - val_acc: 0.9853\n",
            "Epoch 109/500\n",
            "91759/91759 [==============================] - 8s 89us/step - loss: 0.0373 - acc: 0.9851 - val_loss: 0.0365 - val_acc: 0.9853\n",
            "Epoch 110/500\n",
            "91759/91759 [==============================] - 8s 89us/step - loss: 0.0372 - acc: 0.9851 - val_loss: 0.0368 - val_acc: 0.9855\n",
            "Epoch 111/500\n",
            "13100/91759 [===>..........................] - ETA: 6s - loss: 0.0360 - acc: 0.9853"
          ],
          "name": "stdout"
        },
        {
          "output_type": "stream",
          "text": [
            "91759/91759 [==============================] - 8s 88us/step - loss: 0.0373 - acc: 0.9851 - val_loss: 0.0364 - val_acc: 0.9854\n",
            "Epoch 112/500\n",
            "91759/91759 [==============================] - 8s 88us/step - loss: 0.0372 - acc: 0.9851 - val_loss: 0.0365 - val_acc: 0.9853\n",
            "Epoch 113/500\n",
            "91759/91759 [==============================] - 8s 89us/step - loss: 0.0372 - acc: 0.9852 - val_loss: 0.0365 - val_acc: 0.9853\n",
            "Epoch 114/500\n",
            "13100/91759 [===>..........................] - ETA: 6s - loss: 0.0366 - acc: 0.9852"
          ],
          "name": "stdout"
        },
        {
          "output_type": "stream",
          "text": [
            "91759/91759 [==============================] - 8s 89us/step - loss: 0.0372 - acc: 0.9852 - val_loss: 0.0369 - val_acc: 0.9854\n",
            "Epoch 115/500\n",
            "91759/91759 [==============================] - 8s 89us/step - loss: 0.0372 - acc: 0.9851 - val_loss: 0.0365 - val_acc: 0.9855\n",
            "Epoch 116/500\n",
            "91759/91759 [==============================] - 8s 89us/step - loss: 0.0372 - acc: 0.9851 - val_loss: 0.0366 - val_acc: 0.9855\n",
            "Epoch 117/500\n",
            "12500/91759 [===>..........................] - ETA: 6s - loss: 0.0347 - acc: 0.9867"
          ],
          "name": "stdout"
        },
        {
          "output_type": "stream",
          "text": [
            "91759/91759 [==============================] - 8s 88us/step - loss: 0.0372 - acc: 0.9852 - val_loss: 0.0364 - val_acc: 0.9853\n",
            "Epoch 118/500\n",
            "91759/91759 [==============================] - 8s 89us/step - loss: 0.0371 - acc: 0.9852 - val_loss: 0.0366 - val_acc: 0.9853\n",
            "Epoch 119/500\n",
            "91759/91759 [==============================] - 8s 89us/step - loss: 0.0371 - acc: 0.9852 - val_loss: 0.0365 - val_acc: 0.9853\n",
            "Epoch 120/500\n",
            "12300/91759 [===>..........................] - ETA: 6s - loss: 0.0339 - acc: 0.9859"
          ],
          "name": "stdout"
        },
        {
          "output_type": "stream",
          "text": [
            "91759/91759 [==============================] - 8s 89us/step - loss: 0.0371 - acc: 0.9852 - val_loss: 0.0367 - val_acc: 0.9854\n",
            "Epoch 121/500\n",
            "91759/91759 [==============================] - 8s 89us/step - loss: 0.0371 - acc: 0.9852 - val_loss: 0.0363 - val_acc: 0.9855\n",
            "Epoch 122/500\n",
            "91759/91759 [==============================] - 8s 89us/step - loss: 0.0371 - acc: 0.9852 - val_loss: 0.0364 - val_acc: 0.9855\n",
            "Epoch 123/500\n",
            "12200/91759 [==>...........................] - ETA: 6s - loss: 0.0380 - acc: 0.9841"
          ],
          "name": "stdout"
        },
        {
          "output_type": "stream",
          "text": [
            "91759/91759 [==============================] - 8s 89us/step - loss: 0.0371 - acc: 0.9852 - val_loss: 0.0363 - val_acc: 0.9855\n",
            "Epoch 124/500\n",
            "91759/91759 [==============================] - 8s 89us/step - loss: 0.0370 - acc: 0.9853 - val_loss: 0.0363 - val_acc: 0.9853\n",
            "Epoch 125/500\n",
            "91759/91759 [==============================] - 8s 89us/step - loss: 0.0371 - acc: 0.9852 - val_loss: 0.0366 - val_acc: 0.9854\n",
            "Epoch 126/500\n",
            "13000/91759 [===>..........................] - ETA: 6s - loss: 0.0335 - acc: 0.9875"
          ],
          "name": "stdout"
        },
        {
          "output_type": "stream",
          "text": [
            "91759/91759 [==============================] - 8s 89us/step - loss: 0.0370 - acc: 0.9852 - val_loss: 0.0365 - val_acc: 0.9853\n",
            "Epoch 127/500\n",
            "91759/91759 [==============================] - 8s 88us/step - loss: 0.0370 - acc: 0.9852 - val_loss: 0.0365 - val_acc: 0.9853\n",
            "Epoch 128/500\n",
            "91759/91759 [==============================] - 8s 88us/step - loss: 0.0370 - acc: 0.9852 - val_loss: 0.0369 - val_acc: 0.9854\n",
            "Epoch 129/500\n",
            "13300/91759 [===>..........................] - ETA: 6s - loss: 0.0358 - acc: 0.9857"
          ],
          "name": "stdout"
        },
        {
          "output_type": "stream",
          "text": [
            "91759/91759 [==============================] - 8s 88us/step - loss: 0.0369 - acc: 0.9853 - val_loss: 0.0365 - val_acc: 0.9853\n",
            "Epoch 130/500\n",
            "91759/91759 [==============================] - 8s 87us/step - loss: 0.0369 - acc: 0.9852 - val_loss: 0.0364 - val_acc: 0.9853\n",
            "Epoch 131/500\n",
            "91759/91759 [==============================] - 8s 88us/step - loss: 0.0369 - acc: 0.9853 - val_loss: 0.0366 - val_acc: 0.9854\n",
            "Epoch 132/500\n",
            "14400/91759 [===>..........................] - ETA: 6s - loss: 0.0385 - acc: 0.9842"
          ],
          "name": "stdout"
        },
        {
          "output_type": "stream",
          "text": [
            "91759/91759 [==============================] - 8s 88us/step - loss: 0.0369 - acc: 0.9852 - val_loss: 0.0365 - val_acc: 0.9853\n",
            "Epoch 133/500\n",
            "91759/91759 [==============================] - 8s 88us/step - loss: 0.0369 - acc: 0.9852 - val_loss: 0.0363 - val_acc: 0.9855\n",
            "Epoch 134/500\n",
            "91759/91759 [==============================] - 8s 89us/step - loss: 0.0369 - acc: 0.9852 - val_loss: 0.0366 - val_acc: 0.9854\n",
            "Epoch 135/500\n",
            "13000/91759 [===>..........................] - ETA: 6s - loss: 0.0359 - acc: 0.9851"
          ],
          "name": "stdout"
        },
        {
          "output_type": "stream",
          "text": [
            "91759/91759 [==============================] - 8s 88us/step - loss: 0.0369 - acc: 0.9852 - val_loss: 0.0363 - val_acc: 0.9855\n",
            "Epoch 136/500\n",
            "91759/91759 [==============================] - 8s 87us/step - loss: 0.0368 - acc: 0.9852 - val_loss: 0.0362 - val_acc: 0.9855\n",
            "Epoch 137/500\n",
            "91759/91759 [==============================] - 8s 89us/step - loss: 0.0368 - acc: 0.9852 - val_loss: 0.0363 - val_acc: 0.9856\n",
            "Epoch 138/500\n",
            "14000/91759 [===>..........................] - ETA: 6s - loss: 0.0398 - acc: 0.9846"
          ],
          "name": "stdout"
        },
        {
          "output_type": "stream",
          "text": [
            "91759/91759 [==============================] - 8s 88us/step - loss: 0.0368 - acc: 0.9853 - val_loss: 0.0363 - val_acc: 0.9854\n",
            "Epoch 139/500\n",
            "91759/91759 [==============================] - 8s 88us/step - loss: 0.0368 - acc: 0.9853 - val_loss: 0.0364 - val_acc: 0.9855\n",
            "Epoch 140/500\n",
            "91759/91759 [==============================] - 8s 88us/step - loss: 0.0368 - acc: 0.9853 - val_loss: 0.0363 - val_acc: 0.9855\n",
            "Epoch 141/500\n",
            "13100/91759 [===>..........................] - ETA: 6s - loss: 0.0383 - acc: 0.9845"
          ],
          "name": "stdout"
        },
        {
          "output_type": "stream",
          "text": [
            "91759/91759 [==============================] - 8s 88us/step - loss: 0.0368 - acc: 0.9854 - val_loss: 0.0363 - val_acc: 0.9855\n",
            "Epoch 142/500\n",
            "91759/91759 [==============================] - 8s 88us/step - loss: 0.0367 - acc: 0.9853 - val_loss: 0.0363 - val_acc: 0.9853\n",
            "Epoch 143/500\n",
            "91759/91759 [==============================] - 8s 89us/step - loss: 0.0367 - acc: 0.9853 - val_loss: 0.0364 - val_acc: 0.9855\n",
            "Epoch 144/500\n",
            "13100/91759 [===>..........................] - ETA: 6s - loss: 0.0391 - acc: 0.9839"
          ],
          "name": "stdout"
        },
        {
          "output_type": "stream",
          "text": [
            "91759/91759 [==============================] - 8s 88us/step - loss: 0.0367 - acc: 0.9853 - val_loss: 0.0363 - val_acc: 0.9856\n",
            "Epoch 145/500\n",
            "91759/91759 [==============================] - 8s 89us/step - loss: 0.0366 - acc: 0.9853 - val_loss: 0.0363 - val_acc: 0.9853\n",
            "Epoch 146/500\n",
            "91759/91759 [==============================] - 8s 89us/step - loss: 0.0367 - acc: 0.9853 - val_loss: 0.0362 - val_acc: 0.9855\n",
            "Epoch 147/500\n",
            "12400/91759 [===>..........................] - ETA: 6s - loss: 0.0364 - acc: 0.9848"
          ],
          "name": "stdout"
        },
        {
          "output_type": "stream",
          "text": [
            "91759/91759 [==============================] - 8s 89us/step - loss: 0.0366 - acc: 0.9854 - val_loss: 0.0362 - val_acc: 0.9856\n",
            "Epoch 148/500\n",
            "91759/91759 [==============================] - 8s 89us/step - loss: 0.0366 - acc: 0.9855 - val_loss: 0.0363 - val_acc: 0.9854\n",
            "Epoch 149/500\n",
            "91759/91759 [==============================] - 8s 89us/step - loss: 0.0366 - acc: 0.9854 - val_loss: 0.0363 - val_acc: 0.9855\n",
            "Epoch 150/500\n",
            "12900/91759 [===>..........................] - ETA: 6s - loss: 0.0384 - acc: 0.9851"
          ],
          "name": "stdout"
        },
        {
          "output_type": "stream",
          "text": [
            "91759/91759 [==============================] - 8s 88us/step - loss: 0.0366 - acc: 0.9854 - val_loss: 0.0361 - val_acc: 0.9855\n",
            "Epoch 151/500\n",
            "91759/91759 [==============================] - 8s 88us/step - loss: 0.0366 - acc: 0.9854 - val_loss: 0.0363 - val_acc: 0.9855\n",
            "Epoch 152/500\n",
            "91759/91759 [==============================] - 8s 89us/step - loss: 0.0366 - acc: 0.9854 - val_loss: 0.0361 - val_acc: 0.9856\n",
            "Epoch 153/500\n",
            "12300/91759 [===>..........................] - ETA: 6s - loss: 0.0329 - acc: 0.9867"
          ],
          "name": "stdout"
        },
        {
          "output_type": "stream",
          "text": [
            "91759/91759 [==============================] - 8s 89us/step - loss: 0.0365 - acc: 0.9854 - val_loss: 0.0362 - val_acc: 0.9855\n",
            "Epoch 154/500\n",
            "91759/91759 [==============================] - 8s 89us/step - loss: 0.0366 - acc: 0.9854 - val_loss: 0.0361 - val_acc: 0.9855\n",
            "Epoch 155/500\n",
            "91759/91759 [==============================] - 8s 89us/step - loss: 0.0365 - acc: 0.9854 - val_loss: 0.0361 - val_acc: 0.9856\n",
            "Epoch 156/500\n",
            "12500/91759 [===>..........................] - ETA: 6s - loss: 0.0389 - acc: 0.9840"
          ],
          "name": "stdout"
        },
        {
          "output_type": "stream",
          "text": [
            "91759/91759 [==============================] - 8s 90us/step - loss: 0.0365 - acc: 0.9854 - val_loss: 0.0364 - val_acc: 0.9856\n",
            "Epoch 157/500\n",
            "91759/91759 [==============================] - 8s 88us/step - loss: 0.0364 - acc: 0.9855 - val_loss: 0.0361 - val_acc: 0.9864\n",
            "Epoch 158/500\n",
            "91759/91759 [==============================] - 8s 88us/step - loss: 0.0365 - acc: 0.9855 - val_loss: 0.0362 - val_acc: 0.9865\n",
            "Epoch 159/500\n",
            "13100/91759 [===>..........................] - ETA: 6s - loss: 0.0368 - acc: 0.9871"
          ],
          "name": "stdout"
        },
        {
          "output_type": "stream",
          "text": [
            "91759/91759 [==============================] - 8s 89us/step - loss: 0.0364 - acc: 0.9856 - val_loss: 0.0360 - val_acc: 0.9856\n",
            "Epoch 160/500\n",
            "91759/91759 [==============================] - 8s 89us/step - loss: 0.0365 - acc: 0.9855 - val_loss: 0.0361 - val_acc: 0.9856\n",
            "Epoch 161/500\n",
            "91759/91759 [==============================] - 8s 89us/step - loss: 0.0365 - acc: 0.9855 - val_loss: 0.0360 - val_acc: 0.9855\n",
            "Epoch 162/500\n",
            "13100/91759 [===>..........................] - ETA: 6s - loss: 0.0376 - acc: 0.9851"
          ],
          "name": "stdout"
        },
        {
          "output_type": "stream",
          "text": [
            "91759/91759 [==============================] - 8s 89us/step - loss: 0.0365 - acc: 0.9855 - val_loss: 0.0362 - val_acc: 0.9856\n",
            "Epoch 163/500\n",
            "91759/91759 [==============================] - 8s 89us/step - loss: 0.0363 - acc: 0.9855 - val_loss: 0.0364 - val_acc: 0.9865\n",
            "Epoch 164/500\n",
            "91759/91759 [==============================] - 8s 88us/step - loss: 0.0363 - acc: 0.9855 - val_loss: 0.0360 - val_acc: 0.9864\n",
            "Epoch 165/500\n",
            "13100/91759 [===>..........................] - ETA: 6s - loss: 0.0341 - acc: 0.9857"
          ],
          "name": "stdout"
        },
        {
          "output_type": "stream",
          "text": [
            "91759/91759 [==============================] - 8s 89us/step - loss: 0.0363 - acc: 0.9855 - val_loss: 0.0361 - val_acc: 0.9855\n",
            "Epoch 166/500\n",
            "91759/91759 [==============================] - 8s 89us/step - loss: 0.0363 - acc: 0.9855 - val_loss: 0.0362 - val_acc: 0.9856\n",
            "Epoch 167/500\n",
            "91759/91759 [==============================] - 8s 89us/step - loss: 0.0364 - acc: 0.9856 - val_loss: 0.0362 - val_acc: 0.9856\n",
            "Epoch 168/500\n",
            "12400/91759 [===>..........................] - ETA: 6s - loss: 0.0358 - acc: 0.9857"
          ],
          "name": "stdout"
        },
        {
          "output_type": "stream",
          "text": [
            "91759/91759 [==============================] - 8s 88us/step - loss: 0.0363 - acc: 0.9855 - val_loss: 0.0364 - val_acc: 0.9855\n",
            "Epoch 169/500\n",
            "91759/91759 [==============================] - 8s 89us/step - loss: 0.0363 - acc: 0.9855 - val_loss: 0.0360 - val_acc: 0.9855\n",
            "Epoch 170/500\n",
            "91759/91759 [==============================] - 8s 89us/step - loss: 0.0363 - acc: 0.9855 - val_loss: 0.0360 - val_acc: 0.9855\n",
            "Epoch 171/500\n",
            "12300/91759 [===>..........................] - ETA: 6s - loss: 0.0351 - acc: 0.9864"
          ],
          "name": "stdout"
        },
        {
          "output_type": "stream",
          "text": [
            "91759/91759 [==============================] - 8s 89us/step - loss: 0.0364 - acc: 0.9855 - val_loss: 0.0359 - val_acc: 0.9856\n",
            "Epoch 172/500\n",
            "91759/91759 [==============================] - 8s 88us/step - loss: 0.0363 - acc: 0.9854 - val_loss: 0.0364 - val_acc: 0.9855\n",
            "Epoch 173/500\n",
            "91759/91759 [==============================] - 8s 88us/step - loss: 0.0363 - acc: 0.9854 - val_loss: 0.0359 - val_acc: 0.9864\n",
            "Epoch 174/500\n",
            "13000/91759 [===>..........................] - ETA: 6s - loss: 0.0386 - acc: 0.9850"
          ],
          "name": "stdout"
        },
        {
          "output_type": "stream",
          "text": [
            "91759/91759 [==============================] - 8s 89us/step - loss: 0.0362 - acc: 0.9857 - val_loss: 0.0361 - val_acc: 0.9855\n",
            "Epoch 175/500\n",
            "91759/91759 [==============================] - 8s 88us/step - loss: 0.0362 - acc: 0.9856 - val_loss: 0.0361 - val_acc: 0.9855\n",
            "Epoch 176/500\n",
            "91759/91759 [==============================] - 8s 89us/step - loss: 0.0362 - acc: 0.9855 - val_loss: 0.0361 - val_acc: 0.9855\n",
            "Epoch 177/500\n",
            "13100/91759 [===>..........................] - ETA: 6s - loss: 0.0356 - acc: 0.9856"
          ],
          "name": "stdout"
        },
        {
          "output_type": "stream",
          "text": [
            "91759/91759 [==============================] - 8s 88us/step - loss: 0.0362 - acc: 0.9855 - val_loss: 0.0360 - val_acc: 0.9855\n",
            "Epoch 178/500\n",
            "91759/91759 [==============================] - 8s 89us/step - loss: 0.0362 - acc: 0.9855 - val_loss: 0.0358 - val_acc: 0.9856\n",
            "Epoch 179/500\n",
            "91759/91759 [==============================] - 8s 88us/step - loss: 0.0362 - acc: 0.9856 - val_loss: 0.0358 - val_acc: 0.9855\n",
            "Epoch 180/500\n",
            "13100/91759 [===>..........................] - ETA: 6s - loss: 0.0407 - acc: 0.9836"
          ],
          "name": "stdout"
        },
        {
          "output_type": "stream",
          "text": [
            "91759/91759 [==============================] - 8s 88us/step - loss: 0.0362 - acc: 0.9855 - val_loss: 0.0359 - val_acc: 0.9855\n",
            "Epoch 181/500\n",
            "91759/91759 [==============================] - 8s 88us/step - loss: 0.0361 - acc: 0.9857 - val_loss: 0.0360 - val_acc: 0.9864\n",
            "Epoch 182/500\n",
            "91759/91759 [==============================] - 8s 89us/step - loss: 0.0362 - acc: 0.9857 - val_loss: 0.0362 - val_acc: 0.9864\n",
            "Epoch 183/500\n",
            "13100/91759 [===>..........................] - ETA: 6s - loss: 0.0355 - acc: 0.9850"
          ],
          "name": "stdout"
        },
        {
          "output_type": "stream",
          "text": [
            "91759/91759 [==============================] - 8s 88us/step - loss: 0.0361 - acc: 0.9857 - val_loss: 0.0359 - val_acc: 0.9865\n",
            "Epoch 184/500\n",
            "91759/91759 [==============================] - 8s 89us/step - loss: 0.0361 - acc: 0.9856 - val_loss: 0.0360 - val_acc: 0.9855\n",
            "Epoch 185/500\n",
            "91759/91759 [==============================] - 8s 88us/step - loss: 0.0362 - acc: 0.9857 - val_loss: 0.0358 - val_acc: 0.9864\n",
            "Epoch 186/500\n",
            "13000/91759 [===>..........................] - ETA: 6s - loss: 0.0383 - acc: 0.9857"
          ],
          "name": "stdout"
        },
        {
          "output_type": "stream",
          "text": [
            "91759/91759 [==============================] - 8s 88us/step - loss: 0.0361 - acc: 0.9856 - val_loss: 0.0358 - val_acc: 0.9856\n",
            "Epoch 187/500\n",
            "91759/91759 [==============================] - 8s 87us/step - loss: 0.0361 - acc: 0.9856 - val_loss: 0.0360 - val_acc: 0.9855\n",
            "Epoch 188/500\n",
            "91759/91759 [==============================] - 8s 88us/step - loss: 0.0361 - acc: 0.9856 - val_loss: 0.0358 - val_acc: 0.9865\n",
            "Epoch 189/500\n",
            "13800/91759 [===>..........................] - ETA: 6s - loss: 0.0346 - acc: 0.9867"
          ],
          "name": "stdout"
        },
        {
          "output_type": "stream",
          "text": [
            "91759/91759 [==============================] - 8s 88us/step - loss: 0.0361 - acc: 0.9857 - val_loss: 0.0358 - val_acc: 0.9865\n",
            "Epoch 190/500\n",
            "91759/91759 [==============================] - 8s 89us/step - loss: 0.0361 - acc: 0.9857 - val_loss: 0.0358 - val_acc: 0.9855\n",
            "Epoch 191/500\n",
            "91759/91759 [==============================] - 8s 88us/step - loss: 0.0361 - acc: 0.9856 - val_loss: 0.0357 - val_acc: 0.9855\n",
            "Epoch 192/500\n",
            "13000/91759 [===>..........................] - ETA: 6s - loss: 0.0372 - acc: 0.9857"
          ],
          "name": "stdout"
        },
        {
          "output_type": "stream",
          "text": [
            "91759/91759 [==============================] - 8s 88us/step - loss: 0.0360 - acc: 0.9857 - val_loss: 0.0358 - val_acc: 0.9855\n",
            "Epoch 193/500\n",
            "91759/91759 [==============================] - 8s 89us/step - loss: 0.0360 - acc: 0.9857 - val_loss: 0.0358 - val_acc: 0.9855\n",
            "Epoch 194/500\n",
            "91759/91759 [==============================] - 8s 88us/step - loss: 0.0360 - acc: 0.9857 - val_loss: 0.0359 - val_acc: 0.9855\n",
            "Epoch 195/500\n",
            "13700/91759 [===>..........................] - ETA: 6s - loss: 0.0350 - acc: 0.9856"
          ],
          "name": "stdout"
        },
        {
          "output_type": "stream",
          "text": [
            "91759/91759 [==============================] - 8s 89us/step - loss: 0.0360 - acc: 0.9858 - val_loss: 0.0358 - val_acc: 0.9864\n",
            "Epoch 196/500\n",
            "91759/91759 [==============================] - 8s 89us/step - loss: 0.0360 - acc: 0.9857 - val_loss: 0.0357 - val_acc: 0.9865\n",
            "Epoch 197/500\n",
            "91759/91759 [==============================] - 8s 89us/step - loss: 0.0359 - acc: 0.9859 - val_loss: 0.0361 - val_acc: 0.9855\n",
            "Epoch 198/500\n",
            "13100/91759 [===>..........................] - ETA: 6s - loss: 0.0367 - acc: 0.9856"
          ],
          "name": "stdout"
        },
        {
          "output_type": "stream",
          "text": [
            "91759/91759 [==============================] - 8s 88us/step - loss: 0.0360 - acc: 0.9858 - val_loss: 0.0358 - val_acc: 0.9855\n",
            "Epoch 199/500\n",
            "91759/91759 [==============================] - 8s 88us/step - loss: 0.0360 - acc: 0.9858 - val_loss: 0.0357 - val_acc: 0.9864\n",
            "Epoch 200/500\n",
            "91759/91759 [==============================] - 8s 88us/step - loss: 0.0360 - acc: 0.9859 - val_loss: 0.0357 - val_acc: 0.9856\n",
            "Epoch 201/500\n",
            "13000/91759 [===>..........................] - ETA: 6s - loss: 0.0370 - acc: 0.9851"
          ],
          "name": "stdout"
        },
        {
          "output_type": "stream",
          "text": [
            "91759/91759 [==============================] - 8s 88us/step - loss: 0.0359 - acc: 0.9857 - val_loss: 0.0356 - val_acc: 0.9864\n",
            "Epoch 202/500\n",
            "91759/91759 [==============================] - 8s 88us/step - loss: 0.0358 - acc: 0.9859 - val_loss: 0.0357 - val_acc: 0.9855\n",
            "Epoch 203/500\n",
            "91759/91759 [==============================] - 8s 88us/step - loss: 0.0358 - acc: 0.9859 - val_loss: 0.0358 - val_acc: 0.9854\n",
            "Epoch 204/500\n",
            "13100/91759 [===>..........................] - ETA: 6s - loss: 0.0362 - acc: 0.9859"
          ],
          "name": "stdout"
        },
        {
          "output_type": "stream",
          "text": [
            "91759/91759 [==============================] - 8s 89us/step - loss: 0.0359 - acc: 0.9859 - val_loss: 0.0359 - val_acc: 0.9856\n",
            "Epoch 205/500\n",
            "91759/91759 [==============================] - 8s 88us/step - loss: 0.0359 - acc: 0.9857 - val_loss: 0.0356 - val_acc: 0.9865\n",
            "Epoch 206/500\n",
            "91759/91759 [==============================] - 8s 89us/step - loss: 0.0358 - acc: 0.9859 - val_loss: 0.0356 - val_acc: 0.9865\n",
            "Epoch 207/500\n",
            "12900/91759 [===>..........................] - ETA: 6s - loss: 0.0374 - acc: 0.9851"
          ],
          "name": "stdout"
        },
        {
          "output_type": "stream",
          "text": [
            "91759/91759 [==============================] - 8s 89us/step - loss: 0.0358 - acc: 0.9858 - val_loss: 0.0357 - val_acc: 0.9855\n",
            "Epoch 208/500\n",
            "91759/91759 [==============================] - 8s 89us/step - loss: 0.0358 - acc: 0.9857 - val_loss: 0.0357 - val_acc: 0.9855\n",
            "Epoch 209/500\n",
            "91759/91759 [==============================] - 8s 88us/step - loss: 0.0358 - acc: 0.9859 - val_loss: 0.0355 - val_acc: 0.9865\n",
            "Epoch 210/500\n",
            "13000/91759 [===>..........................] - ETA: 6s - loss: 0.0349 - acc: 0.9862"
          ],
          "name": "stdout"
        },
        {
          "output_type": "stream",
          "text": [
            "91759/91759 [==============================] - 8s 89us/step - loss: 0.0358 - acc: 0.9859 - val_loss: 0.0356 - val_acc: 0.9855\n",
            "Epoch 211/500\n",
            "91759/91759 [==============================] - 8s 90us/step - loss: 0.0358 - acc: 0.9858 - val_loss: 0.0356 - val_acc: 0.9865\n",
            "Epoch 212/500\n",
            "91759/91759 [==============================] - 8s 89us/step - loss: 0.0357 - acc: 0.9860 - val_loss: 0.0355 - val_acc: 0.9864\n",
            "Epoch 213/500\n",
            "12400/91759 [===>..........................] - ETA: 6s - loss: 0.0364 - acc: 0.9863"
          ],
          "name": "stdout"
        },
        {
          "output_type": "stream",
          "text": [
            "91759/91759 [==============================] - 8s 89us/step - loss: 0.0357 - acc: 0.9860 - val_loss: 0.0356 - val_acc: 0.9856\n",
            "Epoch 214/500\n",
            "91759/91759 [==============================] - 8s 89us/step - loss: 0.0357 - acc: 0.9860 - val_loss: 0.0356 - val_acc: 0.9854\n",
            "Epoch 215/500\n",
            "91759/91759 [==============================] - 8s 89us/step - loss: 0.0357 - acc: 0.9860 - val_loss: 0.0354 - val_acc: 0.9866\n",
            "Epoch 216/500\n",
            "12400/91759 [===>..........................] - ETA: 6s - loss: 0.0383 - acc: 0.9855"
          ],
          "name": "stdout"
        },
        {
          "output_type": "stream",
          "text": [
            "91759/91759 [==============================] - 8s 89us/step - loss: 0.0356 - acc: 0.9860 - val_loss: 0.0356 - val_acc: 0.9854\n",
            "Epoch 217/500\n",
            "91759/91759 [==============================] - 8s 89us/step - loss: 0.0357 - acc: 0.9859 - val_loss: 0.0356 - val_acc: 0.9854\n",
            "Epoch 218/500\n",
            "91759/91759 [==============================] - 8s 88us/step - loss: 0.0356 - acc: 0.9858 - val_loss: 0.0357 - val_acc: 0.9865\n",
            "Epoch 219/500\n",
            "13100/91759 [===>..........................] - ETA: 6s - loss: 0.0356 - acc: 0.9866"
          ],
          "name": "stdout"
        },
        {
          "output_type": "stream",
          "text": [
            "91759/91759 [==============================] - 8s 89us/step - loss: 0.0356 - acc: 0.9860 - val_loss: 0.0355 - val_acc: 0.9864\n",
            "Epoch 220/500\n",
            "91759/91759 [==============================] - 8s 89us/step - loss: 0.0356 - acc: 0.9860 - val_loss: 0.0356 - val_acc: 0.9864\n",
            "Epoch 221/500\n",
            "91759/91759 [==============================] - 8s 89us/step - loss: 0.0357 - acc: 0.9861 - val_loss: 0.0357 - val_acc: 0.9855\n",
            "Epoch 222/500\n",
            "12200/91759 [==>...........................] - ETA: 6s - loss: 0.0397 - acc: 0.9839"
          ],
          "name": "stdout"
        },
        {
          "output_type": "stream",
          "text": [
            "91759/91759 [==============================] - 8s 89us/step - loss: 0.0356 - acc: 0.9860 - val_loss: 0.0357 - val_acc: 0.9854\n",
            "Epoch 223/500\n",
            "91759/91759 [==============================] - 8s 90us/step - loss: 0.0356 - acc: 0.9861 - val_loss: 0.0355 - val_acc: 0.9864\n",
            "Epoch 224/500\n",
            "91759/91759 [==============================] - 8s 89us/step - loss: 0.0356 - acc: 0.9860 - val_loss: 0.0361 - val_acc: 0.9865\n",
            "Epoch 225/500\n",
            "12400/91759 [===>..........................] - ETA: 6s - loss: 0.0356 - acc: 0.9853"
          ],
          "name": "stdout"
        },
        {
          "output_type": "stream",
          "text": [
            "91759/91759 [==============================] - 8s 89us/step - loss: 0.0356 - acc: 0.9860 - val_loss: 0.0355 - val_acc: 0.9856\n",
            "Epoch 226/500\n",
            "91759/91759 [==============================] - 8s 89us/step - loss: 0.0356 - acc: 0.9861 - val_loss: 0.0356 - val_acc: 0.9854\n",
            "Epoch 227/500\n",
            "91759/91759 [==============================] - 8s 89us/step - loss: 0.0355 - acc: 0.9862 - val_loss: 0.0360 - val_acc: 0.9864\n",
            "Epoch 228/500\n",
            "12300/91759 [===>..........................] - ETA: 6s - loss: 0.0388 - acc: 0.9848"
          ],
          "name": "stdout"
        },
        {
          "output_type": "stream",
          "text": [
            "91759/91759 [==============================] - 8s 89us/step - loss: 0.0356 - acc: 0.9861 - val_loss: 0.0357 - val_acc: 0.9865\n",
            "Epoch 229/500\n",
            "91759/91759 [==============================] - 8s 89us/step - loss: 0.0355 - acc: 0.9860 - val_loss: 0.0358 - val_acc: 0.9854\n",
            "Epoch 230/500\n",
            "91759/91759 [==============================] - 8s 89us/step - loss: 0.0355 - acc: 0.9861 - val_loss: 0.0355 - val_acc: 0.9865\n",
            "Epoch 231/500\n",
            "12400/91759 [===>..........................] - ETA: 6s - loss: 0.0361 - acc: 0.9851"
          ],
          "name": "stdout"
        },
        {
          "output_type": "stream",
          "text": [
            "91759/91759 [==============================] - 8s 89us/step - loss: 0.0355 - acc: 0.9861 - val_loss: 0.0356 - val_acc: 0.9864\n",
            "Epoch 232/500\n",
            "91759/91759 [==============================] - 8s 89us/step - loss: 0.0355 - acc: 0.9862 - val_loss: 0.0353 - val_acc: 0.9864\n",
            "Epoch 233/500\n",
            "91759/91759 [==============================] - 8s 88us/step - loss: 0.0355 - acc: 0.9861 - val_loss: 0.0354 - val_acc: 0.9865\n",
            "Epoch 234/500\n",
            "13200/91759 [===>..........................] - ETA: 6s - loss: 0.0422 - acc: 0.9840"
          ],
          "name": "stdout"
        },
        {
          "output_type": "stream",
          "text": [
            "91759/91759 [==============================] - 8s 88us/step - loss: 0.0355 - acc: 0.9861 - val_loss: 0.0353 - val_acc: 0.9866\n",
            "Epoch 235/500\n",
            "91759/91759 [==============================] - 8s 88us/step - loss: 0.0354 - acc: 0.9862 - val_loss: 0.0353 - val_acc: 0.9864\n",
            "Epoch 236/500\n",
            "91759/91759 [==============================] - 8s 88us/step - loss: 0.0355 - acc: 0.9861 - val_loss: 0.0355 - val_acc: 0.9865\n",
            "Epoch 237/500\n",
            "13300/91759 [===>..........................] - ETA: 6s - loss: 0.0352 - acc: 0.9862"
          ],
          "name": "stdout"
        },
        {
          "output_type": "stream",
          "text": [
            "91759/91759 [==============================] - 8s 88us/step - loss: 0.0355 - acc: 0.9862 - val_loss: 0.0356 - val_acc: 0.9863\n",
            "Epoch 238/500\n",
            "91759/91759 [==============================] - 8s 88us/step - loss: 0.0355 - acc: 0.9862 - val_loss: 0.0353 - val_acc: 0.9865\n",
            "Epoch 239/500\n",
            "91759/91759 [==============================] - 8s 88us/step - loss: 0.0354 - acc: 0.9861 - val_loss: 0.0353 - val_acc: 0.9864\n",
            "Epoch 240/500\n",
            "13800/91759 [===>..........................] - ETA: 6s - loss: 0.0342 - acc: 0.9865"
          ],
          "name": "stdout"
        },
        {
          "output_type": "stream",
          "text": [
            "91759/91759 [==============================] - 8s 88us/step - loss: 0.0354 - acc: 0.9862 - val_loss: 0.0354 - val_acc: 0.9864\n",
            "Epoch 241/500\n",
            "91759/91759 [==============================] - 8s 88us/step - loss: 0.0354 - acc: 0.9861 - val_loss: 0.0354 - val_acc: 0.9865\n",
            "Epoch 242/500\n",
            "91759/91759 [==============================] - 8s 88us/step - loss: 0.0353 - acc: 0.9862 - val_loss: 0.0354 - val_acc: 0.9854\n",
            "Epoch 243/500\n",
            "13100/91759 [===>..........................] - ETA: 6s - loss: 0.0354 - acc: 0.9861"
          ],
          "name": "stdout"
        },
        {
          "output_type": "stream",
          "text": [
            "91759/91759 [==============================] - 8s 88us/step - loss: 0.0354 - acc: 0.9862 - val_loss: 0.0354 - val_acc: 0.9864\n",
            "Epoch 244/500\n",
            "91759/91759 [==============================] - 8s 88us/step - loss: 0.0354 - acc: 0.9863 - val_loss: 0.0358 - val_acc: 0.9856\n",
            "Epoch 245/500\n",
            "91759/91759 [==============================] - 8s 88us/step - loss: 0.0353 - acc: 0.9862 - val_loss: 0.0354 - val_acc: 0.9855\n",
            "Epoch 246/500\n",
            "13700/91759 [===>..........................] - ETA: 6s - loss: 0.0320 - acc: 0.9874"
          ],
          "name": "stdout"
        },
        {
          "output_type": "stream",
          "text": [
            "91759/91759 [==============================] - 8s 88us/step - loss: 0.0353 - acc: 0.9862 - val_loss: 0.0353 - val_acc: 0.9865\n",
            "Epoch 247/500\n",
            "91759/91759 [==============================] - 8s 88us/step - loss: 0.0354 - acc: 0.9862 - val_loss: 0.0355 - val_acc: 0.9855\n",
            "Epoch 248/500\n",
            "91759/91759 [==============================] - 8s 88us/step - loss: 0.0353 - acc: 0.9862 - val_loss: 0.0353 - val_acc: 0.9863\n",
            "Epoch 249/500\n",
            "13100/91759 [===>..........................] - ETA: 6s - loss: 0.0369 - acc: 0.9853"
          ],
          "name": "stdout"
        },
        {
          "output_type": "stream",
          "text": [
            "91759/91759 [==============================] - 8s 88us/step - loss: 0.0353 - acc: 0.9862 - val_loss: 0.0355 - val_acc: 0.9854\n",
            "Epoch 250/500\n",
            "91759/91759 [==============================] - 8s 88us/step - loss: 0.0354 - acc: 0.9862 - val_loss: 0.0353 - val_acc: 0.9864\n",
            "Epoch 251/500\n",
            "91759/91759 [==============================] - 8s 88us/step - loss: 0.0353 - acc: 0.9862 - val_loss: 0.0352 - val_acc: 0.9864\n",
            "Epoch 252/500\n",
            "13100/91759 [===>..........................] - ETA: 6s - loss: 0.0332 - acc: 0.9880"
          ],
          "name": "stdout"
        },
        {
          "output_type": "stream",
          "text": [
            "91759/91759 [==============================] - 8s 88us/step - loss: 0.0353 - acc: 0.9863 - val_loss: 0.0354 - val_acc: 0.9863\n",
            "Epoch 253/500\n",
            "91759/91759 [==============================] - 8s 89us/step - loss: 0.0353 - acc: 0.9863 - val_loss: 0.0353 - val_acc: 0.9864\n",
            "Epoch 254/500\n",
            "91759/91759 [==============================] - 8s 88us/step - loss: 0.0352 - acc: 0.9861 - val_loss: 0.0351 - val_acc: 0.9865\n",
            "Epoch 255/500\n",
            "13100/91759 [===>..........................] - ETA: 6s - loss: 0.0358 - acc: 0.9851"
          ],
          "name": "stdout"
        },
        {
          "output_type": "stream",
          "text": [
            "91759/91759 [==============================] - 8s 88us/step - loss: 0.0353 - acc: 0.9862 - val_loss: 0.0353 - val_acc: 0.9864\n",
            "Epoch 256/500\n",
            "91759/91759 [==============================] - 8s 89us/step - loss: 0.0353 - acc: 0.9862 - val_loss: 0.0353 - val_acc: 0.9865\n",
            "Epoch 257/500\n",
            "91759/91759 [==============================] - 8s 88us/step - loss: 0.0353 - acc: 0.9864 - val_loss: 0.0353 - val_acc: 0.9864\n",
            "Epoch 258/500\n",
            "13100/91759 [===>..........................] - ETA: 6s - loss: 0.0355 - acc: 0.9869"
          ],
          "name": "stdout"
        },
        {
          "output_type": "stream",
          "text": [
            "91759/91759 [==============================] - 8s 88us/step - loss: 0.0352 - acc: 0.9863 - val_loss: 0.0353 - val_acc: 0.9864\n",
            "Epoch 259/500\n",
            "91759/91759 [==============================] - 8s 88us/step - loss: 0.0353 - acc: 0.9863 - val_loss: 0.0352 - val_acc: 0.9865\n",
            "Epoch 260/500\n",
            "91759/91759 [==============================] - 8s 88us/step - loss: 0.0352 - acc: 0.9863 - val_loss: 0.0353 - val_acc: 0.9865\n",
            "Epoch 261/500\n",
            "13300/91759 [===>..........................] - ETA: 6s - loss: 0.0360 - acc: 0.9860"
          ],
          "name": "stdout"
        },
        {
          "output_type": "stream",
          "text": [
            "91759/91759 [==============================] - 8s 87us/step - loss: 0.0352 - acc: 0.9863 - val_loss: 0.0352 - val_acc: 0.9865\n",
            "Epoch 262/500\n",
            "91759/91759 [==============================] - 8s 89us/step - loss: 0.0352 - acc: 0.9863 - val_loss: 0.0352 - val_acc: 0.9864\n",
            "Epoch 263/500\n",
            "91759/91759 [==============================] - 8s 88us/step - loss: 0.0352 - acc: 0.9863 - val_loss: 0.0352 - val_acc: 0.9864\n",
            "Epoch 264/500\n",
            "13200/91759 [===>..........................] - ETA: 6s - loss: 0.0379 - acc: 0.9852"
          ],
          "name": "stdout"
        },
        {
          "output_type": "stream",
          "text": [
            "91759/91759 [==============================] - 8s 88us/step - loss: 0.0352 - acc: 0.9863 - val_loss: 0.0353 - val_acc: 0.9866\n",
            "Epoch 265/500\n",
            "91759/91759 [==============================] - 8s 88us/step - loss: 0.0352 - acc: 0.9863 - val_loss: 0.0353 - val_acc: 0.9863\n",
            "Epoch 266/500\n",
            "91759/91759 [==============================] - 8s 88us/step - loss: 0.0352 - acc: 0.9863 - val_loss: 0.0352 - val_acc: 0.9865\n",
            "Epoch 267/500\n",
            "13200/91759 [===>..........................] - ETA: 6s - loss: 0.0336 - acc: 0.9862"
          ],
          "name": "stdout"
        },
        {
          "output_type": "stream",
          "text": [
            "91759/91759 [==============================] - 8s 88us/step - loss: 0.0351 - acc: 0.9863 - val_loss: 0.0353 - val_acc: 0.9864\n",
            "Epoch 268/500\n",
            "91759/91759 [==============================] - 8s 89us/step - loss: 0.0352 - acc: 0.9863 - val_loss: 0.0352 - val_acc: 0.9864\n",
            "Epoch 269/500\n",
            "91759/91759 [==============================] - 8s 88us/step - loss: 0.0352 - acc: 0.9863 - val_loss: 0.0352 - val_acc: 0.9864\n",
            "Epoch 270/500\n",
            "13200/91759 [===>..........................] - ETA: 6s - loss: 0.0356 - acc: 0.9866"
          ],
          "name": "stdout"
        },
        {
          "output_type": "stream",
          "text": [
            "91759/91759 [==============================] - 8s 88us/step - loss: 0.0352 - acc: 0.9863 - val_loss: 0.0351 - val_acc: 0.9865\n",
            "Epoch 271/500\n",
            "91759/91759 [==============================] - 8s 88us/step - loss: 0.0351 - acc: 0.9862 - val_loss: 0.0351 - val_acc: 0.9865\n",
            "Epoch 272/500\n",
            "91759/91759 [==============================] - 8s 88us/step - loss: 0.0352 - acc: 0.9863 - val_loss: 0.0358 - val_acc: 0.9855\n",
            "Epoch 273/500\n",
            "13100/91759 [===>..........................] - ETA: 6s - loss: 0.0324 - acc: 0.9869"
          ],
          "name": "stdout"
        },
        {
          "output_type": "stream",
          "text": [
            "91759/91759 [==============================] - 8s 88us/step - loss: 0.0351 - acc: 0.9863 - val_loss: 0.0351 - val_acc: 0.9864\n",
            "Epoch 274/500\n",
            "91759/91759 [==============================] - 8s 88us/step - loss: 0.0351 - acc: 0.9863 - val_loss: 0.0352 - val_acc: 0.9864\n",
            "Epoch 275/500\n",
            "91759/91759 [==============================] - 8s 89us/step - loss: 0.0351 - acc: 0.9863 - val_loss: 0.0352 - val_acc: 0.9865\n",
            "Epoch 276/500\n",
            "13100/91759 [===>..........................] - ETA: 6s - loss: 0.0342 - acc: 0.9878"
          ],
          "name": "stdout"
        },
        {
          "output_type": "stream",
          "text": [
            "91759/91759 [==============================] - 8s 89us/step - loss: 0.0351 - acc: 0.9863 - val_loss: 0.0351 - val_acc: 0.9865\n",
            "Epoch 277/500\n",
            "91759/91759 [==============================] - 8s 88us/step - loss: 0.0350 - acc: 0.9863 - val_loss: 0.0351 - val_acc: 0.9865\n",
            "Epoch 278/500\n",
            "91759/91759 [==============================] - 8s 88us/step - loss: 0.0351 - acc: 0.9863 - val_loss: 0.0357 - val_acc: 0.9865\n",
            "Epoch 279/500\n",
            "13100/91759 [===>..........................] - ETA: 6s - loss: 0.0369 - acc: 0.9852"
          ],
          "name": "stdout"
        },
        {
          "output_type": "stream",
          "text": [
            "91759/91759 [==============================] - 8s 88us/step - loss: 0.0351 - acc: 0.9863 - val_loss: 0.0351 - val_acc: 0.9864\n",
            "Epoch 280/500\n",
            "91759/91759 [==============================] - 8s 88us/step - loss: 0.0351 - acc: 0.9864 - val_loss: 0.0353 - val_acc: 0.9870\n",
            "Epoch 281/500\n",
            "91759/91759 [==============================] - 8s 89us/step - loss: 0.0350 - acc: 0.9864 - val_loss: 0.0351 - val_acc: 0.9865\n",
            "Epoch 282/500\n",
            "13100/91759 [===>..........................] - ETA: 6s - loss: 0.0341 - acc: 0.9873"
          ],
          "name": "stdout"
        },
        {
          "output_type": "stream",
          "text": [
            "91759/91759 [==============================] - 8s 88us/step - loss: 0.0350 - acc: 0.9863 - val_loss: 0.0355 - val_acc: 0.9864\n",
            "Epoch 283/500\n",
            "91759/91759 [==============================] - 8s 89us/step - loss: 0.0351 - acc: 0.9863 - val_loss: 0.0350 - val_acc: 0.9866\n",
            "Epoch 284/500\n",
            "91759/91759 [==============================] - 8s 89us/step - loss: 0.0350 - acc: 0.9863 - val_loss: 0.0352 - val_acc: 0.9866\n",
            "Epoch 285/500\n",
            "12600/91759 [===>..........................] - ETA: 6s - loss: 0.0361 - acc: 0.9862"
          ],
          "name": "stdout"
        },
        {
          "output_type": "stream",
          "text": [
            "91759/91759 [==============================] - 8s 89us/step - loss: 0.0349 - acc: 0.9864 - val_loss: 0.0352 - val_acc: 0.9865\n",
            "Epoch 286/500\n",
            "91759/91759 [==============================] - 8s 88us/step - loss: 0.0350 - acc: 0.9864 - val_loss: 0.0353 - val_acc: 0.9869\n",
            "Epoch 287/500\n",
            "91759/91759 [==============================] - 8s 89us/step - loss: 0.0350 - acc: 0.9863 - val_loss: 0.0352 - val_acc: 0.9864\n",
            "Epoch 288/500\n",
            "12300/91759 [===>..........................] - ETA: 6s - loss: 0.0365 - acc: 0.9864"
          ],
          "name": "stdout"
        },
        {
          "output_type": "stream",
          "text": [
            "91759/91759 [==============================] - 8s 88us/step - loss: 0.0350 - acc: 0.9864 - val_loss: 0.0351 - val_acc: 0.9866\n",
            "Epoch 289/500\n",
            "91759/91759 [==============================] - 8s 87us/step - loss: 0.0350 - acc: 0.9865 - val_loss: 0.0350 - val_acc: 0.9865\n",
            "Epoch 290/500\n",
            "91759/91759 [==============================] - 8s 87us/step - loss: 0.0350 - acc: 0.9865 - val_loss: 0.0351 - val_acc: 0.9865\n",
            "Epoch 291/500\n",
            "13600/91759 [===>..........................] - ETA: 6s - loss: 0.0340 - acc: 0.9867"
          ],
          "name": "stdout"
        },
        {
          "output_type": "stream",
          "text": [
            "91759/91759 [==============================] - 8s 88us/step - loss: 0.0350 - acc: 0.9864 - val_loss: 0.0350 - val_acc: 0.9865\n",
            "Epoch 292/500\n",
            "91759/91759 [==============================] - 8s 88us/step - loss: 0.0350 - acc: 0.9864 - val_loss: 0.0351 - val_acc: 0.9864\n",
            "Epoch 293/500\n",
            "91759/91759 [==============================] - 8s 88us/step - loss: 0.0349 - acc: 0.9864 - val_loss: 0.0350 - val_acc: 0.9865\n",
            "Epoch 294/500\n",
            "13200/91759 [===>..........................] - ETA: 6s - loss: 0.0387 - acc: 0.9868"
          ],
          "name": "stdout"
        },
        {
          "output_type": "stream",
          "text": [
            "91759/91759 [==============================] - 8s 88us/step - loss: 0.0350 - acc: 0.9864 - val_loss: 0.0353 - val_acc: 0.9865\n",
            "Epoch 295/500\n",
            "91759/91759 [==============================] - 8s 88us/step - loss: 0.0349 - acc: 0.9864 - val_loss: 0.0349 - val_acc: 0.9866\n",
            "Epoch 296/500\n",
            "91759/91759 [==============================] - 8s 88us/step - loss: 0.0350 - acc: 0.9864 - val_loss: 0.0349 - val_acc: 0.9866\n",
            "Epoch 297/500\n",
            "14000/91759 [===>..........................] - ETA: 6s - loss: 0.0399 - acc: 0.9844"
          ],
          "name": "stdout"
        },
        {
          "output_type": "stream",
          "text": [
            "91759/91759 [==============================] - 8s 88us/step - loss: 0.0349 - acc: 0.9865 - val_loss: 0.0351 - val_acc: 0.9865\n",
            "Epoch 298/500\n",
            "91759/91759 [==============================] - 8s 88us/step - loss: 0.0349 - acc: 0.9865 - val_loss: 0.0350 - val_acc: 0.9866\n",
            "Epoch 299/500\n",
            "91759/91759 [==============================] - 8s 88us/step - loss: 0.0349 - acc: 0.9865 - val_loss: 0.0350 - val_acc: 0.9865\n",
            "Epoch 300/500\n",
            "13800/91759 [===>..........................] - ETA: 6s - loss: 0.0338 - acc: 0.9866"
          ],
          "name": "stdout"
        },
        {
          "output_type": "stream",
          "text": [
            "91759/91759 [==============================] - 8s 89us/step - loss: 0.0349 - acc: 0.9865 - val_loss: 0.0349 - val_acc: 0.9866\n",
            "Epoch 301/500\n",
            "91759/91759 [==============================] - 8s 88us/step - loss: 0.0349 - acc: 0.9864 - val_loss: 0.0350 - val_acc: 0.9865\n",
            "Epoch 302/500\n",
            "91759/91759 [==============================] - 8s 88us/step - loss: 0.0349 - acc: 0.9865 - val_loss: 0.0351 - val_acc: 0.9870\n",
            "Epoch 303/500\n",
            "13100/91759 [===>..........................] - ETA: 6s - loss: 0.0342 - acc: 0.9863"
          ],
          "name": "stdout"
        },
        {
          "output_type": "stream",
          "text": [
            "91759/91759 [==============================] - 8s 88us/step - loss: 0.0349 - acc: 0.9864 - val_loss: 0.0350 - val_acc: 0.9865\n",
            "Epoch 304/500\n",
            "91759/91759 [==============================] - 8s 88us/step - loss: 0.0349 - acc: 0.9864 - val_loss: 0.0350 - val_acc: 0.9870\n",
            "Epoch 305/500\n",
            "91759/91759 [==============================] - 8s 87us/step - loss: 0.0348 - acc: 0.9865 - val_loss: 0.0353 - val_acc: 0.9869\n",
            "Epoch 306/500\n",
            "13500/91759 [===>..........................] - ETA: 6s - loss: 0.0358 - acc: 0.9866"
          ],
          "name": "stdout"
        },
        {
          "output_type": "stream",
          "text": [
            "91759/91759 [==============================] - 8s 89us/step - loss: 0.0349 - acc: 0.9865 - val_loss: 0.0349 - val_acc: 0.9870\n",
            "Epoch 307/500\n",
            "91759/91759 [==============================] - 8s 89us/step - loss: 0.0348 - acc: 0.9865 - val_loss: 0.0349 - val_acc: 0.9866\n",
            "Epoch 308/500\n",
            "91759/91759 [==============================] - 8s 89us/step - loss: 0.0349 - acc: 0.9865 - val_loss: 0.0349 - val_acc: 0.9869\n",
            "Epoch 309/500\n",
            "12200/91759 [==>...........................] - ETA: 6s - loss: 0.0357 - acc: 0.9853"
          ],
          "name": "stdout"
        },
        {
          "output_type": "stream",
          "text": [
            "91759/91759 [==============================] - 8s 90us/step - loss: 0.0348 - acc: 0.9866 - val_loss: 0.0350 - val_acc: 0.9865\n",
            "Epoch 310/500\n",
            "91759/91759 [==============================] - 8s 89us/step - loss: 0.0349 - acc: 0.9865 - val_loss: 0.0349 - val_acc: 0.9865\n",
            "Epoch 311/500\n",
            "91759/91759 [==============================] - 8s 89us/step - loss: 0.0348 - acc: 0.9865 - val_loss: 0.0349 - val_acc: 0.9864\n",
            "Epoch 312/500\n",
            "12400/91759 [===>..........................] - ETA: 6s - loss: 0.0373 - acc: 0.9849"
          ],
          "name": "stdout"
        },
        {
          "output_type": "stream",
          "text": [
            "91759/91759 [==============================] - 8s 89us/step - loss: 0.0348 - acc: 0.9865 - val_loss: 0.0349 - val_acc: 0.9865\n",
            "Epoch 313/500\n",
            "91759/91759 [==============================] - 8s 89us/step - loss: 0.0349 - acc: 0.9865 - val_loss: 0.0348 - val_acc: 0.9865\n",
            "Epoch 314/500\n",
            "91759/91759 [==============================] - 8s 89us/step - loss: 0.0348 - acc: 0.9866 - val_loss: 0.0349 - val_acc: 0.9870\n",
            "Epoch 315/500\n",
            "12100/91759 [==>...........................] - ETA: 6s - loss: 0.0356 - acc: 0.9854"
          ],
          "name": "stdout"
        },
        {
          "output_type": "stream",
          "text": [
            "91759/91759 [==============================] - 8s 89us/step - loss: 0.0348 - acc: 0.9866 - val_loss: 0.0348 - val_acc: 0.9866\n",
            "Epoch 316/500\n",
            "91759/91759 [==============================] - 8s 89us/step - loss: 0.0348 - acc: 0.9865 - val_loss: 0.0348 - val_acc: 0.9865\n",
            "Epoch 317/500\n",
            "91759/91759 [==============================] - 8s 89us/step - loss: 0.0348 - acc: 0.9865 - val_loss: 0.0348 - val_acc: 0.9870\n",
            "Epoch 318/500\n",
            "13100/91759 [===>..........................] - ETA: 6s - loss: 0.0305 - acc: 0.9884"
          ],
          "name": "stdout"
        },
        {
          "output_type": "stream",
          "text": [
            "91759/91759 [==============================] - 8s 89us/step - loss: 0.0348 - acc: 0.9866 - val_loss: 0.0348 - val_acc: 0.9865\n",
            "Epoch 319/500\n",
            "91759/91759 [==============================] - 8s 89us/step - loss: 0.0348 - acc: 0.9866 - val_loss: 0.0348 - val_acc: 0.9870\n",
            "Epoch 320/500\n",
            "91759/91759 [==============================] - 8s 89us/step - loss: 0.0347 - acc: 0.9865 - val_loss: 0.0348 - val_acc: 0.9865\n",
            "Epoch 321/500\n",
            "13900/91759 [===>..........................] - ETA: 6s - loss: 0.0344 - acc: 0.9864"
          ],
          "name": "stdout"
        },
        {
          "output_type": "stream",
          "text": [
            "91759/91759 [==============================] - 8s 89us/step - loss: 0.0348 - acc: 0.9865 - val_loss: 0.0348 - val_acc: 0.9866\n",
            "Epoch 322/500\n",
            "91759/91759 [==============================] - 8s 89us/step - loss: 0.0348 - acc: 0.9867 - val_loss: 0.0349 - val_acc: 0.9865\n",
            "Epoch 323/500\n",
            "91759/91759 [==============================] - 8s 89us/step - loss: 0.0348 - acc: 0.9866 - val_loss: 0.0349 - val_acc: 0.9866\n",
            "Epoch 324/500\n",
            "13100/91759 [===>..........................] - ETA: 6s - loss: 0.0392 - acc: 0.9844"
          ],
          "name": "stdout"
        },
        {
          "output_type": "stream",
          "text": [
            "91759/91759 [==============================] - 8s 89us/step - loss: 0.0348 - acc: 0.9867 - val_loss: 0.0348 - val_acc: 0.9865\n",
            "Epoch 325/500\n",
            "91759/91759 [==============================] - 8s 89us/step - loss: 0.0348 - acc: 0.9867 - val_loss: 0.0348 - val_acc: 0.9870\n",
            "Epoch 326/500\n",
            "91759/91759 [==============================] - 8s 90us/step - loss: 0.0348 - acc: 0.9867 - val_loss: 0.0349 - val_acc: 0.9865\n",
            "Epoch 327/500\n",
            "12200/91759 [==>...........................] - ETA: 6s - loss: 0.0339 - acc: 0.9861"
          ],
          "name": "stdout"
        },
        {
          "output_type": "stream",
          "text": [
            "91759/91759 [==============================] - 8s 88us/step - loss: 0.0347 - acc: 0.9867 - val_loss: 0.0349 - val_acc: 0.9870\n",
            "Epoch 328/500\n",
            "91759/91759 [==============================] - 8s 86us/step - loss: 0.0347 - acc: 0.9867 - val_loss: 0.0349 - val_acc: 0.9866\n",
            "Epoch 329/500\n",
            "91759/91759 [==============================] - 8s 86us/step - loss: 0.0347 - acc: 0.9866 - val_loss: 0.0349 - val_acc: 0.9869\n",
            "Epoch 330/500\n",
            "14400/91759 [===>..........................] - ETA: 6s - loss: 0.0322 - acc: 0.9878"
          ],
          "name": "stdout"
        },
        {
          "output_type": "stream",
          "text": [
            "91759/91759 [==============================] - 8s 88us/step - loss: 0.0347 - acc: 0.9866 - val_loss: 0.0348 - val_acc: 0.9870\n",
            "Epoch 331/500\n",
            "91759/91759 [==============================] - 8s 90us/step - loss: 0.0347 - acc: 0.9867 - val_loss: 0.0351 - val_acc: 0.9865\n",
            "Epoch 332/500\n",
            "91759/91759 [==============================] - 8s 89us/step - loss: 0.0347 - acc: 0.9867 - val_loss: 0.0347 - val_acc: 0.9866\n",
            "Epoch 333/500\n",
            "13000/91759 [===>..........................] - ETA: 6s - loss: 0.0308 - acc: 0.9879"
          ],
          "name": "stdout"
        },
        {
          "output_type": "stream",
          "text": [
            "91759/91759 [==============================] - 8s 89us/step - loss: 0.0347 - acc: 0.9866 - val_loss: 0.0347 - val_acc: 0.9866\n",
            "Epoch 334/500\n",
            "91759/91759 [==============================] - 8s 91us/step - loss: 0.0347 - acc: 0.9868 - val_loss: 0.0352 - val_acc: 0.9865\n",
            "Epoch 335/500\n",
            "91759/91759 [==============================] - 8s 89us/step - loss: 0.0347 - acc: 0.9867 - val_loss: 0.0349 - val_acc: 0.9864\n",
            "Epoch 336/500\n",
            "11000/91759 [==>...........................] - ETA: 6s - loss: 0.0348 - acc: 0.9860"
          ],
          "name": "stdout"
        },
        {
          "output_type": "stream",
          "text": [
            "91759/91759 [==============================] - 8s 89us/step - loss: 0.0347 - acc: 0.9867 - val_loss: 0.0347 - val_acc: 0.9870\n",
            "Epoch 337/500\n",
            "91759/91759 [==============================] - 8s 89us/step - loss: 0.0347 - acc: 0.9867 - val_loss: 0.0353 - val_acc: 0.9870\n",
            "Epoch 338/500\n",
            "91759/91759 [==============================] - 8s 90us/step - loss: 0.0346 - acc: 0.9868 - val_loss: 0.0348 - val_acc: 0.9870\n",
            "Epoch 339/500\n",
            "11700/91759 [==>...........................] - ETA: 6s - loss: 0.0406 - acc: 0.9862"
          ],
          "name": "stdout"
        },
        {
          "output_type": "stream",
          "text": [
            "91759/91759 [==============================] - 8s 90us/step - loss: 0.0347 - acc: 0.9868 - val_loss: 0.0347 - val_acc: 0.9866\n",
            "Epoch 340/500\n",
            "91759/91759 [==============================] - 8s 88us/step - loss: 0.0346 - acc: 0.9867 - val_loss: 0.0347 - val_acc: 0.9870\n",
            "Epoch 341/500\n",
            "91759/91759 [==============================] - 8s 89us/step - loss: 0.0346 - acc: 0.9868 - val_loss: 0.0350 - val_acc: 0.9865\n",
            "Epoch 342/500\n",
            "13000/91759 [===>..........................] - ETA: 6s - loss: 0.0309 - acc: 0.9885"
          ],
          "name": "stdout"
        },
        {
          "output_type": "stream",
          "text": [
            "91759/91759 [==============================] - 8s 89us/step - loss: 0.0346 - acc: 0.9867 - val_loss: 0.0351 - val_acc: 0.9873\n",
            "Epoch 343/500\n",
            "91759/91759 [==============================] - 8s 90us/step - loss: 0.0346 - acc: 0.9868 - val_loss: 0.0349 - val_acc: 0.9869\n",
            "Epoch 344/500\n",
            "91759/91759 [==============================] - 8s 87us/step - loss: 0.0346 - acc: 0.9868 - val_loss: 0.0347 - val_acc: 0.9866\n",
            "Epoch 345/500\n",
            "13100/91759 [===>..........................] - ETA: 6s - loss: 0.0361 - acc: 0.9873"
          ],
          "name": "stdout"
        },
        {
          "output_type": "stream",
          "text": [
            "91759/91759 [==============================] - 8s 89us/step - loss: 0.0346 - acc: 0.9868 - val_loss: 0.0351 - val_acc: 0.9865\n",
            "Epoch 346/500\n",
            "91759/91759 [==============================] - 8s 89us/step - loss: 0.0346 - acc: 0.9868 - val_loss: 0.0349 - val_acc: 0.9865\n",
            "Epoch 347/500\n",
            "91759/91759 [==============================] - 8s 89us/step - loss: 0.0346 - acc: 0.9868 - val_loss: 0.0347 - val_acc: 0.9866\n",
            "Epoch 348/500\n",
            "13100/91759 [===>..........................] - ETA: 6s - loss: 0.0344 - acc: 0.9863"
          ],
          "name": "stdout"
        },
        {
          "output_type": "stream",
          "text": [
            "91759/91759 [==============================] - 8s 89us/step - loss: 0.0346 - acc: 0.9868 - val_loss: 0.0348 - val_acc: 0.9870\n",
            "Epoch 349/500\n",
            "91759/91759 [==============================] - 8s 89us/step - loss: 0.0346 - acc: 0.9869 - val_loss: 0.0348 - val_acc: 0.9865\n",
            "Epoch 350/500\n",
            "91759/91759 [==============================] - 8s 88us/step - loss: 0.0346 - acc: 0.9869 - val_loss: 0.0347 - val_acc: 0.9870\n",
            "Epoch 351/500\n",
            "13600/91759 [===>..........................] - ETA: 6s - loss: 0.0381 - acc: 0.9863"
          ],
          "name": "stdout"
        },
        {
          "output_type": "stream",
          "text": [
            "91759/91759 [==============================] - 8s 89us/step - loss: 0.0346 - acc: 0.9868 - val_loss: 0.0347 - val_acc: 0.9870\n",
            "Epoch 352/500\n",
            "91759/91759 [==============================] - 8s 90us/step - loss: 0.0346 - acc: 0.9868 - val_loss: 0.0348 - val_acc: 0.9870\n",
            "Epoch 353/500\n",
            "91759/91759 [==============================] - 8s 90us/step - loss: 0.0345 - acc: 0.9869 - val_loss: 0.0347 - val_acc: 0.9865\n",
            "Epoch 354/500\n",
            "11000/91759 [==>...........................] - ETA: 6s - loss: 0.0341 - acc: 0.9860"
          ],
          "name": "stdout"
        },
        {
          "output_type": "stream",
          "text": [
            "91759/91759 [==============================] - 8s 90us/step - loss: 0.0346 - acc: 0.9868 - val_loss: 0.0351 - val_acc: 0.9870\n",
            "Epoch 355/500\n",
            "91759/91759 [==============================] - 8s 90us/step - loss: 0.0346 - acc: 0.9869 - val_loss: 0.0348 - val_acc: 0.9866\n",
            "Epoch 356/500\n",
            "91759/91759 [==============================] - 8s 89us/step - loss: 0.0346 - acc: 0.9868 - val_loss: 0.0347 - val_acc: 0.9866\n",
            "Epoch 357/500\n",
            "10700/91759 [==>...........................] - ETA: 6s - loss: 0.0329 - acc: 0.9864"
          ],
          "name": "stdout"
        },
        {
          "output_type": "stream",
          "text": [
            "91759/91759 [==============================] - 8s 89us/step - loss: 0.0345 - acc: 0.9869 - val_loss: 0.0348 - val_acc: 0.9869\n",
            "Epoch 358/500\n",
            "91759/91759 [==============================] - 8s 88us/step - loss: 0.0346 - acc: 0.9869 - val_loss: 0.0349 - val_acc: 0.9865\n",
            "Epoch 359/500\n",
            "91759/91759 [==============================] - 8s 90us/step - loss: 0.0345 - acc: 0.9869 - val_loss: 0.0348 - val_acc: 0.9870\n",
            "Epoch 360/500\n",
            "12400/91759 [===>..........................] - ETA: 6s - loss: 0.0366 - acc: 0.9865"
          ],
          "name": "stdout"
        },
        {
          "output_type": "stream",
          "text": [
            "91759/91759 [==============================] - 8s 90us/step - loss: 0.0345 - acc: 0.9869 - val_loss: 0.0349 - val_acc: 0.9870\n",
            "Epoch 361/500\n",
            "91759/91759 [==============================] - 8s 88us/step - loss: 0.0345 - acc: 0.9870 - val_loss: 0.0346 - val_acc: 0.9870\n",
            "Epoch 362/500\n",
            "91759/91759 [==============================] - 8s 88us/step - loss: 0.0345 - acc: 0.9868 - val_loss: 0.0348 - val_acc: 0.9865\n",
            "Epoch 363/500\n",
            "13000/91759 [===>..........................] - ETA: 6s - loss: 0.0374 - acc: 0.9852"
          ],
          "name": "stdout"
        },
        {
          "output_type": "stream",
          "text": [
            "91759/91759 [==============================] - 8s 89us/step - loss: 0.0345 - acc: 0.9869 - val_loss: 0.0346 - val_acc: 0.9870\n",
            "Epoch 364/500\n",
            "91759/91759 [==============================] - 8s 89us/step - loss: 0.0345 - acc: 0.9869 - val_loss: 0.0347 - val_acc: 0.9870\n",
            "Epoch 365/500\n",
            "91759/91759 [==============================] - 8s 89us/step - loss: 0.0345 - acc: 0.9869 - val_loss: 0.0347 - val_acc: 0.9865\n",
            "Epoch 366/500\n",
            "12400/91759 [===>..........................] - ETA: 6s - loss: 0.0343 - acc: 0.9876"
          ],
          "name": "stdout"
        },
        {
          "output_type": "stream",
          "text": [
            "91759/91759 [==============================] - 8s 89us/step - loss: 0.0345 - acc: 0.9869 - val_loss: 0.0349 - val_acc: 0.9873\n",
            "Epoch 367/500\n",
            "91759/91759 [==============================] - 8s 89us/step - loss: 0.0346 - acc: 0.9870 - val_loss: 0.0346 - val_acc: 0.9869\n",
            "Epoch 368/500\n",
            "91759/91759 [==============================] - 8s 88us/step - loss: 0.0345 - acc: 0.9870 - val_loss: 0.0346 - val_acc: 0.9866\n",
            "Epoch 369/500\n",
            "13200/91759 [===>..........................] - ETA: 6s - loss: 0.0368 - acc: 0.9864"
          ],
          "name": "stdout"
        },
        {
          "output_type": "stream",
          "text": [
            "91759/91759 [==============================] - 8s 89us/step - loss: 0.0345 - acc: 0.9869 - val_loss: 0.0349 - val_acc: 0.9870\n",
            "Epoch 370/500\n",
            "91759/91759 [==============================] - 8s 89us/step - loss: 0.0345 - acc: 0.9869 - val_loss: 0.0347 - val_acc: 0.9870\n",
            "Epoch 371/500\n",
            "91759/91759 [==============================] - 8s 88us/step - loss: 0.0345 - acc: 0.9870 - val_loss: 0.0348 - val_acc: 0.9870\n",
            "Epoch 372/500\n",
            "13900/91759 [===>..........................] - ETA: 6s - loss: 0.0308 - acc: 0.9880"
          ],
          "name": "stdout"
        },
        {
          "output_type": "stream",
          "text": [
            "91759/91759 [==============================] - 8s 88us/step - loss: 0.0345 - acc: 0.9870 - val_loss: 0.0348 - val_acc: 0.9865\n",
            "Epoch 373/500\n",
            "91759/91759 [==============================] - 8s 87us/step - loss: 0.0344 - acc: 0.9869 - val_loss: 0.0350 - val_acc: 0.9870\n",
            "Epoch 374/500\n",
            "91759/91759 [==============================] - 8s 87us/step - loss: 0.0345 - acc: 0.9870 - val_loss: 0.0346 - val_acc: 0.9870\n",
            "Epoch 375/500\n",
            "14000/91759 [===>..........................] - ETA: 6s - loss: 0.0371 - acc: 0.9864"
          ],
          "name": "stdout"
        },
        {
          "output_type": "stream",
          "text": [
            "91759/91759 [==============================] - 8s 87us/step - loss: 0.0345 - acc: 0.9870 - val_loss: 0.0347 - val_acc: 0.9870\n",
            "Epoch 376/500\n",
            "91759/91759 [==============================] - 8s 88us/step - loss: 0.0345 - acc: 0.9869 - val_loss: 0.0348 - val_acc: 0.9870\n",
            "Epoch 377/500\n",
            "91759/91759 [==============================] - 8s 87us/step - loss: 0.0345 - acc: 0.9868 - val_loss: 0.0350 - val_acc: 0.9870\n",
            "Epoch 378/500\n",
            "14600/91759 [===>..........................] - ETA: 6s - loss: 0.0341 - acc: 0.9875"
          ],
          "name": "stdout"
        },
        {
          "output_type": "stream",
          "text": [
            "91759/91759 [==============================] - 8s 87us/step - loss: 0.0345 - acc: 0.9870 - val_loss: 0.0348 - val_acc: 0.9866\n",
            "Epoch 379/500\n",
            "91759/91759 [==============================] - 8s 88us/step - loss: 0.0345 - acc: 0.9870 - val_loss: 0.0346 - val_acc: 0.9870\n",
            "Epoch 380/500\n",
            "91759/91759 [==============================] - 8s 88us/step - loss: 0.0344 - acc: 0.9870 - val_loss: 0.0348 - val_acc: 0.9869\n",
            "Epoch 381/500\n",
            "13800/91759 [===>..........................] - ETA: 6s - loss: 0.0310 - acc: 0.9876"
          ],
          "name": "stdout"
        },
        {
          "output_type": "stream",
          "text": [
            "91759/91759 [==============================] - 8s 88us/step - loss: 0.0344 - acc: 0.9870 - val_loss: 0.0347 - val_acc: 0.9870\n",
            "Epoch 382/500\n",
            "91759/91759 [==============================] - 8s 88us/step - loss: 0.0344 - acc: 0.9870 - val_loss: 0.0347 - val_acc: 0.9870\n",
            "Epoch 383/500\n",
            "91759/91759 [==============================] - 8s 89us/step - loss: 0.0344 - acc: 0.9871 - val_loss: 0.0347 - val_acc: 0.9870\n",
            "Epoch 384/500\n",
            "12500/91759 [===>..........................] - ETA: 6s - loss: 0.0351 - acc: 0.9866"
          ],
          "name": "stdout"
        },
        {
          "output_type": "stream",
          "text": [
            "91759/91759 [==============================] - 8s 88us/step - loss: 0.0344 - acc: 0.9870 - val_loss: 0.0347 - val_acc: 0.9866\n",
            "Epoch 385/500\n",
            "91759/91759 [==============================] - 8s 88us/step - loss: 0.0344 - acc: 0.9870 - val_loss: 0.0347 - val_acc: 0.9869\n",
            "Epoch 386/500\n",
            "91759/91759 [==============================] - 8s 88us/step - loss: 0.0345 - acc: 0.9871 - val_loss: 0.0346 - val_acc: 0.9870\n",
            "Epoch 387/500\n",
            "13300/91759 [===>..........................] - ETA: 6s - loss: 0.0345 - acc: 0.9875"
          ],
          "name": "stdout"
        },
        {
          "output_type": "stream",
          "text": [
            "91759/91759 [==============================] - 8s 87us/step - loss: 0.0344 - acc: 0.9870 - val_loss: 0.0347 - val_acc: 0.9870\n",
            "Epoch 388/500\n",
            "91759/91759 [==============================] - 8s 86us/step - loss: 0.0344 - acc: 0.9870 - val_loss: 0.0346 - val_acc: 0.9870\n",
            "Epoch 389/500\n",
            "91759/91759 [==============================] - 8s 87us/step - loss: 0.0344 - acc: 0.9870 - val_loss: 0.0346 - val_acc: 0.9870\n",
            "Epoch 390/500\n",
            "14500/91759 [===>..........................] - ETA: 6s - loss: 0.0356 - acc: 0.9873"
          ],
          "name": "stdout"
        },
        {
          "output_type": "stream",
          "text": [
            "91759/91759 [==============================] - 8s 87us/step - loss: 0.0344 - acc: 0.9871 - val_loss: 0.0346 - val_acc: 0.9870\n",
            "Epoch 391/500\n",
            "91759/91759 [==============================] - 8s 88us/step - loss: 0.0344 - acc: 0.9870 - val_loss: 0.0345 - val_acc: 0.9870\n",
            "Epoch 392/500\n",
            "91759/91759 [==============================] - 8s 87us/step - loss: 0.0344 - acc: 0.9871 - val_loss: 0.0345 - val_acc: 0.9870\n",
            "Epoch 393/500\n",
            "14000/91759 [===>..........................] - ETA: 6s - loss: 0.0340 - acc: 0.9881"
          ],
          "name": "stdout"
        },
        {
          "output_type": "stream",
          "text": [
            "91759/91759 [==============================] - 8s 87us/step - loss: 0.0344 - acc: 0.9871 - val_loss: 0.0345 - val_acc: 0.9870\n",
            "Epoch 394/500\n",
            "91759/91759 [==============================] - 8s 87us/step - loss: 0.0344 - acc: 0.9871 - val_loss: 0.0346 - val_acc: 0.9870\n",
            "Epoch 395/500\n",
            "91759/91759 [==============================] - 8s 89us/step - loss: 0.0343 - acc: 0.9871 - val_loss: 0.0347 - val_acc: 0.9870\n",
            "Epoch 396/500\n",
            "13200/91759 [===>..........................] - ETA: 6s - loss: 0.0322 - acc: 0.9880"
          ],
          "name": "stdout"
        },
        {
          "output_type": "stream",
          "text": [
            "91759/91759 [==============================] - 8s 87us/step - loss: 0.0343 - acc: 0.9871 - val_loss: 0.0346 - val_acc: 0.9870\n",
            "Epoch 397/500\n",
            "91759/91759 [==============================] - 8s 88us/step - loss: 0.0343 - acc: 0.9871 - val_loss: 0.0346 - val_acc: 0.9871\n",
            "Epoch 398/500\n",
            "91759/91759 [==============================] - 8s 88us/step - loss: 0.0344 - acc: 0.9871 - val_loss: 0.0345 - val_acc: 0.9870\n",
            "Epoch 399/500\n",
            "13900/91759 [===>..........................] - ETA: 6s - loss: 0.0340 - acc: 0.9867"
          ],
          "name": "stdout"
        },
        {
          "output_type": "stream",
          "text": [
            "91759/91759 [==============================] - 8s 88us/step - loss: 0.0343 - acc: 0.9871 - val_loss: 0.0347 - val_acc: 0.9871\n",
            "Epoch 400/500\n",
            "91759/91759 [==============================] - 8s 88us/step - loss: 0.0344 - acc: 0.9871 - val_loss: 0.0347 - val_acc: 0.9870\n",
            "Epoch 401/500\n",
            "91759/91759 [==============================] - 8s 88us/step - loss: 0.0344 - acc: 0.9871 - val_loss: 0.0346 - val_acc: 0.9870\n",
            "Epoch 402/500\n",
            "14700/91759 [===>..........................] - ETA: 5s - loss: 0.0308 - acc: 0.9887"
          ],
          "name": "stdout"
        },
        {
          "output_type": "stream",
          "text": [
            "91759/91759 [==============================] - 8s 88us/step - loss: 0.0343 - acc: 0.9871 - val_loss: 0.0345 - val_acc: 0.9870\n",
            "Epoch 403/500\n",
            "91759/91759 [==============================] - 8s 87us/step - loss: 0.0344 - acc: 0.9871 - val_loss: 0.0345 - val_acc: 0.9870\n",
            "Epoch 404/500\n",
            "91759/91759 [==============================] - 8s 88us/step - loss: 0.0343 - acc: 0.9871 - val_loss: 0.0347 - val_acc: 0.9870\n",
            "Epoch 405/500\n",
            "14500/91759 [===>..........................] - ETA: 6s - loss: 0.0307 - acc: 0.9886"
          ],
          "name": "stdout"
        },
        {
          "output_type": "stream",
          "text": [
            "91759/91759 [==============================] - 8s 87us/step - loss: 0.0343 - acc: 0.9871 - val_loss: 0.0346 - val_acc: 0.9870\n",
            "Epoch 406/500\n",
            "91759/91759 [==============================] - 8s 88us/step - loss: 0.0343 - acc: 0.9871 - val_loss: 0.0345 - val_acc: 0.9870\n",
            "Epoch 407/500\n",
            "91759/91759 [==============================] - 8s 88us/step - loss: 0.0343 - acc: 0.9871 - val_loss: 0.0345 - val_acc: 0.9870\n",
            "Epoch 408/500\n",
            "14700/91759 [===>..........................] - ETA: 6s - loss: 0.0314 - acc: 0.9879"
          ],
          "name": "stdout"
        },
        {
          "output_type": "stream",
          "text": [
            "91759/91759 [==============================] - 8s 87us/step - loss: 0.0343 - acc: 0.9871 - val_loss: 0.0345 - val_acc: 0.9870\n",
            "Epoch 409/500\n",
            "91759/91759 [==============================] - 8s 87us/step - loss: 0.0344 - acc: 0.9871 - val_loss: 0.0345 - val_acc: 0.9870\n",
            "Epoch 410/500\n",
            "91759/91759 [==============================] - 8s 88us/step - loss: 0.0343 - acc: 0.9871 - val_loss: 0.0345 - val_acc: 0.9870\n",
            "Epoch 411/500\n",
            "14300/91759 [===>..........................] - ETA: 6s - loss: 0.0322 - acc: 0.9871"
          ],
          "name": "stdout"
        },
        {
          "output_type": "stream",
          "text": [
            "91759/91759 [==============================] - 8s 88us/step - loss: 0.0343 - acc: 0.9872 - val_loss: 0.0347 - val_acc: 0.9870\n",
            "Epoch 412/500\n",
            "91759/91759 [==============================] - 8s 87us/step - loss: 0.0343 - acc: 0.9871 - val_loss: 0.0346 - val_acc: 0.9870\n",
            "Epoch 413/500\n",
            "91759/91759 [==============================] - 8s 87us/step - loss: 0.0342 - acc: 0.9871 - val_loss: 0.0345 - val_acc: 0.9870\n",
            "Epoch 414/500\n",
            "14500/91759 [===>..........................] - ETA: 6s - loss: 0.0322 - acc: 0.9867"
          ],
          "name": "stdout"
        },
        {
          "output_type": "stream",
          "text": [
            "91759/91759 [==============================] - 8s 88us/step - loss: 0.0343 - acc: 0.9871 - val_loss: 0.0345 - val_acc: 0.9870\n",
            "Epoch 415/500\n",
            "91759/91759 [==============================] - 8s 88us/step - loss: 0.0342 - acc: 0.9872 - val_loss: 0.0346 - val_acc: 0.9869\n",
            "Epoch 416/500\n",
            "91759/91759 [==============================] - 8s 89us/step - loss: 0.0342 - acc: 0.9871 - val_loss: 0.0348 - val_acc: 0.9871\n",
            "Epoch 417/500\n",
            "13900/91759 [===>..........................] - ETA: 6s - loss: 0.0340 - acc: 0.9868"
          ],
          "name": "stdout"
        },
        {
          "output_type": "stream",
          "text": [
            "91759/91759 [==============================] - 8s 87us/step - loss: 0.0343 - acc: 0.9871 - val_loss: 0.0346 - val_acc: 0.9870\n",
            "Epoch 418/500\n",
            "91759/91759 [==============================] - 8s 88us/step - loss: 0.0342 - acc: 0.9872 - val_loss: 0.0345 - val_acc: 0.9871\n",
            "Epoch 419/500\n",
            "91759/91759 [==============================] - 8s 88us/step - loss: 0.0342 - acc: 0.9871 - val_loss: 0.0346 - val_acc: 0.9870\n",
            "Epoch 420/500\n",
            "13800/91759 [===>..........................] - ETA: 6s - loss: 0.0340 - acc: 0.9867"
          ],
          "name": "stdout"
        },
        {
          "output_type": "stream",
          "text": [
            "91759/91759 [==============================] - 8s 88us/step - loss: 0.0342 - acc: 0.9871 - val_loss: 0.0345 - val_acc: 0.9871\n",
            "Epoch 421/500\n",
            "91759/91759 [==============================] - 8s 88us/step - loss: 0.0342 - acc: 0.9871 - val_loss: 0.0346 - val_acc: 0.9871\n",
            "Epoch 422/500\n",
            "91759/91759 [==============================] - 8s 88us/step - loss: 0.0343 - acc: 0.9871 - val_loss: 0.0346 - val_acc: 0.9871\n",
            "Epoch 423/500\n",
            "14600/91759 [===>..........................] - ETA: 6s - loss: 0.0327 - acc: 0.9882"
          ],
          "name": "stdout"
        },
        {
          "output_type": "stream",
          "text": [
            "91759/91759 [==============================] - 8s 88us/step - loss: 0.0342 - acc: 0.9871 - val_loss: 0.0345 - val_acc: 0.9871\n",
            "Epoch 424/500\n",
            "91759/91759 [==============================] - 8s 88us/step - loss: 0.0342 - acc: 0.9871 - val_loss: 0.0344 - val_acc: 0.9870\n",
            "Epoch 425/500\n",
            "91759/91759 [==============================] - 8s 89us/step - loss: 0.0342 - acc: 0.9871 - val_loss: 0.0345 - val_acc: 0.9870\n",
            "Epoch 426/500\n",
            "13900/91759 [===>..........................] - ETA: 6s - loss: 0.0309 - acc: 0.9873"
          ],
          "name": "stdout"
        },
        {
          "output_type": "stream",
          "text": [
            "91759/91759 [==============================] - 8s 88us/step - loss: 0.0343 - acc: 0.9871 - val_loss: 0.0345 - val_acc: 0.9870\n",
            "Epoch 427/500\n",
            "91759/91759 [==============================] - 8s 88us/step - loss: 0.0342 - acc: 0.9871 - val_loss: 0.0344 - val_acc: 0.9870\n",
            "Epoch 428/500\n",
            "91759/91759 [==============================] - 8s 89us/step - loss: 0.0342 - acc: 0.9872 - val_loss: 0.0345 - val_acc: 0.9870\n",
            "Epoch 429/500\n",
            "13100/91759 [===>..........................] - ETA: 6s - loss: 0.0339 - acc: 0.9872"
          ],
          "name": "stdout"
        },
        {
          "output_type": "stream",
          "text": [
            "91759/91759 [==============================] - 8s 89us/step - loss: 0.0342 - acc: 0.9871 - val_loss: 0.0345 - val_acc: 0.9871\n",
            "Epoch 430/500\n",
            "91759/91759 [==============================] - 8s 89us/step - loss: 0.0342 - acc: 0.9872 - val_loss: 0.0346 - val_acc: 0.9874\n",
            "Epoch 431/500\n",
            "91759/91759 [==============================] - 8s 88us/step - loss: 0.0343 - acc: 0.9871 - val_loss: 0.0345 - val_acc: 0.9871\n",
            "Epoch 432/500\n",
            "13900/91759 [===>..........................] - ETA: 6s - loss: 0.0327 - acc: 0.9878"
          ],
          "name": "stdout"
        },
        {
          "output_type": "stream",
          "text": [
            "91759/91759 [==============================] - 8s 88us/step - loss: 0.0342 - acc: 0.9872 - val_loss: 0.0346 - val_acc: 0.9870\n",
            "Epoch 433/500\n",
            "91759/91759 [==============================] - 8s 87us/step - loss: 0.0342 - acc: 0.9872 - val_loss: 0.0346 - val_acc: 0.9869\n",
            "Epoch 434/500\n",
            "91759/91759 [==============================] - 8s 88us/step - loss: 0.0342 - acc: 0.9872 - val_loss: 0.0345 - val_acc: 0.9870\n",
            "Epoch 435/500\n",
            "14300/91759 [===>..........................] - ETA: 6s - loss: 0.0322 - acc: 0.9882"
          ],
          "name": "stdout"
        },
        {
          "output_type": "stream",
          "text": [
            "91759/91759 [==============================] - 8s 87us/step - loss: 0.0342 - acc: 0.9872 - val_loss: 0.0345 - val_acc: 0.9871\n",
            "Epoch 436/500\n",
            "91759/91759 [==============================] - 8s 87us/step - loss: 0.0343 - acc: 0.9871 - val_loss: 0.0344 - val_acc: 0.9870\n",
            "Epoch 437/500\n",
            "91759/91759 [==============================] - 8s 87us/step - loss: 0.0342 - acc: 0.9871 - val_loss: 0.0345 - val_acc: 0.9871\n",
            "Epoch 438/500\n",
            "14500/91759 [===>..........................] - ETA: 6s - loss: 0.0329 - acc: 0.9876"
          ],
          "name": "stdout"
        },
        {
          "output_type": "stream",
          "text": [
            "91759/91759 [==============================] - 8s 87us/step - loss: 0.0342 - acc: 0.9872 - val_loss: 0.0346 - val_acc: 0.9870\n",
            "Epoch 439/500\n",
            "91759/91759 [==============================] - 8s 88us/step - loss: 0.0342 - acc: 0.9872 - val_loss: 0.0347 - val_acc: 0.9870\n",
            "Epoch 440/500\n",
            "91759/91759 [==============================] - 8s 88us/step - loss: 0.0342 - acc: 0.9872 - val_loss: 0.0345 - val_acc: 0.9870\n",
            "Epoch 441/500\n",
            "14600/91759 [===>..........................] - ETA: 6s - loss: 0.0331 - acc: 0.9873"
          ],
          "name": "stdout"
        },
        {
          "output_type": "stream",
          "text": [
            "91759/91759 [==============================] - 8s 88us/step - loss: 0.0342 - acc: 0.9871 - val_loss: 0.0344 - val_acc: 0.9870\n",
            "Epoch 442/500\n",
            "91759/91759 [==============================] - 8s 89us/step - loss: 0.0342 - acc: 0.9872 - val_loss: 0.0345 - val_acc: 0.9870\n",
            "Epoch 443/500\n",
            "91759/91759 [==============================] - 8s 89us/step - loss: 0.0341 - acc: 0.9872 - val_loss: 0.0347 - val_acc: 0.9870\n",
            "Epoch 444/500\n",
            "12800/91759 [===>..........................] - ETA: 6s - loss: 0.0361 - acc: 0.9857"
          ],
          "name": "stdout"
        },
        {
          "output_type": "stream",
          "text": [
            "91759/91759 [==============================] - 8s 89us/step - loss: 0.0342 - acc: 0.9872 - val_loss: 0.0345 - val_acc: 0.9870\n",
            "Epoch 445/500\n",
            "91759/91759 [==============================] - 8s 89us/step - loss: 0.0342 - acc: 0.9872 - val_loss: 0.0347 - val_acc: 0.9870\n",
            "Epoch 446/500\n",
            "91759/91759 [==============================] - 8s 89us/step - loss: 0.0341 - acc: 0.9872 - val_loss: 0.0345 - val_acc: 0.9870\n",
            "Epoch 447/500\n",
            "13200/91759 [===>..........................] - ETA: 6s - loss: 0.0365 - acc: 0.9868"
          ],
          "name": "stdout"
        },
        {
          "output_type": "stream",
          "text": [
            "91759/91759 [==============================] - 8s 89us/step - loss: 0.0341 - acc: 0.9871 - val_loss: 0.0346 - val_acc: 0.9870\n",
            "Epoch 448/500\n",
            "91759/91759 [==============================] - 8s 90us/step - loss: 0.0341 - acc: 0.9872 - val_loss: 0.0348 - val_acc: 0.9870\n",
            "Epoch 449/500\n",
            "91759/91759 [==============================] - 8s 89us/step - loss: 0.0342 - acc: 0.9871 - val_loss: 0.0346 - val_acc: 0.9870\n",
            "Epoch 450/500\n",
            "12200/91759 [==>...........................] - ETA: 6s - loss: 0.0320 - acc: 0.9892"
          ],
          "name": "stdout"
        },
        {
          "output_type": "stream",
          "text": [
            "91759/91759 [==============================] - 8s 89us/step - loss: 0.0342 - acc: 0.9871 - val_loss: 0.0345 - val_acc: 0.9870\n",
            "Epoch 451/500\n",
            "91759/91759 [==============================] - 8s 89us/step - loss: 0.0341 - acc: 0.9872 - val_loss: 0.0348 - val_acc: 0.9870\n",
            "Epoch 452/500\n",
            "91759/91759 [==============================] - 8s 89us/step - loss: 0.0341 - acc: 0.9872 - val_loss: 0.0345 - val_acc: 0.9870\n",
            "Epoch 453/500\n",
            "13100/91759 [===>..........................] - ETA: 6s - loss: 0.0299 - acc: 0.9883"
          ],
          "name": "stdout"
        },
        {
          "output_type": "stream",
          "text": [
            "91759/91759 [==============================] - 8s 89us/step - loss: 0.0341 - acc: 0.9872 - val_loss: 0.0346 - val_acc: 0.9870\n",
            "Epoch 454/500\n",
            "91759/91759 [==============================] - 8s 89us/step - loss: 0.0341 - acc: 0.9872 - val_loss: 0.0347 - val_acc: 0.9871\n",
            "Epoch 455/500\n",
            "91759/91759 [==============================] - 8s 89us/step - loss: 0.0342 - acc: 0.9872 - val_loss: 0.0345 - val_acc: 0.9870\n",
            "Epoch 456/500\n",
            "13100/91759 [===>..........................] - ETA: 6s - loss: 0.0298 - acc: 0.9879"
          ],
          "name": "stdout"
        },
        {
          "output_type": "stream",
          "text": [
            "91759/91759 [==============================] - 8s 89us/step - loss: 0.0341 - acc: 0.9872 - val_loss: 0.0346 - val_acc: 0.9870\n",
            "Epoch 457/500\n",
            "91759/91759 [==============================] - 8s 88us/step - loss: 0.0341 - acc: 0.9872 - val_loss: 0.0345 - val_acc: 0.9870\n",
            "Epoch 458/500\n",
            "91759/91759 [==============================] - 8s 89us/step - loss: 0.0341 - acc: 0.9872 - val_loss: 0.0345 - val_acc: 0.9870\n",
            "Epoch 459/500\n",
            "13200/91759 [===>..........................] - ETA: 6s - loss: 0.0357 - acc: 0.9874"
          ],
          "name": "stdout"
        },
        {
          "output_type": "stream",
          "text": [
            "91759/91759 [==============================] - 8s 89us/step - loss: 0.0341 - acc: 0.9872 - val_loss: 0.0348 - val_acc: 0.9870\n",
            "Epoch 460/500\n",
            "91759/91759 [==============================] - 8s 89us/step - loss: 0.0341 - acc: 0.9872 - val_loss: 0.0345 - val_acc: 0.9870\n",
            "Epoch 461/500\n",
            "91759/91759 [==============================] - 8s 89us/step - loss: 0.0341 - acc: 0.9872 - val_loss: 0.0346 - val_acc: 0.9870\n",
            "Epoch 462/500\n",
            "13200/91759 [===>..........................] - ETA: 6s - loss: 0.0338 - acc: 0.9868"
          ],
          "name": "stdout"
        },
        {
          "output_type": "stream",
          "text": [
            "91759/91759 [==============================] - 8s 88us/step - loss: 0.0341 - acc: 0.9872 - val_loss: 0.0345 - val_acc: 0.9870\n",
            "Epoch 463/500\n",
            "91759/91759 [==============================] - 8s 88us/step - loss: 0.0341 - acc: 0.9872 - val_loss: 0.0345 - val_acc: 0.9870\n",
            "Epoch 464/500\n",
            "91759/91759 [==============================] - 8s 88us/step - loss: 0.0341 - acc: 0.9872 - val_loss: 0.0347 - val_acc: 0.9870\n",
            "Epoch 465/500\n",
            "13800/91759 [===>..........................] - ETA: 6s - loss: 0.0392 - acc: 0.9867"
          ],
          "name": "stdout"
        },
        {
          "output_type": "stream",
          "text": [
            "91759/91759 [==============================] - 8s 88us/step - loss: 0.0341 - acc: 0.9872 - val_loss: 0.0345 - val_acc: 0.9870\n",
            "Epoch 466/500\n",
            "91759/91759 [==============================] - 8s 88us/step - loss: 0.0341 - acc: 0.9872 - val_loss: 0.0345 - val_acc: 0.9870\n",
            "Epoch 467/500\n",
            "91759/91759 [==============================] - 8s 88us/step - loss: 0.0341 - acc: 0.9872 - val_loss: 0.0345 - val_acc: 0.9870\n",
            "Epoch 468/500\n",
            "12800/91759 [===>..........................] - ETA: 6s - loss: 0.0344 - acc: 0.9866"
          ],
          "name": "stdout"
        },
        {
          "output_type": "stream",
          "text": [
            "91759/91759 [==============================] - 8s 89us/step - loss: 0.0341 - acc: 0.9872 - val_loss: 0.0345 - val_acc: 0.9870\n",
            "Epoch 469/500\n",
            "91759/91759 [==============================] - 8s 89us/step - loss: 0.0341 - acc: 0.9872 - val_loss: 0.0350 - val_acc: 0.9866\n",
            "Epoch 470/500\n",
            "91759/91759 [==============================] - 8s 89us/step - loss: 0.0341 - acc: 0.9872 - val_loss: 0.0348 - val_acc: 0.9870\n",
            "Epoch 471/500\n",
            "13000/91759 [===>..........................] - ETA: 6s - loss: 0.0338 - acc: 0.9869"
          ],
          "name": "stdout"
        },
        {
          "output_type": "stream",
          "text": [
            "91759/91759 [==============================] - 8s 90us/step - loss: 0.0341 - acc: 0.9872 - val_loss: 0.0345 - val_acc: 0.9870\n",
            "Epoch 472/500\n",
            "91759/91759 [==============================] - 8s 91us/step - loss: 0.0341 - acc: 0.9872 - val_loss: 0.0349 - val_acc: 0.9870\n",
            "Epoch 473/500\n",
            "91759/91759 [==============================] - 8s 90us/step - loss: 0.0340 - acc: 0.9872 - val_loss: 0.0345 - val_acc: 0.9870\n",
            "Epoch 474/500\n",
            "11800/91759 [==>...........................] - ETA: 6s - loss: 0.0332 - acc: 0.9872"
          ],
          "name": "stdout"
        },
        {
          "output_type": "stream",
          "text": [
            "91759/91759 [==============================] - 8s 92us/step - loss: 0.0340 - acc: 0.9872 - val_loss: 0.0345 - val_acc: 0.9870\n",
            "Epoch 475/500\n",
            "91759/91759 [==============================] - 8s 91us/step - loss: 0.0341 - acc: 0.9872 - val_loss: 0.0345 - val_acc: 0.9870\n",
            "Epoch 476/500\n",
            "91759/91759 [==============================] - 8s 91us/step - loss: 0.0341 - acc: 0.9873 - val_loss: 0.0345 - val_acc: 0.9870\n",
            "Epoch 477/500\n",
            "10700/91759 [==>...........................] - ETA: 6s - loss: 0.0340 - acc: 0.9871"
          ],
          "name": "stdout"
        },
        {
          "output_type": "stream",
          "text": [
            "91759/91759 [==============================] - 8s 90us/step - loss: 0.0341 - acc: 0.9872 - val_loss: 0.0345 - val_acc: 0.9870\n",
            "Epoch 478/500\n",
            "91759/91759 [==============================] - 8s 91us/step - loss: 0.0340 - acc: 0.9872 - val_loss: 0.0345 - val_acc: 0.9870\n",
            "Epoch 479/500\n",
            "91759/91759 [==============================] - 8s 91us/step - loss: 0.0341 - acc: 0.9872 - val_loss: 0.0346 - val_acc: 0.9870\n",
            "Epoch 480/500\n",
            "10400/91759 [==>...........................] - ETA: 6s - loss: 0.0333 - acc: 0.9871"
          ],
          "name": "stdout"
        },
        {
          "output_type": "stream",
          "text": [
            "91759/91759 [==============================] - 8s 91us/step - loss: 0.0340 - acc: 0.9872 - val_loss: 0.0347 - val_acc: 0.9870\n",
            "Epoch 481/500\n",
            "91759/91759 [==============================] - 8s 90us/step - loss: 0.0341 - acc: 0.9872 - val_loss: 0.0345 - val_acc: 0.9870\n",
            "Epoch 482/500\n",
            "91759/91759 [==============================] - 8s 91us/step - loss: 0.0340 - acc: 0.9872 - val_loss: 0.0347 - val_acc: 0.9870\n",
            "Epoch 483/500\n",
            "10300/91759 [==>...........................] - ETA: 6s - loss: 0.0331 - acc: 0.9879"
          ],
          "name": "stdout"
        },
        {
          "output_type": "stream",
          "text": [
            "91759/91759 [==============================] - 8s 90us/step - loss: 0.0340 - acc: 0.9872 - val_loss: 0.0346 - val_acc: 0.9871\n",
            "Epoch 484/500\n",
            "91759/91759 [==============================] - 8s 89us/step - loss: 0.0340 - acc: 0.9873 - val_loss: 0.0348 - val_acc: 0.9870\n",
            "Epoch 485/500\n",
            "91759/91759 [==============================] - 8s 89us/step - loss: 0.0341 - acc: 0.9873 - val_loss: 0.0345 - val_acc: 0.9870\n",
            "Epoch 486/500\n",
            "12200/91759 [==>...........................] - ETA: 6s - loss: 0.0351 - acc: 0.9870"
          ],
          "name": "stdout"
        },
        {
          "output_type": "stream",
          "text": [
            "91759/91759 [==============================] - 8s 89us/step - loss: 0.0341 - acc: 0.9872 - val_loss: 0.0346 - val_acc: 0.9870\n",
            "Epoch 487/500\n",
            "91759/91759 [==============================] - 8s 89us/step - loss: 0.0340 - acc: 0.9873 - val_loss: 0.0345 - val_acc: 0.9870\n",
            "Epoch 488/500\n",
            "91759/91759 [==============================] - 8s 89us/step - loss: 0.0340 - acc: 0.9872 - val_loss: 0.0345 - val_acc: 0.9871\n",
            "Epoch 489/500\n",
            "12400/91759 [===>..........................] - ETA: 6s - loss: 0.0349 - acc: 0.9865"
          ],
          "name": "stdout"
        },
        {
          "output_type": "stream",
          "text": [
            "91759/91759 [==============================] - 8s 89us/step - loss: 0.0340 - acc: 0.9872 - val_loss: 0.0344 - val_acc: 0.9871\n",
            "Epoch 490/500\n",
            "91759/91759 [==============================] - 8s 89us/step - loss: 0.0340 - acc: 0.9873 - val_loss: 0.0345 - val_acc: 0.9870\n",
            "Epoch 491/500\n",
            "91759/91759 [==============================] - 8s 89us/step - loss: 0.0340 - acc: 0.9872 - val_loss: 0.0344 - val_acc: 0.9870\n",
            "Epoch 492/500\n",
            "12100/91759 [==>...........................] - ETA: 6s - loss: 0.0332 - acc: 0.9879"
          ],
          "name": "stdout"
        },
        {
          "output_type": "stream",
          "text": [
            "91759/91759 [==============================] - 8s 89us/step - loss: 0.0340 - acc: 0.9872 - val_loss: 0.0345 - val_acc: 0.9870\n",
            "Epoch 493/500\n",
            "91759/91759 [==============================] - 8s 89us/step - loss: 0.0340 - acc: 0.9872 - val_loss: 0.0347 - val_acc: 0.9871\n",
            "Epoch 494/500\n",
            "91759/91759 [==============================] - 8s 89us/step - loss: 0.0341 - acc: 0.9873 - val_loss: 0.0346 - val_acc: 0.9870\n",
            "Epoch 495/500\n",
            "13000/91759 [===>..........................] - ETA: 6s - loss: 0.0351 - acc: 0.9881"
          ],
          "name": "stdout"
        },
        {
          "output_type": "stream",
          "text": [
            "91759/91759 [==============================] - 8s 89us/step - loss: 0.0340 - acc: 0.9872 - val_loss: 0.0348 - val_acc: 0.9870\n",
            "Epoch 496/500\n",
            "91759/91759 [==============================] - 8s 90us/step - loss: 0.0340 - acc: 0.9872 - val_loss: 0.0344 - val_acc: 0.9870\n",
            "Epoch 497/500\n",
            "91759/91759 [==============================] - 8s 89us/step - loss: 0.0340 - acc: 0.9872 - val_loss: 0.0346 - val_acc: 0.9870\n",
            "Epoch 498/500\n",
            "12600/91759 [===>..........................] - ETA: 6s - loss: 0.0305 - acc: 0.9884"
          ],
          "name": "stdout"
        },
        {
          "output_type": "stream",
          "text": [
            "91759/91759 [==============================] - 8s 89us/step - loss: 0.0340 - acc: 0.9873 - val_loss: 0.0348 - val_acc: 0.9870\n",
            "Epoch 499/500\n",
            "91759/91759 [==============================] - 8s 90us/step - loss: 0.0341 - acc: 0.9872 - val_loss: 0.0347 - val_acc: 0.9870\n",
            "Epoch 500/500\n",
            "91759/91759 [==============================] - 8s 90us/step - loss: 0.0340 - acc: 0.9873 - val_loss: 0.0349 - val_acc: 0.9870\n"
          ],
          "name": "stdout"
        },
        {
          "output_type": "execute_result",
          "data": {
            "text/plain": [
              "<keras.callbacks.History at 0x7f7f96232630>"
            ]
          },
          "metadata": {
            "tags": []
          },
          "execution_count": 56
        }
      ]
    },
    {
      "metadata": {
        "id": "7cY3YgIUe_TG",
        "colab_type": "code",
        "colab": {
          "base_uri": "https://localhost:8080/",
          "height": 376
        },
        "outputId": "b1d1582a-c671-4191-ac17-000ad756cccb"
      },
      "cell_type": "code",
      "source": [
        "plt.plot(hist.history['acc'])\n",
        "plt.plot(hist.history['val_acc'])\n",
        "plt.title('model accuracy')\n",
        "plt.ylabel('accuracy')\n",
        "plt.xlabel('epoch')\n",
        "plt.legend(['train', 'test'], loc='upper left')\n",
        "plt.savefig(\"ANN_accuracy.png\")\n",
        "plt.show()"
      ],
      "execution_count": 58,
      "outputs": [
        {
          "output_type": "display_data",
          "data": {
            "image/png": "[encoded data removed]",
            "text/plain": [
              "<matplotlib.figure.Figure at 0x7f7f95f2bda0>"
            ]
          },
          "metadata": {
            "tags": []
          }
        }
      ]
    },
    {
      "metadata": {
        "id": "0G5aNwE9cY4J",
        "colab_type": "code",
        "colab": {
          "base_uri": "https://localhost:8080/",
          "height": 376
        },
        "outputId": "46ac089b-821e-4ef3-c994-314e3ef9761a"
      },
      "cell_type": "code",
      "source": [
        "plt.plot(hist.history['loss'])\n",
        "plt.plot(hist.history['val_loss'])\n",
        "plt.title('model loss')\n",
        "plt.ylabel('loss')\n",
        "plt.xlabel('epoch')\n",
        "plt.legend(['train', 'test'], loc='upper left')\n",
        "plt.savefig(\"ANN_loss.png\")\n",
        "plt.show()"
      ],
      "execution_count": 59,
      "outputs": [
        {
          "output_type": "display_data",
          "data": {
            "image/png": "[encoded data removed]",
            "text/plain": [
              "<matplotlib.figure.Figure at 0x7f7f95ea9ef0>"
            ]
          },
          "metadata": {
            "tags": []
          }
        }
      ]
    },
    {
      "metadata": {
        "id": "iqO2d6qYfN0n",
        "colab_type": "code",
        "colab": {
          "base_uri": "https://localhost:8080/",
          "height": 54
        },
        "outputId": "747a349d-31d7-47a2-9af1-c9cee90ba8ae"
      },
      "cell_type": "code",
      "source": [
        "model1.evaluate(X_test_svd,y_test)"
      ],
      "execution_count": 60,
      "outputs": [
        {
          "output_type": "stream",
          "text": [
            "39326/39326 [==============================] - 3s 67us/step\n"
          ],
          "name": "stdout"
        },
        {
          "output_type": "execute_result",
          "data": {
            "text/plain": [
              "[0.03493380678262055, 0.9869806235060774]"
            ]
          },
          "metadata": {
            "tags": []
          },
          "execution_count": 60
        }
      ]
    },
    {
      "metadata": {
        "id": "8v4vAAK3fgFI",
        "colab_type": "code",
        "colab": {}
      },
      "cell_type": "code",
      "source": [
        "pred = model1.predict(X_test_svd)\n"
      ],
      "execution_count": 0,
      "outputs": []
    },
    {
      "metadata": {
        "id": "u6Qq7ovhfgFL",
        "colab_type": "code",
        "colab": {}
      },
      "cell_type": "code",
      "source": [
        "y_pred_keras = model1.predict(X_test_svd).ravel()\n",
        "fpr_keras, tpr_keras, thresholds_keras = roc_curve(y_test, y_pred_keras)"
      ],
      "execution_count": 0,
      "outputs": []
    },
    {
      "metadata": {
        "id": "fU8--XR5fgFM",
        "colab_type": "code",
        "colab": {}
      },
      "cell_type": "code",
      "source": [
        "auc_keras = auc(fpr_keras, tpr_keras)"
      ],
      "execution_count": 0,
      "outputs": []
    },
    {
      "metadata": {
        "id": "VWn0s77dfgFO",
        "colab_type": "code",
        "colab": {}
      },
      "cell_type": "code",
      "source": [
        "rf = RandomForestClassifier(max_depth=3, n_estimators=10)\n",
        "rf.fit(X_train_svd, y_train)\n",
        "\n",
        "y_pred_rf = rf.predict_proba(X_test_svd)[:, 1]\n",
        "fpr_rf, tpr_rf, thresholds_rf = roc_curve(y_test, y_pred_rf)\n",
        "auc_rf = auc(fpr_rf, tpr_rf)"
      ],
      "execution_count": 0,
      "outputs": []
    },
    {
      "metadata": {
        "id": "3f3wez7hfgFQ",
        "colab_type": "code",
        "colab": {
          "base_uri": "https://localhost:8080/",
          "height": 735
        },
        "outputId": "e5e6ffdf-674a-4470-8242-d21dc698e8be"
      },
      "cell_type": "code",
      "source": [
        "plt.figure(1)\n",
        "plt.plot([0, 1], [0, 1], 'k--')\n",
        "plt.plot(fpr_keras, tpr_keras, label='Keras (area = {:.3f})'.format(auc_keras))\n",
        "plt.plot(fpr_rf, tpr_rf, label='RF (area = {:.3f})'.format(auc_rf))\n",
        "plt.xlabel('False positive rate')\n",
        "plt.ylabel('True positive rate')\n",
        "plt.title('ROC curve')\n",
        "plt.legend(loc='best')\n",
        "plt.show()\n",
        "# Zoom in view of the upper left corner.\n",
        "plt.figure(2)\n",
        "plt.xlim(0, 0.2)\n",
        "plt.ylim(0.8, 1)\n",
        "plt.plot([0, 1], [0, 1], 'k--')\n",
        "plt.plot(fpr_keras, tpr_keras, label='Keras (area = {:.3f})'.format(auc_keras))\n",
        "plt.plot(fpr_rf, tpr_rf, label='RF (area = {:.3f})'.format(auc_rf))\n",
        "plt.xlabel('False positive rate')\n",
        "plt.ylabel('True positive rate')\n",
        "plt.title('ROC curve (zoomed in at top left)')\n",
        "plt.legend(loc='best')\n",
        "plt.show()"
      ],
      "execution_count": 65,
      "outputs": [
        {
          "output_type": "display_data",
          "data": {
            "image/png": "[encoded data removed]",
            "text/plain": [
              "<matplotlib.figure.Figure at 0x7f7f95e37a20>"
            ]
          },
          "metadata": {
            "tags": []
          }
        },
        {
          "output_type": "display_data",
          "data": {
            "image/png": "[encoded data removed]",
            "text/plain": [
              "<matplotlib.figure.Figure at 0x7f7f95e38550>"
            ]
          },
          "metadata": {
            "tags": []
          }
        }
      ]
    },
    {
      "metadata": {
        "id": "c-TgKMKffmlx",
        "colab_type": "code",
        "colab": {}
      },
      "cell_type": "code",
      "source": [
        "lod = []\n",
        "for el in pred:\n",
        "  if el >= 0.5:\n",
        "    lod.append(1)\n",
        "  else:\n",
        "    lod.append(0)"
      ],
      "execution_count": 0,
      "outputs": []
    },
    {
      "metadata": {
        "id": "2BwRTVvfaR29",
        "colab_type": "code",
        "colab": {}
      },
      "cell_type": "code",
      "source": [
        "lod = np.array(lod)"
      ],
      "execution_count": 0,
      "outputs": []
    },
    {
      "metadata": {
        "id": "JqJa3v16aZ1u",
        "colab_type": "code",
        "colab": {
          "base_uri": "https://localhost:8080/",
          "height": 240
        },
        "outputId": "d8b74116-d85d-4216-85c0-50600b333779"
      },
      "cell_type": "code",
      "source": [
        "print(\"\\n########### Precision score is {} ###########\\n\".format(precision_score(y_test,lod)))\n",
        "print(\"\\n########### Recall Score is of {} ###########\\n\".format(recall_score(y_test,lod)))\n",
        "print(\"\\n############# F1 Score is of {} #############\\n\".format(f1_score(y_test,lod)))\n",
        "print(\"\\n########## Accuracy Score is of {} ##########\\n\".format(accuracy_score(y_test,lod)))"
      ],
      "execution_count": 68,
      "outputs": [
        {
          "output_type": "stream",
          "text": [
            "\n",
            "########### Precision score is 0.7732558139534884 ###########\n",
            "\n",
            "\n",
            "########### Recall Score is of 0.8814432989690721 ###########\n",
            "\n",
            "\n",
            "############# F1 Score is of 0.82381280110117 #############\n",
            "\n",
            "\n",
            "########## Accuracy Score is of 0.9869806235060774 ##########\n",
            "\n"
          ],
          "name": "stdout"
        }
      ]
    },
    {
      "metadata": {
        "id": "608ydjNGaguz",
        "colab_type": "code",
        "colab": {}
      },
      "cell_type": "code",
      "source": [
        ""
      ],
      "execution_count": 0,
      "outputs": []
    }
  ]
}