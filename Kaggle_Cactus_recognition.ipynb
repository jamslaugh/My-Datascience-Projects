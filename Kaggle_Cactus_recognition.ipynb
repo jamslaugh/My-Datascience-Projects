{
  "nbformat": 4,
  "nbformat_minor": 0,
  "metadata": {
    "colab": {
      "name": "Kaggle - Cactus recognition.ipynb",
      "provenance": [],
      "collapsed_sections": [],
      "include_colab_link": true
    },
    "kernelspec": {
      "name": "python3",
      "display_name": "Python 3"
    },
    "accelerator": "GPU"
  },
  "cells": [
    {
      "cell_type": "markdown",
      "metadata": {
        "id": "view-in-github",
        "colab_type": "text"
      },
      "source": [
        "<a href=\"https://colab.research.google.com/github/jamslaugh/My-Datascience-Projects/blob/master/Kaggle_Cactus_recognition.ipynb\" target=\"_parent\"><img src=\"https://colab.research.google.com/assets/colab-badge.svg\" alt=\"Open In Colab\"/></a>"
      ]
    },
    {
      "cell_type": "code",
      "metadata": {
        "id": "7em6a5k71e4W",
        "colab": {
          "base_uri": "https://localhost:8080/",
          "height": 82
        },
        "outputId": "fc56482c-6556-49ae-8eb0-d1662d22de25"
      },
      "source": [
        "import matplotlib.pyplot as plt\n",
        "try:\n",
        "    %tensorflow_version 2.x \n",
        "except:\n",
        "    pass\n",
        "import PIL\n",
        "import pandas as pd\n",
        "import os\n",
        "import numpy as np\n",
        "import xgboost\n",
        "from keras.utils import to_categorical\n",
        "from keras.models import Sequential, Model\n",
        "from keras.layers import Dense, Conv2D, MaxPooling2D, MaxPool2D, AveragePooling2D, Flatten,Reshape, Dropout,BatchNormalization,Activation\n",
        "from keras.optimizers import Adam\n",
        "from sklearn.preprocessing import MinMaxScaler, StandardScaler\n",
        "from keras.callbacks import EarlyStopping, History, ModelCheckpoint, ReduceLROnPlateau\n",
        "import tensorflow as tf"
      ],
      "execution_count": null,
      "outputs": [
        {
          "output_type": "stream",
          "text": [
            "Using TensorFlow backend.\n"
          ],
          "name": "stderr"
        },
        {
          "output_type": "display_data",
          "data": {
            "text/html": [
              "<p style=\"color: red;\">\n",
              "The default version of TensorFlow in Colab will soon switch to TensorFlow 2.x.<br>\n",
              "We recommend you <a href=\"https://www.tensorflow.org/guide/migrate\" target=\"_blank\">upgrade</a> now \n",
              "or ensure your notebook will continue to use TensorFlow 1.x via the <code>%tensorflow_version 1.x</code> magic:\n",
              "<a href=\"https://colab.research.google.com/notebooks/tensorflow_version.ipynb\" target=\"_blank\">more info</a>.</p>\n"
            ],
            "text/plain": [
              "<IPython.core.display.HTML object>"
            ]
          },
          "metadata": {
            "tags": []
          }
        }
      ]
    },
    {
      "cell_type": "code",
      "metadata": {
        "id": "AH7CT2Ti0Dvv"
      },
      "source": [
        "import json\n",
        "\n",
        "token = {\"username\":\"randomcluster\",\"key\":\"c11f4b3b630cb22dab26811652171286\"}\n",
        "\n",
        "with open('kaggle.json', 'w') as file:\n",
        "    json.dump(token, file)"
      ],
      "execution_count": null,
      "outputs": []
    },
    {
      "cell_type": "code",
      "metadata": {
        "id": "SHBrlEuR0E4w",
        "colab": {
          "base_uri": "https://localhost:8080/",
          "height": 215
        },
        "outputId": "236ba3ac-e01c-4b23-9733-db2a81078ccd"
      },
      "source": [
        "!pip install kaggle"
      ],
      "execution_count": null,
      "outputs": [
        {
          "output_type": "stream",
          "text": [
            "Requirement already satisfied: kaggle in /usr/local/lib/python3.6/dist-packages (1.5.6)\n",
            "Requirement already satisfied: tqdm in /usr/local/lib/python3.6/dist-packages (from kaggle) (4.28.1)\n",
            "Requirement already satisfied: requests in /usr/local/lib/python3.6/dist-packages (from kaggle) (2.21.0)\n",
            "Requirement already satisfied: six>=1.10 in /usr/local/lib/python3.6/dist-packages (from kaggle) (1.12.0)\n",
            "Requirement already satisfied: urllib3<1.25,>=1.21.1 in /usr/local/lib/python3.6/dist-packages (from kaggle) (1.24.3)\n",
            "Requirement already satisfied: python-slugify in /usr/local/lib/python3.6/dist-packages (from kaggle) (4.0.0)\n",
            "Requirement already satisfied: certifi in /usr/local/lib/python3.6/dist-packages (from kaggle) (2019.9.11)\n",
            "Requirement already satisfied: python-dateutil in /usr/local/lib/python3.6/dist-packages (from kaggle) (2.6.1)\n",
            "Requirement already satisfied: chardet<3.1.0,>=3.0.2 in /usr/local/lib/python3.6/dist-packages (from requests->kaggle) (3.0.4)\n",
            "Requirement already satisfied: idna<2.9,>=2.5 in /usr/local/lib/python3.6/dist-packages (from requests->kaggle) (2.8)\n",
            "Requirement already satisfied: text-unidecode>=1.3 in /usr/local/lib/python3.6/dist-packages (from python-slugify->kaggle) (1.3)\n"
          ],
          "name": "stdout"
        }
      ]
    },
    {
      "cell_type": "code",
      "metadata": {
        "id": "njJ5y2rY0GRB"
      },
      "source": [
        "!mkdir -p ~/.kaggle\n",
        "!cp kaggle.json ~/.kaggle/\n",
        "!chmod 600 ~/.kaggle/kaggle.json"
      ],
      "execution_count": null,
      "outputs": []
    },
    {
      "cell_type": "code",
      "metadata": {
        "id": "Yumf1Yxg0PF4",
        "colab": {
          "base_uri": "https://localhost:8080/",
          "height": 391
        },
        "outputId": "c9e46d8b-5737-48b9-bb3b-2fa87d8bb2c5"
      },
      "source": [
        "!kaggle competitions list"
      ],
      "execution_count": null,
      "outputs": [
        {
          "output_type": "stream",
          "text": [
            "ref                                                deadline             category            reward  teamCount  userHasEntered  \n",
            "-------------------------------------------------  -------------------  ---------------  ---------  ---------  --------------  \n",
            "digit-recognizer                                   2030-01-01 00:00:00  Getting Started  Knowledge       3086            True  \n",
            "titanic                                            2030-01-01 00:00:00  Getting Started  Knowledge      11536            True  \n",
            "house-prices-advanced-regression-techniques        2030-01-01 00:00:00  Getting Started  Knowledge       4593            True  \n",
            "imagenet-object-localization-challenge             2029-12-31 07:00:00  Research         Knowledge         45           False  \n",
            "competitive-data-science-predict-future-sales      2019-12-31 23:59:00  Playground           Kudos       3553           False  \n",
            "open-images-2019-object-detection                  2019-10-01 23:59:00  Research           $25,000        164           False  \n",
            "open-images-2019-visual-relationship               2019-10-01 23:59:00  Research           $25,000         59           False  \n",
            "recursion-cellular-image-classification            2019-09-26 23:59:00  Research           $13,000        156           False  \n",
            "youtube8m-2019                                     2019-09-13 23:59:00  Research           $25,000         23           False  \n",
            "aptos2019-blindness-detection                      2019-09-05 23:59:00  Featured           $50,000        289           False  \n",
            "siim-acr-pneumothorax-segmentation                 2019-09-04 23:59:00  Featured           $30,000        613           False  \n",
            "champs-scalar-coupling                             2019-08-28 23:59:00  Featured           $30,000       1465           False  \n",
            "generative-dog-images                              2019-08-09 23:59:00  Research           $10,000        112           False  \n",
            "recognizing-faces-in-the-wild                      2019-08-01 23:59:00  Playground       Knowledge        393           False  \n",
            "two-sigma-financial-news                           2019-07-15 23:59:00  Featured          $100,000       2927           False  \n",
            "jigsaw-unintended-bias-in-toxicity-classification  2019-07-10 23:59:00  Featured           $65,000       3167           False  \n",
            "aerial-cactus-identification                       2019-07-08 23:59:00  Playground       Knowledge       1101           False  \n",
            "data-science-for-good-city-of-los-angeles          2019-06-21 23:59:00  Analytics          $15,000          0           False  \n",
            "instant-gratification                              2019-06-20 23:59:00  Featured            $5,000       1836           False  \n",
            "freesound-audio-tagging-2019                       2019-06-17 22:22:00  Research            $5,000        880           False  \n"
          ],
          "name": "stdout"
        }
      ]
    },
    {
      "cell_type": "code",
      "metadata": {
        "id": "4h0fkxJb2-5k"
      },
      "source": [
        "!mkdir ./Cactus"
      ],
      "execution_count": null,
      "outputs": []
    },
    {
      "cell_type": "code",
      "metadata": {
        "id": "JmL_z6iU3UWr",
        "colab": {
          "base_uri": "https://localhost:8080/",
          "height": 35
        },
        "outputId": "f12f1542-0506-4ee9-99d3-dbb937e6e0b4"
      },
      "source": [
        "!ls"
      ],
      "execution_count": null,
      "outputs": [
        {
          "output_type": "stream",
          "text": [
            "Cactus\tkaggle.json  sample_data\n"
          ],
          "name": "stdout"
        }
      ]
    },
    {
      "cell_type": "code",
      "metadata": {
        "id": "kFM1vp7S3Czj"
      },
      "source": [
        "os.chdir(os.getcwd()+\"/Cactus\")"
      ],
      "execution_count": null,
      "outputs": []
    },
    {
      "cell_type": "code",
      "metadata": {
        "id": "jYPmgz4U0qSg",
        "colab": {
          "base_uri": "https://localhost:8080/",
          "height": 251
        },
        "outputId": "d3c1ace3-bccd-4955-edd1-052e2c686676"
      },
      "source": [
        "!kaggle competitions download aerial-cactus-identification"
      ],
      "execution_count": null,
      "outputs": [
        {
          "output_type": "stream",
          "text": [
            "Warning: Looks like you're using an outdated API Version, please consider updating (server 1.5.6 / client 1.5.4)\n",
            "Downloading train.csv to /content/Cactus\n",
            "  0% 0.00/667k [00:00<?, ?B/s]\n",
            "100% 667k/667k [00:00<00:00, 42.3MB/s]\n",
            "Downloading sample_submission.csv to /content/Cactus\n",
            "  0% 0.00/160k [00:00<?, ?B/s]\n",
            "100% 160k/160k [00:00<00:00, 49.4MB/s]\n",
            "Downloading test.zip to /content/Cactus\n",
            "  0% 0.00/4.20M [00:00<?, ?B/s]\n",
            "100% 4.20M/4.20M [00:00<00:00, 66.0MB/s]\n",
            "Downloading train.zip to /content/Cactus\n",
            " 73% 14.0M/19.2M [00:00<00:00, 38.7MB/s]\n",
            "100% 19.2M/19.2M [00:00<00:00, 63.7MB/s]\n"
          ],
          "name": "stdout"
        }
      ]
    },
    {
      "cell_type": "code",
      "metadata": {
        "id": "fqCVqho21YIJ",
        "colab": {
          "base_uri": "https://localhost:8080/",
          "height": 35
        },
        "outputId": "92af8dda-ca88-4192-802d-28dac0b29729"
      },
      "source": [
        "!ls"
      ],
      "execution_count": null,
      "outputs": [
        {
          "output_type": "stream",
          "text": [
            "sample_submission.csv  test.zip  train.csv  train.zip\n"
          ],
          "name": "stdout"
        }
      ]
    },
    {
      "cell_type": "code",
      "metadata": {
        "id": "cPiQZ6Hi37dU"
      },
      "source": [
        "!unzip train.zip & unzip test.zip"
      ],
      "execution_count": null,
      "outputs": []
    },
    {
      "cell_type": "code",
      "metadata": {
        "id": "gfqcb81K1bcU"
      },
      "source": [
        "data = pd.read_csv('train.csv')"
      ],
      "execution_count": null,
      "outputs": []
    },
    {
      "cell_type": "code",
      "metadata": {
        "id": "GjPuEEO-3wgS"
      },
      "source": [
        "!ls ./test"
      ],
      "execution_count": null,
      "outputs": []
    },
    {
      "cell_type": "code",
      "metadata": {
        "id": "i-xa287f1kP7",
        "colab": {
          "base_uri": "https://localhost:8080/",
          "height": 35
        },
        "outputId": "b9913391-c80d-45e6-c95f-541cb251dff1"
      },
      "source": [
        "np.reshape(np.array(PIL.Image.open(\"./train/\"+data.iloc[0,0])),(-1,1)).T.shape"
      ],
      "execution_count": null,
      "outputs": [
        {
          "output_type": "execute_result",
          "data": {
            "text/plain": [
              "(1, 3072)"
            ]
          },
          "metadata": {
            "tags": []
          },
          "execution_count": 13
        }
      ]
    },
    {
      "cell_type": "code",
      "metadata": {
        "id": "0FzvKePM1wOB",
        "colab": {
          "base_uri": "https://localhost:8080/",
          "height": 204
        },
        "outputId": "aeee5a8c-53b6-4fd3-bde0-9021ffaa0c34"
      },
      "source": [
        "data.head()"
      ],
      "execution_count": null,
      "outputs": [
        {
          "output_type": "execute_result",
          "data": {
            "text/html": [
              "<div>\n",
              "<style scoped>\n",
              "    .dataframe tbody tr th:only-of-type {\n",
              "        vertical-align: middle;\n",
              "    }\n",
              "\n",
              "    .dataframe tbody tr th {\n",
              "        vertical-align: top;\n",
              "    }\n",
              "\n",
              "    .dataframe thead th {\n",
              "        text-align: right;\n",
              "    }\n",
              "</style>\n",
              "<table border=\"1\" class=\"dataframe\">\n",
              "  <thead>\n",
              "    <tr style=\"text-align: right;\">\n",
              "      <th></th>\n",
              "      <th>id</th>\n",
              "      <th>has_cactus</th>\n",
              "    </tr>\n",
              "  </thead>\n",
              "  <tbody>\n",
              "    <tr>\n",
              "      <th>0</th>\n",
              "      <td>0004be2cfeaba1c0361d39e2b000257b.jpg</td>\n",
              "      <td>1</td>\n",
              "    </tr>\n",
              "    <tr>\n",
              "      <th>1</th>\n",
              "      <td>000c8a36845c0208e833c79c1bffedd1.jpg</td>\n",
              "      <td>1</td>\n",
              "    </tr>\n",
              "    <tr>\n",
              "      <th>2</th>\n",
              "      <td>000d1e9a533f62e55c289303b072733d.jpg</td>\n",
              "      <td>1</td>\n",
              "    </tr>\n",
              "    <tr>\n",
              "      <th>3</th>\n",
              "      <td>0011485b40695e9138e92d0b3fb55128.jpg</td>\n",
              "      <td>1</td>\n",
              "    </tr>\n",
              "    <tr>\n",
              "      <th>4</th>\n",
              "      <td>0014d7a11e90b62848904c1418fc8cf2.jpg</td>\n",
              "      <td>1</td>\n",
              "    </tr>\n",
              "  </tbody>\n",
              "</table>\n",
              "</div>"
            ],
            "text/plain": [
              "                                     id  has_cactus\n",
              "0  0004be2cfeaba1c0361d39e2b000257b.jpg           1\n",
              "1  000c8a36845c0208e833c79c1bffedd1.jpg           1\n",
              "2  000d1e9a533f62e55c289303b072733d.jpg           1\n",
              "3  0011485b40695e9138e92d0b3fb55128.jpg           1\n",
              "4  0014d7a11e90b62848904c1418fc8cf2.jpg           1"
            ]
          },
          "metadata": {
            "tags": []
          },
          "execution_count": 14
        }
      ]
    },
    {
      "cell_type": "code",
      "metadata": {
        "id": "KFe0d0SF4WJK"
      },
      "source": [
        "new_data={el:np.reshape(np.array(PIL.Image.open(\"./train/\"+el)),(-1,)).T for el in data.id}"
      ],
      "execution_count": null,
      "outputs": []
    },
    {
      "cell_type": "code",
      "metadata": {
        "id": "mY2kxL_hw9QE",
        "colab": {
          "base_uri": "https://localhost:8080/",
          "height": 49
        },
        "outputId": "8a971d19-1e42-4b8f-e1ab-653ae66208c8"
      },
      "source": [
        "PIL.Image.open(\"./train/0004be2cfeaba1c0361d39e2b000257b.jpg\")"
      ],
      "execution_count": null,
      "outputs": [
        {
          "output_type": "execute_result",
          "data": {
            "image/png": "[encoded data removed]",
            "text/plain": [
              "<PIL.JpegImagePlugin.JpegImageFile image mode=RGB size=32x32 at 0x7FD8D8358C88>"
            ]
          },
          "metadata": {
            "tags": []
          },
          "execution_count": 20
        }
      ]
    },
    {
      "cell_type": "code",
      "metadata": {
        "id": "WsPBDPxj7vQQ"
      },
      "source": [
        "df = pd.DataFrame.from_dict(new_data,orient='index').reset_index().rename({'index':'id'},axis=1)"
      ],
      "execution_count": null,
      "outputs": []
    },
    {
      "cell_type": "code",
      "metadata": {
        "id": "N4EOYC6y_HX5",
        "colab": {
          "base_uri": "https://localhost:8080/",
          "height": 253
        },
        "outputId": "23c9a977-ba43-40dc-cf5f-2559784c35d9"
      },
      "source": [
        "df.head()"
      ],
      "execution_count": null,
      "outputs": [
        {
          "output_type": "execute_result",
          "data": {
            "text/html": [
              "<div>\n",
              "<style scoped>\n",
              "    .dataframe tbody tr th:only-of-type {\n",
              "        vertical-align: middle;\n",
              "    }\n",
              "\n",
              "    .dataframe tbody tr th {\n",
              "        vertical-align: top;\n",
              "    }\n",
              "\n",
              "    .dataframe thead th {\n",
              "        text-align: right;\n",
              "    }\n",
              "</style>\n",
              "<table border=\"1\" class=\"dataframe\">\n",
              "  <thead>\n",
              "    <tr style=\"text-align: right;\">\n",
              "      <th></th>\n",
              "      <th>id</th>\n",
              "      <th>0</th>\n",
              "      <th>1</th>\n",
              "      <th>2</th>\n",
              "      <th>3</th>\n",
              "      <th>4</th>\n",
              "      <th>5</th>\n",
              "      <th>6</th>\n",
              "      <th>7</th>\n",
              "      <th>8</th>\n",
              "      <th>9</th>\n",
              "      <th>10</th>\n",
              "      <th>11</th>\n",
              "      <th>12</th>\n",
              "      <th>13</th>\n",
              "      <th>14</th>\n",
              "      <th>15</th>\n",
              "      <th>16</th>\n",
              "      <th>17</th>\n",
              "      <th>18</th>\n",
              "      <th>19</th>\n",
              "      <th>20</th>\n",
              "      <th>21</th>\n",
              "      <th>22</th>\n",
              "      <th>23</th>\n",
              "      <th>24</th>\n",
              "      <th>25</th>\n",
              "      <th>26</th>\n",
              "      <th>27</th>\n",
              "      <th>28</th>\n",
              "      <th>29</th>\n",
              "      <th>30</th>\n",
              "      <th>31</th>\n",
              "      <th>32</th>\n",
              "      <th>33</th>\n",
              "      <th>34</th>\n",
              "      <th>35</th>\n",
              "      <th>36</th>\n",
              "      <th>37</th>\n",
              "      <th>38</th>\n",
              "      <th>...</th>\n",
              "      <th>3032</th>\n",
              "      <th>3033</th>\n",
              "      <th>3034</th>\n",
              "      <th>3035</th>\n",
              "      <th>3036</th>\n",
              "      <th>3037</th>\n",
              "      <th>3038</th>\n",
              "      <th>3039</th>\n",
              "      <th>3040</th>\n",
              "      <th>3041</th>\n",
              "      <th>3042</th>\n",
              "      <th>3043</th>\n",
              "      <th>3044</th>\n",
              "      <th>3045</th>\n",
              "      <th>3046</th>\n",
              "      <th>3047</th>\n",
              "      <th>3048</th>\n",
              "      <th>3049</th>\n",
              "      <th>3050</th>\n",
              "      <th>3051</th>\n",
              "      <th>3052</th>\n",
              "      <th>3053</th>\n",
              "      <th>3054</th>\n",
              "      <th>3055</th>\n",
              "      <th>3056</th>\n",
              "      <th>3057</th>\n",
              "      <th>3058</th>\n",
              "      <th>3059</th>\n",
              "      <th>3060</th>\n",
              "      <th>3061</th>\n",
              "      <th>3062</th>\n",
              "      <th>3063</th>\n",
              "      <th>3064</th>\n",
              "      <th>3065</th>\n",
              "      <th>3066</th>\n",
              "      <th>3067</th>\n",
              "      <th>3068</th>\n",
              "      <th>3069</th>\n",
              "      <th>3070</th>\n",
              "      <th>3071</th>\n",
              "    </tr>\n",
              "  </thead>\n",
              "  <tbody>\n",
              "    <tr>\n",
              "      <th>0</th>\n",
              "      <td>0004be2cfeaba1c0361d39e2b000257b.jpg</td>\n",
              "      <td>136</td>\n",
              "      <td>138</td>\n",
              "      <td>125</td>\n",
              "      <td>134</td>\n",
              "      <td>136</td>\n",
              "      <td>125</td>\n",
              "      <td>147</td>\n",
              "      <td>148</td>\n",
              "      <td>140</td>\n",
              "      <td>136</td>\n",
              "      <td>135</td>\n",
              "      <td>130</td>\n",
              "      <td>116</td>\n",
              "      <td>112</td>\n",
              "      <td>111</td>\n",
              "      <td>100</td>\n",
              "      <td>96</td>\n",
              "      <td>97</td>\n",
              "      <td>100</td>\n",
              "      <td>93</td>\n",
              "      <td>100</td>\n",
              "      <td>116</td>\n",
              "      <td>106</td>\n",
              "      <td>115</td>\n",
              "      <td>102</td>\n",
              "      <td>92</td>\n",
              "      <td>103</td>\n",
              "      <td>125</td>\n",
              "      <td>113</td>\n",
              "      <td>127</td>\n",
              "      <td>120</td>\n",
              "      <td>108</td>\n",
              "      <td>122</td>\n",
              "      <td>120</td>\n",
              "      <td>106</td>\n",
              "      <td>121</td>\n",
              "      <td>126</td>\n",
              "      <td>112</td>\n",
              "      <td>125</td>\n",
              "      <td>...</td>\n",
              "      <td>147</td>\n",
              "      <td>171</td>\n",
              "      <td>151</td>\n",
              "      <td>150</td>\n",
              "      <td>169</td>\n",
              "      <td>149</td>\n",
              "      <td>150</td>\n",
              "      <td>162</td>\n",
              "      <td>142</td>\n",
              "      <td>143</td>\n",
              "      <td>158</td>\n",
              "      <td>136</td>\n",
              "      <td>139</td>\n",
              "      <td>161</td>\n",
              "      <td>138</td>\n",
              "      <td>144</td>\n",
              "      <td>176</td>\n",
              "      <td>153</td>\n",
              "      <td>161</td>\n",
              "      <td>162</td>\n",
              "      <td>136</td>\n",
              "      <td>147</td>\n",
              "      <td>156</td>\n",
              "      <td>130</td>\n",
              "      <td>143</td>\n",
              "      <td>167</td>\n",
              "      <td>140</td>\n",
              "      <td>155</td>\n",
              "      <td>172</td>\n",
              "      <td>143</td>\n",
              "      <td>161</td>\n",
              "      <td>179</td>\n",
              "      <td>150</td>\n",
              "      <td>168</td>\n",
              "      <td>142</td>\n",
              "      <td>113</td>\n",
              "      <td>133</td>\n",
              "      <td>139</td>\n",
              "      <td>110</td>\n",
              "      <td>130</td>\n",
              "    </tr>\n",
              "    <tr>\n",
              "      <th>1</th>\n",
              "      <td>000c8a36845c0208e833c79c1bffedd1.jpg</td>\n",
              "      <td>118</td>\n",
              "      <td>109</td>\n",
              "      <td>114</td>\n",
              "      <td>108</td>\n",
              "      <td>99</td>\n",
              "      <td>104</td>\n",
              "      <td>104</td>\n",
              "      <td>95</td>\n",
              "      <td>100</td>\n",
              "      <td>110</td>\n",
              "      <td>100</td>\n",
              "      <td>108</td>\n",
              "      <td>85</td>\n",
              "      <td>74</td>\n",
              "      <td>82</td>\n",
              "      <td>55</td>\n",
              "      <td>43</td>\n",
              "      <td>53</td>\n",
              "      <td>86</td>\n",
              "      <td>74</td>\n",
              "      <td>84</td>\n",
              "      <td>82</td>\n",
              "      <td>69</td>\n",
              "      <td>79</td>\n",
              "      <td>109</td>\n",
              "      <td>93</td>\n",
              "      <td>104</td>\n",
              "      <td>134</td>\n",
              "      <td>116</td>\n",
              "      <td>128</td>\n",
              "      <td>126</td>\n",
              "      <td>108</td>\n",
              "      <td>120</td>\n",
              "      <td>124</td>\n",
              "      <td>104</td>\n",
              "      <td>116</td>\n",
              "      <td>128</td>\n",
              "      <td>106</td>\n",
              "      <td>118</td>\n",
              "      <td>...</td>\n",
              "      <td>102</td>\n",
              "      <td>128</td>\n",
              "      <td>117</td>\n",
              "      <td>123</td>\n",
              "      <td>148</td>\n",
              "      <td>139</td>\n",
              "      <td>144</td>\n",
              "      <td>147</td>\n",
              "      <td>138</td>\n",
              "      <td>143</td>\n",
              "      <td>105</td>\n",
              "      <td>96</td>\n",
              "      <td>101</td>\n",
              "      <td>94</td>\n",
              "      <td>84</td>\n",
              "      <td>92</td>\n",
              "      <td>121</td>\n",
              "      <td>111</td>\n",
              "      <td>119</td>\n",
              "      <td>141</td>\n",
              "      <td>130</td>\n",
              "      <td>138</td>\n",
              "      <td>124</td>\n",
              "      <td>112</td>\n",
              "      <td>122</td>\n",
              "      <td>154</td>\n",
              "      <td>142</td>\n",
              "      <td>152</td>\n",
              "      <td>143</td>\n",
              "      <td>130</td>\n",
              "      <td>140</td>\n",
              "      <td>104</td>\n",
              "      <td>91</td>\n",
              "      <td>101</td>\n",
              "      <td>97</td>\n",
              "      <td>81</td>\n",
              "      <td>92</td>\n",
              "      <td>126</td>\n",
              "      <td>110</td>\n",
              "      <td>121</td>\n",
              "    </tr>\n",
              "    <tr>\n",
              "      <th>2</th>\n",
              "      <td>000d1e9a533f62e55c289303b072733d.jpg</td>\n",
              "      <td>158</td>\n",
              "      <td>139</td>\n",
              "      <td>158</td>\n",
              "      <td>158</td>\n",
              "      <td>139</td>\n",
              "      <td>158</td>\n",
              "      <td>159</td>\n",
              "      <td>141</td>\n",
              "      <td>157</td>\n",
              "      <td>168</td>\n",
              "      <td>150</td>\n",
              "      <td>166</td>\n",
              "      <td>145</td>\n",
              "      <td>127</td>\n",
              "      <td>141</td>\n",
              "      <td>121</td>\n",
              "      <td>105</td>\n",
              "      <td>118</td>\n",
              "      <td>142</td>\n",
              "      <td>126</td>\n",
              "      <td>137</td>\n",
              "      <td>134</td>\n",
              "      <td>118</td>\n",
              "      <td>129</td>\n",
              "      <td>155</td>\n",
              "      <td>139</td>\n",
              "      <td>150</td>\n",
              "      <td>137</td>\n",
              "      <td>119</td>\n",
              "      <td>131</td>\n",
              "      <td>168</td>\n",
              "      <td>150</td>\n",
              "      <td>162</td>\n",
              "      <td>168</td>\n",
              "      <td>150</td>\n",
              "      <td>162</td>\n",
              "      <td>96</td>\n",
              "      <td>75</td>\n",
              "      <td>90</td>\n",
              "      <td>...</td>\n",
              "      <td>125</td>\n",
              "      <td>158</td>\n",
              "      <td>136</td>\n",
              "      <td>139</td>\n",
              "      <td>115</td>\n",
              "      <td>92</td>\n",
              "      <td>98</td>\n",
              "      <td>162</td>\n",
              "      <td>139</td>\n",
              "      <td>145</td>\n",
              "      <td>149</td>\n",
              "      <td>126</td>\n",
              "      <td>132</td>\n",
              "      <td>154</td>\n",
              "      <td>129</td>\n",
              "      <td>135</td>\n",
              "      <td>145</td>\n",
              "      <td>120</td>\n",
              "      <td>126</td>\n",
              "      <td>171</td>\n",
              "      <td>146</td>\n",
              "      <td>152</td>\n",
              "      <td>130</td>\n",
              "      <td>104</td>\n",
              "      <td>113</td>\n",
              "      <td>156</td>\n",
              "      <td>130</td>\n",
              "      <td>139</td>\n",
              "      <td>158</td>\n",
              "      <td>132</td>\n",
              "      <td>141</td>\n",
              "      <td>163</td>\n",
              "      <td>137</td>\n",
              "      <td>146</td>\n",
              "      <td>161</td>\n",
              "      <td>135</td>\n",
              "      <td>144</td>\n",
              "      <td>152</td>\n",
              "      <td>126</td>\n",
              "      <td>135</td>\n",
              "    </tr>\n",
              "    <tr>\n",
              "      <th>3</th>\n",
              "      <td>0011485b40695e9138e92d0b3fb55128.jpg</td>\n",
              "      <td>147</td>\n",
              "      <td>133</td>\n",
              "      <td>146</td>\n",
              "      <td>122</td>\n",
              "      <td>108</td>\n",
              "      <td>121</td>\n",
              "      <td>101</td>\n",
              "      <td>87</td>\n",
              "      <td>100</td>\n",
              "      <td>126</td>\n",
              "      <td>112</td>\n",
              "      <td>127</td>\n",
              "      <td>126</td>\n",
              "      <td>112</td>\n",
              "      <td>127</td>\n",
              "      <td>131</td>\n",
              "      <td>117</td>\n",
              "      <td>132</td>\n",
              "      <td>133</td>\n",
              "      <td>116</td>\n",
              "      <td>132</td>\n",
              "      <td>112</td>\n",
              "      <td>95</td>\n",
              "      <td>113</td>\n",
              "      <td>157</td>\n",
              "      <td>138</td>\n",
              "      <td>157</td>\n",
              "      <td>165</td>\n",
              "      <td>143</td>\n",
              "      <td>164</td>\n",
              "      <td>160</td>\n",
              "      <td>136</td>\n",
              "      <td>158</td>\n",
              "      <td>136</td>\n",
              "      <td>111</td>\n",
              "      <td>133</td>\n",
              "      <td>135</td>\n",
              "      <td>105</td>\n",
              "      <td>129</td>\n",
              "      <td>...</td>\n",
              "      <td>116</td>\n",
              "      <td>182</td>\n",
              "      <td>166</td>\n",
              "      <td>179</td>\n",
              "      <td>141</td>\n",
              "      <td>125</td>\n",
              "      <td>136</td>\n",
              "      <td>143</td>\n",
              "      <td>125</td>\n",
              "      <td>137</td>\n",
              "      <td>139</td>\n",
              "      <td>121</td>\n",
              "      <td>135</td>\n",
              "      <td>145</td>\n",
              "      <td>127</td>\n",
              "      <td>141</td>\n",
              "      <td>67</td>\n",
              "      <td>46</td>\n",
              "      <td>63</td>\n",
              "      <td>134</td>\n",
              "      <td>113</td>\n",
              "      <td>132</td>\n",
              "      <td>181</td>\n",
              "      <td>157</td>\n",
              "      <td>179</td>\n",
              "      <td>148</td>\n",
              "      <td>124</td>\n",
              "      <td>146</td>\n",
              "      <td>108</td>\n",
              "      <td>85</td>\n",
              "      <td>105</td>\n",
              "      <td>139</td>\n",
              "      <td>114</td>\n",
              "      <td>135</td>\n",
              "      <td>133</td>\n",
              "      <td>108</td>\n",
              "      <td>127</td>\n",
              "      <td>138</td>\n",
              "      <td>113</td>\n",
              "      <td>132</td>\n",
              "    </tr>\n",
              "    <tr>\n",
              "      <th>4</th>\n",
              "      <td>0014d7a11e90b62848904c1418fc8cf2.jpg</td>\n",
              "      <td>113</td>\n",
              "      <td>99</td>\n",
              "      <td>98</td>\n",
              "      <td>109</td>\n",
              "      <td>95</td>\n",
              "      <td>95</td>\n",
              "      <td>123</td>\n",
              "      <td>108</td>\n",
              "      <td>111</td>\n",
              "      <td>156</td>\n",
              "      <td>141</td>\n",
              "      <td>146</td>\n",
              "      <td>154</td>\n",
              "      <td>139</td>\n",
              "      <td>144</td>\n",
              "      <td>128</td>\n",
              "      <td>111</td>\n",
              "      <td>119</td>\n",
              "      <td>119</td>\n",
              "      <td>102</td>\n",
              "      <td>110</td>\n",
              "      <td>119</td>\n",
              "      <td>102</td>\n",
              "      <td>108</td>\n",
              "      <td>101</td>\n",
              "      <td>84</td>\n",
              "      <td>90</td>\n",
              "      <td>79</td>\n",
              "      <td>64</td>\n",
              "      <td>67</td>\n",
              "      <td>129</td>\n",
              "      <td>114</td>\n",
              "      <td>117</td>\n",
              "      <td>147</td>\n",
              "      <td>132</td>\n",
              "      <td>137</td>\n",
              "      <td>125</td>\n",
              "      <td>112</td>\n",
              "      <td>119</td>\n",
              "      <td>...</td>\n",
              "      <td>141</td>\n",
              "      <td>172</td>\n",
              "      <td>177</td>\n",
              "      <td>155</td>\n",
              "      <td>159</td>\n",
              "      <td>164</td>\n",
              "      <td>141</td>\n",
              "      <td>147</td>\n",
              "      <td>152</td>\n",
              "      <td>129</td>\n",
              "      <td>125</td>\n",
              "      <td>131</td>\n",
              "      <td>105</td>\n",
              "      <td>81</td>\n",
              "      <td>87</td>\n",
              "      <td>61</td>\n",
              "      <td>94</td>\n",
              "      <td>103</td>\n",
              "      <td>74</td>\n",
              "      <td>155</td>\n",
              "      <td>164</td>\n",
              "      <td>135</td>\n",
              "      <td>133</td>\n",
              "      <td>142</td>\n",
              "      <td>113</td>\n",
              "      <td>151</td>\n",
              "      <td>160</td>\n",
              "      <td>133</td>\n",
              "      <td>134</td>\n",
              "      <td>143</td>\n",
              "      <td>116</td>\n",
              "      <td>74</td>\n",
              "      <td>83</td>\n",
              "      <td>56</td>\n",
              "      <td>50</td>\n",
              "      <td>59</td>\n",
              "      <td>32</td>\n",
              "      <td>128</td>\n",
              "      <td>137</td>\n",
              "      <td>110</td>\n",
              "    </tr>\n",
              "  </tbody>\n",
              "</table>\n",
              "<p>5 rows × 3073 columns</p>\n",
              "</div>"
            ],
            "text/plain": [
              "                                     id    0    1    2  ...  3068  3069  3070  3071\n",
              "0  0004be2cfeaba1c0361d39e2b000257b.jpg  136  138  125  ...   133   139   110   130\n",
              "1  000c8a36845c0208e833c79c1bffedd1.jpg  118  109  114  ...    92   126   110   121\n",
              "2  000d1e9a533f62e55c289303b072733d.jpg  158  139  158  ...   144   152   126   135\n",
              "3  0011485b40695e9138e92d0b3fb55128.jpg  147  133  146  ...   127   138   113   132\n",
              "4  0014d7a11e90b62848904c1418fc8cf2.jpg  113   99   98  ...    32   128   137   110\n",
              "\n",
              "[5 rows x 3073 columns]"
            ]
          },
          "metadata": {
            "tags": []
          },
          "execution_count": 17
        }
      ]
    },
    {
      "cell_type": "code",
      "metadata": {
        "id": "2kbDarQg_lR4"
      },
      "source": [
        "new_data = df.merge(data, on='id')"
      ],
      "execution_count": null,
      "outputs": []
    },
    {
      "cell_type": "code",
      "metadata": {
        "id": "ruGfylFeCLut",
        "colab": {
          "base_uri": "https://localhost:8080/",
          "height": 253
        },
        "outputId": "b911355d-3cdc-403a-9cd3-e2c44d0b2d81"
      },
      "source": [
        "new_data.head()"
      ],
      "execution_count": null,
      "outputs": [
        {
          "output_type": "execute_result",
          "data": {
            "text/html": [
              "<div>\n",
              "<style scoped>\n",
              "    .dataframe tbody tr th:only-of-type {\n",
              "        vertical-align: middle;\n",
              "    }\n",
              "\n",
              "    .dataframe tbody tr th {\n",
              "        vertical-align: top;\n",
              "    }\n",
              "\n",
              "    .dataframe thead th {\n",
              "        text-align: right;\n",
              "    }\n",
              "</style>\n",
              "<table border=\"1\" class=\"dataframe\">\n",
              "  <thead>\n",
              "    <tr style=\"text-align: right;\">\n",
              "      <th></th>\n",
              "      <th>id</th>\n",
              "      <th>0</th>\n",
              "      <th>1</th>\n",
              "      <th>2</th>\n",
              "      <th>3</th>\n",
              "      <th>4</th>\n",
              "      <th>5</th>\n",
              "      <th>6</th>\n",
              "      <th>7</th>\n",
              "      <th>8</th>\n",
              "      <th>9</th>\n",
              "      <th>10</th>\n",
              "      <th>11</th>\n",
              "      <th>12</th>\n",
              "      <th>13</th>\n",
              "      <th>14</th>\n",
              "      <th>15</th>\n",
              "      <th>16</th>\n",
              "      <th>17</th>\n",
              "      <th>18</th>\n",
              "      <th>19</th>\n",
              "      <th>20</th>\n",
              "      <th>21</th>\n",
              "      <th>22</th>\n",
              "      <th>23</th>\n",
              "      <th>24</th>\n",
              "      <th>25</th>\n",
              "      <th>26</th>\n",
              "      <th>27</th>\n",
              "      <th>28</th>\n",
              "      <th>29</th>\n",
              "      <th>30</th>\n",
              "      <th>31</th>\n",
              "      <th>32</th>\n",
              "      <th>33</th>\n",
              "      <th>34</th>\n",
              "      <th>35</th>\n",
              "      <th>36</th>\n",
              "      <th>37</th>\n",
              "      <th>38</th>\n",
              "      <th>...</th>\n",
              "      <th>3033</th>\n",
              "      <th>3034</th>\n",
              "      <th>3035</th>\n",
              "      <th>3036</th>\n",
              "      <th>3037</th>\n",
              "      <th>3038</th>\n",
              "      <th>3039</th>\n",
              "      <th>3040</th>\n",
              "      <th>3041</th>\n",
              "      <th>3042</th>\n",
              "      <th>3043</th>\n",
              "      <th>3044</th>\n",
              "      <th>3045</th>\n",
              "      <th>3046</th>\n",
              "      <th>3047</th>\n",
              "      <th>3048</th>\n",
              "      <th>3049</th>\n",
              "      <th>3050</th>\n",
              "      <th>3051</th>\n",
              "      <th>3052</th>\n",
              "      <th>3053</th>\n",
              "      <th>3054</th>\n",
              "      <th>3055</th>\n",
              "      <th>3056</th>\n",
              "      <th>3057</th>\n",
              "      <th>3058</th>\n",
              "      <th>3059</th>\n",
              "      <th>3060</th>\n",
              "      <th>3061</th>\n",
              "      <th>3062</th>\n",
              "      <th>3063</th>\n",
              "      <th>3064</th>\n",
              "      <th>3065</th>\n",
              "      <th>3066</th>\n",
              "      <th>3067</th>\n",
              "      <th>3068</th>\n",
              "      <th>3069</th>\n",
              "      <th>3070</th>\n",
              "      <th>3071</th>\n",
              "      <th>has_cactus</th>\n",
              "    </tr>\n",
              "  </thead>\n",
              "  <tbody>\n",
              "    <tr>\n",
              "      <th>0</th>\n",
              "      <td>0004be2cfeaba1c0361d39e2b000257b.jpg</td>\n",
              "      <td>136</td>\n",
              "      <td>138</td>\n",
              "      <td>125</td>\n",
              "      <td>134</td>\n",
              "      <td>136</td>\n",
              "      <td>125</td>\n",
              "      <td>147</td>\n",
              "      <td>148</td>\n",
              "      <td>140</td>\n",
              "      <td>136</td>\n",
              "      <td>135</td>\n",
              "      <td>130</td>\n",
              "      <td>116</td>\n",
              "      <td>112</td>\n",
              "      <td>111</td>\n",
              "      <td>100</td>\n",
              "      <td>96</td>\n",
              "      <td>97</td>\n",
              "      <td>100</td>\n",
              "      <td>93</td>\n",
              "      <td>100</td>\n",
              "      <td>116</td>\n",
              "      <td>106</td>\n",
              "      <td>115</td>\n",
              "      <td>102</td>\n",
              "      <td>92</td>\n",
              "      <td>103</td>\n",
              "      <td>125</td>\n",
              "      <td>113</td>\n",
              "      <td>127</td>\n",
              "      <td>120</td>\n",
              "      <td>108</td>\n",
              "      <td>122</td>\n",
              "      <td>120</td>\n",
              "      <td>106</td>\n",
              "      <td>121</td>\n",
              "      <td>126</td>\n",
              "      <td>112</td>\n",
              "      <td>125</td>\n",
              "      <td>...</td>\n",
              "      <td>171</td>\n",
              "      <td>151</td>\n",
              "      <td>150</td>\n",
              "      <td>169</td>\n",
              "      <td>149</td>\n",
              "      <td>150</td>\n",
              "      <td>162</td>\n",
              "      <td>142</td>\n",
              "      <td>143</td>\n",
              "      <td>158</td>\n",
              "      <td>136</td>\n",
              "      <td>139</td>\n",
              "      <td>161</td>\n",
              "      <td>138</td>\n",
              "      <td>144</td>\n",
              "      <td>176</td>\n",
              "      <td>153</td>\n",
              "      <td>161</td>\n",
              "      <td>162</td>\n",
              "      <td>136</td>\n",
              "      <td>147</td>\n",
              "      <td>156</td>\n",
              "      <td>130</td>\n",
              "      <td>143</td>\n",
              "      <td>167</td>\n",
              "      <td>140</td>\n",
              "      <td>155</td>\n",
              "      <td>172</td>\n",
              "      <td>143</td>\n",
              "      <td>161</td>\n",
              "      <td>179</td>\n",
              "      <td>150</td>\n",
              "      <td>168</td>\n",
              "      <td>142</td>\n",
              "      <td>113</td>\n",
              "      <td>133</td>\n",
              "      <td>139</td>\n",
              "      <td>110</td>\n",
              "      <td>130</td>\n",
              "      <td>1</td>\n",
              "    </tr>\n",
              "    <tr>\n",
              "      <th>1</th>\n",
              "      <td>000c8a36845c0208e833c79c1bffedd1.jpg</td>\n",
              "      <td>118</td>\n",
              "      <td>109</td>\n",
              "      <td>114</td>\n",
              "      <td>108</td>\n",
              "      <td>99</td>\n",
              "      <td>104</td>\n",
              "      <td>104</td>\n",
              "      <td>95</td>\n",
              "      <td>100</td>\n",
              "      <td>110</td>\n",
              "      <td>100</td>\n",
              "      <td>108</td>\n",
              "      <td>85</td>\n",
              "      <td>74</td>\n",
              "      <td>82</td>\n",
              "      <td>55</td>\n",
              "      <td>43</td>\n",
              "      <td>53</td>\n",
              "      <td>86</td>\n",
              "      <td>74</td>\n",
              "      <td>84</td>\n",
              "      <td>82</td>\n",
              "      <td>69</td>\n",
              "      <td>79</td>\n",
              "      <td>109</td>\n",
              "      <td>93</td>\n",
              "      <td>104</td>\n",
              "      <td>134</td>\n",
              "      <td>116</td>\n",
              "      <td>128</td>\n",
              "      <td>126</td>\n",
              "      <td>108</td>\n",
              "      <td>120</td>\n",
              "      <td>124</td>\n",
              "      <td>104</td>\n",
              "      <td>116</td>\n",
              "      <td>128</td>\n",
              "      <td>106</td>\n",
              "      <td>118</td>\n",
              "      <td>...</td>\n",
              "      <td>128</td>\n",
              "      <td>117</td>\n",
              "      <td>123</td>\n",
              "      <td>148</td>\n",
              "      <td>139</td>\n",
              "      <td>144</td>\n",
              "      <td>147</td>\n",
              "      <td>138</td>\n",
              "      <td>143</td>\n",
              "      <td>105</td>\n",
              "      <td>96</td>\n",
              "      <td>101</td>\n",
              "      <td>94</td>\n",
              "      <td>84</td>\n",
              "      <td>92</td>\n",
              "      <td>121</td>\n",
              "      <td>111</td>\n",
              "      <td>119</td>\n",
              "      <td>141</td>\n",
              "      <td>130</td>\n",
              "      <td>138</td>\n",
              "      <td>124</td>\n",
              "      <td>112</td>\n",
              "      <td>122</td>\n",
              "      <td>154</td>\n",
              "      <td>142</td>\n",
              "      <td>152</td>\n",
              "      <td>143</td>\n",
              "      <td>130</td>\n",
              "      <td>140</td>\n",
              "      <td>104</td>\n",
              "      <td>91</td>\n",
              "      <td>101</td>\n",
              "      <td>97</td>\n",
              "      <td>81</td>\n",
              "      <td>92</td>\n",
              "      <td>126</td>\n",
              "      <td>110</td>\n",
              "      <td>121</td>\n",
              "      <td>1</td>\n",
              "    </tr>\n",
              "    <tr>\n",
              "      <th>2</th>\n",
              "      <td>000d1e9a533f62e55c289303b072733d.jpg</td>\n",
              "      <td>158</td>\n",
              "      <td>139</td>\n",
              "      <td>158</td>\n",
              "      <td>158</td>\n",
              "      <td>139</td>\n",
              "      <td>158</td>\n",
              "      <td>159</td>\n",
              "      <td>141</td>\n",
              "      <td>157</td>\n",
              "      <td>168</td>\n",
              "      <td>150</td>\n",
              "      <td>166</td>\n",
              "      <td>145</td>\n",
              "      <td>127</td>\n",
              "      <td>141</td>\n",
              "      <td>121</td>\n",
              "      <td>105</td>\n",
              "      <td>118</td>\n",
              "      <td>142</td>\n",
              "      <td>126</td>\n",
              "      <td>137</td>\n",
              "      <td>134</td>\n",
              "      <td>118</td>\n",
              "      <td>129</td>\n",
              "      <td>155</td>\n",
              "      <td>139</td>\n",
              "      <td>150</td>\n",
              "      <td>137</td>\n",
              "      <td>119</td>\n",
              "      <td>131</td>\n",
              "      <td>168</td>\n",
              "      <td>150</td>\n",
              "      <td>162</td>\n",
              "      <td>168</td>\n",
              "      <td>150</td>\n",
              "      <td>162</td>\n",
              "      <td>96</td>\n",
              "      <td>75</td>\n",
              "      <td>90</td>\n",
              "      <td>...</td>\n",
              "      <td>158</td>\n",
              "      <td>136</td>\n",
              "      <td>139</td>\n",
              "      <td>115</td>\n",
              "      <td>92</td>\n",
              "      <td>98</td>\n",
              "      <td>162</td>\n",
              "      <td>139</td>\n",
              "      <td>145</td>\n",
              "      <td>149</td>\n",
              "      <td>126</td>\n",
              "      <td>132</td>\n",
              "      <td>154</td>\n",
              "      <td>129</td>\n",
              "      <td>135</td>\n",
              "      <td>145</td>\n",
              "      <td>120</td>\n",
              "      <td>126</td>\n",
              "      <td>171</td>\n",
              "      <td>146</td>\n",
              "      <td>152</td>\n",
              "      <td>130</td>\n",
              "      <td>104</td>\n",
              "      <td>113</td>\n",
              "      <td>156</td>\n",
              "      <td>130</td>\n",
              "      <td>139</td>\n",
              "      <td>158</td>\n",
              "      <td>132</td>\n",
              "      <td>141</td>\n",
              "      <td>163</td>\n",
              "      <td>137</td>\n",
              "      <td>146</td>\n",
              "      <td>161</td>\n",
              "      <td>135</td>\n",
              "      <td>144</td>\n",
              "      <td>152</td>\n",
              "      <td>126</td>\n",
              "      <td>135</td>\n",
              "      <td>1</td>\n",
              "    </tr>\n",
              "    <tr>\n",
              "      <th>3</th>\n",
              "      <td>0011485b40695e9138e92d0b3fb55128.jpg</td>\n",
              "      <td>147</td>\n",
              "      <td>133</td>\n",
              "      <td>146</td>\n",
              "      <td>122</td>\n",
              "      <td>108</td>\n",
              "      <td>121</td>\n",
              "      <td>101</td>\n",
              "      <td>87</td>\n",
              "      <td>100</td>\n",
              "      <td>126</td>\n",
              "      <td>112</td>\n",
              "      <td>127</td>\n",
              "      <td>126</td>\n",
              "      <td>112</td>\n",
              "      <td>127</td>\n",
              "      <td>131</td>\n",
              "      <td>117</td>\n",
              "      <td>132</td>\n",
              "      <td>133</td>\n",
              "      <td>116</td>\n",
              "      <td>132</td>\n",
              "      <td>112</td>\n",
              "      <td>95</td>\n",
              "      <td>113</td>\n",
              "      <td>157</td>\n",
              "      <td>138</td>\n",
              "      <td>157</td>\n",
              "      <td>165</td>\n",
              "      <td>143</td>\n",
              "      <td>164</td>\n",
              "      <td>160</td>\n",
              "      <td>136</td>\n",
              "      <td>158</td>\n",
              "      <td>136</td>\n",
              "      <td>111</td>\n",
              "      <td>133</td>\n",
              "      <td>135</td>\n",
              "      <td>105</td>\n",
              "      <td>129</td>\n",
              "      <td>...</td>\n",
              "      <td>182</td>\n",
              "      <td>166</td>\n",
              "      <td>179</td>\n",
              "      <td>141</td>\n",
              "      <td>125</td>\n",
              "      <td>136</td>\n",
              "      <td>143</td>\n",
              "      <td>125</td>\n",
              "      <td>137</td>\n",
              "      <td>139</td>\n",
              "      <td>121</td>\n",
              "      <td>135</td>\n",
              "      <td>145</td>\n",
              "      <td>127</td>\n",
              "      <td>141</td>\n",
              "      <td>67</td>\n",
              "      <td>46</td>\n",
              "      <td>63</td>\n",
              "      <td>134</td>\n",
              "      <td>113</td>\n",
              "      <td>132</td>\n",
              "      <td>181</td>\n",
              "      <td>157</td>\n",
              "      <td>179</td>\n",
              "      <td>148</td>\n",
              "      <td>124</td>\n",
              "      <td>146</td>\n",
              "      <td>108</td>\n",
              "      <td>85</td>\n",
              "      <td>105</td>\n",
              "      <td>139</td>\n",
              "      <td>114</td>\n",
              "      <td>135</td>\n",
              "      <td>133</td>\n",
              "      <td>108</td>\n",
              "      <td>127</td>\n",
              "      <td>138</td>\n",
              "      <td>113</td>\n",
              "      <td>132</td>\n",
              "      <td>1</td>\n",
              "    </tr>\n",
              "    <tr>\n",
              "      <th>4</th>\n",
              "      <td>0014d7a11e90b62848904c1418fc8cf2.jpg</td>\n",
              "      <td>113</td>\n",
              "      <td>99</td>\n",
              "      <td>98</td>\n",
              "      <td>109</td>\n",
              "      <td>95</td>\n",
              "      <td>95</td>\n",
              "      <td>123</td>\n",
              "      <td>108</td>\n",
              "      <td>111</td>\n",
              "      <td>156</td>\n",
              "      <td>141</td>\n",
              "      <td>146</td>\n",
              "      <td>154</td>\n",
              "      <td>139</td>\n",
              "      <td>144</td>\n",
              "      <td>128</td>\n",
              "      <td>111</td>\n",
              "      <td>119</td>\n",
              "      <td>119</td>\n",
              "      <td>102</td>\n",
              "      <td>110</td>\n",
              "      <td>119</td>\n",
              "      <td>102</td>\n",
              "      <td>108</td>\n",
              "      <td>101</td>\n",
              "      <td>84</td>\n",
              "      <td>90</td>\n",
              "      <td>79</td>\n",
              "      <td>64</td>\n",
              "      <td>67</td>\n",
              "      <td>129</td>\n",
              "      <td>114</td>\n",
              "      <td>117</td>\n",
              "      <td>147</td>\n",
              "      <td>132</td>\n",
              "      <td>137</td>\n",
              "      <td>125</td>\n",
              "      <td>112</td>\n",
              "      <td>119</td>\n",
              "      <td>...</td>\n",
              "      <td>172</td>\n",
              "      <td>177</td>\n",
              "      <td>155</td>\n",
              "      <td>159</td>\n",
              "      <td>164</td>\n",
              "      <td>141</td>\n",
              "      <td>147</td>\n",
              "      <td>152</td>\n",
              "      <td>129</td>\n",
              "      <td>125</td>\n",
              "      <td>131</td>\n",
              "      <td>105</td>\n",
              "      <td>81</td>\n",
              "      <td>87</td>\n",
              "      <td>61</td>\n",
              "      <td>94</td>\n",
              "      <td>103</td>\n",
              "      <td>74</td>\n",
              "      <td>155</td>\n",
              "      <td>164</td>\n",
              "      <td>135</td>\n",
              "      <td>133</td>\n",
              "      <td>142</td>\n",
              "      <td>113</td>\n",
              "      <td>151</td>\n",
              "      <td>160</td>\n",
              "      <td>133</td>\n",
              "      <td>134</td>\n",
              "      <td>143</td>\n",
              "      <td>116</td>\n",
              "      <td>74</td>\n",
              "      <td>83</td>\n",
              "      <td>56</td>\n",
              "      <td>50</td>\n",
              "      <td>59</td>\n",
              "      <td>32</td>\n",
              "      <td>128</td>\n",
              "      <td>137</td>\n",
              "      <td>110</td>\n",
              "      <td>1</td>\n",
              "    </tr>\n",
              "  </tbody>\n",
              "</table>\n",
              "<p>5 rows × 3074 columns</p>\n",
              "</div>"
            ],
            "text/plain": [
              "                                     id    0    1  ...  3070  3071  has_cactus\n",
              "0  0004be2cfeaba1c0361d39e2b000257b.jpg  136  138  ...   110   130           1\n",
              "1  000c8a36845c0208e833c79c1bffedd1.jpg  118  109  ...   110   121           1\n",
              "2  000d1e9a533f62e55c289303b072733d.jpg  158  139  ...   126   135           1\n",
              "3  0011485b40695e9138e92d0b3fb55128.jpg  147  133  ...   113   132           1\n",
              "4  0014d7a11e90b62848904c1418fc8cf2.jpg  113   99  ...   137   110           1\n",
              "\n",
              "[5 rows x 3074 columns]"
            ]
          },
          "metadata": {
            "tags": []
          },
          "execution_count": 22
        }
      ]
    },
    {
      "cell_type": "code",
      "metadata": {
        "id": "6vRj8FJpCNB_"
      },
      "source": [
        "y = new_data.has_cactus"
      ],
      "execution_count": null,
      "outputs": []
    },
    {
      "cell_type": "code",
      "metadata": {
        "id": "JSTbqeV7CTZ0"
      },
      "source": [
        "new_data.drop('has_cactus',axis=1,inplace=True)"
      ],
      "execution_count": null,
      "outputs": []
    },
    {
      "cell_type": "code",
      "metadata": {
        "id": "0p6nVKl6CXTw"
      },
      "source": [
        "new_data.drop('id',axis=1,inplace=True)"
      ],
      "execution_count": null,
      "outputs": []
    },
    {
      "cell_type": "code",
      "metadata": {
        "id": "trUfb3r7CbZD"
      },
      "source": [
        "model = Sequential()\n",
        "model.add(Reshape((32,32,3),input_shape=(new_data.shape[1],)))\n",
        "model.add(Conv2D(32,kernel_size=(5,5),padding='same',strides=[1,1],kernel_initializer='glorot_normal'))\n",
        "model.add(BatchNormalization())\n",
        "model.add(Activation('relu'))\n",
        "model.add(MaxPooling2D((2,2),strides=(2,2)))\n",
        "model.add(Conv2D(64,kernel_size=(5,5),padding='valid',strides=[1,1],kernel_initializer='glorot_normal'))\n",
        "model.add(BatchNormalization())\n",
        "model.add(Activation('relu'))\n",
        "model.add(MaxPooling2D((2,2),strides=(2,2)))\n",
        "model.add(Flatten())\n",
        "model.add(Dense(1000, activation = 'relu',kernel_initializer='glorot_normal'))\n",
        "model.add(Dropout(rate=0.4))\n",
        "model.add(Dense(1,activation='sigmoid'))"
      ],
      "execution_count": null,
      "outputs": []
    },
    {
      "cell_type": "code",
      "metadata": {
        "id": "KQCGTLgPC9iZ",
        "colab": {
          "base_uri": "https://localhost:8080/",
          "height": 1000
        },
        "outputId": "9f3dcd6e-43d2-4b34-8b41-fa1226a6bc2f"
      },
      "source": [
        "model.compile(optimizer=Adam(lr=0.0005,beta_1=0.99,beta_2=0.999),loss='binary_crossentropy',metrics=['accuracy'])\n",
        "model.fit(new_data,y,validation_split=0.1,epochs=30,batch_size=128)"
      ],
      "execution_count": null,
      "outputs": [
        {
          "output_type": "stream",
          "text": [
            "WARNING:tensorflow:From /usr/local/lib/python3.6/dist-packages/keras/optimizers.py:793: The name tf.train.Optimizer is deprecated. Please use tf.compat.v1.train.Optimizer instead.\n",
            "\n",
            "WARNING:tensorflow:From /usr/local/lib/python3.6/dist-packages/keras/backend/tensorflow_backend.py:3657: The name tf.log is deprecated. Please use tf.math.log instead.\n",
            "\n",
            "WARNING:tensorflow:From /usr/local/lib/python3.6/dist-packages/tensorflow_core/python/ops/nn_impl.py:183: where (from tensorflow.python.ops.array_ops) is deprecated and will be removed in a future version.\n",
            "Instructions for updating:\n",
            "Use tf.where in 2.0, which has the same broadcast rule as np.where\n",
            "WARNING:tensorflow:From /usr/local/lib/python3.6/dist-packages/keras/backend/tensorflow_backend.py:1033: The name tf.assign_add is deprecated. Please use tf.compat.v1.assign_add instead.\n",
            "\n",
            "WARNING:tensorflow:From /usr/local/lib/python3.6/dist-packages/keras/backend/tensorflow_backend.py:1020: The name tf.assign is deprecated. Please use tf.compat.v1.assign instead.\n",
            "\n",
            "Train on 15750 samples, validate on 1750 samples\n",
            "Epoch 1/30\n",
            "15750/15750 [==============================] - 8s 498us/step - loss: 0.3819 - acc: 0.9018 - val_loss: 0.4437 - val_acc: 0.8097\n",
            "Epoch 2/30\n",
            "15750/15750 [==============================] - 4s 233us/step - loss: 0.1296 - acc: 0.9512 - val_loss: 0.2891 - val_acc: 0.8800\n",
            "Epoch 3/30\n",
            "15750/15750 [==============================] - 4s 230us/step - loss: 0.0869 - acc: 0.9674 - val_loss: 0.2700 - val_acc: 0.8766\n",
            "Epoch 4/30\n",
            "15750/15750 [==============================] - 4s 233us/step - loss: 0.0664 - acc: 0.9744 - val_loss: 0.0569 - val_acc: 0.9783\n",
            "Epoch 5/30\n",
            "15750/15750 [==============================] - 4s 235us/step - loss: 0.0552 - acc: 0.9789 - val_loss: 0.1034 - val_acc: 0.9560\n",
            "Epoch 6/30\n",
            "15750/15750 [==============================] - 4s 231us/step - loss: 0.0481 - acc: 0.9809 - val_loss: 0.0603 - val_acc: 0.9754\n",
            "Epoch 7/30\n",
            "15750/15750 [==============================] - 4s 232us/step - loss: 0.0430 - acc: 0.9835 - val_loss: 0.9294 - val_acc: 0.8377\n",
            "Epoch 8/30\n",
            "15750/15750 [==============================] - 4s 234us/step - loss: 0.0375 - acc: 0.9860 - val_loss: 0.1067 - val_acc: 0.9566\n",
            "Epoch 9/30\n",
            "15750/15750 [==============================] - 4s 232us/step - loss: 0.0298 - acc: 0.9897 - val_loss: 0.2048 - val_acc: 0.9097\n",
            "Epoch 10/30\n",
            "15750/15750 [==============================] - 4s 233us/step - loss: 0.0265 - acc: 0.9910 - val_loss: 0.1598 - val_acc: 0.9480\n",
            "Epoch 11/30\n",
            "15750/15750 [==============================] - 4s 238us/step - loss: 0.0232 - acc: 0.9916 - val_loss: 0.1326 - val_acc: 0.9491\n",
            "Epoch 12/30\n",
            "15750/15750 [==============================] - 4s 240us/step - loss: 0.0185 - acc: 0.9934 - val_loss: 0.8323 - val_acc: 0.8497\n",
            "Epoch 13/30\n",
            "15750/15750 [==============================] - 4s 242us/step - loss: 0.0154 - acc: 0.9949 - val_loss: 0.0322 - val_acc: 0.9909\n",
            "Epoch 14/30\n",
            "15750/15750 [==============================] - 4s 237us/step - loss: 0.0143 - acc: 0.9959 - val_loss: 0.0268 - val_acc: 0.9874\n",
            "Epoch 15/30\n",
            "15750/15750 [==============================] - 4s 238us/step - loss: 0.0124 - acc: 0.9958 - val_loss: 0.8920 - val_acc: 0.8326\n",
            "Epoch 16/30\n",
            "15750/15750 [==============================] - 4s 235us/step - loss: 0.0117 - acc: 0.9957 - val_loss: 0.0618 - val_acc: 0.9811\n",
            "Epoch 17/30\n",
            "15750/15750 [==============================] - 4s 238us/step - loss: 0.0341 - acc: 0.9874 - val_loss: 3.8401 - val_acc: 0.7474\n",
            "Epoch 18/30\n",
            "15750/15750 [==============================] - 4s 237us/step - loss: 0.0213 - acc: 0.9922 - val_loss: 0.3152 - val_acc: 0.9074\n",
            "Epoch 19/30\n",
            "15750/15750 [==============================] - 4s 237us/step - loss: 0.0146 - acc: 0.9946 - val_loss: 1.0586 - val_acc: 0.8337\n",
            "Epoch 20/30\n",
            "15750/15750 [==============================] - 4s 234us/step - loss: 0.0242 - acc: 0.9912 - val_loss: 0.3720 - val_acc: 0.8611\n",
            "Epoch 21/30\n",
            "15750/15750 [==============================] - 4s 236us/step - loss: 0.0166 - acc: 0.9941 - val_loss: 0.0339 - val_acc: 0.9846\n",
            "Epoch 22/30\n",
            "15750/15750 [==============================] - 4s 238us/step - loss: 0.0188 - acc: 0.9935 - val_loss: 2.2383 - val_acc: 0.7777\n",
            "Epoch 23/30\n",
            "15750/15750 [==============================] - 4s 234us/step - loss: 0.0144 - acc: 0.9942 - val_loss: 0.0663 - val_acc: 0.9806\n",
            "Epoch 24/30\n",
            "15750/15750 [==============================] - 4s 239us/step - loss: 0.0075 - acc: 0.9975 - val_loss: 0.0926 - val_acc: 0.9640\n",
            "Epoch 25/30\n",
            "15750/15750 [==============================] - 4s 239us/step - loss: 0.0371 - acc: 0.9857 - val_loss: 0.5463 - val_acc: 0.8091\n",
            "Epoch 26/30\n",
            "15750/15750 [==============================] - 4s 237us/step - loss: 0.0340 - acc: 0.9882 - val_loss: 1.4498 - val_acc: 0.7680\n",
            "Epoch 27/30\n",
            "15750/15750 [==============================] - 4s 236us/step - loss: 0.0147 - acc: 0.9950 - val_loss: 0.2843 - val_acc: 0.8674\n",
            "Epoch 28/30\n",
            "15750/15750 [==============================] - 4s 236us/step - loss: 0.0162 - acc: 0.9948 - val_loss: 1.8752 - val_acc: 0.7531\n",
            "Epoch 29/30\n",
            "15750/15750 [==============================] - 4s 236us/step - loss: 0.0107 - acc: 0.9964 - val_loss: 0.0304 - val_acc: 0.9897\n",
            "Epoch 30/30\n",
            "15750/15750 [==============================] - 4s 236us/step - loss: 0.0055 - acc: 0.9983 - val_loss: 0.0430 - val_acc: 0.9886\n"
          ],
          "name": "stdout"
        },
        {
          "output_type": "execute_result",
          "data": {
            "text/plain": [
              "<keras.callbacks.History at 0x7fd9218c5438>"
            ]
          },
          "metadata": {
            "tags": []
          },
          "execution_count": 27
        }
      ]
    },
    {
      "cell_type": "code",
      "metadata": {
        "id": "0I2raq_DDN57",
        "colab": {
          "base_uri": "https://localhost:8080/",
          "height": 204
        },
        "outputId": "904ff81c-c84e-4767-d853-c28109068769"
      },
      "source": [
        "pd.read_csv('sample_submission.csv').head()"
      ],
      "execution_count": null,
      "outputs": [
        {
          "output_type": "execute_result",
          "data": {
            "text/html": [
              "<div>\n",
              "<style scoped>\n",
              "    .dataframe tbody tr th:only-of-type {\n",
              "        vertical-align: middle;\n",
              "    }\n",
              "\n",
              "    .dataframe tbody tr th {\n",
              "        vertical-align: top;\n",
              "    }\n",
              "\n",
              "    .dataframe thead th {\n",
              "        text-align: right;\n",
              "    }\n",
              "</style>\n",
              "<table border=\"1\" class=\"dataframe\">\n",
              "  <thead>\n",
              "    <tr style=\"text-align: right;\">\n",
              "      <th></th>\n",
              "      <th>id</th>\n",
              "      <th>has_cactus</th>\n",
              "    </tr>\n",
              "  </thead>\n",
              "  <tbody>\n",
              "    <tr>\n",
              "      <th>0</th>\n",
              "      <td>000940378805c44108d287872b2f04ce.jpg</td>\n",
              "      <td>0.5</td>\n",
              "    </tr>\n",
              "    <tr>\n",
              "      <th>1</th>\n",
              "      <td>0017242f54ececa4512b4d7937d1e21e.jpg</td>\n",
              "      <td>0.5</td>\n",
              "    </tr>\n",
              "    <tr>\n",
              "      <th>2</th>\n",
              "      <td>001ee6d8564003107853118ab87df407.jpg</td>\n",
              "      <td>0.5</td>\n",
              "    </tr>\n",
              "    <tr>\n",
              "      <th>3</th>\n",
              "      <td>002e175c3c1e060769475f52182583d0.jpg</td>\n",
              "      <td>0.5</td>\n",
              "    </tr>\n",
              "    <tr>\n",
              "      <th>4</th>\n",
              "      <td>0036e44a7e8f7218e9bc7bf8137e4943.jpg</td>\n",
              "      <td>0.5</td>\n",
              "    </tr>\n",
              "  </tbody>\n",
              "</table>\n",
              "</div>"
            ],
            "text/plain": [
              "                                     id  has_cactus\n",
              "0  000940378805c44108d287872b2f04ce.jpg         0.5\n",
              "1  0017242f54ececa4512b4d7937d1e21e.jpg         0.5\n",
              "2  001ee6d8564003107853118ab87df407.jpg         0.5\n",
              "3  002e175c3c1e060769475f52182583d0.jpg         0.5\n",
              "4  0036e44a7e8f7218e9bc7bf8137e4943.jpg         0.5"
            ]
          },
          "metadata": {
            "tags": []
          },
          "execution_count": 105
        }
      ]
    },
    {
      "cell_type": "code",
      "metadata": {
        "id": "EHtkdKEXEQ5J"
      },
      "source": [
        "test_data = {el:np.reshape(np.array(PIL.Image.open(\"./test/\"+el)),(-1,)).T for el in os.listdir(\"./test\")}"
      ],
      "execution_count": null,
      "outputs": []
    },
    {
      "cell_type": "code",
      "metadata": {
        "id": "Xr6v4cj8Iiv2"
      },
      "source": [
        "X_test = pd.DataFrame.from_dict(test_data,orient='index')"
      ],
      "execution_count": null,
      "outputs": []
    },
    {
      "cell_type": "code",
      "metadata": {
        "id": "lYID7bu8IkCf"
      },
      "source": [
        "pred = model.predict(X_test)"
      ],
      "execution_count": null,
      "outputs": []
    },
    {
      "cell_type": "code",
      "metadata": {
        "id": "sXoAx9-lI-Bx",
        "colab": {
          "base_uri": "https://localhost:8080/",
          "height": 136
        },
        "outputId": "f177dc4f-2b99-4003-868c-118d0f0871c0"
      },
      "source": [
        "pred"
      ],
      "execution_count": null,
      "outputs": [
        {
          "output_type": "execute_result",
          "data": {
            "text/plain": [
              "array([[9.9999988e-01],\n",
              "       [3.0014217e-03],\n",
              "       [1.0000000e+00],\n",
              "       ...,\n",
              "       [5.9604645e-07],\n",
              "       [4.0681064e-03],\n",
              "       [1.0000000e+00]], dtype=float32)"
            ]
          },
          "metadata": {
            "tags": []
          },
          "execution_count": 135
        }
      ]
    },
    {
      "cell_type": "code",
      "metadata": {
        "id": "NPqlFV7SJDCr"
      },
      "source": [
        "submission = {'id':X_test.index.to_list(),'has_cactus':pred}"
      ],
      "execution_count": null,
      "outputs": []
    },
    {
      "cell_type": "code",
      "metadata": {
        "id": "m8xM8zOnJS6l"
      },
      "source": [
        "has_cactus = pd.DataFrame(submission['has_cactus'])\n",
        "iD = pd.DataFrame(submission['id'])"
      ],
      "execution_count": null,
      "outputs": []
    },
    {
      "cell_type": "code",
      "metadata": {
        "id": "lMYFhrp8JatH"
      },
      "source": [
        "submit = pd.concat([iD,has_cactus],axis=1)"
      ],
      "execution_count": null,
      "outputs": []
    },
    {
      "cell_type": "code",
      "metadata": {
        "id": "f7yZnNiwJvHQ"
      },
      "source": [
        "submit.columns = ['id','has_cactus']"
      ],
      "execution_count": null,
      "outputs": []
    },
    {
      "cell_type": "code",
      "metadata": {
        "id": "S5TlHmXdLr-W",
        "colab": {
          "base_uri": "https://localhost:8080/",
          "height": 204
        },
        "outputId": "f88a020e-bb73-4d4d-a6b1-2a1e830dd055"
      },
      "source": [
        "submit.head()"
      ],
      "execution_count": null,
      "outputs": [
        {
          "output_type": "execute_result",
          "data": {
            "text/html": [
              "<div>\n",
              "<style scoped>\n",
              "    .dataframe tbody tr th:only-of-type {\n",
              "        vertical-align: middle;\n",
              "    }\n",
              "\n",
              "    .dataframe tbody tr th {\n",
              "        vertical-align: top;\n",
              "    }\n",
              "\n",
              "    .dataframe thead th {\n",
              "        text-align: right;\n",
              "    }\n",
              "</style>\n",
              "<table border=\"1\" class=\"dataframe\">\n",
              "  <thead>\n",
              "    <tr style=\"text-align: right;\">\n",
              "      <th></th>\n",
              "      <th>id</th>\n",
              "      <th>has_cactus</th>\n",
              "    </tr>\n",
              "  </thead>\n",
              "  <tbody>\n",
              "    <tr>\n",
              "      <th>0</th>\n",
              "      <td>4b7b8ec5227506e335e399e8450c0011.jpg</td>\n",
              "      <td>1.000000</td>\n",
              "    </tr>\n",
              "    <tr>\n",
              "      <th>1</th>\n",
              "      <td>25283c5f4d77d763ad3817dbc90248c9.jpg</td>\n",
              "      <td>0.003001</td>\n",
              "    </tr>\n",
              "    <tr>\n",
              "      <th>2</th>\n",
              "      <td>b047c34e79dbfb22deadba14bbfcb24c.jpg</td>\n",
              "      <td>1.000000</td>\n",
              "    </tr>\n",
              "    <tr>\n",
              "      <th>3</th>\n",
              "      <td>2a127d250a0ff4de88222b2ed7c5eaca.jpg</td>\n",
              "      <td>0.108140</td>\n",
              "    </tr>\n",
              "    <tr>\n",
              "      <th>4</th>\n",
              "      <td>586bf8d63e9be36ba044a96cad1d0453.jpg</td>\n",
              "      <td>1.000000</td>\n",
              "    </tr>\n",
              "  </tbody>\n",
              "</table>\n",
              "</div>"
            ],
            "text/plain": [
              "                                     id  has_cactus\n",
              "0  4b7b8ec5227506e335e399e8450c0011.jpg    1.000000\n",
              "1  25283c5f4d77d763ad3817dbc90248c9.jpg    0.003001\n",
              "2  b047c34e79dbfb22deadba14bbfcb24c.jpg    1.000000\n",
              "3  2a127d250a0ff4de88222b2ed7c5eaca.jpg    0.108140\n",
              "4  586bf8d63e9be36ba044a96cad1d0453.jpg    1.000000"
            ]
          },
          "metadata": {
            "tags": []
          },
          "execution_count": 163
        }
      ]
    },
    {
      "cell_type": "code",
      "metadata": {
        "id": "asgIgNH5Ls26"
      },
      "source": [
        "submit.to_csv('submission.csv',index=False)"
      ],
      "execution_count": null,
      "outputs": []
    },
    {
      "cell_type": "code",
      "metadata": {
        "id": "1NcTjsGDLymP",
        "colab": {
          "base_uri": "https://localhost:8080/",
          "height": 51
        },
        "outputId": "62f733f3-cb7b-4c63-fd1d-1f431c3e0da3"
      },
      "source": [
        "!kaggle competitions submit -c aerial-cactus-identification -f submission.csv -m \"Message\""
      ],
      "execution_count": null,
      "outputs": [
        {
          "output_type": "stream",
          "text": [
            "100% 177k/177k [00:06<00:00, 28.5kB/s]\n",
            "403 - This competition only allows kernel submissions.\n"
          ],
          "name": "stdout"
        }
      ]
    },
    {
      "cell_type": "code",
      "metadata": {
        "id": "fOgEmOoWL63S",
        "colab": {
          "base_uri": "https://localhost:8080/",
          "height": 204
        },
        "outputId": "951be7f7-5c02-4b4c-9d78-a5a785ff27fc"
      },
      "source": [
        "pd.read_csv('submission.csv').head()"
      ],
      "execution_count": null,
      "outputs": [
        {
          "output_type": "execute_result",
          "data": {
            "text/html": [
              "<div>\n",
              "<style scoped>\n",
              "    .dataframe tbody tr th:only-of-type {\n",
              "        vertical-align: middle;\n",
              "    }\n",
              "\n",
              "    .dataframe tbody tr th {\n",
              "        vertical-align: top;\n",
              "    }\n",
              "\n",
              "    .dataframe thead th {\n",
              "        text-align: right;\n",
              "    }\n",
              "</style>\n",
              "<table border=\"1\" class=\"dataframe\">\n",
              "  <thead>\n",
              "    <tr style=\"text-align: right;\">\n",
              "      <th></th>\n",
              "      <th>id</th>\n",
              "      <th>has_cactus</th>\n",
              "    </tr>\n",
              "  </thead>\n",
              "  <tbody>\n",
              "    <tr>\n",
              "      <th>0</th>\n",
              "      <td>4b7b8ec5227506e335e399e8450c0011.jpg</td>\n",
              "      <td>1.000000</td>\n",
              "    </tr>\n",
              "    <tr>\n",
              "      <th>1</th>\n",
              "      <td>25283c5f4d77d763ad3817dbc90248c9.jpg</td>\n",
              "      <td>0.003001</td>\n",
              "    </tr>\n",
              "    <tr>\n",
              "      <th>2</th>\n",
              "      <td>b047c34e79dbfb22deadba14bbfcb24c.jpg</td>\n",
              "      <td>1.000000</td>\n",
              "    </tr>\n",
              "    <tr>\n",
              "      <th>3</th>\n",
              "      <td>2a127d250a0ff4de88222b2ed7c5eaca.jpg</td>\n",
              "      <td>0.108140</td>\n",
              "    </tr>\n",
              "    <tr>\n",
              "      <th>4</th>\n",
              "      <td>586bf8d63e9be36ba044a96cad1d0453.jpg</td>\n",
              "      <td>1.000000</td>\n",
              "    </tr>\n",
              "  </tbody>\n",
              "</table>\n",
              "</div>"
            ],
            "text/plain": [
              "                                     id  has_cactus\n",
              "0  4b7b8ec5227506e335e399e8450c0011.jpg    1.000000\n",
              "1  25283c5f4d77d763ad3817dbc90248c9.jpg    0.003001\n",
              "2  b047c34e79dbfb22deadba14bbfcb24c.jpg    1.000000\n",
              "3  2a127d250a0ff4de88222b2ed7c5eaca.jpg    0.108140\n",
              "4  586bf8d63e9be36ba044a96cad1d0453.jpg    1.000000"
            ]
          },
          "metadata": {
            "tags": []
          },
          "execution_count": 166
        }
      ]
    },
    {
      "cell_type": "code",
      "metadata": {
        "id": "yJ-XYASxMTvB"
      },
      "source": [
        ""
      ],
      "execution_count": null,
      "outputs": []
    }
  ]
}