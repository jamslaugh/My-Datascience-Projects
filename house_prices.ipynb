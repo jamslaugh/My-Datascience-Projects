{
  "nbformat": 4,
  "nbformat_minor": 0,
  "metadata": {
    "colab": {
      "name": "house_prices.ipynb",
      "provenance": [],
      "collapsed_sections": [],
      "include_colab_link": true
    },
    "kernelspec": {
      "name": "python3",
      "display_name": "Python 3"
    },
    "accelerator": "GPU"
  },
  "cells": [
    {
      "cell_type": "markdown",
      "metadata": {
        "id": "view-in-github",
        "colab_type": "text"
      },
      "source": [
        "<a href=\"https://colab.research.google.com/github/jamslaugh/My-Datascience-Projects/blob/master/house_prices.ipynb\" target=\"_parent\"><img src=\"https://colab.research.google.com/assets/colab-badge.svg\" alt=\"Open In Colab\"/></a>"
      ]
    },
    {
      "cell_type": "code",
      "metadata": {
        "id": "REHIR4e-eajT",
        "colab": {
          "resources": {
            "http://localhost:8080/nbextensions/google.colab/files.js": {
              "data": "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",
              "ok": true,
              "headers": [
                [
                  "content-type",
                  "application/javascript"
                ]
              ],
              "status": 200,
              "status_text": ""
            }
          },
          "base_uri": "https://localhost:8080/",
          "height": 91
        },
        "outputId": "6c432154-db56-4e4d-d0c7-903a9883383a"
      },
      "source": [
        "from google.colab import files\n",
        "files.upload()"
      ],
      "execution_count": null,
      "outputs": [
        {
          "output_type": "display_data",
          "data": {
            "text/html": [
              "\n",
              "     <input type=\"file\" id=\"files-4c0b5247-29ee-4cd3-927a-010054346389\" name=\"files[]\" multiple disabled />\n",
              "     <output id=\"result-4c0b5247-29ee-4cd3-927a-010054346389\">\n",
              "      Upload widget is only available when the cell has been executed in the\n",
              "      current browser session. Please rerun this cell to enable.\n",
              "      </output>\n",
              "      <script src=\"/nbextensions/google.colab/files.js\"></script> "
            ],
            "text/plain": [
              "<IPython.core.display.HTML object>"
            ]
          },
          "metadata": {
            "tags": []
          }
        },
        {
          "output_type": "stream",
          "text": [
            "Saving kaggle.json to kaggle.json\n"
          ],
          "name": "stdout"
        },
        {
          "output_type": "execute_result",
          "data": {
            "text/plain": [
              "{'kaggle.json': b'{\"username\":\"randomcluster\",\"key\":\"c11f4b3b630cb22dab26811652171286\"}'}"
            ]
          },
          "metadata": {
            "tags": []
          },
          "execution_count": 1
        }
      ]
    },
    {
      "cell_type": "code",
      "metadata": {
        "id": "dkfliqbuzp1k"
      },
      "source": [
        "!pip install -q kaggle"
      ],
      "execution_count": null,
      "outputs": []
    },
    {
      "cell_type": "code",
      "metadata": {
        "id": "HJZBdplGency"
      },
      "source": [
        "!mkdir -p ~/.kaggle\n",
        "!cp kaggle.json ~/.kaggle/\n",
        "!chmod 600 ~/.kaggle/kaggle.json"
      ],
      "execution_count": null,
      "outputs": []
    },
    {
      "cell_type": "code",
      "metadata": {
        "id": "o5OhjUyyHuQk"
      },
      "source": [
        ""
      ],
      "execution_count": null,
      "outputs": []
    },
    {
      "cell_type": "code",
      "metadata": {
        "id": "zkMzReFqeyrl",
        "colab": {
          "base_uri": "https://localhost:8080/",
          "height": 391
        },
        "outputId": "bb4c9d3f-195b-4f15-e192-6b26e31183ab"
      },
      "source": [
        "!kaggle competitions list"
      ],
      "execution_count": null,
      "outputs": [
        {
          "output_type": "stream",
          "text": [
            "ref                                                deadline             category            reward  teamCount  userHasEntered  \n",
            "-------------------------------------------------  -------------------  ---------------  ---------  ---------  --------------  \n",
            "digit-recognizer                                   2030-01-01 00:00:00  Getting Started  Knowledge       3033            True  \n",
            "titanic                                            2030-01-01 00:00:00  Getting Started  Knowledge      11261            True  \n",
            "house-prices-advanced-regression-techniques        2030-01-01 00:00:00  Getting Started  Knowledge       4721            True  \n",
            "imagenet-object-localization-challenge             2029-12-31 07:00:00  Research         Knowledge         38           False  \n",
            "competitive-data-science-predict-future-sales      2019-12-31 23:59:00  Playground           Kudos       3189           False  \n",
            "recognizing-faces-in-the-wild                      2019-08-01 23:59:00  Playground       Knowledge        156           False  \n",
            "two-sigma-financial-news                           2019-07-15 23:59:00  Featured          $100,000       2927           False  \n",
            "aerial-cactus-identification                       2019-07-08 23:59:00  Playground       Knowledge        627           False  \n",
            "jigsaw-unintended-bias-in-toxicity-classification  2019-06-26 23:59:00  Featured           $65,000       2210           False  \n",
            "data-science-for-good-city-of-los-angeles          2019-06-21 23:59:00  Analytics          $15,000          0           False  \n",
            "instant-gratification                              2019-06-20 23:59:00  Featured            $5,000        513           False  \n",
            "imaterialist-fashion-2019-FGVC6                    2019-06-10 23:59:00  Research             Kudos        116           False  \n",
            "inaturalist-2019-fgvc6                             2019-06-10 23:59:00  Research             Kudos        186           False  \n",
            "freesound-audio-tagging-2019                       2019-06-10 11:59:00  Research            $5,000        706           False  \n",
            "iwildcam-2019-fgvc6                                2019-06-07 23:59:00  Playground           Kudos        250           False  \n",
            "imet-2019-fgvc6                                    2019-06-04 23:59:00  Research             Kudos        467           False  \n",
            "LANL-Earthquake-Prediction                         2019-06-03 23:59:00  Research           $50,000       4244           False  \n",
            "landmark-recognition-2019                          2019-06-03 23:59:00  Research           $25,000        236           False  \n",
            "landmark-retrieval-2019                            2019-06-03 23:59:00  Research           $25,000        132           False  \n",
            "tmdb-box-office-prediction                         2019-05-30 23:59:00  Playground       Knowledge       1252           False  \n"
          ],
          "name": "stdout"
        }
      ]
    },
    {
      "cell_type": "code",
      "metadata": {
        "id": "-t3IRV_mfnHE"
      },
      "source": [
        "import numpy as np\n",
        "import pandas as pd\n",
        "from sklearn.model_selection import train_test_split\n",
        "from sklearn.metrics import adjusted_mutual_info_score,mean_squared_log_error, mean_squared_error, mean_absolute_error\n",
        "from sklearn.preprocessing import Imputer,LabelEncoder, StandardScaler\n",
        "from sklearn.neighbors import KernelDensity # To estimate outliers in first instance\n",
        "from sklearn.svm import SVR\n",
        "from sklearn.ensemble import RandomForestRegressor\n",
        "import seaborn as sns\n",
        "import matplotlib.pyplot as plt"
      ],
      "execution_count": null,
      "outputs": []
    },
    {
      "cell_type": "code",
      "metadata": {
        "id": "Cscpkqv4kqfA"
      },
      "source": [
        "pd.options.display.max_columns = 999\n",
        "pd.options.display.max_rows = 999"
      ],
      "execution_count": null,
      "outputs": []
    },
    {
      "cell_type": "code",
      "metadata": {
        "id": "P8WMlk8ohaA6",
        "colab": {
          "base_uri": "https://localhost:8080/",
          "height": 221
        },
        "outputId": "dbff02a2-6771-45d2-c46d-92ccf432ee2c"
      },
      "source": [
        "!kaggle competitions download -c house-prices-advanced-regression-techniques --force"
      ],
      "execution_count": null,
      "outputs": [
        {
          "output_type": "stream",
          "text": [
            "Downloading sample_submission.csv to /content\n",
            "\r  0% 0.00/31.2k [00:00<?, ?B/s]\n",
            "100% 31.2k/31.2k [00:00<00:00, 12.1MB/s]\n",
            "Downloading test.csv to /content\n",
            "  0% 0.00/441k [00:00<?, ?B/s]\n",
            "100% 441k/441k [00:00<00:00, 60.4MB/s]\n",
            "Downloading train.csv to /content\n",
            "  0% 0.00/450k [00:00<?, ?B/s]\n",
            "100% 450k/450k [00:00<00:00, 62.0MB/s]\n",
            "Downloading data_description.txt to /content\n",
            "  0% 0.00/13.1k [00:00<?, ?B/s]\n",
            "100% 13.1k/13.1k [00:00<00:00, 11.2MB/s]\n"
          ],
          "name": "stdout"
        }
      ]
    },
    {
      "cell_type": "code",
      "metadata": {
        "id": "J0Nd1lT8g_Da"
      },
      "source": [
        "# Defining Train, Test and so on. Remember that Test has no labels. So, we need to split train data in validation set. \n",
        "# So our schedule is as follows:\n",
        "# 1) create a first, untuned, case. Then propose an innovation\n",
        "\n",
        "trdata = pd.read_csv(\"train.csv\",index_col='Id')\n",
        "tedata = pd.read_csv(\"test.csv\",index_col='Id')"
      ],
      "execution_count": null,
      "outputs": []
    },
    {
      "cell_type": "code",
      "metadata": {
        "id": "tCX2vr1QkKOy",
        "colab": {
          "base_uri": "https://localhost:8080/",
          "height": 493
        },
        "outputId": "0e5b4336-d68c-4bd9-aa37-8ce1713b7675"
      },
      "source": [
        "print(trdata.head(10))\n",
        "print(tedata.head(10))"
      ],
      "execution_count": null,
      "outputs": [
        {
          "output_type": "stream",
          "text": [
            "    MSSubClass MSZoning  LotFrontage  ...  SaleType SaleCondition SalePrice\n",
            "Id                                    ...                                  \n",
            "1           60       RL         65.0  ...        WD        Normal    208500\n",
            "2           20       RL         80.0  ...        WD        Normal    181500\n",
            "3           60       RL         68.0  ...        WD        Normal    223500\n",
            "4           70       RL         60.0  ...        WD       Abnorml    140000\n",
            "5           60       RL         84.0  ...        WD        Normal    250000\n",
            "6           50       RL         85.0  ...        WD        Normal    143000\n",
            "7           20       RL         75.0  ...        WD        Normal    307000\n",
            "8           60       RL          NaN  ...        WD        Normal    200000\n",
            "9           50       RM         51.0  ...        WD       Abnorml    129900\n",
            "10         190       RL         50.0  ...        WD        Normal    118000\n",
            "\n",
            "[10 rows x 80 columns]\n",
            "      MSSubClass MSZoning  LotFrontage  ...  YrSold SaleType SaleCondition\n",
            "Id                                      ...                               \n",
            "1461          20       RH         80.0  ...    2010       WD        Normal\n",
            "1462          20       RL         81.0  ...    2010       WD        Normal\n",
            "1463          60       RL         74.0  ...    2010       WD        Normal\n",
            "1464          60       RL         78.0  ...    2010       WD        Normal\n",
            "1465         120       RL         43.0  ...    2010       WD        Normal\n",
            "1466          60       RL         75.0  ...    2010       WD        Normal\n",
            "1467          20       RL          NaN  ...    2010       WD        Normal\n",
            "1468          60       RL         63.0  ...    2010       WD        Normal\n",
            "1469          20       RL         85.0  ...    2010       WD        Normal\n",
            "1470          20       RL         70.0  ...    2010       WD        Normal\n",
            "\n",
            "[10 rows x 79 columns]\n"
          ],
          "name": "stdout"
        }
      ]
    },
    {
      "cell_type": "code",
      "metadata": {
        "id": "ClX6CCRLkf-t",
        "colab": {
          "base_uri": "https://localhost:8080/",
          "height": 1071
        },
        "outputId": "1a5adcc4-2dfa-4f05-c736-3f6c3f675fa8"
      },
      "source": [
        "print((trdata.isna().sum()/trdata.shape[0]*100))"
      ],
      "execution_count": null,
      "outputs": [
        {
          "output_type": "stream",
          "text": [
            "MSSubClass        0.000000\n",
            "MSZoning          0.000000\n",
            "LotFrontage      17.739726\n",
            "LotArea           0.000000\n",
            "Street            0.000000\n",
            "Alley            93.767123\n",
            "LotShape          0.000000\n",
            "LandContour       0.000000\n",
            "Utilities         0.000000\n",
            "LotConfig         0.000000\n",
            "LandSlope         0.000000\n",
            "Neighborhood      0.000000\n",
            "Condition1        0.000000\n",
            "Condition2        0.000000\n",
            "BldgType          0.000000\n",
            "HouseStyle        0.000000\n",
            "OverallQual       0.000000\n",
            "OverallCond       0.000000\n",
            "YearBuilt         0.000000\n",
            "YearRemodAdd      0.000000\n",
            "RoofStyle         0.000000\n",
            "RoofMatl          0.000000\n",
            "Exterior1st       0.000000\n",
            "Exterior2nd       0.000000\n",
            "MasVnrType        0.547945\n",
            "MasVnrArea        0.547945\n",
            "ExterQual         0.000000\n",
            "ExterCond         0.000000\n",
            "Foundation        0.000000\n",
            "BsmtQual          2.534247\n",
            "                   ...    \n",
            "BedroomAbvGr      0.000000\n",
            "KitchenAbvGr      0.000000\n",
            "KitchenQual       0.000000\n",
            "TotRmsAbvGrd      0.000000\n",
            "Functional        0.000000\n",
            "Fireplaces        0.000000\n",
            "FireplaceQu      47.260274\n",
            "GarageType        5.547945\n",
            "GarageYrBlt       5.547945\n",
            "GarageFinish      5.547945\n",
            "GarageCars        0.000000\n",
            "GarageArea        0.000000\n",
            "GarageQual        5.547945\n",
            "GarageCond        5.547945\n",
            "PavedDrive        0.000000\n",
            "WoodDeckSF        0.000000\n",
            "OpenPorchSF       0.000000\n",
            "EnclosedPorch     0.000000\n",
            "3SsnPorch         0.000000\n",
            "ScreenPorch       0.000000\n",
            "PoolArea          0.000000\n",
            "PoolQC           99.520548\n",
            "Fence            80.753425\n",
            "MiscFeature      96.301370\n",
            "MiscVal           0.000000\n",
            "MoSold            0.000000\n",
            "YrSold            0.000000\n",
            "SaleType          0.000000\n",
            "SaleCondition     0.000000\n",
            "SalePrice         0.000000\n",
            "Length: 80, dtype: float64\n"
          ],
          "name": "stdout"
        }
      ]
    },
    {
      "cell_type": "code",
      "metadata": {
        "id": "guHDG8AwlS8m",
        "colab": {
          "base_uri": "https://localhost:8080/",
          "height": 300
        },
        "outputId": "8b2f99db-e869-4cc3-cade-e6c0e9748d43"
      },
      "source": [
        "sns.distplot(trdata.SalePrice)"
      ],
      "execution_count": null,
      "outputs": [
        {
          "output_type": "execute_result",
          "data": {
            "text/plain": [
              "<matplotlib.axes._subplots.AxesSubplot at 0x7fe58b27c550>"
            ]
          },
          "metadata": {
            "tags": []
          },
          "execution_count": 10
        },
        {
          "output_type": "display_data",
          "data": {
            "image/png": "[encoded data removed]",
            "text/plain": [
              "<Figure size 432x288 with 1 Axes>"
            ]
          },
          "metadata": {
            "tags": []
          }
        }
      ]
    },
    {
      "cell_type": "code",
      "metadata": {
        "id": "3YPq3kbqleO3",
        "colab": {
          "base_uri": "https://localhost:8080/",
          "height": 300
        },
        "outputId": "a81fc50e-9588-4a26-fb33-d1a019f70607"
      },
      "source": [
        "sns.distplot(np.log(trdata.SalePrice+1))"
      ],
      "execution_count": null,
      "outputs": [
        {
          "output_type": "execute_result",
          "data": {
            "text/plain": [
              "<matplotlib.axes._subplots.AxesSubplot at 0x7fe58a6e0748>"
            ]
          },
          "metadata": {
            "tags": []
          },
          "execution_count": 11
        },
        {
          "output_type": "display_data",
          "data": {
            "image/png": "[encoded data removed]",
            "text/plain": [
              "<Figure size 432x288 with 1 Axes>"
            ]
          },
          "metadata": {
            "tags": []
          }
        }
      ]
    },
    {
      "cell_type": "code",
      "metadata": {
        "id": "KzoOI2AIllo7",
        "colab": {
          "base_uri": "https://localhost:8080/",
          "height": 255
        },
        "outputId": "2f013ca5-b152-4574-c8ef-6278564ad67c"
      },
      "source": [
        "trdata['Target'] = np.log(trdata.SalePrice+1)\n",
        "trdatad = trdata.drop('SalePrice',axis=1)\n",
        "trdatad.head()"
      ],
      "execution_count": null,
      "outputs": [
        {
          "output_type": "execute_result",
          "data": {
            "text/html": [
              "<div>\n",
              "<style scoped>\n",
              "    .dataframe tbody tr th:only-of-type {\n",
              "        vertical-align: middle;\n",
              "    }\n",
              "\n",
              "    .dataframe tbody tr th {\n",
              "        vertical-align: top;\n",
              "    }\n",
              "\n",
              "    .dataframe thead th {\n",
              "        text-align: right;\n",
              "    }\n",
              "</style>\n",
              "<table border=\"1\" class=\"dataframe\">\n",
              "  <thead>\n",
              "    <tr style=\"text-align: right;\">\n",
              "      <th></th>\n",
              "      <th>MSSubClass</th>\n",
              "      <th>MSZoning</th>\n",
              "      <th>LotFrontage</th>\n",
              "      <th>LotArea</th>\n",
              "      <th>Street</th>\n",
              "      <th>Alley</th>\n",
              "      <th>LotShape</th>\n",
              "      <th>LandContour</th>\n",
              "      <th>Utilities</th>\n",
              "      <th>LotConfig</th>\n",
              "      <th>LandSlope</th>\n",
              "      <th>Neighborhood</th>\n",
              "      <th>Condition1</th>\n",
              "      <th>Condition2</th>\n",
              "      <th>BldgType</th>\n",
              "      <th>HouseStyle</th>\n",
              "      <th>OverallQual</th>\n",
              "      <th>OverallCond</th>\n",
              "      <th>YearBuilt</th>\n",
              "      <th>YearRemodAdd</th>\n",
              "      <th>RoofStyle</th>\n",
              "      <th>RoofMatl</th>\n",
              "      <th>Exterior1st</th>\n",
              "      <th>Exterior2nd</th>\n",
              "      <th>MasVnrType</th>\n",
              "      <th>MasVnrArea</th>\n",
              "      <th>ExterQual</th>\n",
              "      <th>ExterCond</th>\n",
              "      <th>Foundation</th>\n",
              "      <th>BsmtQual</th>\n",
              "      <th>BsmtCond</th>\n",
              "      <th>BsmtExposure</th>\n",
              "      <th>BsmtFinType1</th>\n",
              "      <th>BsmtFinSF1</th>\n",
              "      <th>BsmtFinType2</th>\n",
              "      <th>BsmtFinSF2</th>\n",
              "      <th>BsmtUnfSF</th>\n",
              "      <th>TotalBsmtSF</th>\n",
              "      <th>Heating</th>\n",
              "      <th>HeatingQC</th>\n",
              "      <th>CentralAir</th>\n",
              "      <th>Electrical</th>\n",
              "      <th>1stFlrSF</th>\n",
              "      <th>2ndFlrSF</th>\n",
              "      <th>LowQualFinSF</th>\n",
              "      <th>GrLivArea</th>\n",
              "      <th>BsmtFullBath</th>\n",
              "      <th>BsmtHalfBath</th>\n",
              "      <th>FullBath</th>\n",
              "      <th>HalfBath</th>\n",
              "      <th>BedroomAbvGr</th>\n",
              "      <th>KitchenAbvGr</th>\n",
              "      <th>KitchenQual</th>\n",
              "      <th>TotRmsAbvGrd</th>\n",
              "      <th>Functional</th>\n",
              "      <th>Fireplaces</th>\n",
              "      <th>FireplaceQu</th>\n",
              "      <th>GarageType</th>\n",
              "      <th>GarageYrBlt</th>\n",
              "      <th>GarageFinish</th>\n",
              "      <th>GarageCars</th>\n",
              "      <th>GarageArea</th>\n",
              "      <th>GarageQual</th>\n",
              "      <th>GarageCond</th>\n",
              "      <th>PavedDrive</th>\n",
              "      <th>WoodDeckSF</th>\n",
              "      <th>OpenPorchSF</th>\n",
              "      <th>EnclosedPorch</th>\n",
              "      <th>3SsnPorch</th>\n",
              "      <th>ScreenPorch</th>\n",
              "      <th>PoolArea</th>\n",
              "      <th>PoolQC</th>\n",
              "      <th>Fence</th>\n",
              "      <th>MiscFeature</th>\n",
              "      <th>MiscVal</th>\n",
              "      <th>MoSold</th>\n",
              "      <th>YrSold</th>\n",
              "      <th>SaleType</th>\n",
              "      <th>SaleCondition</th>\n",
              "      <th>Target</th>\n",
              "    </tr>\n",
              "    <tr>\n",
              "      <th>Id</th>\n",
              "      <th></th>\n",
              "      <th></th>\n",
              "      <th></th>\n",
              "      <th></th>\n",
              "      <th></th>\n",
              "      <th></th>\n",
              "      <th></th>\n",
              "      <th></th>\n",
              "      <th></th>\n",
              "      <th></th>\n",
              "      <th></th>\n",
              "      <th></th>\n",
              "      <th></th>\n",
              "      <th></th>\n",
              "      <th></th>\n",
              "      <th></th>\n",
              "      <th></th>\n",
              "      <th></th>\n",
              "      <th></th>\n",
              "      <th></th>\n",
              "      <th></th>\n",
              "      <th></th>\n",
              "      <th></th>\n",
              "      <th></th>\n",
              "      <th></th>\n",
              "      <th></th>\n",
              "      <th></th>\n",
              "      <th></th>\n",
              "      <th></th>\n",
              "      <th></th>\n",
              "      <th></th>\n",
              "      <th></th>\n",
              "      <th></th>\n",
              "      <th></th>\n",
              "      <th></th>\n",
              "      <th></th>\n",
              "      <th></th>\n",
              "      <th></th>\n",
              "      <th></th>\n",
              "      <th></th>\n",
              "      <th></th>\n",
              "      <th></th>\n",
              "      <th></th>\n",
              "      <th></th>\n",
              "      <th></th>\n",
              "      <th></th>\n",
              "      <th></th>\n",
              "      <th></th>\n",
              "      <th></th>\n",
              "      <th></th>\n",
              "      <th></th>\n",
              "      <th></th>\n",
              "      <th></th>\n",
              "      <th></th>\n",
              "      <th></th>\n",
              "      <th></th>\n",
              "      <th></th>\n",
              "      <th></th>\n",
              "      <th></th>\n",
              "      <th></th>\n",
              "      <th></th>\n",
              "      <th></th>\n",
              "      <th></th>\n",
              "      <th></th>\n",
              "      <th></th>\n",
              "      <th></th>\n",
              "      <th></th>\n",
              "      <th></th>\n",
              "      <th></th>\n",
              "      <th></th>\n",
              "      <th></th>\n",
              "      <th></th>\n",
              "      <th></th>\n",
              "      <th></th>\n",
              "      <th></th>\n",
              "      <th></th>\n",
              "      <th></th>\n",
              "      <th></th>\n",
              "      <th></th>\n",
              "      <th></th>\n",
              "    </tr>\n",
              "  </thead>\n",
              "  <tbody>\n",
              "    <tr>\n",
              "      <th>1</th>\n",
              "      <td>60</td>\n",
              "      <td>RL</td>\n",
              "      <td>65.0</td>\n",
              "      <td>8450</td>\n",
              "      <td>Pave</td>\n",
              "      <td>NaN</td>\n",
              "      <td>Reg</td>\n",
              "      <td>Lvl</td>\n",
              "      <td>AllPub</td>\n",
              "      <td>Inside</td>\n",
              "      <td>Gtl</td>\n",
              "      <td>CollgCr</td>\n",
              "      <td>Norm</td>\n",
              "      <td>Norm</td>\n",
              "      <td>1Fam</td>\n",
              "      <td>2Story</td>\n",
              "      <td>7</td>\n",
              "      <td>5</td>\n",
              "      <td>2003</td>\n",
              "      <td>2003</td>\n",
              "      <td>Gable</td>\n",
              "      <td>CompShg</td>\n",
              "      <td>VinylSd</td>\n",
              "      <td>VinylSd</td>\n",
              "      <td>BrkFace</td>\n",
              "      <td>196.0</td>\n",
              "      <td>Gd</td>\n",
              "      <td>TA</td>\n",
              "      <td>PConc</td>\n",
              "      <td>Gd</td>\n",
              "      <td>TA</td>\n",
              "      <td>No</td>\n",
              "      <td>GLQ</td>\n",
              "      <td>706</td>\n",
              "      <td>Unf</td>\n",
              "      <td>0</td>\n",
              "      <td>150</td>\n",
              "      <td>856</td>\n",
              "      <td>GasA</td>\n",
              "      <td>Ex</td>\n",
              "      <td>Y</td>\n",
              "      <td>SBrkr</td>\n",
              "      <td>856</td>\n",
              "      <td>854</td>\n",
              "      <td>0</td>\n",
              "      <td>1710</td>\n",
              "      <td>1</td>\n",
              "      <td>0</td>\n",
              "      <td>2</td>\n",
              "      <td>1</td>\n",
              "      <td>3</td>\n",
              "      <td>1</td>\n",
              "      <td>Gd</td>\n",
              "      <td>8</td>\n",
              "      <td>Typ</td>\n",
              "      <td>0</td>\n",
              "      <td>NaN</td>\n",
              "      <td>Attchd</td>\n",
              "      <td>2003.0</td>\n",
              "      <td>RFn</td>\n",
              "      <td>2</td>\n",
              "      <td>548</td>\n",
              "      <td>TA</td>\n",
              "      <td>TA</td>\n",
              "      <td>Y</td>\n",
              "      <td>0</td>\n",
              "      <td>61</td>\n",
              "      <td>0</td>\n",
              "      <td>0</td>\n",
              "      <td>0</td>\n",
              "      <td>0</td>\n",
              "      <td>NaN</td>\n",
              "      <td>NaN</td>\n",
              "      <td>NaN</td>\n",
              "      <td>0</td>\n",
              "      <td>2</td>\n",
              "      <td>2008</td>\n",
              "      <td>WD</td>\n",
              "      <td>Normal</td>\n",
              "      <td>12.247699</td>\n",
              "    </tr>\n",
              "    <tr>\n",
              "      <th>2</th>\n",
              "      <td>20</td>\n",
              "      <td>RL</td>\n",
              "      <td>80.0</td>\n",
              "      <td>9600</td>\n",
              "      <td>Pave</td>\n",
              "      <td>NaN</td>\n",
              "      <td>Reg</td>\n",
              "      <td>Lvl</td>\n",
              "      <td>AllPub</td>\n",
              "      <td>FR2</td>\n",
              "      <td>Gtl</td>\n",
              "      <td>Veenker</td>\n",
              "      <td>Feedr</td>\n",
              "      <td>Norm</td>\n",
              "      <td>1Fam</td>\n",
              "      <td>1Story</td>\n",
              "      <td>6</td>\n",
              "      <td>8</td>\n",
              "      <td>1976</td>\n",
              "      <td>1976</td>\n",
              "      <td>Gable</td>\n",
              "      <td>CompShg</td>\n",
              "      <td>MetalSd</td>\n",
              "      <td>MetalSd</td>\n",
              "      <td>None</td>\n",
              "      <td>0.0</td>\n",
              "      <td>TA</td>\n",
              "      <td>TA</td>\n",
              "      <td>CBlock</td>\n",
              "      <td>Gd</td>\n",
              "      <td>TA</td>\n",
              "      <td>Gd</td>\n",
              "      <td>ALQ</td>\n",
              "      <td>978</td>\n",
              "      <td>Unf</td>\n",
              "      <td>0</td>\n",
              "      <td>284</td>\n",
              "      <td>1262</td>\n",
              "      <td>GasA</td>\n",
              "      <td>Ex</td>\n",
              "      <td>Y</td>\n",
              "      <td>SBrkr</td>\n",
              "      <td>1262</td>\n",
              "      <td>0</td>\n",
              "      <td>0</td>\n",
              "      <td>1262</td>\n",
              "      <td>0</td>\n",
              "      <td>1</td>\n",
              "      <td>2</td>\n",
              "      <td>0</td>\n",
              "      <td>3</td>\n",
              "      <td>1</td>\n",
              "      <td>TA</td>\n",
              "      <td>6</td>\n",
              "      <td>Typ</td>\n",
              "      <td>1</td>\n",
              "      <td>TA</td>\n",
              "      <td>Attchd</td>\n",
              "      <td>1976.0</td>\n",
              "      <td>RFn</td>\n",
              "      <td>2</td>\n",
              "      <td>460</td>\n",
              "      <td>TA</td>\n",
              "      <td>TA</td>\n",
              "      <td>Y</td>\n",
              "      <td>298</td>\n",
              "      <td>0</td>\n",
              "      <td>0</td>\n",
              "      <td>0</td>\n",
              "      <td>0</td>\n",
              "      <td>0</td>\n",
              "      <td>NaN</td>\n",
              "      <td>NaN</td>\n",
              "      <td>NaN</td>\n",
              "      <td>0</td>\n",
              "      <td>5</td>\n",
              "      <td>2007</td>\n",
              "      <td>WD</td>\n",
              "      <td>Normal</td>\n",
              "      <td>12.109016</td>\n",
              "    </tr>\n",
              "    <tr>\n",
              "      <th>3</th>\n",
              "      <td>60</td>\n",
              "      <td>RL</td>\n",
              "      <td>68.0</td>\n",
              "      <td>11250</td>\n",
              "      <td>Pave</td>\n",
              "      <td>NaN</td>\n",
              "      <td>IR1</td>\n",
              "      <td>Lvl</td>\n",
              "      <td>AllPub</td>\n",
              "      <td>Inside</td>\n",
              "      <td>Gtl</td>\n",
              "      <td>CollgCr</td>\n",
              "      <td>Norm</td>\n",
              "      <td>Norm</td>\n",
              "      <td>1Fam</td>\n",
              "      <td>2Story</td>\n",
              "      <td>7</td>\n",
              "      <td>5</td>\n",
              "      <td>2001</td>\n",
              "      <td>2002</td>\n",
              "      <td>Gable</td>\n",
              "      <td>CompShg</td>\n",
              "      <td>VinylSd</td>\n",
              "      <td>VinylSd</td>\n",
              "      <td>BrkFace</td>\n",
              "      <td>162.0</td>\n",
              "      <td>Gd</td>\n",
              "      <td>TA</td>\n",
              "      <td>PConc</td>\n",
              "      <td>Gd</td>\n",
              "      <td>TA</td>\n",
              "      <td>Mn</td>\n",
              "      <td>GLQ</td>\n",
              "      <td>486</td>\n",
              "      <td>Unf</td>\n",
              "      <td>0</td>\n",
              "      <td>434</td>\n",
              "      <td>920</td>\n",
              "      <td>GasA</td>\n",
              "      <td>Ex</td>\n",
              "      <td>Y</td>\n",
              "      <td>SBrkr</td>\n",
              "      <td>920</td>\n",
              "      <td>866</td>\n",
              "      <td>0</td>\n",
              "      <td>1786</td>\n",
              "      <td>1</td>\n",
              "      <td>0</td>\n",
              "      <td>2</td>\n",
              "      <td>1</td>\n",
              "      <td>3</td>\n",
              "      <td>1</td>\n",
              "      <td>Gd</td>\n",
              "      <td>6</td>\n",
              "      <td>Typ</td>\n",
              "      <td>1</td>\n",
              "      <td>TA</td>\n",
              "      <td>Attchd</td>\n",
              "      <td>2001.0</td>\n",
              "      <td>RFn</td>\n",
              "      <td>2</td>\n",
              "      <td>608</td>\n",
              "      <td>TA</td>\n",
              "      <td>TA</td>\n",
              "      <td>Y</td>\n",
              "      <td>0</td>\n",
              "      <td>42</td>\n",
              "      <td>0</td>\n",
              "      <td>0</td>\n",
              "      <td>0</td>\n",
              "      <td>0</td>\n",
              "      <td>NaN</td>\n",
              "      <td>NaN</td>\n",
              "      <td>NaN</td>\n",
              "      <td>0</td>\n",
              "      <td>9</td>\n",
              "      <td>2008</td>\n",
              "      <td>WD</td>\n",
              "      <td>Normal</td>\n",
              "      <td>12.317171</td>\n",
              "    </tr>\n",
              "    <tr>\n",
              "      <th>4</th>\n",
              "      <td>70</td>\n",
              "      <td>RL</td>\n",
              "      <td>60.0</td>\n",
              "      <td>9550</td>\n",
              "      <td>Pave</td>\n",
              "      <td>NaN</td>\n",
              "      <td>IR1</td>\n",
              "      <td>Lvl</td>\n",
              "      <td>AllPub</td>\n",
              "      <td>Corner</td>\n",
              "      <td>Gtl</td>\n",
              "      <td>Crawfor</td>\n",
              "      <td>Norm</td>\n",
              "      <td>Norm</td>\n",
              "      <td>1Fam</td>\n",
              "      <td>2Story</td>\n",
              "      <td>7</td>\n",
              "      <td>5</td>\n",
              "      <td>1915</td>\n",
              "      <td>1970</td>\n",
              "      <td>Gable</td>\n",
              "      <td>CompShg</td>\n",
              "      <td>Wd Sdng</td>\n",
              "      <td>Wd Shng</td>\n",
              "      <td>None</td>\n",
              "      <td>0.0</td>\n",
              "      <td>TA</td>\n",
              "      <td>TA</td>\n",
              "      <td>BrkTil</td>\n",
              "      <td>TA</td>\n",
              "      <td>Gd</td>\n",
              "      <td>No</td>\n",
              "      <td>ALQ</td>\n",
              "      <td>216</td>\n",
              "      <td>Unf</td>\n",
              "      <td>0</td>\n",
              "      <td>540</td>\n",
              "      <td>756</td>\n",
              "      <td>GasA</td>\n",
              "      <td>Gd</td>\n",
              "      <td>Y</td>\n",
              "      <td>SBrkr</td>\n",
              "      <td>961</td>\n",
              "      <td>756</td>\n",
              "      <td>0</td>\n",
              "      <td>1717</td>\n",
              "      <td>1</td>\n",
              "      <td>0</td>\n",
              "      <td>1</td>\n",
              "      <td>0</td>\n",
              "      <td>3</td>\n",
              "      <td>1</td>\n",
              "      <td>Gd</td>\n",
              "      <td>7</td>\n",
              "      <td>Typ</td>\n",
              "      <td>1</td>\n",
              "      <td>Gd</td>\n",
              "      <td>Detchd</td>\n",
              "      <td>1998.0</td>\n",
              "      <td>Unf</td>\n",
              "      <td>3</td>\n",
              "      <td>642</td>\n",
              "      <td>TA</td>\n",
              "      <td>TA</td>\n",
              "      <td>Y</td>\n",
              "      <td>0</td>\n",
              "      <td>35</td>\n",
              "      <td>272</td>\n",
              "      <td>0</td>\n",
              "      <td>0</td>\n",
              "      <td>0</td>\n",
              "      <td>NaN</td>\n",
              "      <td>NaN</td>\n",
              "      <td>NaN</td>\n",
              "      <td>0</td>\n",
              "      <td>2</td>\n",
              "      <td>2006</td>\n",
              "      <td>WD</td>\n",
              "      <td>Abnorml</td>\n",
              "      <td>11.849405</td>\n",
              "    </tr>\n",
              "    <tr>\n",
              "      <th>5</th>\n",
              "      <td>60</td>\n",
              "      <td>RL</td>\n",
              "      <td>84.0</td>\n",
              "      <td>14260</td>\n",
              "      <td>Pave</td>\n",
              "      <td>NaN</td>\n",
              "      <td>IR1</td>\n",
              "      <td>Lvl</td>\n",
              "      <td>AllPub</td>\n",
              "      <td>FR2</td>\n",
              "      <td>Gtl</td>\n",
              "      <td>NoRidge</td>\n",
              "      <td>Norm</td>\n",
              "      <td>Norm</td>\n",
              "      <td>1Fam</td>\n",
              "      <td>2Story</td>\n",
              "      <td>8</td>\n",
              "      <td>5</td>\n",
              "      <td>2000</td>\n",
              "      <td>2000</td>\n",
              "      <td>Gable</td>\n",
              "      <td>CompShg</td>\n",
              "      <td>VinylSd</td>\n",
              "      <td>VinylSd</td>\n",
              "      <td>BrkFace</td>\n",
              "      <td>350.0</td>\n",
              "      <td>Gd</td>\n",
              "      <td>TA</td>\n",
              "      <td>PConc</td>\n",
              "      <td>Gd</td>\n",
              "      <td>TA</td>\n",
              "      <td>Av</td>\n",
              "      <td>GLQ</td>\n",
              "      <td>655</td>\n",
              "      <td>Unf</td>\n",
              "      <td>0</td>\n",
              "      <td>490</td>\n",
              "      <td>1145</td>\n",
              "      <td>GasA</td>\n",
              "      <td>Ex</td>\n",
              "      <td>Y</td>\n",
              "      <td>SBrkr</td>\n",
              "      <td>1145</td>\n",
              "      <td>1053</td>\n",
              "      <td>0</td>\n",
              "      <td>2198</td>\n",
              "      <td>1</td>\n",
              "      <td>0</td>\n",
              "      <td>2</td>\n",
              "      <td>1</td>\n",
              "      <td>4</td>\n",
              "      <td>1</td>\n",
              "      <td>Gd</td>\n",
              "      <td>9</td>\n",
              "      <td>Typ</td>\n",
              "      <td>1</td>\n",
              "      <td>TA</td>\n",
              "      <td>Attchd</td>\n",
              "      <td>2000.0</td>\n",
              "      <td>RFn</td>\n",
              "      <td>3</td>\n",
              "      <td>836</td>\n",
              "      <td>TA</td>\n",
              "      <td>TA</td>\n",
              "      <td>Y</td>\n",
              "      <td>192</td>\n",
              "      <td>84</td>\n",
              "      <td>0</td>\n",
              "      <td>0</td>\n",
              "      <td>0</td>\n",
              "      <td>0</td>\n",
              "      <td>NaN</td>\n",
              "      <td>NaN</td>\n",
              "      <td>NaN</td>\n",
              "      <td>0</td>\n",
              "      <td>12</td>\n",
              "      <td>2008</td>\n",
              "      <td>WD</td>\n",
              "      <td>Normal</td>\n",
              "      <td>12.429220</td>\n",
              "    </tr>\n",
              "  </tbody>\n",
              "</table>\n",
              "</div>"
            ],
            "text/plain": [
              "    MSSubClass MSZoning  LotFrontage  ...  SaleType SaleCondition     Target\n",
              "Id                                    ...                                   \n",
              "1           60       RL         65.0  ...        WD        Normal  12.247699\n",
              "2           20       RL         80.0  ...        WD        Normal  12.109016\n",
              "3           60       RL         68.0  ...        WD        Normal  12.317171\n",
              "4           70       RL         60.0  ...        WD       Abnorml  11.849405\n",
              "5           60       RL         84.0  ...        WD        Normal  12.429220\n",
              "\n",
              "[5 rows x 80 columns]"
            ]
          },
          "metadata": {
            "tags": []
          },
          "execution_count": 12
        }
      ]
    },
    {
      "cell_type": "code",
      "metadata": {
        "id": "jvMWlRoHS-4Q"
      },
      "source": [
        "Y = trdatad.Target\n",
        "trdatad.drop('Target',inplace=True,axis=1)"
      ],
      "execution_count": null,
      "outputs": []
    },
    {
      "cell_type": "code",
      "metadata": {
        "id": "FhvBH3_P7Ck_"
      },
      "source": [
        "data = pd.concat([trdatad,tedata],axis = 0)"
      ],
      "execution_count": null,
      "outputs": []
    },
    {
      "cell_type": "code",
      "metadata": {
        "id": "Er7crcXV26Pv"
      },
      "source": [
        "def plot_null(df_train):\n",
        "  label_nas = []\n",
        "  for col in df_train.columns.tolist():\n",
        "      if np.sum(df_train[col].isnull() ) != 0:\n",
        "          label_nas.append(col)\n",
        "      else:\n",
        "          label_nas.append(\"\")\n",
        "\n",
        "  plt.figure(figsize=(12,7))\n",
        "  plt.suptitle('Missing Values in the Training Set')\n",
        "  sns.heatmap(df_train.isnull(), yticklabels=False, xticklabels=label_nas ,cbar = False, cmap='CMRmap')\n",
        "  plt.show()"
      ],
      "execution_count": null,
      "outputs": []
    },
    {
      "cell_type": "code",
      "metadata": {
        "id": "xCheXXhE3FvO",
        "colab": {
          "base_uri": "https://localhost:8080/",
          "height": 541
        },
        "outputId": "cc1070c6-7bdf-4a43-b3c1-bd89050562f3"
      },
      "source": [
        "plot_null(data)"
      ],
      "execution_count": null,
      "outputs": [
        {
          "output_type": "display_data",
          "data": {
            "image/png": "[encoded data removed]",
            "text/plain": [
              "<Figure size 864x504 with 1 Axes>"
            ]
          },
          "metadata": {
            "tags": []
          }
        }
      ]
    },
    {
      "cell_type": "code",
      "metadata": {
        "id": "jpUioQ5OmnLb"
      },
      "source": [
        "data_keep = (data.isna().sum()/data.shape[0]*100<20)"
      ],
      "execution_count": null,
      "outputs": []
    },
    {
      "cell_type": "code",
      "metadata": {
        "id": "loOk5vN3ne56"
      },
      "source": [
        "col_keep=data_keep.loc[data_keep==False].index.tolist()"
      ],
      "execution_count": null,
      "outputs": []
    },
    {
      "cell_type": "code",
      "metadata": {
        "id": "Amu2W4S9okz1"
      },
      "source": [
        "data = data.drop(col_keep,axis = 1)"
      ],
      "execution_count": null,
      "outputs": []
    },
    {
      "cell_type": "code",
      "metadata": {
        "id": "ekv9MGkMn5lY"
      },
      "source": [
        "col_num = [k for k in data.columns if data[k].dtypes !='object']\n",
        "col_obj = [k for k in data.columns if data[k].dtypes =='object']\n"
      ],
      "execution_count": null,
      "outputs": []
    },
    {
      "cell_type": "code",
      "metadata": {
        "id": "ONOch7ZTodO1",
        "colab": {
          "base_uri": "https://localhost:8080/",
          "height": 71
        },
        "outputId": "0f6620ce-ad61-4c11-86b5-217edbb78393"
      },
      "source": [
        "print(col_num)\n",
        "print(col_obj)"
      ],
      "execution_count": null,
      "outputs": [
        {
          "output_type": "stream",
          "text": [
            "['MSSubClass', 'LotFrontage', 'LotArea', 'OverallQual', 'OverallCond', 'YearBuilt', 'YearRemodAdd', 'MasVnrArea', 'BsmtFinSF1', 'BsmtFinSF2', 'BsmtUnfSF', 'TotalBsmtSF', '1stFlrSF', '2ndFlrSF', 'LowQualFinSF', 'GrLivArea', 'BsmtFullBath', 'BsmtHalfBath', 'FullBath', 'HalfBath', 'BedroomAbvGr', 'KitchenAbvGr', 'TotRmsAbvGrd', 'Fireplaces', 'GarageYrBlt', 'GarageCars', 'GarageArea', 'WoodDeckSF', 'OpenPorchSF', 'EnclosedPorch', '3SsnPorch', 'ScreenPorch', 'PoolArea', 'MiscVal', 'MoSold', 'YrSold']\n",
            "['MSZoning', 'Street', 'LotShape', 'LandContour', 'Utilities', 'LotConfig', 'LandSlope', 'Neighborhood', 'Condition1', 'Condition2', 'BldgType', 'HouseStyle', 'RoofStyle', 'RoofMatl', 'Exterior1st', 'Exterior2nd', 'MasVnrType', 'ExterQual', 'ExterCond', 'Foundation', 'BsmtQual', 'BsmtCond', 'BsmtExposure', 'BsmtFinType1', 'BsmtFinType2', 'Heating', 'HeatingQC', 'CentralAir', 'Electrical', 'KitchenQual', 'Functional', 'GarageType', 'GarageFinish', 'GarageQual', 'GarageCond', 'PavedDrive', 'SaleType', 'SaleCondition']\n"
          ],
          "name": "stdout"
        }
      ]
    },
    {
      "cell_type": "code",
      "metadata": {
        "id": "P3h09OsXoijt",
        "colab": {
          "base_uri": "https://localhost:8080/",
          "height": 667
        },
        "outputId": "8f97a573-b5a6-4b45-edda-1432816c08aa"
      },
      "source": [
        "plt.figure(figsize=(50,10))\n",
        "_ = sns.barplot(data.columns,data.isna().sum())\n",
        "plt.xticks(rotation=45)\n",
        "plt.show()"
      ],
      "execution_count": null,
      "outputs": [
        {
          "output_type": "display_data",
          "data": {
            "image/png": "[encoded data removed]",
            "text/plain": [
              "<Figure size 3600x720 with 1 Axes>"
            ]
          },
          "metadata": {
            "tags": []
          }
        }
      ]
    },
    {
      "cell_type": "code",
      "metadata": {
        "id": "0h3a-_gGs5N-",
        "colab": {
          "base_uri": "https://localhost:8080/",
          "height": 1071
        },
        "outputId": "ee9b6135-eccf-4563-8853-5c115b443cfa"
      },
      "source": [
        "data.isna().sum()"
      ],
      "execution_count": null,
      "outputs": [
        {
          "output_type": "execute_result",
          "data": {
            "text/plain": [
              "MSSubClass         0\n",
              "MSZoning           4\n",
              "LotFrontage      486\n",
              "LotArea            0\n",
              "Street             0\n",
              "LotShape           0\n",
              "LandContour        0\n",
              "Utilities          2\n",
              "LotConfig          0\n",
              "LandSlope          0\n",
              "Neighborhood       0\n",
              "Condition1         0\n",
              "Condition2         0\n",
              "BldgType           0\n",
              "HouseStyle         0\n",
              "OverallQual        0\n",
              "OverallCond        0\n",
              "YearBuilt          0\n",
              "YearRemodAdd       0\n",
              "RoofStyle          0\n",
              "RoofMatl           0\n",
              "Exterior1st        1\n",
              "Exterior2nd        1\n",
              "MasVnrType        24\n",
              "MasVnrArea        23\n",
              "ExterQual          0\n",
              "ExterCond          0\n",
              "Foundation         0\n",
              "BsmtQual          81\n",
              "BsmtCond          82\n",
              "                ... \n",
              "GrLivArea          0\n",
              "BsmtFullBath       2\n",
              "BsmtHalfBath       2\n",
              "FullBath           0\n",
              "HalfBath           0\n",
              "BedroomAbvGr       0\n",
              "KitchenAbvGr       0\n",
              "KitchenQual        1\n",
              "TotRmsAbvGrd       0\n",
              "Functional         2\n",
              "Fireplaces         0\n",
              "GarageType       157\n",
              "GarageYrBlt      159\n",
              "GarageFinish     159\n",
              "GarageCars         1\n",
              "GarageArea         1\n",
              "GarageQual       159\n",
              "GarageCond       159\n",
              "PavedDrive         0\n",
              "WoodDeckSF         0\n",
              "OpenPorchSF        0\n",
              "EnclosedPorch      0\n",
              "3SsnPorch          0\n",
              "ScreenPorch        0\n",
              "PoolArea           0\n",
              "MiscVal            0\n",
              "MoSold             0\n",
              "YrSold             0\n",
              "SaleType           1\n",
              "SaleCondition      0\n",
              "Length: 74, dtype: int64"
            ]
          },
          "metadata": {
            "tags": []
          },
          "execution_count": 23
        }
      ]
    },
    {
      "cell_type": "code",
      "metadata": {
        "id": "31nZTV2Zqmv8",
        "colab": {
          "base_uri": "https://localhost:8080/",
          "height": 646
        },
        "outputId": "a722a022-5c02-401e-ab09-21d59c4a2e2a"
      },
      "source": [
        "data[col_num].dtypes"
      ],
      "execution_count": null,
      "outputs": [
        {
          "output_type": "execute_result",
          "data": {
            "text/plain": [
              "MSSubClass         int64\n",
              "LotFrontage      float64\n",
              "LotArea            int64\n",
              "OverallQual        int64\n",
              "OverallCond        int64\n",
              "YearBuilt          int64\n",
              "YearRemodAdd       int64\n",
              "MasVnrArea       float64\n",
              "BsmtFinSF1       float64\n",
              "BsmtFinSF2       float64\n",
              "BsmtUnfSF        float64\n",
              "TotalBsmtSF      float64\n",
              "1stFlrSF           int64\n",
              "2ndFlrSF           int64\n",
              "LowQualFinSF       int64\n",
              "GrLivArea          int64\n",
              "BsmtFullBath     float64\n",
              "BsmtHalfBath     float64\n",
              "FullBath           int64\n",
              "HalfBath           int64\n",
              "BedroomAbvGr       int64\n",
              "KitchenAbvGr       int64\n",
              "TotRmsAbvGrd       int64\n",
              "Fireplaces         int64\n",
              "GarageYrBlt      float64\n",
              "GarageCars       float64\n",
              "GarageArea       float64\n",
              "WoodDeckSF         int64\n",
              "OpenPorchSF        int64\n",
              "EnclosedPorch      int64\n",
              "3SsnPorch          int64\n",
              "ScreenPorch        int64\n",
              "PoolArea           int64\n",
              "MiscVal            int64\n",
              "MoSold             int64\n",
              "YrSold             int64\n",
              "dtype: object"
            ]
          },
          "metadata": {
            "tags": []
          },
          "execution_count": 24
        }
      ]
    },
    {
      "cell_type": "code",
      "metadata": {
        "id": "gNN_tjICUwA5",
        "colab": {
          "base_uri": "https://localhost:8080/",
          "height": 680
        },
        "outputId": "c571cb74-0c31-4d52-8009-09f0d759f894"
      },
      "source": [
        "# Let's clean our values. First, get most common value for objects!\n",
        "\n",
        "for col in col_obj:\n",
        "  data[col] = data[col].fillna(data[col].value_counts().index[0])\n",
        "\n",
        "print(data[col_obj].isna().sum())"
      ],
      "execution_count": null,
      "outputs": [
        {
          "output_type": "stream",
          "text": [
            "MSZoning         0\n",
            "Street           0\n",
            "LotShape         0\n",
            "LandContour      0\n",
            "Utilities        0\n",
            "LotConfig        0\n",
            "LandSlope        0\n",
            "Neighborhood     0\n",
            "Condition1       0\n",
            "Condition2       0\n",
            "BldgType         0\n",
            "HouseStyle       0\n",
            "RoofStyle        0\n",
            "RoofMatl         0\n",
            "Exterior1st      0\n",
            "Exterior2nd      0\n",
            "MasVnrType       0\n",
            "ExterQual        0\n",
            "ExterCond        0\n",
            "Foundation       0\n",
            "BsmtQual         0\n",
            "BsmtCond         0\n",
            "BsmtExposure     0\n",
            "BsmtFinType1     0\n",
            "BsmtFinType2     0\n",
            "Heating          0\n",
            "HeatingQC        0\n",
            "CentralAir       0\n",
            "Electrical       0\n",
            "KitchenQual      0\n",
            "Functional       0\n",
            "GarageType       0\n",
            "GarageFinish     0\n",
            "GarageQual       0\n",
            "GarageCond       0\n",
            "PavedDrive       0\n",
            "SaleType         0\n",
            "SaleCondition    0\n",
            "dtype: int64\n"
          ],
          "name": "stdout"
        }
      ]
    },
    {
      "cell_type": "markdown",
      "metadata": {
        "id": "IN4WzHiy8Zzi"
      },
      "source": [
        "trdatad.shape"
      ]
    },
    {
      "cell_type": "code",
      "metadata": {
        "id": "2snAOAy-s7hi",
        "colab": {
          "base_uri": "https://localhost:8080/",
          "height": 646
        },
        "outputId": "5f76a8cd-fc09-427f-d49d-f43ba9389670"
      },
      "source": [
        "data[col_num].apply(lambda x: np.max(x))"
      ],
      "execution_count": null,
      "outputs": [
        {
          "output_type": "execute_result",
          "data": {
            "text/plain": [
              "MSSubClass          190.0\n",
              "LotFrontage         313.0\n",
              "LotArea          215245.0\n",
              "OverallQual          10.0\n",
              "OverallCond           9.0\n",
              "YearBuilt          2010.0\n",
              "YearRemodAdd       2010.0\n",
              "MasVnrArea         1600.0\n",
              "BsmtFinSF1         5644.0\n",
              "BsmtFinSF2         1526.0\n",
              "BsmtUnfSF          2336.0\n",
              "TotalBsmtSF        6110.0\n",
              "1stFlrSF           5095.0\n",
              "2ndFlrSF           2065.0\n",
              "LowQualFinSF       1064.0\n",
              "GrLivArea          5642.0\n",
              "BsmtFullBath          3.0\n",
              "BsmtHalfBath          2.0\n",
              "FullBath              4.0\n",
              "HalfBath              2.0\n",
              "BedroomAbvGr          8.0\n",
              "KitchenAbvGr          3.0\n",
              "TotRmsAbvGrd         15.0\n",
              "Fireplaces            4.0\n",
              "GarageYrBlt        2207.0\n",
              "GarageCars            5.0\n",
              "GarageArea         1488.0\n",
              "WoodDeckSF         1424.0\n",
              "OpenPorchSF         742.0\n",
              "EnclosedPorch      1012.0\n",
              "3SsnPorch           508.0\n",
              "ScreenPorch         576.0\n",
              "PoolArea            800.0\n",
              "MiscVal           17000.0\n",
              "MoSold               12.0\n",
              "YrSold             2010.0\n",
              "dtype: float64"
            ]
          },
          "metadata": {
            "tags": []
          },
          "execution_count": 26
        }
      ]
    },
    {
      "cell_type": "code",
      "metadata": {
        "id": "qQ94WyzFgpa2",
        "colab": {
          "base_uri": "https://localhost:8080/",
          "height": 646
        },
        "outputId": "e34d097b-8a0d-4190-8cfc-5361552e8f0f"
      },
      "source": [
        "data[col_num].apply(lambda x: np.min(x))"
      ],
      "execution_count": null,
      "outputs": [
        {
          "output_type": "execute_result",
          "data": {
            "text/plain": [
              "MSSubClass         20.0\n",
              "LotFrontage        21.0\n",
              "LotArea          1300.0\n",
              "OverallQual         1.0\n",
              "OverallCond         1.0\n",
              "YearBuilt        1872.0\n",
              "YearRemodAdd     1950.0\n",
              "MasVnrArea          0.0\n",
              "BsmtFinSF1          0.0\n",
              "BsmtFinSF2          0.0\n",
              "BsmtUnfSF           0.0\n",
              "TotalBsmtSF         0.0\n",
              "1stFlrSF          334.0\n",
              "2ndFlrSF            0.0\n",
              "LowQualFinSF        0.0\n",
              "GrLivArea         334.0\n",
              "BsmtFullBath        0.0\n",
              "BsmtHalfBath        0.0\n",
              "FullBath            0.0\n",
              "HalfBath            0.0\n",
              "BedroomAbvGr        0.0\n",
              "KitchenAbvGr        0.0\n",
              "TotRmsAbvGrd        2.0\n",
              "Fireplaces          0.0\n",
              "GarageYrBlt      1895.0\n",
              "GarageCars          0.0\n",
              "GarageArea          0.0\n",
              "WoodDeckSF          0.0\n",
              "OpenPorchSF         0.0\n",
              "EnclosedPorch       0.0\n",
              "3SsnPorch           0.0\n",
              "ScreenPorch         0.0\n",
              "PoolArea            0.0\n",
              "MiscVal             0.0\n",
              "MoSold              1.0\n",
              "YrSold           2006.0\n",
              "dtype: float64"
            ]
          },
          "metadata": {
            "tags": []
          },
          "execution_count": 27
        }
      ]
    },
    {
      "cell_type": "code",
      "metadata": {
        "id": "fHBOUdUsgvRL",
        "colab": {
          "base_uri": "https://localhost:8080/",
          "height": 3281
        },
        "outputId": "08c82e45-f406-416a-f5d0-690b74091917"
      },
      "source": [
        "for i in [0,0.25,0.5,0.75,1]:\n",
        "  print(\"This is quantle @ %s and has \\n%s\"%(str(i),data[col_num].apply(lambda x: np.quantile(x,q=i))))\n",
        "  "
      ],
      "execution_count": null,
      "outputs": [
        {
          "output_type": "stream",
          "text": [
            "This is quantle @ 0 and has \n",
            "MSSubClass         20.0\n",
            "LotFrontage         NaN\n",
            "LotArea          1300.0\n",
            "OverallQual         1.0\n",
            "OverallCond         1.0\n",
            "YearBuilt        1872.0\n",
            "YearRemodAdd     1950.0\n",
            "MasVnrArea          NaN\n",
            "BsmtFinSF1          NaN\n",
            "BsmtFinSF2          NaN\n",
            "BsmtUnfSF           NaN\n",
            "TotalBsmtSF         NaN\n",
            "1stFlrSF          334.0\n",
            "2ndFlrSF            0.0\n",
            "LowQualFinSF        0.0\n",
            "GrLivArea         334.0\n",
            "BsmtFullBath        NaN\n",
            "BsmtHalfBath        NaN\n",
            "FullBath            0.0\n",
            "HalfBath            0.0\n",
            "BedroomAbvGr        0.0\n",
            "KitchenAbvGr        0.0\n",
            "TotRmsAbvGrd        2.0\n",
            "Fireplaces          0.0\n",
            "GarageYrBlt         NaN\n",
            "GarageCars          NaN\n",
            "GarageArea          NaN\n",
            "WoodDeckSF          0.0\n",
            "OpenPorchSF         0.0\n",
            "EnclosedPorch       0.0\n",
            "3SsnPorch           0.0\n",
            "ScreenPorch         0.0\n",
            "PoolArea            0.0\n",
            "MiscVal             0.0\n",
            "MoSold              1.0\n",
            "YrSold           2006.0\n",
            "dtype: float64\n",
            "This is quantle @ 0.25 and has \n",
            "MSSubClass         20.0\n",
            "LotFrontage         NaN\n",
            "LotArea          7478.0\n",
            "OverallQual         5.0\n",
            "OverallCond         5.0\n",
            "YearBuilt        1953.5\n",
            "YearRemodAdd     1965.0\n",
            "MasVnrArea          NaN\n",
            "BsmtFinSF1          NaN\n",
            "BsmtFinSF2          NaN\n",
            "BsmtUnfSF           NaN\n",
            "TotalBsmtSF         NaN\n",
            "1stFlrSF          876.0\n",
            "2ndFlrSF            0.0\n",
            "LowQualFinSF        0.0\n",
            "GrLivArea        1126.0\n",
            "BsmtFullBath        NaN\n",
            "BsmtHalfBath        NaN\n",
            "FullBath            1.0\n",
            "HalfBath            0.0\n",
            "BedroomAbvGr        2.0\n",
            "KitchenAbvGr        1.0\n",
            "TotRmsAbvGrd        5.0\n",
            "Fireplaces          0.0\n",
            "GarageYrBlt         NaN\n",
            "GarageCars          NaN\n",
            "GarageArea          NaN\n",
            "WoodDeckSF          0.0\n",
            "OpenPorchSF         0.0\n",
            "EnclosedPorch       0.0\n",
            "3SsnPorch           0.0\n",
            "ScreenPorch         0.0\n",
            "PoolArea            0.0\n",
            "MiscVal             0.0\n",
            "MoSold              4.0\n",
            "YrSold           2007.0\n",
            "dtype: float64\n",
            "This is quantle @ 0.5 and has \n",
            "MSSubClass         50.0\n",
            "LotFrontage         NaN\n",
            "LotArea          9453.0\n",
            "OverallQual         6.0\n",
            "OverallCond         5.0\n",
            "YearBuilt        1973.0\n",
            "YearRemodAdd     1993.0\n",
            "MasVnrArea          NaN\n",
            "BsmtFinSF1          NaN\n",
            "BsmtFinSF2          NaN\n",
            "BsmtUnfSF           NaN\n",
            "TotalBsmtSF         NaN\n",
            "1stFlrSF         1082.0\n",
            "2ndFlrSF            0.0\n",
            "LowQualFinSF        0.0\n",
            "GrLivArea        1444.0\n",
            "BsmtFullBath        NaN\n",
            "BsmtHalfBath        NaN\n",
            "FullBath            2.0\n",
            "HalfBath            0.0\n",
            "BedroomAbvGr        3.0\n",
            "KitchenAbvGr        1.0\n",
            "TotRmsAbvGrd        6.0\n",
            "Fireplaces          1.0\n",
            "GarageYrBlt         NaN\n",
            "GarageCars          NaN\n",
            "GarageArea          NaN\n",
            "WoodDeckSF          0.0\n",
            "OpenPorchSF        26.0\n",
            "EnclosedPorch       0.0\n",
            "3SsnPorch           0.0\n",
            "ScreenPorch         0.0\n",
            "PoolArea            0.0\n",
            "MiscVal             0.0\n",
            "MoSold              6.0\n",
            "YrSold           2008.0\n",
            "dtype: float64\n",
            "This is quantle @ 0.75 and has \n",
            "MSSubClass          70.0\n",
            "LotFrontage          NaN\n",
            "LotArea          11570.0\n",
            "OverallQual          7.0\n",
            "OverallCond          6.0\n",
            "YearBuilt         2001.0\n",
            "YearRemodAdd      2004.0\n",
            "MasVnrArea           NaN\n",
            "BsmtFinSF1           NaN\n",
            "BsmtFinSF2           NaN\n",
            "BsmtUnfSF            NaN\n",
            "TotalBsmtSF          NaN\n",
            "1stFlrSF          1387.5\n",
            "2ndFlrSF           704.0\n",
            "LowQualFinSF         0.0\n",
            "GrLivArea         1743.5\n",
            "BsmtFullBath         NaN\n",
            "BsmtHalfBath         NaN\n",
            "FullBath             2.0\n",
            "HalfBath             1.0\n",
            "BedroomAbvGr         3.0\n",
            "KitchenAbvGr         1.0\n",
            "TotRmsAbvGrd         7.0\n",
            "Fireplaces           1.0\n",
            "GarageYrBlt          NaN\n",
            "GarageCars           NaN\n",
            "GarageArea           NaN\n",
            "WoodDeckSF         168.0\n",
            "OpenPorchSF         70.0\n",
            "EnclosedPorch        0.0\n",
            "3SsnPorch            0.0\n",
            "ScreenPorch          0.0\n",
            "PoolArea             0.0\n",
            "MiscVal              0.0\n",
            "MoSold               8.0\n",
            "YrSold            2009.0\n",
            "dtype: float64\n",
            "This is quantle @ 1 and has \n",
            "MSSubClass          190.0\n",
            "LotFrontage           NaN\n",
            "LotArea          215245.0\n",
            "OverallQual          10.0\n",
            "OverallCond           9.0\n",
            "YearBuilt          2010.0\n",
            "YearRemodAdd       2010.0\n",
            "MasVnrArea            NaN\n",
            "BsmtFinSF1            NaN\n",
            "BsmtFinSF2            NaN\n",
            "BsmtUnfSF             NaN\n",
            "TotalBsmtSF           NaN\n",
            "1stFlrSF           5095.0\n",
            "2ndFlrSF           2065.0\n",
            "LowQualFinSF       1064.0\n",
            "GrLivArea          5642.0\n",
            "BsmtFullBath          NaN\n",
            "BsmtHalfBath          NaN\n",
            "FullBath              4.0\n",
            "HalfBath              2.0\n",
            "BedroomAbvGr          8.0\n",
            "KitchenAbvGr          3.0\n",
            "TotRmsAbvGrd         15.0\n",
            "Fireplaces            4.0\n",
            "GarageYrBlt           NaN\n",
            "GarageCars            NaN\n",
            "GarageArea            NaN\n",
            "WoodDeckSF         1424.0\n",
            "OpenPorchSF         742.0\n",
            "EnclosedPorch      1012.0\n",
            "3SsnPorch           508.0\n",
            "ScreenPorch         576.0\n",
            "PoolArea            800.0\n",
            "MiscVal           17000.0\n",
            "MoSold               12.0\n",
            "YrSold             2010.0\n",
            "dtype: float64\n"
          ],
          "name": "stdout"
        },
        {
          "output_type": "stream",
          "text": [
            "/usr/local/lib/python3.6/dist-packages/numpy/lib/function_base.py:3826: RuntimeWarning: Invalid value encountered in percentile\n",
            "  interpolation=interpolation)\n"
          ],
          "name": "stderr"
        }
      ]
    },
    {
      "cell_type": "code",
      "metadata": {
        "id": "_fxq_qR-kJgl"
      },
      "source": [
        "def detect_outlier(data_1, threshold = 3):\n",
        "  outliers = []\n",
        "  sd_data = np.std(data_1)\n",
        "  mu_data = np.mean(data_1)\n",
        "  \n",
        "  \n",
        "  \n",
        "  for y in data_1:\n",
        "    z_score = (y-mu_data)/sd_data\n",
        "    if np.abs(z_score)>threshold:\n",
        "      outliers.append(y)\n",
        "  \n",
        "  return sorted(outliers,reverse=True)"
      ],
      "execution_count": null,
      "outputs": []
    },
    {
      "cell_type": "code",
      "metadata": {
        "id": "TT0red6PjcTY"
      },
      "source": [
        "outliers = dict(data[col_num].apply(lambda x : detect_outlier(x,threshold=5)))"
      ],
      "execution_count": null,
      "outputs": []
    },
    {
      "cell_type": "code",
      "metadata": {
        "id": "G-hds0_NkfQC",
        "colab": {
          "base_uri": "https://localhost:8080/",
          "height": 3145
        },
        "outputId": "7ed660b3-aaf7-4e65-e7b7-3fb94f39ec8e"
      },
      "source": [
        "outliers"
      ],
      "execution_count": null,
      "outputs": [
        {
          "output_type": "execute_result",
          "data": {
            "text/plain": [
              "{'1stFlrSF': [5095.0, 4692.0, 3820.0, 3228.0, 3138.0],\n",
              " '2ndFlrSF': [],\n",
              " '3SsnPorch': [508.0,\n",
              "  407.0,\n",
              "  360.0,\n",
              "  323.0,\n",
              "  320.0,\n",
              "  304.0,\n",
              "  290.0,\n",
              "  255.0,\n",
              "  245.0,\n",
              "  238.0,\n",
              "  225.0,\n",
              "  224.0,\n",
              "  219.0,\n",
              "  216.0,\n",
              "  216.0,\n",
              "  196.0,\n",
              "  182.0,\n",
              "  180.0,\n",
              "  180.0,\n",
              "  176.0,\n",
              "  174.0,\n",
              "  168.0,\n",
              "  168.0,\n",
              "  168.0,\n",
              "  162.0,\n",
              "  153.0,\n",
              "  153.0,\n",
              "  153.0,\n",
              "  150.0,\n",
              "  144.0,\n",
              "  144.0,\n",
              "  140.0,\n",
              "  130.0],\n",
              " 'BedroomAbvGr': [8.0],\n",
              " 'BsmtFinSF1': [5644.0, 4010.0],\n",
              " 'BsmtFinSF2': [1526.0,\n",
              "  1474.0,\n",
              "  1393.0,\n",
              "  1164.0,\n",
              "  1127.0,\n",
              "  1120.0,\n",
              "  1085.0,\n",
              "  1083.0,\n",
              "  1080.0,\n",
              "  1073.0,\n",
              "  1063.0,\n",
              "  1061.0,\n",
              "  1057.0,\n",
              "  1039.0,\n",
              "  1037.0,\n",
              "  1031.0,\n",
              "  1029.0,\n",
              "  1020.0,\n",
              "  982.0,\n",
              "  981.0,\n",
              "  972.0,\n",
              "  956.0,\n",
              "  955.0,\n",
              "  915.0,\n",
              "  912.0,\n",
              "  906.0,\n",
              "  904.0],\n",
              " 'BsmtFullBath': [],\n",
              " 'BsmtHalfBath': [2.0, 2.0, 2.0, 2.0],\n",
              " 'BsmtUnfSF': [],\n",
              " 'EnclosedPorch': [1012.0, 584.0, 552.0, 432.0, 429.0, 386.0, 368.0, 364.0],\n",
              " 'Fireplaces': [4.0],\n",
              " 'FullBath': [],\n",
              " 'GarageArea': [],\n",
              " 'GarageCars': [],\n",
              " 'GarageYrBlt': [2207.0],\n",
              " 'GrLivArea': [5642.0, 5095.0, 4676.0, 4476.0, 4316.0],\n",
              " 'HalfBath': [],\n",
              " 'KitchenAbvGr': [3.0, 3.0],\n",
              " 'LotArea': [215245.0,\n",
              "  164660.0,\n",
              "  159000.0,\n",
              "  115149.0,\n",
              "  70761.0,\n",
              "  63887.0,\n",
              "  57200.0,\n",
              "  56600.0,\n",
              "  53504.0,\n",
              "  53227.0,\n",
              "  53107.0,\n",
              "  51974.0,\n",
              "  50271.0,\n",
              "  50102.0],\n",
              " 'LotFrontage': [313.0, 313.0, 200.0, 195.0],\n",
              " 'LowQualFinSF': [1064.0,\n",
              "  697.0,\n",
              "  572.0,\n",
              "  528.0,\n",
              "  515.0,\n",
              "  514.0,\n",
              "  513.0,\n",
              "  512.0,\n",
              "  481.0,\n",
              "  479.0,\n",
              "  473.0,\n",
              "  450.0,\n",
              "  436.0,\n",
              "  431.0,\n",
              "  420.0,\n",
              "  397.0,\n",
              "  392.0,\n",
              "  390.0,\n",
              "  384.0,\n",
              "  371.0,\n",
              "  362.0,\n",
              "  360.0,\n",
              "  360.0,\n",
              "  312.0,\n",
              "  259.0],\n",
              " 'MSSubClass': [],\n",
              " 'MasVnrArea': [1600.0,\n",
              "  1378.0,\n",
              "  1290.0,\n",
              "  1224.0,\n",
              "  1224.0,\n",
              "  1170.0,\n",
              "  1159.0,\n",
              "  1129.0,\n",
              "  1115.0,\n",
              "  1110.0,\n",
              "  1095.0,\n",
              "  1050.0,\n",
              "  1047.0,\n",
              "  1031.0],\n",
              " 'MiscVal': [17000.0,\n",
              "  15500.0,\n",
              "  12500.0,\n",
              "  8300.0,\n",
              "  6500.0,\n",
              "  4500.0,\n",
              "  4500.0,\n",
              "  3500.0,\n",
              "  3000.0,\n",
              "  3000.0],\n",
              " 'MoSold': [],\n",
              " 'OpenPorchSF': [742.0,\n",
              "  570.0,\n",
              "  547.0,\n",
              "  523.0,\n",
              "  502.0,\n",
              "  484.0,\n",
              "  444.0,\n",
              "  418.0,\n",
              "  406.0],\n",
              " 'OverallCond': [],\n",
              " 'OverallQual': [],\n",
              " 'PoolArea': [800.0,\n",
              "  738.0,\n",
              "  648.0,\n",
              "  576.0,\n",
              "  561.0,\n",
              "  555.0,\n",
              "  519.0,\n",
              "  512.0,\n",
              "  480.0,\n",
              "  444.0,\n",
              "  368.0,\n",
              "  228.0],\n",
              " 'ScreenPorch': [576.0,\n",
              "  490.0,\n",
              "  480.0,\n",
              "  440.0,\n",
              "  410.0,\n",
              "  396.0,\n",
              "  385.0,\n",
              "  374.0,\n",
              "  348.0,\n",
              "  342.0,\n",
              "  322.0,\n",
              "  322.0,\n",
              "  312.0],\n",
              " 'TotRmsAbvGrd': [15.0],\n",
              " 'TotalBsmtSF': [6110.0, 5095.0],\n",
              " 'WoodDeckSF': [1424.0, 870.0, 857.0, 736.0, 728.0],\n",
              " 'YearBuilt': [],\n",
              " 'YearRemodAdd': [],\n",
              " 'YrSold': []}"
            ]
          },
          "metadata": {
            "tags": []
          },
          "execution_count": 31
        }
      ]
    },
    {
      "cell_type": "code",
      "metadata": {
        "id": "RMh1g5rKLCKl"
      },
      "source": [
        "idx = data[data.GrLivArea>4000].index\n",
        "idx_y = [k for k in idx if k<1461]\n",
        "Y=Y.drop(idx_y)\n",
        "data=data.drop(labels=idx_y,axis=0)\n",
        "#Y=Y.drop(idx)"
      ],
      "execution_count": null,
      "outputs": []
    },
    {
      "cell_type": "code",
      "metadata": {
        "id": "eD8YhMvNUoN4"
      },
      "source": [
        "# we have at keast one outlier! Moreover, year and year remod might intend if the house has been restructured.\n",
        "\n",
        "\n",
        "data['Restructured'] = np.where(data['YearBuilt']!=data['YearRemodAdd'],1,0)"
      ],
      "execution_count": null,
      "outputs": []
    },
    {
      "cell_type": "code",
      "metadata": {
        "id": "ZaX7VDJLL2Md"
      },
      "source": [
        "for col in col_num:\n",
        "   data[col] = data[col].fillna(data[col].median())"
      ],
      "execution_count": null,
      "outputs": []
    },
    {
      "cell_type": "code",
      "metadata": {
        "id": "edoNn0_oOKhI",
        "colab": {
          "base_uri": "https://localhost:8080/",
          "height": 1071
        },
        "outputId": "d98db168-d16e-4495-b992-124744f920b1"
      },
      "source": [
        "print(data.isna().sum())"
      ],
      "execution_count": null,
      "outputs": [
        {
          "output_type": "stream",
          "text": [
            "MSSubClass       0\n",
            "MSZoning         0\n",
            "LotFrontage      0\n",
            "LotArea          0\n",
            "Street           0\n",
            "LotShape         0\n",
            "LandContour      0\n",
            "Utilities        0\n",
            "LotConfig        0\n",
            "LandSlope        0\n",
            "Neighborhood     0\n",
            "Condition1       0\n",
            "Condition2       0\n",
            "BldgType         0\n",
            "HouseStyle       0\n",
            "OverallQual      0\n",
            "OverallCond      0\n",
            "YearBuilt        0\n",
            "YearRemodAdd     0\n",
            "RoofStyle        0\n",
            "RoofMatl         0\n",
            "Exterior1st      0\n",
            "Exterior2nd      0\n",
            "MasVnrType       0\n",
            "MasVnrArea       0\n",
            "ExterQual        0\n",
            "ExterCond        0\n",
            "Foundation       0\n",
            "BsmtQual         0\n",
            "BsmtCond         0\n",
            "                ..\n",
            "BsmtFullBath     0\n",
            "BsmtHalfBath     0\n",
            "FullBath         0\n",
            "HalfBath         0\n",
            "BedroomAbvGr     0\n",
            "KitchenAbvGr     0\n",
            "KitchenQual      0\n",
            "TotRmsAbvGrd     0\n",
            "Functional       0\n",
            "Fireplaces       0\n",
            "GarageType       0\n",
            "GarageYrBlt      0\n",
            "GarageFinish     0\n",
            "GarageCars       0\n",
            "GarageArea       0\n",
            "GarageQual       0\n",
            "GarageCond       0\n",
            "PavedDrive       0\n",
            "WoodDeckSF       0\n",
            "OpenPorchSF      0\n",
            "EnclosedPorch    0\n",
            "3SsnPorch        0\n",
            "ScreenPorch      0\n",
            "PoolArea         0\n",
            "MiscVal          0\n",
            "MoSold           0\n",
            "YrSold           0\n",
            "SaleType         0\n",
            "SaleCondition    0\n",
            "Restructured     0\n",
            "Length: 75, dtype: int64\n"
          ],
          "name": "stdout"
        }
      ]
    },
    {
      "cell_type": "code",
      "metadata": {
        "id": "qcx5UmxEVGfK"
      },
      "source": [
        "data = pd.concat([pd.get_dummies(data[col_obj],drop_first=True),data.drop(col_obj,axis=1)],axis=1)"
      ],
      "execution_count": null,
      "outputs": []
    },
    {
      "cell_type": "code",
      "metadata": {
        "id": "PbUOyUYb7NIl"
      },
      "source": [
        "cor_mat=pd.concat([Y,data.loc[:1460,:]],axis=1).corr()"
      ],
      "execution_count": null,
      "outputs": []
    },
    {
      "cell_type": "code",
      "metadata": {
        "id": "o8u2pWDpACkB",
        "colab": {
          "base_uri": "https://localhost:8080/",
          "height": 284
        },
        "outputId": "0a3f3b1f-eb10-4855-e628-ab00f00ff2a3"
      },
      "source": [
        "data.head()"
      ],
      "execution_count": null,
      "outputs": [
        {
          "output_type": "execute_result",
          "data": {
            "text/html": [
              "<div>\n",
              "<style scoped>\n",
              "    .dataframe tbody tr th:only-of-type {\n",
              "        vertical-align: middle;\n",
              "    }\n",
              "\n",
              "    .dataframe tbody tr th {\n",
              "        vertical-align: top;\n",
              "    }\n",
              "\n",
              "    .dataframe thead th {\n",
              "        text-align: right;\n",
              "    }\n",
              "</style>\n",
              "<table border=\"1\" class=\"dataframe\">\n",
              "  <thead>\n",
              "    <tr style=\"text-align: right;\">\n",
              "      <th></th>\n",
              "      <th>MSZoning_FV</th>\n",
              "      <th>MSZoning_RH</th>\n",
              "      <th>MSZoning_RL</th>\n",
              "      <th>MSZoning_RM</th>\n",
              "      <th>Street_Pave</th>\n",
              "      <th>LotShape_IR2</th>\n",
              "      <th>LotShape_IR3</th>\n",
              "      <th>LotShape_Reg</th>\n",
              "      <th>LandContour_HLS</th>\n",
              "      <th>LandContour_Low</th>\n",
              "      <th>LandContour_Lvl</th>\n",
              "      <th>Utilities_NoSeWa</th>\n",
              "      <th>LotConfig_CulDSac</th>\n",
              "      <th>LotConfig_FR2</th>\n",
              "      <th>LotConfig_FR3</th>\n",
              "      <th>LotConfig_Inside</th>\n",
              "      <th>LandSlope_Mod</th>\n",
              "      <th>LandSlope_Sev</th>\n",
              "      <th>Neighborhood_Blueste</th>\n",
              "      <th>Neighborhood_BrDale</th>\n",
              "      <th>Neighborhood_BrkSide</th>\n",
              "      <th>Neighborhood_ClearCr</th>\n",
              "      <th>Neighborhood_CollgCr</th>\n",
              "      <th>Neighborhood_Crawfor</th>\n",
              "      <th>Neighborhood_Edwards</th>\n",
              "      <th>Neighborhood_Gilbert</th>\n",
              "      <th>Neighborhood_IDOTRR</th>\n",
              "      <th>Neighborhood_MeadowV</th>\n",
              "      <th>Neighborhood_Mitchel</th>\n",
              "      <th>Neighborhood_NAmes</th>\n",
              "      <th>Neighborhood_NPkVill</th>\n",
              "      <th>Neighborhood_NWAmes</th>\n",
              "      <th>Neighborhood_NoRidge</th>\n",
              "      <th>Neighborhood_NridgHt</th>\n",
              "      <th>Neighborhood_OldTown</th>\n",
              "      <th>Neighborhood_SWISU</th>\n",
              "      <th>Neighborhood_Sawyer</th>\n",
              "      <th>Neighborhood_SawyerW</th>\n",
              "      <th>Neighborhood_Somerst</th>\n",
              "      <th>Neighborhood_StoneBr</th>\n",
              "      <th>...</th>\n",
              "      <th>SaleCondition_Family</th>\n",
              "      <th>SaleCondition_Normal</th>\n",
              "      <th>SaleCondition_Partial</th>\n",
              "      <th>MSSubClass</th>\n",
              "      <th>LotFrontage</th>\n",
              "      <th>LotArea</th>\n",
              "      <th>OverallQual</th>\n",
              "      <th>OverallCond</th>\n",
              "      <th>YearBuilt</th>\n",
              "      <th>YearRemodAdd</th>\n",
              "      <th>MasVnrArea</th>\n",
              "      <th>BsmtFinSF1</th>\n",
              "      <th>BsmtFinSF2</th>\n",
              "      <th>BsmtUnfSF</th>\n",
              "      <th>TotalBsmtSF</th>\n",
              "      <th>1stFlrSF</th>\n",
              "      <th>2ndFlrSF</th>\n",
              "      <th>LowQualFinSF</th>\n",
              "      <th>GrLivArea</th>\n",
              "      <th>BsmtFullBath</th>\n",
              "      <th>BsmtHalfBath</th>\n",
              "      <th>FullBath</th>\n",
              "      <th>HalfBath</th>\n",
              "      <th>BedroomAbvGr</th>\n",
              "      <th>KitchenAbvGr</th>\n",
              "      <th>TotRmsAbvGrd</th>\n",
              "      <th>Fireplaces</th>\n",
              "      <th>GarageYrBlt</th>\n",
              "      <th>GarageCars</th>\n",
              "      <th>GarageArea</th>\n",
              "      <th>WoodDeckSF</th>\n",
              "      <th>OpenPorchSF</th>\n",
              "      <th>EnclosedPorch</th>\n",
              "      <th>3SsnPorch</th>\n",
              "      <th>ScreenPorch</th>\n",
              "      <th>PoolArea</th>\n",
              "      <th>MiscVal</th>\n",
              "      <th>MoSold</th>\n",
              "      <th>YrSold</th>\n",
              "      <th>Restructured</th>\n",
              "    </tr>\n",
              "    <tr>\n",
              "      <th>Id</th>\n",
              "      <th></th>\n",
              "      <th></th>\n",
              "      <th></th>\n",
              "      <th></th>\n",
              "      <th></th>\n",
              "      <th></th>\n",
              "      <th></th>\n",
              "      <th></th>\n",
              "      <th></th>\n",
              "      <th></th>\n",
              "      <th></th>\n",
              "      <th></th>\n",
              "      <th></th>\n",
              "      <th></th>\n",
              "      <th></th>\n",
              "      <th></th>\n",
              "      <th></th>\n",
              "      <th></th>\n",
              "      <th></th>\n",
              "      <th></th>\n",
              "      <th></th>\n",
              "      <th></th>\n",
              "      <th></th>\n",
              "      <th></th>\n",
              "      <th></th>\n",
              "      <th></th>\n",
              "      <th></th>\n",
              "      <th></th>\n",
              "      <th></th>\n",
              "      <th></th>\n",
              "      <th></th>\n",
              "      <th></th>\n",
              "      <th></th>\n",
              "      <th></th>\n",
              "      <th></th>\n",
              "      <th></th>\n",
              "      <th></th>\n",
              "      <th></th>\n",
              "      <th></th>\n",
              "      <th></th>\n",
              "      <th></th>\n",
              "      <th></th>\n",
              "      <th></th>\n",
              "      <th></th>\n",
              "      <th></th>\n",
              "      <th></th>\n",
              "      <th></th>\n",
              "      <th></th>\n",
              "      <th></th>\n",
              "      <th></th>\n",
              "      <th></th>\n",
              "      <th></th>\n",
              "      <th></th>\n",
              "      <th></th>\n",
              "      <th></th>\n",
              "      <th></th>\n",
              "      <th></th>\n",
              "      <th></th>\n",
              "      <th></th>\n",
              "      <th></th>\n",
              "      <th></th>\n",
              "      <th></th>\n",
              "      <th></th>\n",
              "      <th></th>\n",
              "      <th></th>\n",
              "      <th></th>\n",
              "      <th></th>\n",
              "      <th></th>\n",
              "      <th></th>\n",
              "      <th></th>\n",
              "      <th></th>\n",
              "      <th></th>\n",
              "      <th></th>\n",
              "      <th></th>\n",
              "      <th></th>\n",
              "      <th></th>\n",
              "      <th></th>\n",
              "      <th></th>\n",
              "      <th></th>\n",
              "      <th></th>\n",
              "      <th></th>\n",
              "    </tr>\n",
              "  </thead>\n",
              "  <tbody>\n",
              "    <tr>\n",
              "      <th>1</th>\n",
              "      <td>0</td>\n",
              "      <td>0</td>\n",
              "      <td>1</td>\n",
              "      <td>0</td>\n",
              "      <td>1</td>\n",
              "      <td>0</td>\n",
              "      <td>0</td>\n",
              "      <td>1</td>\n",
              "      <td>0</td>\n",
              "      <td>0</td>\n",
              "      <td>1</td>\n",
              "      <td>0</td>\n",
              "      <td>0</td>\n",
              "      <td>0</td>\n",
              "      <td>0</td>\n",
              "      <td>1</td>\n",
              "      <td>0</td>\n",
              "      <td>0</td>\n",
              "      <td>0</td>\n",
              "      <td>0</td>\n",
              "      <td>0</td>\n",
              "      <td>0</td>\n",
              "      <td>1</td>\n",
              "      <td>0</td>\n",
              "      <td>0</td>\n",
              "      <td>0</td>\n",
              "      <td>0</td>\n",
              "      <td>0</td>\n",
              "      <td>0</td>\n",
              "      <td>0</td>\n",
              "      <td>0</td>\n",
              "      <td>0</td>\n",
              "      <td>0</td>\n",
              "      <td>0</td>\n",
              "      <td>0</td>\n",
              "      <td>0</td>\n",
              "      <td>0</td>\n",
              "      <td>0</td>\n",
              "      <td>0</td>\n",
              "      <td>0</td>\n",
              "      <td>...</td>\n",
              "      <td>0</td>\n",
              "      <td>1</td>\n",
              "      <td>0</td>\n",
              "      <td>60</td>\n",
              "      <td>65.0</td>\n",
              "      <td>8450</td>\n",
              "      <td>7</td>\n",
              "      <td>5</td>\n",
              "      <td>2003</td>\n",
              "      <td>2003</td>\n",
              "      <td>196.0</td>\n",
              "      <td>706.0</td>\n",
              "      <td>0.0</td>\n",
              "      <td>150.0</td>\n",
              "      <td>856.0</td>\n",
              "      <td>856</td>\n",
              "      <td>854</td>\n",
              "      <td>0</td>\n",
              "      <td>1710</td>\n",
              "      <td>1.0</td>\n",
              "      <td>0.0</td>\n",
              "      <td>2</td>\n",
              "      <td>1</td>\n",
              "      <td>3</td>\n",
              "      <td>1</td>\n",
              "      <td>8</td>\n",
              "      <td>0</td>\n",
              "      <td>2003.0</td>\n",
              "      <td>2.0</td>\n",
              "      <td>548.0</td>\n",
              "      <td>0</td>\n",
              "      <td>61</td>\n",
              "      <td>0</td>\n",
              "      <td>0</td>\n",
              "      <td>0</td>\n",
              "      <td>0</td>\n",
              "      <td>0</td>\n",
              "      <td>2</td>\n",
              "      <td>2008</td>\n",
              "      <td>0</td>\n",
              "    </tr>\n",
              "    <tr>\n",
              "      <th>2</th>\n",
              "      <td>0</td>\n",
              "      <td>0</td>\n",
              "      <td>1</td>\n",
              "      <td>0</td>\n",
              "      <td>1</td>\n",
              "      <td>0</td>\n",
              "      <td>0</td>\n",
              "      <td>1</td>\n",
              "      <td>0</td>\n",
              "      <td>0</td>\n",
              "      <td>1</td>\n",
              "      <td>0</td>\n",
              "      <td>0</td>\n",
              "      <td>1</td>\n",
              "      <td>0</td>\n",
              "      <td>0</td>\n",
              "      <td>0</td>\n",
              "      <td>0</td>\n",
              "      <td>0</td>\n",
              "      <td>0</td>\n",
              "      <td>0</td>\n",
              "      <td>0</td>\n",
              "      <td>0</td>\n",
              "      <td>0</td>\n",
              "      <td>0</td>\n",
              "      <td>0</td>\n",
              "      <td>0</td>\n",
              "      <td>0</td>\n",
              "      <td>0</td>\n",
              "      <td>0</td>\n",
              "      <td>0</td>\n",
              "      <td>0</td>\n",
              "      <td>0</td>\n",
              "      <td>0</td>\n",
              "      <td>0</td>\n",
              "      <td>0</td>\n",
              "      <td>0</td>\n",
              "      <td>0</td>\n",
              "      <td>0</td>\n",
              "      <td>0</td>\n",
              "      <td>...</td>\n",
              "      <td>0</td>\n",
              "      <td>1</td>\n",
              "      <td>0</td>\n",
              "      <td>20</td>\n",
              "      <td>80.0</td>\n",
              "      <td>9600</td>\n",
              "      <td>6</td>\n",
              "      <td>8</td>\n",
              "      <td>1976</td>\n",
              "      <td>1976</td>\n",
              "      <td>0.0</td>\n",
              "      <td>978.0</td>\n",
              "      <td>0.0</td>\n",
              "      <td>284.0</td>\n",
              "      <td>1262.0</td>\n",
              "      <td>1262</td>\n",
              "      <td>0</td>\n",
              "      <td>0</td>\n",
              "      <td>1262</td>\n",
              "      <td>0.0</td>\n",
              "      <td>1.0</td>\n",
              "      <td>2</td>\n",
              "      <td>0</td>\n",
              "      <td>3</td>\n",
              "      <td>1</td>\n",
              "      <td>6</td>\n",
              "      <td>1</td>\n",
              "      <td>1976.0</td>\n",
              "      <td>2.0</td>\n",
              "      <td>460.0</td>\n",
              "      <td>298</td>\n",
              "      <td>0</td>\n",
              "      <td>0</td>\n",
              "      <td>0</td>\n",
              "      <td>0</td>\n",
              "      <td>0</td>\n",
              "      <td>0</td>\n",
              "      <td>5</td>\n",
              "      <td>2007</td>\n",
              "      <td>0</td>\n",
              "    </tr>\n",
              "    <tr>\n",
              "      <th>3</th>\n",
              "      <td>0</td>\n",
              "      <td>0</td>\n",
              "      <td>1</td>\n",
              "      <td>0</td>\n",
              "      <td>1</td>\n",
              "      <td>0</td>\n",
              "      <td>0</td>\n",
              "      <td>0</td>\n",
              "      <td>0</td>\n",
              "      <td>0</td>\n",
              "      <td>1</td>\n",
              "      <td>0</td>\n",
              "      <td>0</td>\n",
              "      <td>0</td>\n",
              "      <td>0</td>\n",
              "      <td>1</td>\n",
              "      <td>0</td>\n",
              "      <td>0</td>\n",
              "      <td>0</td>\n",
              "      <td>0</td>\n",
              "      <td>0</td>\n",
              "      <td>0</td>\n",
              "      <td>1</td>\n",
              "      <td>0</td>\n",
              "      <td>0</td>\n",
              "      <td>0</td>\n",
              "      <td>0</td>\n",
              "      <td>0</td>\n",
              "      <td>0</td>\n",
              "      <td>0</td>\n",
              "      <td>0</td>\n",
              "      <td>0</td>\n",
              "      <td>0</td>\n",
              "      <td>0</td>\n",
              "      <td>0</td>\n",
              "      <td>0</td>\n",
              "      <td>0</td>\n",
              "      <td>0</td>\n",
              "      <td>0</td>\n",
              "      <td>0</td>\n",
              "      <td>...</td>\n",
              "      <td>0</td>\n",
              "      <td>1</td>\n",
              "      <td>0</td>\n",
              "      <td>60</td>\n",
              "      <td>68.0</td>\n",
              "      <td>11250</td>\n",
              "      <td>7</td>\n",
              "      <td>5</td>\n",
              "      <td>2001</td>\n",
              "      <td>2002</td>\n",
              "      <td>162.0</td>\n",
              "      <td>486.0</td>\n",
              "      <td>0.0</td>\n",
              "      <td>434.0</td>\n",
              "      <td>920.0</td>\n",
              "      <td>920</td>\n",
              "      <td>866</td>\n",
              "      <td>0</td>\n",
              "      <td>1786</td>\n",
              "      <td>1.0</td>\n",
              "      <td>0.0</td>\n",
              "      <td>2</td>\n",
              "      <td>1</td>\n",
              "      <td>3</td>\n",
              "      <td>1</td>\n",
              "      <td>6</td>\n",
              "      <td>1</td>\n",
              "      <td>2001.0</td>\n",
              "      <td>2.0</td>\n",
              "      <td>608.0</td>\n",
              "      <td>0</td>\n",
              "      <td>42</td>\n",
              "      <td>0</td>\n",
              "      <td>0</td>\n",
              "      <td>0</td>\n",
              "      <td>0</td>\n",
              "      <td>0</td>\n",
              "      <td>9</td>\n",
              "      <td>2008</td>\n",
              "      <td>1</td>\n",
              "    </tr>\n",
              "    <tr>\n",
              "      <th>4</th>\n",
              "      <td>0</td>\n",
              "      <td>0</td>\n",
              "      <td>1</td>\n",
              "      <td>0</td>\n",
              "      <td>1</td>\n",
              "      <td>0</td>\n",
              "      <td>0</td>\n",
              "      <td>0</td>\n",
              "      <td>0</td>\n",
              "      <td>0</td>\n",
              "      <td>1</td>\n",
              "      <td>0</td>\n",
              "      <td>0</td>\n",
              "      <td>0</td>\n",
              "      <td>0</td>\n",
              "      <td>0</td>\n",
              "      <td>0</td>\n",
              "      <td>0</td>\n",
              "      <td>0</td>\n",
              "      <td>0</td>\n",
              "      <td>0</td>\n",
              "      <td>0</td>\n",
              "      <td>0</td>\n",
              "      <td>1</td>\n",
              "      <td>0</td>\n",
              "      <td>0</td>\n",
              "      <td>0</td>\n",
              "      <td>0</td>\n",
              "      <td>0</td>\n",
              "      <td>0</td>\n",
              "      <td>0</td>\n",
              "      <td>0</td>\n",
              "      <td>0</td>\n",
              "      <td>0</td>\n",
              "      <td>0</td>\n",
              "      <td>0</td>\n",
              "      <td>0</td>\n",
              "      <td>0</td>\n",
              "      <td>0</td>\n",
              "      <td>0</td>\n",
              "      <td>...</td>\n",
              "      <td>0</td>\n",
              "      <td>0</td>\n",
              "      <td>0</td>\n",
              "      <td>70</td>\n",
              "      <td>60.0</td>\n",
              "      <td>9550</td>\n",
              "      <td>7</td>\n",
              "      <td>5</td>\n",
              "      <td>1915</td>\n",
              "      <td>1970</td>\n",
              "      <td>0.0</td>\n",
              "      <td>216.0</td>\n",
              "      <td>0.0</td>\n",
              "      <td>540.0</td>\n",
              "      <td>756.0</td>\n",
              "      <td>961</td>\n",
              "      <td>756</td>\n",
              "      <td>0</td>\n",
              "      <td>1717</td>\n",
              "      <td>1.0</td>\n",
              "      <td>0.0</td>\n",
              "      <td>1</td>\n",
              "      <td>0</td>\n",
              "      <td>3</td>\n",
              "      <td>1</td>\n",
              "      <td>7</td>\n",
              "      <td>1</td>\n",
              "      <td>1998.0</td>\n",
              "      <td>3.0</td>\n",
              "      <td>642.0</td>\n",
              "      <td>0</td>\n",
              "      <td>35</td>\n",
              "      <td>272</td>\n",
              "      <td>0</td>\n",
              "      <td>0</td>\n",
              "      <td>0</td>\n",
              "      <td>0</td>\n",
              "      <td>2</td>\n",
              "      <td>2006</td>\n",
              "      <td>1</td>\n",
              "    </tr>\n",
              "    <tr>\n",
              "      <th>5</th>\n",
              "      <td>0</td>\n",
              "      <td>0</td>\n",
              "      <td>1</td>\n",
              "      <td>0</td>\n",
              "      <td>1</td>\n",
              "      <td>0</td>\n",
              "      <td>0</td>\n",
              "      <td>0</td>\n",
              "      <td>0</td>\n",
              "      <td>0</td>\n",
              "      <td>1</td>\n",
              "      <td>0</td>\n",
              "      <td>0</td>\n",
              "      <td>1</td>\n",
              "      <td>0</td>\n",
              "      <td>0</td>\n",
              "      <td>0</td>\n",
              "      <td>0</td>\n",
              "      <td>0</td>\n",
              "      <td>0</td>\n",
              "      <td>0</td>\n",
              "      <td>0</td>\n",
              "      <td>0</td>\n",
              "      <td>0</td>\n",
              "      <td>0</td>\n",
              "      <td>0</td>\n",
              "      <td>0</td>\n",
              "      <td>0</td>\n",
              "      <td>0</td>\n",
              "      <td>0</td>\n",
              "      <td>0</td>\n",
              "      <td>0</td>\n",
              "      <td>1</td>\n",
              "      <td>0</td>\n",
              "      <td>0</td>\n",
              "      <td>0</td>\n",
              "      <td>0</td>\n",
              "      <td>0</td>\n",
              "      <td>0</td>\n",
              "      <td>0</td>\n",
              "      <td>...</td>\n",
              "      <td>0</td>\n",
              "      <td>1</td>\n",
              "      <td>0</td>\n",
              "      <td>60</td>\n",
              "      <td>84.0</td>\n",
              "      <td>14260</td>\n",
              "      <td>8</td>\n",
              "      <td>5</td>\n",
              "      <td>2000</td>\n",
              "      <td>2000</td>\n",
              "      <td>350.0</td>\n",
              "      <td>655.0</td>\n",
              "      <td>0.0</td>\n",
              "      <td>490.0</td>\n",
              "      <td>1145.0</td>\n",
              "      <td>1145</td>\n",
              "      <td>1053</td>\n",
              "      <td>0</td>\n",
              "      <td>2198</td>\n",
              "      <td>1.0</td>\n",
              "      <td>0.0</td>\n",
              "      <td>2</td>\n",
              "      <td>1</td>\n",
              "      <td>4</td>\n",
              "      <td>1</td>\n",
              "      <td>9</td>\n",
              "      <td>1</td>\n",
              "      <td>2000.0</td>\n",
              "      <td>3.0</td>\n",
              "      <td>836.0</td>\n",
              "      <td>192</td>\n",
              "      <td>84</td>\n",
              "      <td>0</td>\n",
              "      <td>0</td>\n",
              "      <td>0</td>\n",
              "      <td>0</td>\n",
              "      <td>0</td>\n",
              "      <td>12</td>\n",
              "      <td>2008</td>\n",
              "      <td>0</td>\n",
              "    </tr>\n",
              "  </tbody>\n",
              "</table>\n",
              "<p>5 rows × 232 columns</p>\n",
              "</div>"
            ],
            "text/plain": [
              "    MSZoning_FV  MSZoning_RH  MSZoning_RL  ...  MoSold  YrSold  Restructured\n",
              "Id                                         ...                              \n",
              "1             0            0            1  ...       2    2008             0\n",
              "2             0            0            1  ...       5    2007             0\n",
              "3             0            0            1  ...       9    2008             1\n",
              "4             0            0            1  ...       2    2006             1\n",
              "5             0            0            1  ...      12    2008             0\n",
              "\n",
              "[5 rows x 232 columns]"
            ]
          },
          "metadata": {
            "tags": []
          },
          "execution_count": 38
        }
      ]
    },
    {
      "cell_type": "code",
      "metadata": {
        "id": "yJcQFKwcsaZg"
      },
      "source": [
        "#plt.figure(figsize=(50,50))\n",
        "#sns.heatmap(cor_mat*np.tril(np.ones((cor_mat.shape[0],cor_mat.shape[0]))),cmap='Blues',annot=True,linewidths=1)\n",
        "#plt.show()"
      ],
      "execution_count": null,
      "outputs": []
    },
    {
      "cell_type": "code",
      "metadata": {
        "id": "jfF6KRFGAUfB"
      },
      "source": [
        "X_tr,X_te = data.loc[0:1460,:],data.loc[1461:,:]"
      ],
      "execution_count": null,
      "outputs": []
    },
    {
      "cell_type": "code",
      "metadata": {
        "id": "O4LlE2mHAdIo"
      },
      "source": [
        "idx_to_suppress = np.random.randint(X_te.index.min(),X_te.index.max(),size=2)"
      ],
      "execution_count": null,
      "outputs": []
    },
    {
      "cell_type": "code",
      "metadata": {
        "id": "Z4lf1Qs-BV5q"
      },
      "source": [
        "#recover,X_te = X_te.loc[idx_to_suppress,:], X_te.drop(idx_to_suppress,axis=0)\n"
      ],
      "execution_count": null,
      "outputs": []
    },
    {
      "cell_type": "code",
      "metadata": {
        "id": "6Hi-d5ibfFMG",
        "colab": {
          "base_uri": "https://localhost:8080/",
          "height": 34
        },
        "outputId": "2446eda1-e054-46cc-e7a5-b44d1abbdba6"
      },
      "source": [
        "X_te.shape"
      ],
      "execution_count": null,
      "outputs": [
        {
          "output_type": "execute_result",
          "data": {
            "text/plain": [
              "(1459, 232)"
            ]
          },
          "metadata": {
            "tags": []
          },
          "execution_count": 42
        }
      ]
    },
    {
      "cell_type": "code",
      "metadata": {
        "id": "VMDPDzJoZVjI"
      },
      "source": [
        "#mms = MinMaxScaler(feature_range=(0,1))\n",
        "#trdatad = mms.fit_transform(trdatad)"
      ],
      "execution_count": null,
      "outputs": []
    },
    {
      "cell_type": "code",
      "metadata": {
        "id": "DzKLTiy59JSy",
        "colab": {
          "base_uri": "https://localhost:8080/",
          "height": 170
        },
        "outputId": "5d41a6dd-0212-470c-b427-eacd1c12ab89"
      },
      "source": [
        "from xgboost import XGBRegressor\n",
        "shrink = XGBRegressor()\n",
        "shrink.fit(X_tr,Y)"
      ],
      "execution_count": null,
      "outputs": [
        {
          "output_type": "stream",
          "text": [
            "/usr/local/lib/python3.6/dist-packages/xgboost/core.py:587: FutureWarning: Series.base is deprecated and will be removed in a future version\n",
            "  if getattr(data, 'base', None) is not None and \\\n"
          ],
          "name": "stderr"
        },
        {
          "output_type": "execute_result",
          "data": {
            "text/plain": [
              "XGBRegressor(base_score=0.5, booster='gbtree', colsample_bylevel=1,\n",
              "             colsample_bytree=1, gamma=0, importance_type='gain',\n",
              "             learning_rate=0.1, max_delta_step=0, max_depth=3,\n",
              "             min_child_weight=1, missing=None, n_estimators=100, n_jobs=1,\n",
              "             nthread=None, objective='reg:linear', random_state=0, reg_alpha=0,\n",
              "             reg_lambda=1, scale_pos_weight=1, seed=None, silent=True,\n",
              "             subsample=1)"
            ]
          },
          "metadata": {
            "tags": []
          },
          "execution_count": 44
        }
      ]
    },
    {
      "cell_type": "code",
      "metadata": {
        "id": "zUFKVg9B9eM3"
      },
      "source": [
        "from sklearn.feature_selection import SelectFromModel\n",
        "selection = SelectFromModel(shrink,threshold=0.001,prefit=True)\n",
        "Xtr = selection.transform(X_tr)\n",
        "Xte = selection.transform(X_te)"
      ],
      "execution_count": null,
      "outputs": []
    },
    {
      "cell_type": "code",
      "metadata": {
        "id": "bUFIx2Vg_JiO"
      },
      "source": [
        "scaler = StandardScaler()\n",
        "Xtr = scaler.fit_transform(Xtr)\n",
        "Xte = scaler.transform(Xte)\n",
        "X_te_norm = scaler.fit_transform(X_te)\n",
        "X_tr_norm = scaler.transform(X_tr)"
      ],
      "execution_count": null,
      "outputs": []
    },
    {
      "cell_type": "code",
      "metadata": {
        "id": "FsS__Nh0aKQR"
      },
      "source": [
        "x_train,x_test,y_train,y_test = train_test_split(Xtr,Y,test_size=0.2)"
      ],
      "execution_count": null,
      "outputs": []
    },
    {
      "cell_type": "code",
      "metadata": {
        "id": "eIjohUzQcpqj"
      },
      "source": [
        "reg = SVR(C=4,gamma=5)\n",
        "reg.fit(x_train,y_train)\n",
        "pred=reg.predict(x_test)"
      ],
      "execution_count": null,
      "outputs": []
    },
    {
      "cell_type": "code",
      "metadata": {
        "id": "9uSmY_AUaZJz",
        "colab": {
          "base_uri": "https://localhost:8080/",
          "height": 68
        },
        "outputId": "d7499a2d-ca54-44a4-ee92-bb456326280e"
      },
      "source": [
        "print(\"MAE is :\",mean_absolute_error(y_test,pred))\n",
        "print(\"MSE is :\",mean_squared_error(y_test,pred))\n",
        "print(\"MSLE is :\",mean_squared_log_error(y_test,pred))"
      ],
      "execution_count": null,
      "outputs": [
        {
          "output_type": "stream",
          "text": [
            "MAE is : 0.30595309555707667\n",
            "MSE is : 0.16159438034374224\n",
            "MSLE is : 0.0009490389569818026\n"
          ],
          "name": "stdout"
        }
      ]
    },
    {
      "cell_type": "code",
      "metadata": {
        "id": "pkNH7Q-MjBA9",
        "colab": {
          "base_uri": "https://localhost:8080/",
          "height": 34
        },
        "outputId": "c10f6464-9c6d-4de8-d214-bcedf47477d5"
      },
      "source": [
        "from keras.models import Sequential \n",
        "from keras.layers import Dense, Dropout, Conv1D, LeakyReLU, Flatten,Reshape,MaxPooling1D, BatchNormalization, Activation\n",
        "import tensorflow as tf\n",
        "from keras.callbacks import History, EarlyStopping\n",
        "from keras.regularizers import l1,l2\n",
        "from keras import backend as K\n",
        "from keras.optimizers import Adadelta,Adam, RMSprop\n",
        "\n",
        "hist = History()"
      ],
      "execution_count": null,
      "outputs": [
        {
          "output_type": "stream",
          "text": [
            "Using TensorFlow backend.\n"
          ],
          "name": "stderr"
        }
      ]
    },
    {
      "cell_type": "code",
      "metadata": {
        "id": "myqfi_ss25DD"
      },
      "source": [
        ""
      ],
      "execution_count": null,
      "outputs": []
    },
    {
      "cell_type": "code",
      "metadata": {
        "id": "y45jYAc7jdE_"
      },
      "source": [
        "model = Sequential()\n",
        "model.add(Dense(500, kernel_initializer = \"glorot_normal\",input_shape=(Xtr.shape[1],)))\n",
        "model.add(BatchNormalization(axis=-1, momentum=0.999, epsilon=0.001, center=True, scale=False, beta_initializer='zeros', gamma_initializer='ones', moving_mean_initializer='zeros', moving_variance_initializer='ones', beta_regularizer=None, gamma_regularizer=None, beta_constraint=None, gamma_constraint=None))\n",
        "model.add(Activation('relu'))\n",
        "model.add(Dropout(rate=0.5))\n",
        "\n",
        "#model.add(Reshape(input_shape=(200,), target_shape=(200, 1)))\n",
        "#model.add(Conv1D(1000,activation='relu', kernel_initializer = \"VarianceScaling\",kernel_size=15,activity_regularizer=l2(l=0.001)))\n",
        "#model.add(MaxPooling1D(pool_size=30,strides=2))\n",
        "#model.add(Conv1D(100,activation='relu', kernel_initializer = \"VarianceScaling\",kernel_size=20))\n",
        "#model.add(MaxPooling1D(pool_size=30,strides=2))\n",
        "#model.add(LeakyReLU())\n",
        "#model.add(Flatten())\n",
        "#model.add(Dropout(rate=0.7))\n",
        "model.add(Dense(200, kernel_initializer = \"glorot_normal\"))\n",
        "model.add(BatchNormalization(axis=-1, momentum=0.99, epsilon=0.00003, center=True, scale=True, beta_initializer='zeros', gamma_initializer='ones', moving_mean_initializer='zeros', moving_variance_initializer='ones', beta_regularizer=None, gamma_regularizer=None, beta_constraint=None, gamma_constraint=None))\n",
        "model.add(Activation('relu'))\n",
        "model.add(Dropout(rate=0.52))\n",
        "model.add(Dense(80, kernel_initializer = \"VarianceScaling\"))\n",
        "model.add(BatchNormalization(axis=-1, momentum=0.999, epsilon=0.00003, center=True, scale=True, beta_initializer='zeros', gamma_initializer='ones', moving_mean_initializer='zeros', moving_variance_initializer='ones', beta_regularizer=None, gamma_regularizer=None, beta_constraint=None, gamma_constraint=None))\n",
        "model.add(Activation('relu'))\n",
        "#model.add(Dense(100,activation='relu', kernel_initializer = \"VarianceScaling\"))\n",
        "#model.add(BatchNormalization(axis=-1, momentum=0.999, epsilon=0.00001, center=True, scale=True, beta_initializer='zeros', gamma_initializer='ones', moving_mean_initializer='zeros', moving_variance_initializer='ones', beta_regularizer=None, gamma_regularizer=None, beta_constraint=None, gamma_constraint=None))\n",
        "model.add(Dropout(rate=0.54))\n",
        "#model.add(Dense(50,activation='relu', kernel_initializer = \"VarianceScaling\"))\n",
        "#model.add(Dropout(rate=0.7))\n",
        "model.add(Dense(20, kernel_initializer = \"glorot_normal\"))\n",
        "model.add(BatchNormalization(axis=-1, momentum=0.99, epsilon=0.00003, center=True, scale=True, beta_initializer='zeros', gamma_initializer='ones', moving_mean_initializer='zeros', moving_variance_initializer='ones', beta_regularizer=None, gamma_regularizer=None, beta_constraint=None, gamma_constraint=None))\n",
        "model.add(Activation('relu'))\n",
        "model.add(Dropout(rate=0.4))\n",
        "model.add(Dense(1,kernel_initializer='glorot_normal',activation='linear'))"
      ],
      "execution_count": null,
      "outputs": []
    },
    {
      "cell_type": "code",
      "metadata": {
        "id": "8T7atavHd5Ep",
        "colab": {
          "base_uri": "https://localhost:8080/",
          "height": 714
        },
        "outputId": "d6243772-1b03-4a72-8f0b-e0ec29d18f77"
      },
      "source": [
        "model.summary()"
      ],
      "execution_count": null,
      "outputs": [
        {
          "output_type": "stream",
          "text": [
            "_________________________________________________________________\n",
            "Layer (type)                 Output Shape              Param #   \n",
            "=================================================================\n",
            "dense_6 (Dense)              (None, 500)               40000     \n",
            "_________________________________________________________________\n",
            "batch_normalization_5 (Batch (None, 500)               1500      \n",
            "_________________________________________________________________\n",
            "activation_5 (Activation)    (None, 500)               0         \n",
            "_________________________________________________________________\n",
            "dropout_5 (Dropout)          (None, 500)               0         \n",
            "_________________________________________________________________\n",
            "dense_7 (Dense)              (None, 200)               100200    \n",
            "_________________________________________________________________\n",
            "batch_normalization_6 (Batch (None, 200)               800       \n",
            "_________________________________________________________________\n",
            "activation_6 (Activation)    (None, 200)               0         \n",
            "_________________________________________________________________\n",
            "dropout_6 (Dropout)          (None, 200)               0         \n",
            "_________________________________________________________________\n",
            "dense_8 (Dense)              (None, 80)                16080     \n",
            "_________________________________________________________________\n",
            "batch_normalization_7 (Batch (None, 80)                320       \n",
            "_________________________________________________________________\n",
            "activation_7 (Activation)    (None, 80)                0         \n",
            "_________________________________________________________________\n",
            "dropout_7 (Dropout)          (None, 80)                0         \n",
            "_________________________________________________________________\n",
            "dense_9 (Dense)              (None, 20)                1620      \n",
            "_________________________________________________________________\n",
            "batch_normalization_8 (Batch (None, 20)                80        \n",
            "_________________________________________________________________\n",
            "activation_8 (Activation)    (None, 20)                0         \n",
            "_________________________________________________________________\n",
            "dropout_8 (Dropout)          (None, 20)                0         \n",
            "_________________________________________________________________\n",
            "dense_10 (Dense)             (None, 1)                 21        \n",
            "=================================================================\n",
            "Total params: 160,621\n",
            "Trainable params: 159,021\n",
            "Non-trainable params: 1,600\n",
            "_________________________________________________________________\n"
          ],
          "name": "stdout"
        }
      ]
    },
    {
      "cell_type": "code",
      "metadata": {
        "id": "wolUYOcMyOHD",
        "colab": {
          "base_uri": "https://localhost:8080/",
          "height": 34
        },
        "outputId": "0f9544cf-0001-4803-fb10-b27d398b107e"
      },
      "source": [
        "K.tensorflow_backend._get_available_gpus()"
      ],
      "execution_count": null,
      "outputs": [
        {
          "output_type": "execute_result",
          "data": {
            "text/plain": [
              "['/job:localhost/replica:0/task:0/device:GPU:0']"
            ]
          },
          "metadata": {
            "tags": []
          },
          "execution_count": 59
        }
      ]
    },
    {
      "cell_type": "code",
      "metadata": {
        "id": "QycbV6eEkJYW",
        "colab": {
          "base_uri": "https://localhost:8080/",
          "height": 10234
        },
        "outputId": "de289fbf-4cda-4abe-f6d9-2144a93d905c"
      },
      "source": [
        "def root_mean_squared_error(y_true, y_pred):\n",
        "        return K.sqrt(K.mean(K.square(np.float128(y_pred - y_true)), axis=-1)) \n",
        "\n",
        "model.compile(optimizer=Adam(lr=0.0001,beta_1=0.92,beta_2=0.9995,decay=1e-7),loss='mean_squared_error',metrics=['mean_absolute_error'])\n",
        "model.fit(Xtr,Y,epochs=300,callbacks=[hist])"
      ],
      "execution_count": null,
      "outputs": [
        {
          "output_type": "stream",
          "text": [
            "Epoch 1/300\n",
            "1456/1456 [==============================] - 1s 1ms/step - loss: 160.0978 - mean_absolute_error: 12.6033\n",
            "Epoch 2/300\n",
            "1456/1456 [==============================] - 0s 263us/step - loss: 159.5587 - mean_absolute_error: 12.5825\n",
            "Epoch 3/300\n",
            "1456/1456 [==============================] - 0s 252us/step - loss: 158.4123 - mean_absolute_error: 12.5417\n",
            "Epoch 4/300\n",
            "1456/1456 [==============================] - 0s 271us/step - loss: 157.0045 - mean_absolute_error: 12.4862\n",
            "Epoch 5/300\n",
            "1456/1456 [==============================] - 0s 255us/step - loss: 154.5883 - mean_absolute_error: 12.3926\n",
            "Epoch 6/300\n",
            "1456/1456 [==============================] - 0s 255us/step - loss: 154.2434 - mean_absolute_error: 12.3784\n",
            "Epoch 7/300\n",
            "1456/1456 [==============================] - 0s 264us/step - loss: 152.1940 - mean_absolute_error: 12.2934\n",
            "Epoch 8/300\n",
            "1456/1456 [==============================] - 0s 259us/step - loss: 150.4544 - mean_absolute_error: 12.2225\n",
            "Epoch 9/300\n",
            "1456/1456 [==============================] - 0s 252us/step - loss: 149.7077 - mean_absolute_error: 12.1901\n",
            "Epoch 10/300\n",
            "1456/1456 [==============================] - 0s 254us/step - loss: 148.2463 - mean_absolute_error: 12.1348\n",
            "Epoch 11/300\n",
            "1456/1456 [==============================] - 0s 259us/step - loss: 146.0736 - mean_absolute_error: 12.0420\n",
            "Epoch 12/300\n",
            "1456/1456 [==============================] - 0s 266us/step - loss: 145.6220 - mean_absolute_error: 12.0263\n",
            "Epoch 13/300\n",
            "1456/1456 [==============================] - 0s 259us/step - loss: 144.9575 - mean_absolute_error: 11.9953\n",
            "Epoch 14/300\n",
            "1456/1456 [==============================] - 0s 263us/step - loss: 143.6316 - mean_absolute_error: 11.9387\n",
            "Epoch 15/300\n",
            "1456/1456 [==============================] - 0s 264us/step - loss: 141.5487 - mean_absolute_error: 11.8506\n",
            "Epoch 16/300\n",
            "1456/1456 [==============================] - 0s 252us/step - loss: 139.6065 - mean_absolute_error: 11.7714\n",
            "Epoch 17/300\n",
            "1456/1456 [==============================] - 0s 258us/step - loss: 139.9058 - mean_absolute_error: 11.7847\n",
            "Epoch 18/300\n",
            "1456/1456 [==============================] - 0s 269us/step - loss: 138.4225 - mean_absolute_error: 11.7195\n",
            "Epoch 19/300\n",
            "1456/1456 [==============================] - 0s 261us/step - loss: 136.6484 - mean_absolute_error: 11.6450\n",
            "Epoch 20/300\n",
            "1456/1456 [==============================] - 0s 256us/step - loss: 135.7720 - mean_absolute_error: 11.6058\n",
            "Epoch 21/300\n",
            "1456/1456 [==============================] - 0s 259us/step - loss: 134.6016 - mean_absolute_error: 11.5526\n",
            "Epoch 22/300\n",
            "1456/1456 [==============================] - 0s 255us/step - loss: 133.9606 - mean_absolute_error: 11.5286\n",
            "Epoch 23/300\n",
            "1456/1456 [==============================] - 0s 264us/step - loss: 131.6700 - mean_absolute_error: 11.4278\n",
            "Epoch 24/300\n",
            "1456/1456 [==============================] - 0s 255us/step - loss: 130.9946 - mean_absolute_error: 11.3960\n",
            "Epoch 25/300\n",
            "1456/1456 [==============================] - 0s 292us/step - loss: 130.0810 - mean_absolute_error: 11.3551\n",
            "Epoch 26/300\n",
            "1456/1456 [==============================] - 0s 302us/step - loss: 128.5805 - mean_absolute_error: 11.2836\n",
            "Epoch 27/300\n",
            "1456/1456 [==============================] - 0s 298us/step - loss: 128.7535 - mean_absolute_error: 11.2971\n",
            "Epoch 28/300\n",
            "1456/1456 [==============================] - 0s 303us/step - loss: 127.0822 - mean_absolute_error: 11.2188\n",
            "Epoch 29/300\n",
            "1456/1456 [==============================] - 0s 304us/step - loss: 125.7947 - mean_absolute_error: 11.1628\n",
            "Epoch 30/300\n",
            "1456/1456 [==============================] - 0s 299us/step - loss: 125.2391 - mean_absolute_error: 11.1330\n",
            "Epoch 31/300\n",
            "1456/1456 [==============================] - 0s 310us/step - loss: 124.3004 - mean_absolute_error: 11.0940\n",
            "Epoch 32/300\n",
            "1456/1456 [==============================] - 0s 301us/step - loss: 123.2921 - mean_absolute_error: 11.0397\n",
            "Epoch 33/300\n",
            "1456/1456 [==============================] - 0s 306us/step - loss: 121.6185 - mean_absolute_error: 10.9672\n",
            "Epoch 34/300\n",
            "1456/1456 [==============================] - 0s 298us/step - loss: 121.3705 - mean_absolute_error: 10.9550\n",
            "Epoch 35/300\n",
            "1456/1456 [==============================] - 0s 304us/step - loss: 120.0151 - mean_absolute_error: 10.8934\n",
            "Epoch 36/300\n",
            "1456/1456 [==============================] - 0s 305us/step - loss: 118.4539 - mean_absolute_error: 10.8185\n",
            "Epoch 37/300\n",
            "1456/1456 [==============================] - 0s 263us/step - loss: 118.3558 - mean_absolute_error: 10.8132\n",
            "Epoch 38/300\n",
            "1456/1456 [==============================] - 0s 258us/step - loss: 116.3013 - mean_absolute_error: 10.7145\n",
            "Epoch 39/300\n",
            "1456/1456 [==============================] - 0s 252us/step - loss: 115.4165 - mean_absolute_error: 10.6739\n",
            "Epoch 40/300\n",
            "1456/1456 [==============================] - 0s 261us/step - loss: 113.9143 - mean_absolute_error: 10.5980\n",
            "Epoch 41/300\n",
            "1456/1456 [==============================] - 0s 262us/step - loss: 113.7613 - mean_absolute_error: 10.5967\n",
            "Epoch 42/300\n",
            "1456/1456 [==============================] - 0s 253us/step - loss: 111.9657 - mean_absolute_error: 10.5085\n",
            "Epoch 43/300\n",
            "1456/1456 [==============================] - 0s 263us/step - loss: 111.8050 - mean_absolute_error: 10.4940\n",
            "Epoch 44/300\n",
            "1456/1456 [==============================] - 0s 260us/step - loss: 110.0119 - mean_absolute_error: 10.4041\n",
            "Epoch 45/300\n",
            "1456/1456 [==============================] - 0s 256us/step - loss: 108.8376 - mean_absolute_error: 10.3494\n",
            "Epoch 46/300\n",
            "1456/1456 [==============================] - 0s 272us/step - loss: 108.7294 - mean_absolute_error: 10.3415\n",
            "Epoch 47/300\n",
            "1456/1456 [==============================] - 0s 257us/step - loss: 108.0784 - mean_absolute_error: 10.3034\n",
            "Epoch 48/300\n",
            "1456/1456 [==============================] - 0s 259us/step - loss: 106.9717 - mean_absolute_error: 10.2573\n",
            "Epoch 49/300\n",
            "1456/1456 [==============================] - 0s 265us/step - loss: 105.0243 - mean_absolute_error: 10.1570\n",
            "Epoch 50/300\n",
            "1456/1456 [==============================] - 0s 257us/step - loss: 104.1117 - mean_absolute_error: 10.1088\n",
            "Epoch 51/300\n",
            "1456/1456 [==============================] - 0s 263us/step - loss: 103.0190 - mean_absolute_error: 10.0514\n",
            "Epoch 52/300\n",
            "1456/1456 [==============================] - 0s 264us/step - loss: 102.7924 - mean_absolute_error: 10.0461\n",
            "Epoch 53/300\n",
            "1456/1456 [==============================] - 0s 265us/step - loss: 100.8773 - mean_absolute_error: 9.9331\n",
            "Epoch 54/300\n",
            "1456/1456 [==============================] - 0s 255us/step - loss: 99.6971 - mean_absolute_error: 9.8820\n",
            "Epoch 55/300\n",
            "1456/1456 [==============================] - 0s 260us/step - loss: 98.1282 - mean_absolute_error: 9.7933\n",
            "Epoch 56/300\n",
            "1456/1456 [==============================] - 0s 260us/step - loss: 97.1237 - mean_absolute_error: 9.7393\n",
            "Epoch 57/300\n",
            "1456/1456 [==============================] - 0s 252us/step - loss: 96.9718 - mean_absolute_error: 9.7294\n",
            "Epoch 58/300\n",
            "1456/1456 [==============================] - 0s 256us/step - loss: 95.9351 - mean_absolute_error: 9.6737\n",
            "Epoch 59/300\n",
            "1456/1456 [==============================] - 0s 253us/step - loss: 94.5059 - mean_absolute_error: 9.6020\n",
            "Epoch 60/300\n",
            "1456/1456 [==============================] - 0s 252us/step - loss: 93.3796 - mean_absolute_error: 9.5297\n",
            "Epoch 61/300\n",
            "1456/1456 [==============================] - 0s 250us/step - loss: 92.3373 - mean_absolute_error: 9.4833\n",
            "Epoch 62/300\n",
            "1456/1456 [==============================] - 0s 260us/step - loss: 91.8566 - mean_absolute_error: 9.4478\n",
            "Epoch 63/300\n",
            "1456/1456 [==============================] - 0s 252us/step - loss: 90.3331 - mean_absolute_error: 9.3695\n",
            "Epoch 64/300\n",
            "1456/1456 [==============================] - 0s 259us/step - loss: 89.5701 - mean_absolute_error: 9.3217\n",
            "Epoch 65/300\n",
            "1456/1456 [==============================] - 0s 259us/step - loss: 89.1494 - mean_absolute_error: 9.2886\n",
            "Epoch 66/300\n",
            "1456/1456 [==============================] - 0s 251us/step - loss: 86.8317 - mean_absolute_error: 9.1724\n",
            "Epoch 67/300\n",
            "1456/1456 [==============================] - 0s 277us/step - loss: 86.1899 - mean_absolute_error: 9.1270\n",
            "Epoch 68/300\n",
            "1456/1456 [==============================] - 0s 261us/step - loss: 85.4351 - mean_absolute_error: 9.0903\n",
            "Epoch 69/300\n",
            "1456/1456 [==============================] - 0s 259us/step - loss: 83.5731 - mean_absolute_error: 8.9782\n",
            "Epoch 70/300\n",
            "1456/1456 [==============================] - 0s 264us/step - loss: 82.4703 - mean_absolute_error: 8.9058\n",
            "Epoch 71/300\n",
            "1456/1456 [==============================] - 0s 248us/step - loss: 81.8011 - mean_absolute_error: 8.8796\n",
            "Epoch 72/300\n",
            "1456/1456 [==============================] - 0s 293us/step - loss: 82.1406 - mean_absolute_error: 8.8918\n",
            "Epoch 73/300\n",
            "1456/1456 [==============================] - 0s 294us/step - loss: 79.2771 - mean_absolute_error: 8.7285\n",
            "Epoch 74/300\n",
            "1456/1456 [==============================] - 0s 292us/step - loss: 79.5276 - mean_absolute_error: 8.7203\n",
            "Epoch 75/300\n",
            "1456/1456 [==============================] - 0s 314us/step - loss: 76.5587 - mean_absolute_error: 8.5502\n",
            "Epoch 76/300\n",
            "1456/1456 [==============================] - 0s 285us/step - loss: 76.0553 - mean_absolute_error: 8.5113\n",
            "Epoch 77/300\n",
            "1456/1456 [==============================] - 0s 299us/step - loss: 75.2249 - mean_absolute_error: 8.4610\n",
            "Epoch 78/300\n",
            "1456/1456 [==============================] - 0s 294us/step - loss: 75.3356 - mean_absolute_error: 8.4704\n",
            "Epoch 79/300\n",
            "1456/1456 [==============================] - 0s 292us/step - loss: 73.4456 - mean_absolute_error: 8.3463\n",
            "Epoch 80/300\n",
            "1456/1456 [==============================] - 0s 301us/step - loss: 70.8005 - mean_absolute_error: 8.1876\n",
            "Epoch 81/300\n",
            "1456/1456 [==============================] - 0s 301us/step - loss: 70.5993 - mean_absolute_error: 8.1664\n",
            "Epoch 82/300\n",
            "1456/1456 [==============================] - 0s 304us/step - loss: 70.2111 - mean_absolute_error: 8.1584\n",
            "Epoch 83/300\n",
            "1456/1456 [==============================] - 0s 293us/step - loss: 67.8849 - mean_absolute_error: 7.9995\n",
            "Epoch 84/300\n",
            "1456/1456 [==============================] - 0s 307us/step - loss: 67.0478 - mean_absolute_error: 7.9472\n",
            "Epoch 85/300\n",
            "1456/1456 [==============================] - 0s 291us/step - loss: 66.7091 - mean_absolute_error: 7.9067\n",
            "Epoch 86/300\n",
            "1456/1456 [==============================] - 0s 297us/step - loss: 64.4861 - mean_absolute_error: 7.7626\n",
            "Epoch 87/300\n",
            "1456/1456 [==============================] - 0s 300us/step - loss: 64.3047 - mean_absolute_error: 7.7522\n",
            "Epoch 88/300\n",
            "1456/1456 [==============================] - 0s 304us/step - loss: 62.6041 - mean_absolute_error: 7.6297\n",
            "Epoch 89/300\n",
            "1456/1456 [==============================] - 0s 301us/step - loss: 62.8934 - mean_absolute_error: 7.6300\n",
            "Epoch 90/300\n",
            "1456/1456 [==============================] - 0s 299us/step - loss: 60.3697 - mean_absolute_error: 7.4624\n",
            "Epoch 91/300\n",
            "1456/1456 [==============================] - 0s 291us/step - loss: 60.6442 - mean_absolute_error: 7.4981\n",
            "Epoch 92/300\n",
            "1456/1456 [==============================] - 0s 307us/step - loss: 59.0514 - mean_absolute_error: 7.3682\n",
            "Epoch 93/300\n",
            "1456/1456 [==============================] - 0s 302us/step - loss: 57.8467 - mean_absolute_error: 7.2942\n",
            "Epoch 94/300\n",
            "1456/1456 [==============================] - 0s 298us/step - loss: 56.8981 - mean_absolute_error: 7.2111\n",
            "Epoch 95/300\n",
            "1456/1456 [==============================] - 0s 263us/step - loss: 55.0359 - mean_absolute_error: 7.0757\n",
            "Epoch 96/300\n",
            "1456/1456 [==============================] - 0s 267us/step - loss: 55.3408 - mean_absolute_error: 7.0982\n",
            "Epoch 97/300\n",
            "1456/1456 [==============================] - 0s 256us/step - loss: 51.9948 - mean_absolute_error: 6.8780\n",
            "Epoch 98/300\n",
            "1456/1456 [==============================] - 0s 257us/step - loss: 52.8315 - mean_absolute_error: 6.9194\n",
            "Epoch 99/300\n",
            "1456/1456 [==============================] - 0s 261us/step - loss: 50.1907 - mean_absolute_error: 6.6880\n",
            "Epoch 100/300\n",
            "1456/1456 [==============================] - 0s 250us/step - loss: 51.4092 - mean_absolute_error: 6.7789\n",
            "Epoch 101/300\n",
            "1456/1456 [==============================] - 0s 259us/step - loss: 48.7969 - mean_absolute_error: 6.5804\n",
            "Epoch 102/300\n",
            "1456/1456 [==============================] - 0s 258us/step - loss: 48.3547 - mean_absolute_error: 6.5512\n",
            "Epoch 103/300\n",
            "1456/1456 [==============================] - 0s 260us/step - loss: 47.9539 - mean_absolute_error: 6.5136\n",
            "Epoch 104/300\n",
            "1456/1456 [==============================] - 0s 259us/step - loss: 47.1638 - mean_absolute_error: 6.4477\n",
            "Epoch 105/300\n",
            "1456/1456 [==============================] - 0s 256us/step - loss: 44.8222 - mean_absolute_error: 6.2698\n",
            "Epoch 106/300\n",
            "1456/1456 [==============================] - 0s 259us/step - loss: 43.8785 - mean_absolute_error: 6.1937\n",
            "Epoch 107/300\n",
            "1456/1456 [==============================] - 0s 258us/step - loss: 43.7620 - mean_absolute_error: 6.1789\n",
            "Epoch 108/300\n",
            "1456/1456 [==============================] - 0s 256us/step - loss: 43.3280 - mean_absolute_error: 6.1094\n",
            "Epoch 109/300\n",
            "1456/1456 [==============================] - 0s 259us/step - loss: 43.0010 - mean_absolute_error: 6.0590\n",
            "Epoch 110/300\n",
            "1456/1456 [==============================] - 0s 271us/step - loss: 40.9667 - mean_absolute_error: 5.8991\n",
            "Epoch 111/300\n",
            "1456/1456 [==============================] - 0s 259us/step - loss: 38.9868 - mean_absolute_error: 5.7375\n",
            "Epoch 112/300\n",
            "1456/1456 [==============================] - 0s 253us/step - loss: 38.6031 - mean_absolute_error: 5.7137\n",
            "Epoch 113/300\n",
            "1456/1456 [==============================] - 0s 267us/step - loss: 38.7511 - mean_absolute_error: 5.7346\n",
            "Epoch 114/300\n",
            "1456/1456 [==============================] - 0s 258us/step - loss: 36.5918 - mean_absolute_error: 5.5105\n",
            "Epoch 115/300\n",
            "1456/1456 [==============================] - 0s 264us/step - loss: 36.9589 - mean_absolute_error: 5.5595\n",
            "Epoch 116/300\n",
            "1456/1456 [==============================] - 0s 262us/step - loss: 35.1117 - mean_absolute_error: 5.3626\n",
            "Epoch 117/300\n",
            "1456/1456 [==============================] - 0s 256us/step - loss: 35.4086 - mean_absolute_error: 5.3872\n",
            "Epoch 118/300\n",
            "1456/1456 [==============================] - 0s 265us/step - loss: 34.5025 - mean_absolute_error: 5.3061\n",
            "Epoch 119/300\n",
            "1456/1456 [==============================] - 0s 261us/step - loss: 34.0133 - mean_absolute_error: 5.2616\n",
            "Epoch 120/300\n",
            "1456/1456 [==============================] - 0s 262us/step - loss: 33.1792 - mean_absolute_error: 5.1721\n",
            "Epoch 121/300\n",
            "1456/1456 [==============================] - 0s 263us/step - loss: 33.1105 - mean_absolute_error: 5.1609\n",
            "Epoch 122/300\n",
            "1456/1456 [==============================] - 0s 257us/step - loss: 30.3683 - mean_absolute_error: 4.8709\n",
            "Epoch 123/300\n",
            "1456/1456 [==============================] - 0s 256us/step - loss: 29.9879 - mean_absolute_error: 4.8717\n",
            "Epoch 124/300\n",
            "1456/1456 [==============================] - 0s 260us/step - loss: 30.7216 - mean_absolute_error: 4.9063\n",
            "Epoch 125/300\n",
            "1456/1456 [==============================] - 0s 253us/step - loss: 29.7186 - mean_absolute_error: 4.8145\n",
            "Epoch 126/300\n",
            "1456/1456 [==============================] - 0s 261us/step - loss: 28.4254 - mean_absolute_error: 4.6890\n",
            "Epoch 127/300\n",
            "1456/1456 [==============================] - 0s 254us/step - loss: 29.5344 - mean_absolute_error: 4.7665\n",
            "Epoch 128/300\n",
            "1456/1456 [==============================] - 0s 262us/step - loss: 27.4467 - mean_absolute_error: 4.5655\n",
            "Epoch 129/300\n",
            "1456/1456 [==============================] - 0s 260us/step - loss: 26.6448 - mean_absolute_error: 4.5004\n",
            "Epoch 130/300\n",
            "1456/1456 [==============================] - 0s 262us/step - loss: 27.7137 - mean_absolute_error: 4.5828\n",
            "Epoch 131/300\n",
            "1456/1456 [==============================] - 0s 254us/step - loss: 25.5611 - mean_absolute_error: 4.3408\n",
            "Epoch 132/300\n",
            "1456/1456 [==============================] - 0s 262us/step - loss: 25.7615 - mean_absolute_error: 4.3350\n",
            "Epoch 133/300\n",
            "1456/1456 [==============================] - 0s 260us/step - loss: 25.2084 - mean_absolute_error: 4.3325\n",
            "Epoch 134/300\n",
            "1456/1456 [==============================] - 0s 261us/step - loss: 23.8561 - mean_absolute_error: 4.1686\n",
            "Epoch 135/300\n",
            "1456/1456 [==============================] - 0s 258us/step - loss: 23.4311 - mean_absolute_error: 4.1445\n",
            "Epoch 136/300\n",
            "1456/1456 [==============================] - 0s 257us/step - loss: 23.6484 - mean_absolute_error: 4.1234\n",
            "Epoch 137/300\n",
            "1456/1456 [==============================] - 0s 262us/step - loss: 22.4633 - mean_absolute_error: 4.0133\n",
            "Epoch 138/300\n",
            "1456/1456 [==============================] - 0s 263us/step - loss: 22.4099 - mean_absolute_error: 4.0195\n",
            "Epoch 139/300\n",
            "1456/1456 [==============================] - 0s 250us/step - loss: 21.3183 - mean_absolute_error: 3.8747\n",
            "Epoch 140/300\n",
            "1456/1456 [==============================] - 0s 252us/step - loss: 22.1143 - mean_absolute_error: 3.9449\n",
            "Epoch 141/300\n",
            "1456/1456 [==============================] - 0s 258us/step - loss: 20.5721 - mean_absolute_error: 3.8075\n",
            "Epoch 142/300\n",
            "1456/1456 [==============================] - 0s 261us/step - loss: 21.3937 - mean_absolute_error: 3.9045\n",
            "Epoch 143/300\n",
            "1456/1456 [==============================] - 0s 260us/step - loss: 19.9252 - mean_absolute_error: 3.7499\n",
            "Epoch 144/300\n",
            "1456/1456 [==============================] - 0s 259us/step - loss: 19.2227 - mean_absolute_error: 3.6415\n",
            "Epoch 145/300\n",
            "1456/1456 [==============================] - 0s 261us/step - loss: 19.7288 - mean_absolute_error: 3.6921\n",
            "Epoch 146/300\n",
            "1456/1456 [==============================] - 0s 258us/step - loss: 18.2700 - mean_absolute_error: 3.5019\n",
            "Epoch 147/300\n",
            "1456/1456 [==============================] - 0s 266us/step - loss: 19.5336 - mean_absolute_error: 3.6817\n",
            "Epoch 148/300\n",
            "1456/1456 [==============================] - 0s 257us/step - loss: 18.5584 - mean_absolute_error: 3.5682\n",
            "Epoch 149/300\n",
            "1456/1456 [==============================] - 0s 258us/step - loss: 17.6473 - mean_absolute_error: 3.4607\n",
            "Epoch 150/300\n",
            "1456/1456 [==============================] - 0s 261us/step - loss: 17.5614 - mean_absolute_error: 3.4170\n",
            "Epoch 151/300\n",
            "1456/1456 [==============================] - 0s 264us/step - loss: 17.4691 - mean_absolute_error: 3.4230\n",
            "Epoch 152/300\n",
            "1456/1456 [==============================] - 0s 253us/step - loss: 17.1982 - mean_absolute_error: 3.4096\n",
            "Epoch 153/300\n",
            "1456/1456 [==============================] - 0s 259us/step - loss: 16.9687 - mean_absolute_error: 3.3521\n",
            "Epoch 154/300\n",
            "1456/1456 [==============================] - 0s 254us/step - loss: 17.1698 - mean_absolute_error: 3.3703\n",
            "Epoch 155/300\n",
            "1456/1456 [==============================] - 0s 256us/step - loss: 16.8602 - mean_absolute_error: 3.3547\n",
            "Epoch 156/300\n",
            "1456/1456 [==============================] - 0s 260us/step - loss: 17.1697 - mean_absolute_error: 3.3900\n",
            "Epoch 157/300\n",
            "1456/1456 [==============================] - 0s 263us/step - loss: 15.7787 - mean_absolute_error: 3.2109\n",
            "Epoch 158/300\n",
            "1456/1456 [==============================] - 0s 270us/step - loss: 15.7292 - mean_absolute_error: 3.2190\n",
            "Epoch 159/300\n",
            "1456/1456 [==============================] - 0s 268us/step - loss: 16.0069 - mean_absolute_error: 3.2617\n",
            "Epoch 160/300\n",
            "1456/1456 [==============================] - 0s 259us/step - loss: 15.5401 - mean_absolute_error: 3.1972\n",
            "Epoch 161/300\n",
            "1456/1456 [==============================] - 0s 266us/step - loss: 15.5370 - mean_absolute_error: 3.2013\n",
            "Epoch 162/300\n",
            "1456/1456 [==============================] - 0s 262us/step - loss: 14.8475 - mean_absolute_error: 3.0973\n",
            "Epoch 163/300\n",
            "1456/1456 [==============================] - 0s 254us/step - loss: 15.0599 - mean_absolute_error: 3.1590\n",
            "Epoch 164/300\n",
            "1456/1456 [==============================] - 0s 260us/step - loss: 15.2512 - mean_absolute_error: 3.1220\n",
            "Epoch 165/300\n",
            "1456/1456 [==============================] - 0s 256us/step - loss: 14.1921 - mean_absolute_error: 3.0380\n",
            "Epoch 166/300\n",
            "1456/1456 [==============================] - 0s 259us/step - loss: 14.1992 - mean_absolute_error: 3.0491\n",
            "Epoch 167/300\n",
            "1456/1456 [==============================] - 0s 275us/step - loss: 16.1230 - mean_absolute_error: 3.2725\n",
            "Epoch 168/300\n",
            "1456/1456 [==============================] - 0s 259us/step - loss: 14.3490 - mean_absolute_error: 3.0435\n",
            "Epoch 169/300\n",
            "1456/1456 [==============================] - 0s 272us/step - loss: 13.3351 - mean_absolute_error: 2.9629\n",
            "Epoch 170/300\n",
            "1456/1456 [==============================] - 0s 259us/step - loss: 14.3469 - mean_absolute_error: 3.0460\n",
            "Epoch 171/300\n",
            "1456/1456 [==============================] - 0s 258us/step - loss: 12.6988 - mean_absolute_error: 2.9039\n",
            "Epoch 172/300\n",
            "1456/1456 [==============================] - 0s 261us/step - loss: 14.2597 - mean_absolute_error: 3.0281\n",
            "Epoch 173/300\n",
            "1456/1456 [==============================] - 0s 259us/step - loss: 14.4733 - mean_absolute_error: 3.1071\n",
            "Epoch 174/300\n",
            "1456/1456 [==============================] - 0s 255us/step - loss: 14.1747 - mean_absolute_error: 3.0347\n",
            "Epoch 175/300\n",
            "1456/1456 [==============================] - 0s 262us/step - loss: 14.0955 - mean_absolute_error: 3.0314\n",
            "Epoch 176/300\n",
            "1456/1456 [==============================] - 0s 256us/step - loss: 13.5010 - mean_absolute_error: 2.9756\n",
            "Epoch 177/300\n",
            "1456/1456 [==============================] - 0s 255us/step - loss: 13.9214 - mean_absolute_error: 3.0383\n",
            "Epoch 178/300\n",
            "1456/1456 [==============================] - 0s 256us/step - loss: 13.3885 - mean_absolute_error: 2.9282\n",
            "Epoch 179/300\n",
            "1456/1456 [==============================] - 0s 256us/step - loss: 13.3893 - mean_absolute_error: 2.9444\n",
            "Epoch 180/300\n",
            "1456/1456 [==============================] - 0s 264us/step - loss: 13.9545 - mean_absolute_error: 3.0414\n",
            "Epoch 181/300\n",
            "1456/1456 [==============================] - 0s 267us/step - loss: 13.8085 - mean_absolute_error: 3.0086\n",
            "Epoch 182/300\n",
            "1456/1456 [==============================] - 0s 249us/step - loss: 12.9498 - mean_absolute_error: 2.8759\n",
            "Epoch 183/300\n",
            "1456/1456 [==============================] - 0s 264us/step - loss: 12.7753 - mean_absolute_error: 2.8776\n",
            "Epoch 184/300\n",
            "1456/1456 [==============================] - 0s 259us/step - loss: 13.3432 - mean_absolute_error: 2.9357\n",
            "Epoch 185/300\n",
            "1456/1456 [==============================] - 0s 267us/step - loss: 12.6760 - mean_absolute_error: 2.8696\n",
            "Epoch 186/300\n",
            "1456/1456 [==============================] - 0s 274us/step - loss: 12.4730 - mean_absolute_error: 2.8313\n",
            "Epoch 187/300\n",
            "1456/1456 [==============================] - 0s 253us/step - loss: 12.8931 - mean_absolute_error: 2.8989\n",
            "Epoch 188/300\n",
            "1456/1456 [==============================] - 0s 259us/step - loss: 12.6565 - mean_absolute_error: 2.8671\n",
            "Epoch 189/300\n",
            "1456/1456 [==============================] - 0s 250us/step - loss: 12.9348 - mean_absolute_error: 2.8816\n",
            "Epoch 190/300\n",
            "1456/1456 [==============================] - 0s 253us/step - loss: 13.3305 - mean_absolute_error: 2.9425\n",
            "Epoch 191/300\n",
            "1456/1456 [==============================] - 0s 262us/step - loss: 12.8220 - mean_absolute_error: 2.9114\n",
            "Epoch 192/300\n",
            "1456/1456 [==============================] - 0s 254us/step - loss: 12.8801 - mean_absolute_error: 2.8920\n",
            "Epoch 193/300\n",
            "1456/1456 [==============================] - 0s 258us/step - loss: 13.1474 - mean_absolute_error: 2.9538\n",
            "Epoch 194/300\n",
            "1456/1456 [==============================] - 0s 264us/step - loss: 11.9372 - mean_absolute_error: 2.7747\n",
            "Epoch 195/300\n",
            "1456/1456 [==============================] - 0s 259us/step - loss: 12.0714 - mean_absolute_error: 2.7878\n",
            "Epoch 196/300\n",
            "1456/1456 [==============================] - 0s 262us/step - loss: 12.6772 - mean_absolute_error: 2.8806\n",
            "Epoch 197/300\n",
            "1456/1456 [==============================] - 0s 256us/step - loss: 12.7020 - mean_absolute_error: 2.8403\n",
            "Epoch 198/300\n",
            "1456/1456 [==============================] - 0s 263us/step - loss: 12.8497 - mean_absolute_error: 2.8993\n",
            "Epoch 199/300\n",
            "1456/1456 [==============================] - 0s 259us/step - loss: 12.5961 - mean_absolute_error: 2.8324\n",
            "Epoch 200/300\n",
            "1456/1456 [==============================] - 0s 257us/step - loss: 12.5042 - mean_absolute_error: 2.8660\n",
            "Epoch 201/300\n",
            "1456/1456 [==============================] - 0s 263us/step - loss: 12.3226 - mean_absolute_error: 2.8430\n",
            "Epoch 202/300\n",
            "1456/1456 [==============================] - 0s 262us/step - loss: 12.1125 - mean_absolute_error: 2.8205\n",
            "Epoch 203/300\n",
            "1456/1456 [==============================] - 0s 255us/step - loss: 12.6579 - mean_absolute_error: 2.8411\n",
            "Epoch 204/300\n",
            "1456/1456 [==============================] - 0s 261us/step - loss: 12.1682 - mean_absolute_error: 2.8248\n",
            "Epoch 205/300\n",
            "1456/1456 [==============================] - 0s 262us/step - loss: 12.9066 - mean_absolute_error: 2.8602\n",
            "Epoch 206/300\n",
            "1456/1456 [==============================] - 0s 251us/step - loss: 12.2354 - mean_absolute_error: 2.7770\n",
            "Epoch 207/300\n",
            "1456/1456 [==============================] - 0s 262us/step - loss: 12.6366 - mean_absolute_error: 2.8384\n",
            "Epoch 208/300\n",
            "1456/1456 [==============================] - 0s 251us/step - loss: 12.3757 - mean_absolute_error: 2.8534\n",
            "Epoch 209/300\n",
            "1456/1456 [==============================] - 0s 261us/step - loss: 12.3838 - mean_absolute_error: 2.8481\n",
            "Epoch 210/300\n",
            "1456/1456 [==============================] - 0s 262us/step - loss: 11.7902 - mean_absolute_error: 2.7453\n",
            "Epoch 211/300\n",
            "1456/1456 [==============================] - 0s 253us/step - loss: 12.3891 - mean_absolute_error: 2.8263\n",
            "Epoch 212/300\n",
            "1456/1456 [==============================] - 0s 263us/step - loss: 12.1905 - mean_absolute_error: 2.7740\n",
            "Epoch 213/300\n",
            "1456/1456 [==============================] - 0s 256us/step - loss: 11.2352 - mean_absolute_error: 2.7110\n",
            "Epoch 214/300\n",
            "1456/1456 [==============================] - 0s 263us/step - loss: 11.4880 - mean_absolute_error: 2.7314\n",
            "Epoch 215/300\n",
            "1456/1456 [==============================] - 0s 256us/step - loss: 11.5562 - mean_absolute_error: 2.7229\n",
            "Epoch 216/300\n",
            "1456/1456 [==============================] - 0s 253us/step - loss: 11.5223 - mean_absolute_error: 2.7004\n",
            "Epoch 217/300\n",
            "1456/1456 [==============================] - 0s 249us/step - loss: 12.2316 - mean_absolute_error: 2.8244\n",
            "Epoch 218/300\n",
            "1456/1456 [==============================] - 0s 263us/step - loss: 11.3222 - mean_absolute_error: 2.6885\n",
            "Epoch 219/300\n",
            "1456/1456 [==============================] - 0s 261us/step - loss: 10.8483 - mean_absolute_error: 2.6249\n",
            "Epoch 220/300\n",
            "1456/1456 [==============================] - 0s 263us/step - loss: 12.1374 - mean_absolute_error: 2.8073\n",
            "Epoch 221/300\n",
            "1456/1456 [==============================] - 0s 256us/step - loss: 12.2970 - mean_absolute_error: 2.8055\n",
            "Epoch 222/300\n",
            "1456/1456 [==============================] - 0s 257us/step - loss: 11.5640 - mean_absolute_error: 2.7065\n",
            "Epoch 223/300\n",
            "1456/1456 [==============================] - 0s 261us/step - loss: 10.6017 - mean_absolute_error: 2.6046\n",
            "Epoch 224/300\n",
            "1456/1456 [==============================] - 0s 259us/step - loss: 11.6795 - mean_absolute_error: 2.7345\n",
            "Epoch 225/300\n",
            "1456/1456 [==============================] - 0s 257us/step - loss: 10.9387 - mean_absolute_error: 2.6306\n",
            "Epoch 226/300\n",
            "1456/1456 [==============================] - 0s 259us/step - loss: 11.5416 - mean_absolute_error: 2.7579\n",
            "Epoch 227/300\n",
            "1456/1456 [==============================] - 0s 253us/step - loss: 11.5008 - mean_absolute_error: 2.7272\n",
            "Epoch 228/300\n",
            "1456/1456 [==============================] - 0s 263us/step - loss: 11.0886 - mean_absolute_error: 2.6796\n",
            "Epoch 229/300\n",
            "1456/1456 [==============================] - 0s 251us/step - loss: 11.9614 - mean_absolute_error: 2.7932\n",
            "Epoch 230/300\n",
            "1456/1456 [==============================] - 0s 249us/step - loss: 11.4044 - mean_absolute_error: 2.7182\n",
            "Epoch 231/300\n",
            "1456/1456 [==============================] - 0s 267us/step - loss: 11.2704 - mean_absolute_error: 2.6855\n",
            "Epoch 232/300\n",
            "1456/1456 [==============================] - 0s 257us/step - loss: 12.0748 - mean_absolute_error: 2.8092\n",
            "Epoch 233/300\n",
            "1456/1456 [==============================] - 0s 256us/step - loss: 11.1442 - mean_absolute_error: 2.6811\n",
            "Epoch 234/300\n",
            "1456/1456 [==============================] - 0s 263us/step - loss: 10.7989 - mean_absolute_error: 2.6511\n",
            "Epoch 235/300\n",
            "1456/1456 [==============================] - 0s 255us/step - loss: 11.3167 - mean_absolute_error: 2.7093\n",
            "Epoch 236/300\n",
            "1456/1456 [==============================] - 0s 261us/step - loss: 11.3220 - mean_absolute_error: 2.6891\n",
            "Epoch 237/300\n",
            "1456/1456 [==============================] - 0s 267us/step - loss: 11.2809 - mean_absolute_error: 2.6958\n",
            "Epoch 238/300\n",
            "1456/1456 [==============================] - 0s 255us/step - loss: 11.7385 - mean_absolute_error: 2.7610\n",
            "Epoch 239/300\n",
            "1456/1456 [==============================] - 0s 259us/step - loss: 11.2529 - mean_absolute_error: 2.6807\n",
            "Epoch 240/300\n",
            "1456/1456 [==============================] - 0s 255us/step - loss: 11.4295 - mean_absolute_error: 2.7466\n",
            "Epoch 241/300\n",
            "1456/1456 [==============================] - 0s 251us/step - loss: 10.3682 - mean_absolute_error: 2.5904\n",
            "Epoch 242/300\n",
            "1456/1456 [==============================] - 0s 261us/step - loss: 11.3024 - mean_absolute_error: 2.7120\n",
            "Epoch 243/300\n",
            "1456/1456 [==============================] - 0s 262us/step - loss: 11.0384 - mean_absolute_error: 2.6695\n",
            "Epoch 244/300\n",
            "1456/1456 [==============================] - 0s 259us/step - loss: 11.1998 - mean_absolute_error: 2.6435\n",
            "Epoch 245/300\n",
            "1456/1456 [==============================] - 0s 260us/step - loss: 11.1043 - mean_absolute_error: 2.6714\n",
            "Epoch 246/300\n",
            "1456/1456 [==============================] - 0s 258us/step - loss: 10.4798 - mean_absolute_error: 2.6018\n",
            "Epoch 247/300\n",
            "1456/1456 [==============================] - 0s 256us/step - loss: 11.1784 - mean_absolute_error: 2.6832\n",
            "Epoch 248/300\n",
            "1456/1456 [==============================] - 0s 260us/step - loss: 11.2327 - mean_absolute_error: 2.7114\n",
            "Epoch 249/300\n",
            "1456/1456 [==============================] - 0s 253us/step - loss: 11.1092 - mean_absolute_error: 2.6723\n",
            "Epoch 250/300\n",
            "1456/1456 [==============================] - 0s 262us/step - loss: 10.6927 - mean_absolute_error: 2.6304\n",
            "Epoch 251/300\n",
            "1456/1456 [==============================] - 0s 257us/step - loss: 10.6868 - mean_absolute_error: 2.6335\n",
            "Epoch 252/300\n",
            "1456/1456 [==============================] - 0s 260us/step - loss: 11.1020 - mean_absolute_error: 2.6648\n",
            "Epoch 253/300\n",
            "1456/1456 [==============================] - 0s 260us/step - loss: 10.6506 - mean_absolute_error: 2.6427\n",
            "Epoch 254/300\n",
            "1456/1456 [==============================] - 0s 263us/step - loss: 10.5082 - mean_absolute_error: 2.5929\n",
            "Epoch 255/300\n",
            "1456/1456 [==============================] - 0s 256us/step - loss: 11.0491 - mean_absolute_error: 2.6740\n",
            "Epoch 256/300\n",
            "1456/1456 [==============================] - 0s 265us/step - loss: 10.8397 - mean_absolute_error: 2.6226\n",
            "Epoch 257/300\n",
            "1456/1456 [==============================] - 0s 258us/step - loss: 10.2229 - mean_absolute_error: 2.5455\n",
            "Epoch 258/300\n",
            "1456/1456 [==============================] - 0s 259us/step - loss: 11.0913 - mean_absolute_error: 2.6900\n",
            "Epoch 259/300\n",
            "1456/1456 [==============================] - 0s 259us/step - loss: 10.5288 - mean_absolute_error: 2.5926\n",
            "Epoch 260/300\n",
            "1456/1456 [==============================] - 0s 252us/step - loss: 11.0060 - mean_absolute_error: 2.6465\n",
            "Epoch 261/300\n",
            "1456/1456 [==============================] - 0s 266us/step - loss: 11.1050 - mean_absolute_error: 2.6739\n",
            "Epoch 262/300\n",
            "1456/1456 [==============================] - 0s 257us/step - loss: 10.5701 - mean_absolute_error: 2.6143\n",
            "Epoch 263/300\n",
            "1456/1456 [==============================] - 0s 255us/step - loss: 10.6310 - mean_absolute_error: 2.6085\n",
            "Epoch 264/300\n",
            "1456/1456 [==============================] - 0s 264us/step - loss: 10.0850 - mean_absolute_error: 2.5381\n",
            "Epoch 265/300\n",
            "1456/1456 [==============================] - 0s 267us/step - loss: 9.9299 - mean_absolute_error: 2.5110\n",
            "Epoch 266/300\n",
            "1456/1456 [==============================] - 0s 256us/step - loss: 10.1625 - mean_absolute_error: 2.5636\n",
            "Epoch 267/300\n",
            "1456/1456 [==============================] - 0s 268us/step - loss: 9.6881 - mean_absolute_error: 2.4767\n",
            "Epoch 268/300\n",
            "1456/1456 [==============================] - 0s 262us/step - loss: 10.2515 - mean_absolute_error: 2.5905\n",
            "Epoch 269/300\n",
            "1456/1456 [==============================] - 0s 261us/step - loss: 10.1629 - mean_absolute_error: 2.5554\n",
            "Epoch 270/300\n",
            "1456/1456 [==============================] - 0s 279us/step - loss: 10.4763 - mean_absolute_error: 2.6100\n",
            "Epoch 271/300\n",
            "1456/1456 [==============================] - 0s 265us/step - loss: 9.9340 - mean_absolute_error: 2.5395\n",
            "Epoch 272/300\n",
            "1456/1456 [==============================] - 0s 256us/step - loss: 9.8659 - mean_absolute_error: 2.5152\n",
            "Epoch 273/300\n",
            "1456/1456 [==============================] - 0s 257us/step - loss: 10.8850 - mean_absolute_error: 2.6489\n",
            "Epoch 274/300\n",
            "1456/1456 [==============================] - 0s 254us/step - loss: 10.2659 - mean_absolute_error: 2.5997\n",
            "Epoch 275/300\n",
            "1456/1456 [==============================] - 0s 266us/step - loss: 10.5193 - mean_absolute_error: 2.5896\n",
            "Epoch 276/300\n",
            "1456/1456 [==============================] - 0s 252us/step - loss: 9.8231 - mean_absolute_error: 2.5288\n",
            "Epoch 277/300\n",
            "1456/1456 [==============================] - 0s 260us/step - loss: 9.7879 - mean_absolute_error: 2.5117\n",
            "Epoch 278/300\n",
            "1456/1456 [==============================] - 0s 251us/step - loss: 9.9344 - mean_absolute_error: 2.5002\n",
            "Epoch 279/300\n",
            "1456/1456 [==============================] - 0s 257us/step - loss: 9.4691 - mean_absolute_error: 2.4675\n",
            "Epoch 280/300\n",
            "1456/1456 [==============================] - 0s 267us/step - loss: 9.5063 - mean_absolute_error: 2.4572\n",
            "Epoch 281/300\n",
            "1456/1456 [==============================] - 0s 295us/step - loss: 10.0967 - mean_absolute_error: 2.5323\n",
            "Epoch 282/300\n",
            "1456/1456 [==============================] - 0s 303us/step - loss: 9.5652 - mean_absolute_error: 2.4643\n",
            "Epoch 283/300\n",
            "1456/1456 [==============================] - 0s 298us/step - loss: 9.4249 - mean_absolute_error: 2.4730\n",
            "Epoch 284/300\n",
            "1456/1456 [==============================] - 0s 291us/step - loss: 9.6385 - mean_absolute_error: 2.5138\n",
            "Epoch 285/300\n",
            "1456/1456 [==============================] - 0s 305us/step - loss: 9.1908 - mean_absolute_error: 2.4471\n",
            "Epoch 286/300\n",
            "1456/1456 [==============================] - 0s 303us/step - loss: 9.3768 - mean_absolute_error: 2.4479\n",
            "Epoch 287/300\n",
            "1456/1456 [==============================] - 0s 296us/step - loss: 10.2616 - mean_absolute_error: 2.5675\n",
            "Epoch 288/300\n",
            "1456/1456 [==============================] - 0s 302us/step - loss: 9.4618 - mean_absolute_error: 2.4511\n",
            "Epoch 289/300\n",
            "1456/1456 [==============================] - 0s 302us/step - loss: 10.2561 - mean_absolute_error: 2.5594\n",
            "Epoch 290/300\n",
            "1456/1456 [==============================] - 0s 302us/step - loss: 9.5547 - mean_absolute_error: 2.4651\n",
            "Epoch 291/300\n",
            "1456/1456 [==============================] - 0s 296us/step - loss: 10.0118 - mean_absolute_error: 2.5125\n",
            "Epoch 292/300\n",
            "1456/1456 [==============================] - 0s 308us/step - loss: 9.6644 - mean_absolute_error: 2.4937\n",
            "Epoch 293/300\n",
            "1456/1456 [==============================] - 0s 297us/step - loss: 9.6213 - mean_absolute_error: 2.4894\n",
            "Epoch 294/300\n",
            "1456/1456 [==============================] - 0s 301us/step - loss: 9.9786 - mean_absolute_error: 2.5193\n",
            "Epoch 295/300\n",
            "1456/1456 [==============================] - 0s 303us/step - loss: 9.2880 - mean_absolute_error: 2.4412\n",
            "Epoch 296/300\n",
            "1456/1456 [==============================] - 0s 307us/step - loss: 9.4486 - mean_absolute_error: 2.4721\n",
            "Epoch 297/300\n",
            "1456/1456 [==============================] - 0s 290us/step - loss: 9.3131 - mean_absolute_error: 2.4404\n",
            "Epoch 298/300\n",
            "1456/1456 [==============================] - 0s 297us/step - loss: 9.6410 - mean_absolute_error: 2.4899\n",
            "Epoch 299/300\n",
            "1456/1456 [==============================] - 0s 302us/step - loss: 9.1099 - mean_absolute_error: 2.4011\n",
            "Epoch 300/300\n",
            "1456/1456 [==============================] - 0s 303us/step - loss: 9.4526 - mean_absolute_error: 2.4491\n"
          ],
          "name": "stdout"
        },
        {
          "output_type": "execute_result",
          "data": {
            "text/plain": [
              "<keras.callbacks.History at 0x7fe50c0b0c18>"
            ]
          },
          "metadata": {
            "tags": []
          },
          "execution_count": 60
        }
      ]
    },
    {
      "cell_type": "code",
      "metadata": {
        "id": "ujGJzvPHV8oZ",
        "colab": {
          "base_uri": "https://localhost:8080/",
          "height": 51
        },
        "outputId": "089fb518-27a4-4845-a816-16c5a575411f"
      },
      "source": [
        "ind = np.ndarray.tolist(np.unique(np.random.randint(0,Y.shape[0],size=400)))\n",
        "model.evaluate(x_train,y_train)"
      ],
      "execution_count": null,
      "outputs": [
        {
          "output_type": "stream",
          "text": [
            "1164/1164 [==============================] - 0s 163us/step\n"
          ],
          "name": "stdout"
        },
        {
          "output_type": "execute_result",
          "data": {
            "text/plain": [
              "[7.329877455209949, 2.4911656289575848]"
            ]
          },
          "metadata": {
            "tags": []
          },
          "execution_count": 56
        }
      ]
    },
    {
      "cell_type": "code",
      "metadata": {
        "id": "esQZN0RYpRPt",
        "colab": {
          "base_uri": "https://localhost:8080/",
          "height": 34
        },
        "outputId": "e0c799e0-5c95-4b34-ebd2-9a9578ae7b90"
      },
      "source": [
        "[len(el) for el in model.get_weights()]"
      ],
      "execution_count": null,
      "outputs": [
        {
          "output_type": "execute_result",
          "data": {
            "text/plain": [
              "[79, 200, 200, 100, 100, 50, 50, 20, 20, 1]"
            ]
          },
          "metadata": {
            "tags": []
          },
          "execution_count": 195
        }
      ]
    },
    {
      "cell_type": "code",
      "metadata": {
        "id": "bLxJRdUesser",
        "colab": {
          "base_uri": "https://localhost:8080/",
          "height": 34
        },
        "outputId": "714adea4-0772-4455-fa78-49ce4dc02df3"
      },
      "source": [
        "0.0062846**(1/2)\n"
      ],
      "execution_count": null,
      "outputs": [
        {
          "output_type": "execute_result",
          "data": {
            "text/plain": [
              "0.07927546909353486"
            ]
          },
          "metadata": {
            "tags": []
          },
          "execution_count": 121
        }
      ]
    },
    {
      "cell_type": "code",
      "metadata": {
        "id": "ZxyiYKalmktG",
        "colab": {
          "base_uri": "https://localhost:8080/",
          "height": 483
        },
        "outputId": "3ce5f1c8-0c3b-4cf4-803e-5f3848b039c9"
      },
      "source": [
        "plt.figure()\n",
        "plt.plot(hist.history['loss'],label='Train')\n",
        "plt.plot(hist.history['val_loss'],label='Validation')\n",
        "plt.legend()\n",
        "plt.show()"
      ],
      "execution_count": null,
      "outputs": [
        {
          "output_type": "error",
          "ename": "KeyError",
          "evalue": "ignored",
          "traceback": [
            "\u001b[0;31m---------------------------------------------------------------------------\u001b[0m",
            "\u001b[0;31mKeyError\u001b[0m                                  Traceback (most recent call last)",
            "\u001b[0;32m<ipython-input-184-1bac21f6a15c>\u001b[0m in \u001b[0;36m<module>\u001b[0;34m()\u001b[0m\n\u001b[1;32m      1\u001b[0m \u001b[0mplt\u001b[0m\u001b[0;34m.\u001b[0m\u001b[0mfigure\u001b[0m\u001b[0;34m(\u001b[0m\u001b[0;34m)\u001b[0m\u001b[0;34m\u001b[0m\u001b[0;34m\u001b[0m\u001b[0m\n\u001b[1;32m      2\u001b[0m \u001b[0mplt\u001b[0m\u001b[0;34m.\u001b[0m\u001b[0mplot\u001b[0m\u001b[0;34m(\u001b[0m\u001b[0mhist\u001b[0m\u001b[0;34m.\u001b[0m\u001b[0mhistory\u001b[0m\u001b[0;34m[\u001b[0m\u001b[0;34m'loss'\u001b[0m\u001b[0;34m]\u001b[0m\u001b[0;34m,\u001b[0m\u001b[0mlabel\u001b[0m\u001b[0;34m=\u001b[0m\u001b[0;34m'Train'\u001b[0m\u001b[0;34m)\u001b[0m\u001b[0;34m\u001b[0m\u001b[0;34m\u001b[0m\u001b[0m\n\u001b[0;32m----> 3\u001b[0;31m \u001b[0mplt\u001b[0m\u001b[0;34m.\u001b[0m\u001b[0mplot\u001b[0m\u001b[0;34m(\u001b[0m\u001b[0mhist\u001b[0m\u001b[0;34m.\u001b[0m\u001b[0mhistory\u001b[0m\u001b[0;34m[\u001b[0m\u001b[0;34m'val_loss'\u001b[0m\u001b[0;34m]\u001b[0m\u001b[0;34m,\u001b[0m\u001b[0mlabel\u001b[0m\u001b[0;34m=\u001b[0m\u001b[0;34m'Validation'\u001b[0m\u001b[0;34m)\u001b[0m\u001b[0;34m\u001b[0m\u001b[0;34m\u001b[0m\u001b[0m\n\u001b[0m\u001b[1;32m      4\u001b[0m \u001b[0mplt\u001b[0m\u001b[0;34m.\u001b[0m\u001b[0mlegend\u001b[0m\u001b[0;34m(\u001b[0m\u001b[0;34m)\u001b[0m\u001b[0;34m\u001b[0m\u001b[0;34m\u001b[0m\u001b[0m\n\u001b[1;32m      5\u001b[0m \u001b[0mplt\u001b[0m\u001b[0;34m.\u001b[0m\u001b[0mshow\u001b[0m\u001b[0;34m(\u001b[0m\u001b[0;34m)\u001b[0m\u001b[0;34m\u001b[0m\u001b[0;34m\u001b[0m\u001b[0m\n",
            "\u001b[0;31mKeyError\u001b[0m: 'val_loss'"
          ]
        },
        {
          "output_type": "display_data",
          "data": {
            "image/png": "[encoded data removed]",
            "text/plain": [
              "<Figure size 432x288 with 1 Axes>"
            ]
          },
          "metadata": {
            "tags": []
          }
        }
      ]
    },
    {
      "cell_type": "code",
      "metadata": {
        "id": "mCrqVJPcp_FV"
      },
      "source": [
        "model.save_weights('a_facc_ro_Cazz.HDF5')\n",
        "files.download('a_facc_ro_Cazz.HDF5')\n",
        "\n",
        "# if you need to reload, reload nice.HDF5, which is in the Downloads folder, with files.upload()"
      ],
      "execution_count": null,
      "outputs": []
    },
    {
      "cell_type": "code",
      "metadata": {
        "id": "kMDWYcdpwudl"
      },
      "source": [
        "tot=np.exp(model.predict(Xte))\n"
      ],
      "execution_count": null,
      "outputs": []
    },
    {
      "cell_type": "code",
      "metadata": {
        "id": "ueBjJChISBlD"
      },
      "source": [
        "model.predict(Xte).shape"
      ],
      "execution_count": null,
      "outputs": []
    },
    {
      "cell_type": "code",
      "metadata": {
        "id": "U3HCZxNq4VK8"
      },
      "source": [
        "tot.shape"
      ],
      "execution_count": null,
      "outputs": []
    },
    {
      "cell_type": "code",
      "metadata": {
        "id": "jyCp96BR4MZ0",
        "colab": {
          "base_uri": "https://localhost:8080/",
          "height": 34
        },
        "outputId": "e5bb86c1-86e8-462d-cebf-272c2b8f5c17"
      },
      "source": [
        "np.std(tot)"
      ],
      "execution_count": null,
      "outputs": [
        {
          "output_type": "execute_result",
          "data": {
            "text/plain": [
              "27511.771"
            ]
          },
          "metadata": {
            "tags": []
          },
          "execution_count": 244
        }
      ]
    },
    {
      "cell_type": "code",
      "metadata": {
        "id": "4Tis2eQW7Ag8",
        "colab": {
          "base_uri": "https://localhost:8080/",
          "height": 34
        },
        "outputId": "8e9bc4b7-91b6-421b-be5d-d5b0f3203b11"
      },
      "source": [
        "np.std(np.exp(Y))"
      ],
      "execution_count": null,
      "outputs": [
        {
          "output_type": "execute_result",
          "data": {
            "text/plain": [
              "76670.24989058502"
            ]
          },
          "metadata": {
            "tags": []
          },
          "execution_count": 202
        }
      ]
    },
    {
      "cell_type": "code",
      "metadata": {
        "id": "qq8aQaVMWJUz"
      },
      "source": [
        "#submit_data = np.array(Id_col.reshape((Id_col.shape[0],1)),tot)\n",
        "x = np.random.randn(5)\n",
        "y = np.sin(x)\n",
        "\n"
      ],
      "execution_count": null,
      "outputs": []
    },
    {
      "cell_type": "code",
      "metadata": {
        "id": "2EFA7vgkMOBz",
        "colab": {
          "base_uri": "https://localhost:8080/",
          "height": 71
        },
        "outputId": "f787922f-d726-4a86-f965-766f6f7ed687"
      },
      "source": [
        "Id_col = X_te.index.to_numpy()\n",
        "np.delete(Id_col,idx_to_suppress)\n",
        "pd.DataFrame.from_dict({'Id':Id_col,'SalePrice':tot.reshape(tot.shape[0],)}).to_csv('submission.csv',index=False)"
      ],
      "execution_count": null,
      "outputs": [
        {
          "output_type": "stream",
          "text": [
            "/usr/local/lib/python3.6/dist-packages/ipykernel_launcher.py:2: DeprecationWarning: in the future out of bounds indices will raise an error instead of being ignored by `numpy.delete`.\n",
            "  \n"
          ],
          "name": "stderr"
        }
      ]
    },
    {
      "cell_type": "code",
      "metadata": {
        "id": "37dLguUKzvPB"
      },
      "source": [
        "files.download('submission.csv')"
      ],
      "execution_count": null,
      "outputs": []
    },
    {
      "cell_type": "code",
      "metadata": {
        "id": "oFBdHw58bx7P",
        "colab": {
          "base_uri": "https://localhost:8080/",
          "height": 51
        },
        "outputId": "9805398d-da0c-427c-cf69-e58dea06e8c2"
      },
      "source": [
        "!kaggle competitions submit -c house-prices-advanced-regression-techniques -f submission.csv -m \"Message\""
      ],
      "execution_count": null,
      "outputs": [
        {
          "output_type": "stream",
          "text": [
            "100% 21.0k/21.0k [00:01<00:00, 11.8kB/s]\n",
            "Successfully submitted to House Prices: Advanced Regression Techniques"
          ],
          "name": "stdout"
        }
      ]
    },
    {
      "cell_type": "code",
      "metadata": {
        "id": "GjPcFTt_2wwi"
      },
      "source": [
        "!pip install catboost"
      ],
      "execution_count": null,
      "outputs": []
    },
    {
      "cell_type": "code",
      "metadata": {
        "id": "LVCy8fnZ7tS4"
      },
      "source": [
        "from catboost import Pool, CatBoostRegressor"
      ],
      "execution_count": null,
      "outputs": []
    },
    {
      "cell_type": "code",
      "metadata": {
        "id": "_GLa79jS-H8-"
      },
      "source": [
        "tr_data,te_data = data.loc[0:1460,:], data.loc[1461:,:]"
      ],
      "execution_count": null,
      "outputs": []
    },
    {
      "cell_type": "code",
      "metadata": {
        "id": "indEkoxYCoho"
      },
      "source": [
        "precat_data = trdata.drop(idx_y)\n",
        "precat_data.drop(col_keep,inplace=True,axis=1)"
      ],
      "execution_count": null,
      "outputs": []
    },
    {
      "cell_type": "code",
      "metadata": {
        "id": "csLQ5BBEGUfB"
      },
      "source": [
        "precat_data.drop(['SalePrice','Target'],inplace = True,axis=1)"
      ],
      "execution_count": null,
      "outputs": []
    },
    {
      "cell_type": "code",
      "metadata": {
        "id": "OT-0zPfUGnvn"
      },
      "source": [
        "for col in col_obj:\n",
        "  precat_data[col] = precat_data[col].fillna(precat_data[col].value_counts().index[0])\n",
        "\n",
        "for col in col_num:\n",
        "  precat_data[col] = precat_data[col].fillna(precat_data[col].median())\n",
        "  \n",
        "print(precat_data[col_obj].isna().sum())"
      ],
      "execution_count": null,
      "outputs": []
    },
    {
      "cell_type": "code",
      "metadata": {
        "id": "DTIzygSDEH_H"
      },
      "source": [
        "cat_features = np.where(precat_data.dtypes == 'object')[0]"
      ],
      "execution_count": null,
      "outputs": []
    },
    {
      "cell_type": "code",
      "metadata": {
        "id": "BkLI9UYG_fcr"
      },
      "source": [
        "cat_data = Pool(precat_data,Y,cat_features=cat_features)"
      ],
      "execution_count": null,
      "outputs": []
    },
    {
      "cell_type": "code",
      "metadata": {
        "id": "FRUtCzRQ_owE"
      },
      "source": [
        "reg1 = CatBoostRegressor(iterations=5000,fold_len_multiplier=3,bagging_temperature=10)"
      ],
      "execution_count": null,
      "outputs": []
    },
    {
      "cell_type": "code",
      "metadata": {
        "id": "KhfHyrWfAAtS"
      },
      "source": [
        "reg1.fit(cat_data)"
      ],
      "execution_count": null,
      "outputs": []
    },
    {
      "cell_type": "code",
      "metadata": {
        "id": "_dNvr-MjA7BF"
      },
      "source": [
        "cat_datate = tedata.drop(col_keep,axis=1)\n",
        "for col in col_obj:\n",
        "  cat_datate[col] = cat_datate[col].fillna(cat_datate[col].value_counts().index[0])\n",
        "\n",
        "for col in col_num:\n",
        "  cat_datate[col] = cat_datate[col].fillna(cat_datate[col].median())"
      ],
      "execution_count": null,
      "outputs": []
    },
    {
      "cell_type": "code",
      "metadata": {
        "id": "-nXO8k8aLB88"
      },
      "source": [
        "indices = [i for i,k in enumerate(np.ndarray.tolist(np.int32(reg1.feature_importances_>0.1))) if k==1]"
      ],
      "execution_count": null,
      "outputs": []
    },
    {
      "cell_type": "code",
      "metadata": {
        "id": "qKO7ft98P8QK"
      },
      "source": [
        "pred_def=np.exp(reg1.predict(cat_datate))"
      ],
      "execution_count": null,
      "outputs": []
    },
    {
      "cell_type": "code",
      "metadata": {
        "id": "oXEzboMJQEUo"
      },
      "source": [
        "np.std(pred_def)"
      ],
      "execution_count": null,
      "outputs": []
    },
    {
      "cell_type": "code",
      "metadata": {
        "id": "zU_SnUuZRFQe"
      },
      "source": [
        "Id_col = X_te.index.to_numpy()\n",
        "np.delete(Id_col,idx_to_suppress)\n",
        "pd.DataFrame.from_dict({'Id':Id_col,'SalePrice':pred_def.reshape(pred_def.shape[0],)}).to_csv('submission.csv',index=False)"
      ],
      "execution_count": null,
      "outputs": []
    },
    {
      "cell_type": "code",
      "metadata": {
        "id": "Gy48G3y0RFQk"
      },
      "source": [
        "!kaggle competitions submit -c house-prices-advanced-regression-techniques -f submission.csv -m \"Message\""
      ],
      "execution_count": null,
      "outputs": []
    },
    {
      "cell_type": "code",
      "metadata": {
        "id": "3L2f5VmrM1A1"
      },
      "source": [
        "data.columns"
      ],
      "execution_count": null,
      "outputs": []
    },
    {
      "cell_type": "code",
      "metadata": {
        "id": "KHeiWaTpZhb-"
      },
      "source": [
        "#Next on, but before, better go on first dataset still. NN is most viable.... !kaggle competitions download -c zillow-prize-1"
      ],
      "execution_count": null,
      "outputs": []
    },
    {
      "cell_type": "code",
      "metadata": {
        "id": "LMdNWuOuH4CP"
      },
      "source": [
        "import tensorflow as tf\n",
        "\n",
        "a_G = tf.random_normal([2,4,4,5],mean=1,stddev=2)"
      ],
      "execution_count": null,
      "outputs": []
    },
    {
      "cell_type": "code",
      "metadata": {
        "id": "KIb0HXaJ93Hy"
      },
      "source": [
        "a_C = tf.random_normal([1, 4, 4, 3], mean=1, stddev=4)\n",
        "a_G = tf.random_normal([1, 4, 4, 3], mean=1, stddev=4)"
      ],
      "execution_count": null,
      "outputs": []
    },
    {
      "cell_type": "code",
      "metadata": {
        "id": "rQ7C8szQBKiY",
        "colab": {
          "base_uri": "https://localhost:8080/",
          "height": 34
        },
        "outputId": "96fba4cd-0343-4559-df82-7bfde0be5357"
      },
      "source": [
        "a_C.shape.as_list()"
      ],
      "execution_count": null,
      "outputs": [
        {
          "output_type": "execute_result",
          "data": {
            "text/plain": [
              "[1, 4, 4, 3]"
            ]
          },
          "metadata": {
            "tags": []
          },
          "execution_count": 21
        }
      ]
    },
    {
      "cell_type": "code",
      "metadata": {
        "id": "93ofQiFN9jyu"
      },
      "source": [
        "m,n_H,n_W,n_C =a_G.shape"
      ],
      "execution_count": null,
      "outputs": []
    },
    {
      "cell_type": "code",
      "metadata": {
        "id": "NnM1FB7qAdfT",
        "colab": {
          "base_uri": "https://localhost:8080/",
          "height": 34
        },
        "outputId": "3fca6833-dab5-4d9d-a320-39c9d6907f15"
      },
      "source": [
        "tf.reduce_sum(tf.square(tf.subtract(a_C,a_G)))"
      ],
      "execution_count": null,
      "outputs": [
        {
          "output_type": "execute_result",
          "data": {
            "text/plain": [
              "<tf.Tensor 'Sum_2:0' shape=() dtype=float32>"
            ]
          },
          "metadata": {
            "tags": []
          },
          "execution_count": 13
        }
      ]
    },
    {
      "cell_type": "code",
      "metadata": {
        "id": "uzz2N6w8BBq6"
      },
      "source": [
        "GS = tf.matmul(tf.reshape(a_C,(n_C,n_H*n_W)),tf.transpose(tf.reshape(a_C,(n_C,n_H*n_W))))\n",
        "GG = tf.matmul(tf.reshape(a_G,(n_C,n_H*n_W)),tf.transpose(tf.reshape(a_G,(n_C,n_H*n_W))))"
      ],
      "execution_count": null,
      "outputs": []
    },
    {
      "cell_type": "code",
      "metadata": {
        "id": "bNBP2fTxF1Jv",
        "colab": {
          "base_uri": "https://localhost:8080/",
          "height": 163
        },
        "outputId": "2c7d2edb-0a68-4ac2-8b87-55b0ee7e4dc7"
      },
      "source": [
        "tf.math.reduce_sum(np.array([[1,1,1],[1,1,1]]))"
      ],
      "execution_count": null,
      "outputs": [
        {
          "output_type": "error",
          "ename": "AttributeError",
          "evalue": "ignored",
          "traceback": [
            "\u001b[0;31m---------------------------------------------------------------------------\u001b[0m",
            "\u001b[0;31mAttributeError\u001b[0m                            Traceback (most recent call last)",
            "\u001b[0;32m<ipython-input-8-781b60321d24>\u001b[0m in \u001b[0;36m<module>\u001b[0;34m()\u001b[0m\n\u001b[0;32m----> 1\u001b[0;31m \u001b[0mtf\u001b[0m\u001b[0;34m.\u001b[0m\u001b[0mmath\u001b[0m\u001b[0;34m.\u001b[0m\u001b[0mreduce_sum\u001b[0m\u001b[0;34m(\u001b[0m\u001b[0mnp\u001b[0m\u001b[0;34m.\u001b[0m\u001b[0marray\u001b[0m\u001b[0;34m(\u001b[0m\u001b[0;34m[\u001b[0m\u001b[0;34m[\u001b[0m\u001b[0;36m1\u001b[0m\u001b[0;34m,\u001b[0m\u001b[0;36m1\u001b[0m\u001b[0;34m,\u001b[0m\u001b[0;36m1\u001b[0m\u001b[0;34m]\u001b[0m\u001b[0;34m,\u001b[0m\u001b[0;34m[\u001b[0m\u001b[0;36m1\u001b[0m\u001b[0;34m,\u001b[0m\u001b[0;36m1\u001b[0m\u001b[0;34m,\u001b[0m\u001b[0;36m1\u001b[0m\u001b[0;34m]\u001b[0m\u001b[0;34m]\u001b[0m\u001b[0;34m)\u001b[0m\u001b[0;34m)\u001b[0m\u001b[0;34m.\u001b[0m\u001b[0mevaluate\u001b[0m\u001b[0;34m(\u001b[0m\u001b[0;34m)\u001b[0m\u001b[0;34m\u001b[0m\u001b[0;34m\u001b[0m\u001b[0m\n\u001b[0m",
            "\u001b[0;31mAttributeError\u001b[0m: 'Tensor' object has no attribute 'evaluate'"
          ]
        }
      ]
    }
  ]
}